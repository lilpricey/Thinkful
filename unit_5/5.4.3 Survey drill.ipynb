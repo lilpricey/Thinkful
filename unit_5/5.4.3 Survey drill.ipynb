{
 "cells": [
  {
   "cell_type": "markdown",
   "metadata": {},
   "source": [
    "### DRILL: When to use surveys\n",
    "#### State whether a survey would be the best option for answering each of the following questions.\n",
    "\n",
    "1. Popularity of various Uber drivers.  \n",
    "\n",
    "Yes, the drivers are already rated in the app, which is a type of survey.\n",
    "2. A grocery store wants to know how much people like strawberry, chocolate, and vanilla ice cream.  \n",
    "\n",
    "No, you could look at sales, which would be better.\n",
    "3. Trojan wants to know whether their condoms are more popular among straight people or gay people.  \n",
    "\n",
    "Yes, it would be otherwise difficult to find out someone's orientation without asking.\n",
    "4. Recently, rental rates for HappyCars have increased by 30%, which is quite unusual. You want to find out why this is happening and how to keep the increase going.  \n",
    "\n",
    "No, surveys, use customer goodwill and looking at behavior would be better than a survey.\n",
    "6. Assessing the success rate of a new advertising campaign.  \n",
    "\n",
    "No, looking at the behavior after exposure to the campaign would be better.\n",
    "7. Measuring the effect of nurse/patient ratio on patient recovery rates in hospital wards. \n",
    "\n",
    "No an experiment would be better."
   ]
  },
  {
   "cell_type": "code",
   "execution_count": null,
   "metadata": {},
   "outputs": [],
   "source": []
  }
 ],
 "metadata": {
  "kernelspec": {
   "display_name": "Python 3",
   "language": "python",
   "name": "python3"
  },
  "language_info": {
   "codemirror_mode": {
    "name": "ipython",
    "version": 3
   },
   "file_extension": ".py",
   "mimetype": "text/x-python",
   "name": "python",
   "nbconvert_exporter": "python",
   "pygments_lexer": "ipython3",
   "version": "3.6.5"
  }
 },
 "nbformat": 4,
 "nbformat_minor": 2
}
