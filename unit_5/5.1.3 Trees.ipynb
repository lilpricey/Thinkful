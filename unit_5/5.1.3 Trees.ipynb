{
 "cells": [
  {
   "cell_type": "markdown",
   "metadata": {},
   "source": [
    "DRILL:\n",
    "\n",
    "Implement a binary tree, which is filled with 15 pieces of random data. Your job is to then write a program to traverse the tree using a breadth first traversal. If you want additional practice, try other forms of traversal."
   ]
  },
  {
   "cell_type": "code",
   "execution_count": 1,
   "metadata": {},
   "outputs": [],
   "source": [
    "import numpy as np\n",
    "import pandas as pd\n"
   ]
  },
  {
   "cell_type": "code",
   "execution_count": 3,
   "metadata": {},
   "outputs": [],
   "source": [
    "# create node class\n",
    "class Node:\n",
    "    def __init__(self, val):\n",
    "        self.left = None\n",
    "        self.right = None\n",
    "        self.val = val\n",
    "        "
   ]
  },
  {
   "cell_type": "code",
   "execution_count": 9,
   "metadata": {},
   "outputs": [],
   "source": [
    "# build tree\n",
    "root = Node('football')\n",
    "root.left = Node('England')\n",
    "root.right = Node('Spain')\n",
    "root.left.left = Node('Arsenal')\n",
    "root.left.right = Node('Chelsea')\n",
    "root.right.left = Node('Barcelona')\n",
    "root.right.right = Node('Real Madrid')\n",
    "root.left.left.left = Node('Ramsey')\n",
    "root.left.left.right = Node('Ozil')\n",
    "root.left.right.left = Node('Hazard')\n",
    "root.left.right.right = Node('Kante')\n",
    "root.right.left.left = Node('Messi')\n",
    "root.right.left.right = Node('suarez')\n",
    "root.right.right.left = Node('Benzema')\n",
    "root.right.right.right = Node('Bale')"
   ]
  },
  {
   "cell_type": "code",
   "execution_count": 56,
   "metadata": {},
   "outputs": [],
   "source": [
    "def traverse(root):\n",
    "    nodes = []\n",
    "    queue = [root]\n",
    "    while queue:\n",
    "        node = queue.pop(0)\n",
    "        nodes.append(node)\n",
    "        if node.left != None:\n",
    "            queue.append(node.left)\n",
    "            queue.append(node.right)\n",
    "    return nodes  "
   ]
  },
  {
   "cell_type": "code",
   "execution_count": 58,
   "metadata": {},
   "outputs": [
    {
     "name": "stdout",
     "output_type": "stream",
     "text": [
      "football\n",
      "England\n",
      "Spain\n",
      "Arsenal\n",
      "Chelsea\n",
      "Barcelona\n",
      "Real Madrid\n",
      "Ramsey\n",
      "Ozil\n",
      "Hazard\n",
      "Kante\n",
      "Messi\n",
      "suarez\n",
      "Benzema\n",
      "Bale\n"
     ]
    }
   ],
   "source": [
    "tree = traverse(root)\n",
    "for i in tree:\n",
    "    print(i.val)"
   ]
  },
  {
   "cell_type": "code",
   "execution_count": null,
   "metadata": {},
   "outputs": [],
   "source": []
  }
 ],
 "metadata": {
  "kernelspec": {
   "display_name": "Python 3",
   "language": "python",
   "name": "python3"
  },
  "language_info": {
   "codemirror_mode": {
    "name": "ipython",
    "version": 3
   },
   "file_extension": ".py",
   "mimetype": "text/x-python",
   "name": "python",
   "nbconvert_exporter": "python",
   "pygments_lexer": "ipython3",
   "version": "3.6.5"
  }
 },
 "nbformat": 4,
 "nbformat_minor": 2
}
