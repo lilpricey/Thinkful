{
 "cells": [
  {
   "cell_type": "markdown",
   "metadata": {},
   "source": [
    "## Scraping Web Data\n",
    "\n",
    "#### Using Scrapy to look for Brooklyn apartments."
   ]
  },
  {
   "cell_type": "code",
   "execution_count": 9,
   "metadata": {},
   "outputs": [],
   "source": [
    "import matplotlib.pyplot as plt\n",
    "import seaborn as sns\n",
    "import re\n",
    "%matplotlib inline\n",
    "\n",
    "import warnings\n",
    "warnings.filterwarnings('ignore')"
   ]
  },
  {
   "cell_type": "code",
   "execution_count": 1,
   "metadata": {},
   "outputs": [
    {
     "name": "stdout",
     "output_type": "stream",
     "text": [
      "Success!\n"
     ]
    }
   ],
   "source": [
    "# Importing in each cell because of the kernel restarts.\n",
    "import scrapy\n",
    "from scrapy.crawler import CrawlerProcess\n",
    "from scrapy import Request\n",
    "\n",
    "\n",
    "class BKAPSpider(scrapy.Spider):\n",
    "    # Naming the spider is important if you are running more than one spider of\n",
    "    # this class simultaneously.\n",
    "    name = \"BKAP\"\n",
    "    \n",
    "    # URL(s) to start with.\n",
    "    start_urls = [\n",
    "        'https://newyork.craigslist.org/search/brk/aap?',\n",
    "    ]\n",
    "\n",
    "    # Use XPath to parse the response we get.\n",
    "    def parse(self, response):\n",
    "        \n",
    "        # Iterate over every <article> element on the page.\n",
    "        apts = response.xpath('//p[@class=\"result-info\"]')\n",
    "            \n",
    "        \n",
    "        for apt in apts:\n",
    "            title = apt.xpath('a/text()').extract_first()\n",
    "            address = apt.xpath('span[@class=\"result-meta\"]/span[@class=\"result-hood\"]/text()').extract_first(\"\")[2:-1]\n",
    "            price = apt.xpath('span[@class=\"result-meta\"]/span[@class=\"result-price\"]/text()').extract_first()\n",
    "\n",
    "            yield{'Price':price, 'Title':title, 'Address':address}\n",
    "\n",
    "        next_page = response.xpath('//a[@class=\"button next\"]/@href').extract_first()\n",
    "        next_url = response.urljoin(next_page)\n",
    "        \n",
    "        if next_page is not None:\n",
    "            yield Request(next_url, callback=self.parse)\n",
    "        \n",
    "\n",
    "# Tell the script how to run the crawler by passing in settings.\n",
    "process = CrawlerProcess({\n",
    "    'FEED_FORMAT': 'json',         # Store data in JSON format.\n",
    "    'FEED_URI': 'firstpage.json',  # Name our storage file.\n",
    "    'LOG_ENABLED': False           # Turn off logging for now.\n",
    "})\n",
    "\n",
    "# Start the crawler with our spider.\n",
    "process.crawl(BKAPSpider)\n",
    "process.start()\n",
    "print('Success!')\n"
   ]
  },
  {
   "cell_type": "code",
   "execution_count": 5,
   "metadata": {
    "scrolled": true
   },
   "outputs": [
    {
     "name": "stdout",
     "output_type": "stream",
     "text": [
      "(3000, 3)\n",
      "        Address  Price                                              Title\n",
      "0  Clinton Hill  $3275             PRATT STUDENTS > 3bed in new building-\n",
      "1      Bed-Stuy  $3350  Luxury doorman elevator building located in pr...\n",
      "2  Williamsburg  $3295  --- 3bed in Williamsburg ^ Queen Size Beds ^ W...\n",
      "3  Williamsburg  $2775  Amazing 2bed by the Williamsburg Bridge - H/HW...\n",
      "4      Bushwick  $2950  Large 3bd/1.5ba with skylights/laundry/large l...\n"
     ]
    }
   ],
   "source": [
    "import pandas as pd\n",
    "\n",
    "df = pd.read_json('firstpage.json', orient='records')\n",
    "print(df.shape)\n",
    "print(df.head())"
   ]
  },
  {
   "cell_type": "code",
   "execution_count": 6,
   "metadata": {},
   "outputs": [
    {
     "name": "stdout",
     "output_type": "stream",
     "text": [
      "<class 'pandas.core.frame.DataFrame'>\n",
      "RangeIndex: 3000 entries, 0 to 2999\n",
      "Data columns (total 3 columns):\n",
      "Address    3000 non-null object\n",
      "Price      2998 non-null object\n",
      "Title      3000 non-null object\n",
      "dtypes: object(3)\n",
      "memory usage: 70.4+ KB\n"
     ]
    }
   ],
   "source": [
    "# display info\n",
    "df.info()"
   ]
  },
  {
   "cell_type": "code",
   "execution_count": 7,
   "metadata": {},
   "outputs": [],
   "source": [
    "# drop na\n",
    "df = df.dropna()"
   ]
  },
  {
   "cell_type": "code",
   "execution_count": 16,
   "metadata": {},
   "outputs": [],
   "source": [
    "# define function to clean price data\n",
    "def price_cleaner(text):\n",
    "    text = re.sub('\\$', '', text)\n",
    "    return int(text)"
   ]
  },
  {
   "cell_type": "code",
   "execution_count": 17,
   "metadata": {},
   "outputs": [],
   "source": [
    "df['Price'] = df['Price'].apply(price_cleaner)"
   ]
  },
  {
   "cell_type": "code",
   "execution_count": 18,
   "metadata": {},
   "outputs": [
    {
     "data": {
      "image/png": "[encoded data removed]",
      "text/plain": [
       "<Figure size 864x360 with 2 Axes>"
      ]
     },
     "metadata": {},
     "output_type": "display_data"
    }
   ],
   "source": [
    "# display distribution of price variable\n",
    "plt.figure(figsize=(12,5))\n",
    "\n",
    "plt.subplot(1, 2, 1)\n",
    "sns.distplot(df['Price'])\n",
    "plt.title('Price')\n",
    "\n",
    "plt.subplot(1, 2, 2)\n",
    "sns.boxplot(df['Price'])\n",
    "plt.title('Price')\n",
    "\n",
    "plt.show()"
   ]
  },
  {
   "cell_type": "code",
   "execution_count": null,
   "metadata": {},
   "outputs": [],
   "source": []
  }
 ],
 "metadata": {
  "kernelspec": {
   "display_name": "Python 3",
   "language": "python",
   "name": "python3"
  },
  "language_info": {
   "codemirror_mode": {
    "name": "ipython",
    "version": 3
   },
   "file_extension": ".py",
   "mimetype": "text/x-python",
   "name": "python",
   "nbconvert_exporter": "python",
   "pygments_lexer": "ipython3",
   "version": "3.6.5"
  }
 },
 "nbformat": 4,
 "nbformat_minor": 2
}
