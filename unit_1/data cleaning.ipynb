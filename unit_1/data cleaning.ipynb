{
 "cells": [
  {
   "cell_type": "code",
   "execution_count": 2,
   "metadata": {
    "collapsed": true
   },
   "outputs": [],
   "source": [
    "import numpy as np\n",
    "import pandas as pd\n",
    "import scipy\n",
    "import matplotlib.pyplot as plt\n",
    "import seaborn as sns\n",
    "\n",
    "\n",
    "%matplotlib inline"
   ]
  },
  {
   "cell_type": "code",
   "execution_count": 3,
   "metadata": {
    "collapsed": true
   },
   "outputs": [],
   "source": [
    "df = pd.read_csv(\"WELLCOME_APCspend2013_forThinkful.csv\", engine='python')"
   ]
  },
  {
   "cell_type": "code",
   "execution_count": 4,
   "metadata": {},
   "outputs": [
    {
     "data": {
      "text/html": [
       "<div>\n",
       "<style>\n",
       "    .dataframe thead tr:only-child th {\n",
       "        text-align: right;\n",
       "    }\n",
       "\n",
       "    .dataframe thead th {\n",
       "        text-align: left;\n",
       "    }\n",
       "\n",
       "    .dataframe tbody tr th {\n",
       "        vertical-align: top;\n",
       "    }\n",
       "</style>\n",
       "<table border=\"1\" class=\"dataframe\">\n",
       "  <thead>\n",
       "    <tr style=\"text-align: right;\">\n",
       "      <th></th>\n",
       "      <th>PMID/PMCID</th>\n",
       "      <th>Publisher</th>\n",
       "      <th>Journal title</th>\n",
       "      <th>Article title</th>\n",
       "      <th>COST (£) charged to Wellcome (inc VAT when charged)</th>\n",
       "    </tr>\n",
       "  </thead>\n",
       "  <tbody>\n",
       "    <tr>\n",
       "      <th>0</th>\n",
       "      <td>NaN</td>\n",
       "      <td>CUP</td>\n",
       "      <td>Psychological Medicine</td>\n",
       "      <td>Reduced parahippocampal cortical thickness in ...</td>\n",
       "      <td>£0.00</td>\n",
       "    </tr>\n",
       "    <tr>\n",
       "      <th>1</th>\n",
       "      <td>PMC3679557</td>\n",
       "      <td>ACS</td>\n",
       "      <td>Biomacromolecules</td>\n",
       "      <td>Structural characterization of a Model Gram-ne...</td>\n",
       "      <td>£2381.04</td>\n",
       "    </tr>\n",
       "    <tr>\n",
       "      <th>2</th>\n",
       "      <td>23043264  PMC3506128</td>\n",
       "      <td>ACS</td>\n",
       "      <td>J Med Chem</td>\n",
       "      <td>Fumaroylamino-4,5-epoxymorphinans and related ...</td>\n",
       "      <td>£642.56</td>\n",
       "    </tr>\n",
       "    <tr>\n",
       "      <th>3</th>\n",
       "      <td>23438330 PMC3646402</td>\n",
       "      <td>ACS</td>\n",
       "      <td>J Med Chem</td>\n",
       "      <td>Orvinols with mixed kappa/mu opioid receptor a...</td>\n",
       "      <td>£669.64</td>\n",
       "    </tr>\n",
       "    <tr>\n",
       "      <th>4</th>\n",
       "      <td>23438216 PMC3601604</td>\n",
       "      <td>ACS</td>\n",
       "      <td>J Org Chem</td>\n",
       "      <td>Regioselective opening of myo-inositol orthoes...</td>\n",
       "      <td>£685.88</td>\n",
       "    </tr>\n",
       "  </tbody>\n",
       "</table>\n",
       "</div>"
      ],
      "text/plain": [
       "              PMID/PMCID Publisher           Journal title  \\\n",
       "0                    NaN       CUP  Psychological Medicine   \n",
       "1             PMC3679557       ACS       Biomacromolecules   \n",
       "2  23043264  PMC3506128        ACS              J Med Chem   \n",
       "3    23438330 PMC3646402       ACS              J Med Chem   \n",
       "4   23438216 PMC3601604        ACS              J Org Chem   \n",
       "\n",
       "                                       Article title  \\\n",
       "0  Reduced parahippocampal cortical thickness in ...   \n",
       "1  Structural characterization of a Model Gram-ne...   \n",
       "2  Fumaroylamino-4,5-epoxymorphinans and related ...   \n",
       "3  Orvinols with mixed kappa/mu opioid receptor a...   \n",
       "4  Regioselective opening of myo-inositol orthoes...   \n",
       "\n",
       "  COST (£) charged to Wellcome (inc VAT when charged)  \n",
       "0                                              £0.00   \n",
       "1                                           £2381.04   \n",
       "2                                            £642.56   \n",
       "3                                            £669.64   \n",
       "4                                            £685.88   "
      ]
     },
     "execution_count": 4,
     "metadata": {},
     "output_type": "execute_result"
    }
   ],
   "source": [
    "df.head()"
   ]
  },
  {
   "cell_type": "code",
   "execution_count": 4,
   "metadata": {},
   "outputs": [
    {
     "data": {
      "text/plain": [
       "PMID/PMCID                                             object\n",
       "Publisher                                              object\n",
       "Journal title                                          object\n",
       "Article title                                          object\n",
       "COST (£) charged to Wellcome (inc VAT when charged)    object\n",
       "dtype: object"
      ]
     },
     "execution_count": 4,
     "metadata": {},
     "output_type": "execute_result"
    }
   ],
   "source": [
    "df.dtypes"
   ]
  },
  {
   "cell_type": "code",
   "execution_count": 5,
   "metadata": {
    "collapsed": true
   },
   "outputs": [],
   "source": [
    "#rename columns for easy reference\n",
    "df.columns = ['id', 'publisher', 'journal', 'article', 'cost']"
   ]
  },
  {
   "cell_type": "code",
   "execution_count": 6,
   "metadata": {},
   "outputs": [
    {
     "data": {
      "text/plain": [
       "(2127, 5)"
      ]
     },
     "execution_count": 6,
     "metadata": {},
     "output_type": "execute_result"
    }
   ],
   "source": [
    "df.shape"
   ]
  },
  {
   "cell_type": "code",
   "execution_count": 6,
   "metadata": {
    "collapsed": true
   },
   "outputs": [],
   "source": [
    "#remove £,$ from cost\n",
    "df['cost'] = df['cost'].str.replace('£', '')\n",
    "df['cost'] = df['cost'].str.replace('$', '')"
   ]
  },
  {
   "cell_type": "code",
   "execution_count": 7,
   "metadata": {
    "collapsed": true
   },
   "outputs": [],
   "source": [
    "#convert cost to numeric\n",
    "df['cost'] = pd.to_numeric(df['cost'])"
   ]
  },
  {
   "cell_type": "code",
   "execution_count": 40,
   "metadata": {},
   "outputs": [
    {
     "data": {
      "text/plain": [
       "<matplotlib.axes._subplots.AxesSubplot at 0x18bf716e160>"
      ]
     },
     "execution_count": 40,
     "metadata": {},
     "output_type": "execute_result"
    },
    {
     "data": {
      "image/png": "[encoded data removed]",
      "text/plain": [
       "<matplotlib.figure.Figure at 0x18bf716edd8>"
      ]
     },
     "metadata": {},
     "output_type": "display_data"
    }
   ],
   "source": [
    "df.cost.hist()"
   ]
  },
  {
   "cell_type": "code",
   "execution_count": 8,
   "metadata": {
    "collapsed": true
   },
   "outputs": [],
   "source": [
    "#Replace outlier cost data with None\n",
    "df.loc[df.cost > 10000, 'cost'] = None"
   ]
  },
  {
   "cell_type": "code",
   "execution_count": 42,
   "metadata": {},
   "outputs": [
    {
     "data": {
      "text/plain": [
       "<matplotlib.axes._subplots.AxesSubplot at 0x18bf7161828>"
      ]
     },
     "execution_count": 42,
     "metadata": {},
     "output_type": "execute_result"
    },
    {
     "data": {
      "image/png": "[encoded data removed]",
      "text/plain": [
       "<matplotlib.figure.Figure at 0x18bf6fe53c8>"
      ]
     },
     "metadata": {},
     "output_type": "display_data"
    }
   ],
   "source": [
    "sns.boxplot('cost', data=df)"
   ]
  },
  {
   "cell_type": "code",
   "execution_count": 9,
   "metadata": {
    "collapsed": true
   },
   "outputs": [],
   "source": [
    "#make all journal names lowercase\n",
    "df['journal'] = df['journal'].str.lower()\n",
    "df['journal'] = df['journal'].str.replace('the', '')\n",
    "# strip whitespace, remove double spaces\n",
    "df['journal'] = df['journal'].str.strip().str.replace('  ', ' ')"
   ]
  },
  {
   "cell_type": "code",
   "execution_count": 18,
   "metadata": {
    "collapsed": true
   },
   "outputs": [],
   "source": [
    "#replace variations\n",
    "df['journal'] = df['journal'].str.replace('plosone', 'plos one')\n",
    "df['journal'] = df['journal'].str.replace('j med chem', 'journal of medicinal chemistry')\n",
    "df['journal'] = df['journal'].str.replace('antimicrobial agfents and chemorapy', 'antimicrobial agents and chemorapy')\n",
    "df['journal'] = df['journal'].str.replace('j biol chemistry', 'journal of biological chemistry')\n",
    "df['journal'] = df['journal'].str.replace('j biol chem.', 'journal of biological chemistry')\n",
    "df['journal'] = df['journal'].str.replace('biologicial chemistry', 'journal of biological chemistry')\n",
    "df['journal'] = df['journal'].str.replace('jnl journal of biological chemistry', 'journal of biological chemistry')\n",
    "df['journal'] = df['journal'].str.replace('journal journal of biological chemistry', 'journal of biological chemistry')\n",
    "df['journal'] = df['journal'].str.replace('journal of biol chem', 'journal of biological chemistry')\n",
    "df['journal'] = df['journal'].str.replace('journal biological chemistry', 'journal of biological chemistry')\n",
    "df['journal'] = df['journal'].str.replace('jnl biological chemistry', 'journal of biological chemistry')\n",
    "df['journal'] = df['journal'].str.replace('biochem journal', 'biochemical journal')"
   ]
  },
  {
   "cell_type": "code",
   "execution_count": 25,
   "metadata": {},
   "outputs": [
    {
     "data": {
      "text/plain": [
       "array(['psychological medicine', 'biomacromolecules',\n",
       "       'journal of medicinal chemistry', 'j org chem',\n",
       "       'journal of proteome research', 'mol pharm', 'acs chemical biology',\n",
       "       'journal of chemical information and modeling', 'biochemistry',\n",
       "       'gastroenterology', 'journal of biological chemistry',\n",
       "       'journal of immunology', 'acs chemical neuroscience', 'acs nano',\n",
       "       'american chemical society', 'analytical chemistry',\n",
       "       'bioconjugate chemistry', 'journal of american chemical society',\n",
       "       'chest', 'journal of neurophysiology', 'journal of physiology',\n",
       "       'american journal of psychiatry', 'americal journal of psychiatry',\n",
       "       'behavioral neuroscience', 'emotion', 'health psychology',\n",
       "       'journal of abnormal psychology',\n",
       "       'journal of consulting and clinical psychology',\n",
       "       'journal of experimental psychology: animal behaviour process',\n",
       "       'journal of experimental psychology: human perception and performance',\n",
       "       'journal of family psychology', 'psychological assessment',\n",
       "       'psychological review',\n",
       "       'psychological trauma: ory research, practice and policy',\n",
       "       'american journal of public health',\n",
       "       'american journal of pathology',\n",
       "       'antimicrobial agents and chemorapy',\n",
       "       'clinical and vaccine immunology', 'eukaryotic cell',\n",
       "       'infection and immunity', 'journal of bacteriology',\n",
       "       'journal of virology', 'mbio', 'molecular and cellular biology',\n",
       "       'journal of clinical microbiology',\n",
       "       'american society for nutrition', 'blood', 'blood journal 2012',\n",
       "       'american journal of human genetics',\n",
       "       'jounral of clinical microbiology',\n",
       "       'speech language and hearing research', 'biological chemistry',\n",
       "       'mcp (molecular & cellular proteomics)',\n",
       "       'molecular and cellular proteomics', 'journal of vision',\n",
       "       'current topics in medicinal chemistry',\n",
       "       'current analytical chemistry',\n",
       "       'evidence, ethos and experiment: anthropology and history of medical research in africa.',\n",
       "       'biochemical journal', 'molecular cell',\n",
       "       'arthritis research & rapy', 'biomed central', 'bmc public health',\n",
       "       'bmc biology', 'bmc genetics', 'bmc genome biology', 'bmc genomics',\n",
       "       'bmc health services research', 'bmc medical genetics',\n",
       "       'bmc medicine', 'bmc microbiology', 'bmc molecular biology',\n",
       "       'bmc neurology', 'bmc neuroscience', 'bmc psychiatry',\n",
       "       'bmc research notes', 'bmc veterinary research', 'bms genomics',\n",
       "       'clinical proteomics', 'evodevo', 'genome biology',\n",
       "       'genome medicine', 'international journal for equity in health',\n",
       "       'international journal of behavioral nutrition and physical activity',\n",
       "       'international journal of behavioural nutrition and physical activity',\n",
       "       'international journal of health geographics',\n",
       "       'journal of cheminformatics', 'journal of neuroinflammation',\n",
       "       'lipids in health and disease', 'malaria journal',\n",
       "       'molecular brain', 'molecular pain', 'nutrition journal',\n",
       "       'orphanet journal of rare diseases', 'parasites and vectors',\n",
       "       'public health', 'respiratory research', 'virology journal',\n",
       "       'bmc genomics.', 'bmc infectious diseases', 'hum resour health',\n",
       "       'implement sci.', 'parasit vectors.', 'aids research and rapy',\n",
       "       'bmc pediatrics', 'human resources for health', 'trials',\n",
       "       'veterinary research', 'biophysical journal',\n",
       "       'european journal of endocrinology', 'journal of endocrinology',\n",
       "       'journal of molecular endocrinology',\n",
       "       'reproduction(cambridge, england)', 'cellular microbiology',\n",
       "       'arthritis research and rapy', 'bmc medical ethics',\n",
       "       'bmc medical imaging', 'cost effectiveness and resource allocation',\n",
       "       'bjophthalmol', 'bmj', 'bmj open',\n",
       "       'british journal of ophthalmology',\n",
       "       'british journal of opthalmology', 'british medical journal',\n",
       "       'frontline gastroenterology', 'journal of clinical pathology',\n",
       "       'journal of epidemiology & community health',\n",
       "       'journal of medical ethics', 'journal of medical genetics',\n",
       "       'journal of neurology, neurosurgery & psychiatry',\n",
       "       'journal of neurology, neurosurgery and psychiatry',\n",
       "       'sexually transmitted infections', 'gut',\n",
       "       'archives of disease in childhood', 'bmj quality and safety',\n",
       "       'heart', 'medical humanities', 'thorax', 'sex transm infect.',\n",
       "       'journal of epidemiology and community health',\n",
       "       'postgraduate medical journal', 'veterinary record',\n",
       "       'thorax an international journal for respiratory medicine',\n",
       "       'european journal of health law', 'journal of neuroscience',\n",
       "       'heart and circulatory physiology',\n",
       "       'antimicobial agents and chemorapy', 'j clin microbiol',\n",
       "       'international psychogeriatrics', 'parasitology', 'medical history',\n",
       "       'ageing & society', 'british journal for history of science',\n",
       "       'british journal of history of science',\n",
       "       'epidemiology and infection',\n",
       "       'expert reviews in molecular medicine',\n",
       "       'international journal of law in context',\n",
       "       'jnl of international neuropsychological society',\n",
       "       'public health nutrition', 'pyschological medicine',\n",
       "       'urban history', 'visual neuroscience', 'stem cell reports',\n",
       "       'journal of clinical endocrinology and metabolism',\n",
       "       'journal of virol', 'journal of international aids society',\n",
       "       'genes & development', 'learning and memory', 'genome research',\n",
       "       'rna', 'journal of cell science', 'biology open', 'development',\n",
       "       'developmental cell', 'disease models and mechanisms',\n",
       "       'j cell sci.', 'international reviews of immunology',\n",
       "       'journal of international african institute', 'cell reports',\n",
       "       'american journal for clinical nutrition',\n",
       "       'american journal of clinical nutrition',\n",
       "       'cell press - cell reports', 'g3: genes, genomes, genetics',\n",
       "       'genetics', 'j immunol',\n",
       "       'proceedings of national academy of sciences',\n",
       "       'journal of nutrition', 'pnas', 'neuroimage',\n",
       "       'academy of nutrition and dietetics',\n",
       "       'american journal of geriatric psychiatry',\n",
       "       'american journal of preventive medicine',\n",
       "       'analytical biochemistry', 'animal behaviour', 'applied energy',\n",
       "       'asian journal of psychiatry', 'arosclerosis',\n",
       "       'bba - molecular basis of disease', 'behavior research and rapy',\n",
       "       'behaviour research and rapy', 'behavioural brain research',\n",
       "       'biochemical and biophysical research communications',\n",
       "       'biochemical pharmacology',\n",
       "       'biochimica et bioohysica acta - gene regulatory mechanisms',\n",
       "       'biochimica et bioohysica acta - molecular basis of disease',\n",
       "       'biochimica et biophysica acta - molecular basis of disease',\n",
       "       'biochimica et biophysica acta (bba) - molecular cell research',\n",
       "       'biochimie', 'biological psychiatry', 'biological psychology',\n",
       "       'biomaterials', 'biosystems', 'bone', 'brain and cognition',\n",
       "       'brain and language', 'brain research', 'cancer letters', 'cell',\n",
       "       'cell calcium', 'cell host and microbe', 'cell journal',\n",
       "       'cell metabolism', 'cell stem cell', 'cellular signalling',\n",
       "       'chemsitry & biology', 'clinical neurology and neurosurgery',\n",
       "       'clinical radiology', 'cognition', 'cognitive development',\n",
       "       'consciousness & cognition', 'consciousness and cognition',\n",
       "       'cortex', 'current biology', 'current opinion in neurobiology',\n",
       "       'current opinion microbiology', 'current opinions in neurobiology',\n",
       "       'development cell', 'developmental biology',\n",
       "       'developmental cognitive neuroscience',\n",
       "       'diagnostic microbiology and infectious disease', 'elsevier',\n",
       "       'endeavour', 'epilepsy research',\n",
       "       'european journal of cell biology',\n",
       "       'european journal of medical genetics',\n",
       "       'european neuropsychopharmacology', 'experimental cell research',\n",
       "       'experimental eye research', 'experimental hematology',\n",
       "       'experimental neurology', 'experimental parasitology',\n",
       "       'febs letters', 'febs open bio', 'fertility and sterility',\n",
       "       'free radical and biology medicine', 'fungal biology',\n",
       "       'fungal ecology', 'gene', 'gene rapy', 'health & place',\n",
       "       'health and place', 'immnunobiology', 'immunity',\n",
       "       'immunology letters', 'infection genetics and evolution',\n",
       "       'int journal for parasitology', 'international health',\n",
       "       'international journal for parasitology',\n",
       "       'international journal of applied earth observation and geoinformation',\n",
       "       'international journal of biochemistry & cell biology',\n",
       "       'international journal of cardiology',\n",
       "       'international journal of parasitology', 'j mol biol',\n",
       "       'j steroid biochem mol biol', 'journal of affective disorders',\n",
       "       'journal of allergy & clinical immunology',\n",
       "       'journal of allergy and clinical immunology',\n",
       "       'journal of anthropological archaeology',\n",
       "       'journal of archaeological science',\n",
       "       'journal of behavior rapy and experimental psychiatry',\n",
       "       'journal of behaviour rapy and experimental psychiatry',\n",
       "       'journal of clinical epidemiology', 'journal of clinical virology',\n",
       "       'journal of cycstic fibrosis', 'journal of hepatology',\n",
       "       'journal of historical geography', 'journal of hospital infections',\n",
       "       'journal of infection',\n",
       "       'journal of mechanisms of ageing and development',\n",
       "       'journal of molecular biology', 'journal of neuroscience methods',\n",
       "       'journal of nutrition education and behaviour',\n",
       "       'journal of paediatric urology', 'journal of proteomics',\n",
       "       'journal of structural biology',\n",
       "       'journal of american academy of child and adolescent psychiatry',\n",
       "       'journal of american college of cardiology',\n",
       "       'journal of neurological sciences',\n",
       "       'journal of transport geography', 'journal of virological methods',\n",
       "       'lancet', 'lancet global health',\n",
       "       'learning and individual differences', 'matrix biology',\n",
       "       'maturitas', 'mechanisms of ageing and development',\n",
       "       'microbes and infection', 'microbes infect', 'mol bio',\n",
       "       'molecluar & cellular endocrinology',\n",
       "       'molecular & biochemical parasitology',\n",
       "       'molecular and cellular endocrinology', 'molecular biology',\n",
       "       'molecular genetics and metabolism', 'molecular immunology',\n",
       "       'molecular phylogenetics and evolution', 'n biotechnol.',\n",
       "       'neurobiology of aging', 'neurobiology of disease',\n",
       "       'neurobiology of learning and memory',\n",
       "       'neurochemistry international', 'neuroimage: clinical',\n",
       "       'neurolmage', 'neuromuscular disorders', 'neuron',\n",
       "       'neuropharmacology', 'neurophysiologia', 'neuropsychologia',\n",
       "       'neuroscience', 'neuroscience and behavioural reviews',\n",
       "       'neuroscience letters', 'nitric oxide', 'ophthalmology',\n",
       "       'osteoarthritis and cartilage', 'pain',\n",
       "       'parkinsonism and related disorders', 'parsitology',\n",
       "       'personality and individual differences', 'preventive medicine',\n",
       "       'protein expr purif.', 'protist',\n",
       "       'pulmonary pharmacology & rapeutics',\n",
       "       'research in veterinary science', 'schizophrenia research',\n",
       "       'seizure', 'seminars in oncology', 'social science & medicine',\n",
       "       'social science and medicine', 'stem cell research', 'structure',\n",
       "       'studies in history and philosophy of science part c',\n",
       "       'studies in history and philosophy of science part c: studies in history and philosophy of biological and biomedical sciences',\n",
       "       'tetrahedron letters', 'americal journal of human genetics',\n",
       "       'journal of steroid biochemistry & molecular biology',\n",
       "       'lancet neurology', 'vet. journal', 'ticks and tick-borne diseases',\n",
       "       'transactions of royal society of tropical medicine and hygiene',\n",
       "       'trends in cognitive science', 'trends in genetics',\n",
       "       'trends in microbiology', 'trends in molecular medicine',\n",
       "       'trends in neuroscience', 'trends in neurosciences',\n",
       "       'trends in parasitology', 'tuberculosis', 'vaccine',\n",
       "       'vascular pharmacology', 'veterinary microbiology',\n",
       "       'veterinary parasitology', 'virology', 'virus research',\n",
       "       'vision research', 'lancet infect dis', 'math biosci', 'curr biol.',\n",
       "       'cell host & microbe', 'endocrinology', 'molecular endocrinology',\n",
       "       'european respiratory journal', 'faseb journal',\n",
       "       'journal of leukocyte biology', 'haematologica',\n",
       "       'haematologica/ haematology journal',\n",
       "       'frontiers in auditory cognitive neuroscience',\n",
       "       'frontiers in behavioral neuroscience',\n",
       "       'frontiers in brain imaging methods',\n",
       "       'frontiers in cellular neuroscience', 'frontiers in cognition',\n",
       "       'frontiers in cognitive science',\n",
       "       'frontiers in decision neuroscience',\n",
       "       'frontiers in developmental psychology',\n",
       "       'frontiers in electrophysiology', 'frontiers in endocrinology',\n",
       "       'frontiers in genetics', 'frontiers in human neuroscience',\n",
       "       'frontiers in immunological memory', 'frontiers in inflammation',\n",
       "       'frontiers in invertebrate physiology',\n",
       "       'frontiers in molecular neuroscience', 'frontiers in schizophrenia',\n",
       "       'frontiers in systems neuroscience',\n",
       "       'frontiers in integrative neuroscience',\n",
       "       'frontiers in perception science',\n",
       "       'frontiers in consciousness research', 'frontiers in immunology',\n",
       "       'frontiers in neural circuits', 'frontiers in neurorobotics',\n",
       "       'frontiers in t cell biology', 'future neurology',\n",
       "       'future virology', 'future microbiology',\n",
       "       'future medicinal chemistry',\n",
       "       'international journal of rheumatology', 'journal of allergy',\n",
       "       'journal of parasitology research',\n",
       "       'oxidative medicine & cellular longevity',\n",
       "       'methods in molecular biology', 'oncotarget',\n",
       "       'molecular membrane biology',\n",
       "       'expert reviews in anti-infective chemorapy', 'nanotechnology',\n",
       "       'ijtld', 'international journal of tuberculosis and lung disease',\n",
       "       'acta crystallographica section d: biological crystallography',\n",
       "       'acta crystallographica, section d', 'acta crystallography d',\n",
       "       'acta d', 'acta f', 'j synchrotron radiat.',\n",
       "       'journal of applied crystallography',\n",
       "       'acta crystallographica section d, biological crystallography',\n",
       "       'acta crystallographica section f: structural biology and crystallization communications',\n",
       "       'physics in biology and medicine', 'journal of alzheimer disease',\n",
       "       'ranostics', 'j med internet research',\n",
       "       'american journal of medical genetics', 'genetic epidemiology',\n",
       "       'journal of pathology', 'european journal of immunology',\n",
       "       'journal of depression & anxiety',\n",
       "       'clinical and experimental allergy', 'embo molecular medicine',\n",
       "       'biopolymers', 'development science', 'journal of medical virology',\n",
       "       'molecular microbiology', 'population, space and place', 'traffic',\n",
       "       'tropical medicine and international health', 'heptology',\n",
       "       'bulletin of history of medicine', 'national academy of sciences',\n",
       "       'journal of visualized experiments',\n",
       "       'journal of neurology & translational neuroscience',\n",
       "       'nephron physiology', 'neurodegenerative diseases',\n",
       "       'neuroepidemiology', 'neuropsychobiology', 'respiration',\n",
       "       'autophagy', 'cell adhesion and migration', 'cell cycle',\n",
       "       'channels', 'epigenetics', 'epigentics', 'rna biology', 'neurology',\n",
       "       'antioxidants & redox signaling',\n",
       "       'antioxidants and redox signaling', 'tissue engineering: part a',\n",
       "       'stem cells and development',\n",
       "       'international journal of molecular sciences', 'jerph', 'sensors',\n",
       "       'journal of cognitive neuroscience',\n",
       "       'journal of visualized experiements',\n",
       "       'journal of visulaized expermiments',\n",
       "       'pnas (proceedings of national academy of sciences of united states of america',\n",
       "       'proceddings of national academy of sciences of usa',\n",
       "       'proceedings of national academy of sciences of united states of america',\n",
       "       'biosocieties', 'british journal of cancer', 'cell death & disease',\n",
       "       'cell death and differentiation', 'cell death and disease',\n",
       "       'frontiers', 'genetics in medicine',\n",
       "       'journal of cerebral blood flow and metabolism',\n",
       "       'journal of investigative dermatology', 'mucosal immunology',\n",
       "       'nature communications', 'scientific reports', 'embo reports',\n",
       "       'european journal of human genetics', 'leukemia',\n",
       "       'nature neuroscience', 'cell death differentiation', 'embo',\n",
       "       'embo journal', 'international journal of obesity',\n",
       "       'kidney international', 'nature scientific reports',\n",
       "       'neuropsychopharmacology', 'oncogene', 'sci rep',\n",
       "       'scientific reports-11-00861b', 'translational psychiatry',\n",
       "       'optics express', 'alcohol and alcoholism',\n",
       "       'american jnl epidemiology', 'american journal of epidemiology',\n",
       "       'brain', 'briefings in bioinformatics', 'british medical bulletin',\n",
       "       'cerebral cortex', 'clinical infectious diseases',\n",
       "       'clinical infectious diseases online',\n",
       "       'european heart journal online', 'health policy planning',\n",
       "       'human molecular genetics', 'int j epidemiol',\n",
       "       'international joural of epidemiology',\n",
       "       'international journal of epidemiology',\n",
       "       'journal of antimicrobial chemorapy',\n",
       "       'journal of infectious diseases',\n",
       "       'journal of national cancer institute', 'nucleic acids research',\n",
       "       'public health ethics', 'rheumatology', 'schizophrenia bulletin',\n",
       "       'social cognitive and affective neuroscience',\n",
       "       'cardiovascular research', 'clinicla infectious disease',\n",
       "       'glycobiology', 'inyernational journal of epidemiology',\n",
       "       'journal of gerontology series a: medical sciences',\n",
       "       'journal of public health', 'molecular biology and evolution',\n",
       "       'nicotine and tobaco research', 'social history of medicine',\n",
       "       'bioinformatics online', 'cerebral cortex print',\n",
       "       'human mol genetics online', 'age and ageing', 'biinformatics',\n",
       "       'bioinformatics', 'brain online',\n",
       "       'briefings in functional genomics', 'cerebral cortex online',\n",
       "       'database', 'european journal of public health',\n",
       "       'health promotion international', 'history workshop journal',\n",
       "       'human molecular genetics online', 'human reproduction',\n",
       "       'international immunology', 'medical law review',\n",
       "       'mol biol and evolution', 'nephrology dialysis and transplantation',\n",
       "       'nephrology dialysis transplantation', 'nucleic acid research',\n",
       "       'oxford journals', 'oxford university press',\n",
       "       'protein engineering, design and selection (',\n",
       "       'qjm: an international journal of medicine', 'j infect dis',\n",
       "       'environment and planning a', 'plos computational biology',\n",
       "       'plos genetics', 'plos ntd', 'plos one', 'plos pathogens',\n",
       "       'pnas usa', 'proceedings of national academy of sciences of usa',\n",
       "       'proc natl acad sci u s a.',\n",
       "       'journal of poverty and social justice', 'asn neuro',\n",
       "       'biochemical journals', 'biochemical society transactions',\n",
       "       'essays in biochemistry', 'biochem soc trans', 'bioscience reports',\n",
       "       'proceedings of national academy of sciences (pnas)', 'biology',\n",
       "       'computational biology', 'neglected tropical disease', 'plos',\n",
       "       'plos 1', 'plos biology', 'plos medicine', 'plos medicine journal',\n",
       "       'plos negected tropical diseases',\n",
       "       'plos neglected tropical diseases', 'pmedicine-d-12-03130', 'pntd',\n",
       "       'pone-d12-17947', 'public library of science',\n",
       "       'public library of science one', 'public service review',\n",
       "       'j cardiovasc magn reson', 'british journal of psychiatry',\n",
       "       'britsh journal of psychiatry', 'biology letters', 'interface',\n",
       "       'journal of royal society interface',\n",
       "       'journal of royal society, interface',\n",
       "       'philos trans r soc london b biol sci',\n",
       "       'philosophical transactions b', 'proceedings b',\n",
       "       'proceedings of royal society',\n",
       "       'proceedings of royal society b: biological sciences',\n",
       "       'chemical communication', 'chemical society reviews',\n",
       "       'dalton transactions', 'photochemical & photobiological sciences',\n",
       "       'organic & biomolecular chemistry', 'chronic illness',\n",
       "       'european journal of preventive cardiology',\n",
       "       'health: an interdisciplinary journal for social study of health, illness and medicine',\n",
       "       'history of human sciences',\n",
       "       'journal of histochemistry & cytochemistry', 'neuroscientist',\n",
       "       'psychological science', 'social studies of science',\n",
       "       'journal of psychopharmacology', 'reproductive sciences',\n",
       "       'journal of royal society of medicine short reports',\n",
       "       'european history quarterly', 'qualitative research',\n",
       "       'international journal of financial research',\n",
       "       'journal of biomedical graphics and computing', 'health',\n",
       "       'american journal of tropical medicine & hygiene',\n",
       "       'endocrine related cancer', 'journal of general virology',\n",
       "       'journal of microbiology', 'microbiology', 'sgm open option',\n",
       "       'acta dermato venereologica', 'acta diabetologica',\n",
       "       'acta neuropathol', 'acta neuropathologica',\n",
       "       'advances in experimental medicine and biology',\n",
       "       'anal bioanal chem.', 'biogerontology', 'biomedical microdevices',\n",
       "       'brain structure and function', 'brain topography',\n",
       "       'calcified tissue international', 'cell and tissue research',\n",
       "       'cellular and molecular cell sciences',\n",
       "       'cellular and molecular life sciences', 'chromosome research',\n",
       "       'cognitive processing', 'cognitive rapy and research',\n",
       "       'current arosclerosis reports',\n",
       "       'current obstetrics and gynecology reports',\n",
       "       'development genes and evolution', 'diabetologia',\n",
       "       'european child and adolescent psychiatry',\n",
       "       'european child and adolescent psychiatty',\n",
       "       'european journal of clinical pharmacology',\n",
       "       'european journal of epidemiology', 'european radiology',\n",
       "       'experimental brain research', 'hernia', 'immunogenetics',\n",
       "       'inflammation research',\n",
       "       'journal of autism and development disorders',\n",
       "       'journal of autism and developmental disorders',\n",
       "       'journal of bioethical inquiry', 'journal of biological physics',\n",
       "       'journal of computational neuroscience',\n",
       "       'journal of inherited metabolic',\n",
       "       'journal of molecular neuroscience', 'journal of neurology',\n",
       "       'journal of association for research in otolaryngology',\n",
       "       'mammalian genome', 'metabolomics',\n",
       "       'molecular and cellular biochemistry', 'neurogenetics',\n",
       "       'neuroinformatics', 'neuromolecular medicine',\n",
       "       'osteoporosis international', 'pflugers archiv', 'pflugers archive',\n",
       "       'psychopharmacology', 'reproductive medicine and biology',\n",
       "       'seminars in immunopathology',\n",
       "       'social psychiatry & psychiatric epidemiology',\n",
       "       'social psychiatry and psychiatric epidemiol',\n",
       "       'social psychiatry and psychiatric epidemiology', 'springer',\n",
       "       'journal of abnormal child psychology and psychiatry',\n",
       "       'tropical animal health & production', 'urolithiasis', 'aids behav',\n",
       "       'open choice', 'springer science + business media',\n",
       "       'journal of bioenergetics and biomembranes', 'childs nerv syst',\n",
       "       'age', 'biomolecular nmr assignments',\n",
       "       'journal of molecular medicine', 'journal of neural transmission',\n",
       "       'journal of american society for mass spectrometry',\n",
       "       'azania: archaeological research in africa', 'aids care',\n",
       "       'annals of science', 'canadian journal of african studies',\n",
       "       'child neuropsychology', 'english studies',\n",
       "       'european journal of english studies',\n",
       "       'journal of cultural economy', 'medical anthropology',\n",
       "       'science as culture', 'am j bioeth', 'ethn health',\n",
       "       'american journal of bioethics--neuroscience',\n",
       "       'south asian history and culture', 'history of family',\n",
       "       'journal of experimental nanoscience',\n",
       "       'journal of medicinal chemistry.', 'journal of applied physiology',\n",
       "       'molecular & cellular proteomics', 'pediatrics', 'biol open',\n",
       "       'journal of clinical endocrinology',\n",
       "       'journal od clinical endocrinology', 'bjp',\n",
       "       'philosophical transactions of royal society of london. series b, biological sciences',\n",
       "       'rstb 2012.0145', 'cancer research', 'science-research',\n",
       "       'am j trop med hyg', 'developing world bioethics',\n",
       "       'international journal of developmental biology', 'acta physiol',\n",
       "       'addiction', 'aging cell', 'alimentrary pharmacology & rapeutics',\n",
       "       'american ethnologist',\n",
       "       'american journal of medical genetics part a', 'angewande chemie',\n",
       "       'angewandte chemie', 'annals of human genetics',\n",
       "       'annals of neurology', 'annals of new york academy of sciences',\n",
       "       'arthritis & rheumatism', 'arthritis and rheumatism', 'bioethics',\n",
       "       'birth defects research part a: clinical and molecular teratology',\n",
       "       'british journal of clinical pharmacology',\n",
       "       'british journal of dermatology', 'british journal of haematology',\n",
       "       'british journal of pharmacology', 'chembiochem',\n",
       "       'chemistry - european journal', 'child psychology psychiatry',\n",
       "       'clinical genetics', 'cytoskeleton', 'development dynamics',\n",
       "       'developmental science', 'diabetic medicine',\n",
       "       'ecology and evolution', 'ecology letters', 'epilepsia',\n",
       "       'european journal of neuroscience', 'evolution',\n",
       "       'experimental physiology', 'febs j.', 'febs journal',\n",
       "       'fems microbiology letters', 'genes brain behaviour',\n",
       "       'genesis: journal of genetics', 'glia',\n",
       "       'hbm jnl human brain mapping', 'hepatology', 'hippocampus',\n",
       "       'human brain mapping', 'human mutation',\n",
       "       'human mutation: variation, informatics, and disease',\n",
       "       'immunological reviews', 'inflammatory bowel diseases',\n",
       "       'international journal of geriatric psychiatry',\n",
       "       'international journal of stroke',\n",
       "       'journal of bone and mineral research',\n",
       "       'journal of cellular biochemistry',\n",
       "       'journal of child psychology and psychiatry',\n",
       "       'journal of evolutionary biology', 'journal of neurochemistry',\n",
       "       'journal of neuroendocrinology',\n",
       "       'journal of history of behavioral sciences',\n",
       "       'journal of royal statistical society: series c (applied statistics)',\n",
       "       'magnetic resonance in medicine', 'movement disorders',\n",
       "       'muscle and nerve', 'neuropathology and applied neurobiology',\n",
       "       'nmr in biomedicine', 'parasite immunology',\n",
       "       'plant biotechnology journal', 'protein science',\n",
       "       'rapid communications in mass spectrometry',\n",
       "       'sociology of health & illness', 'stem cells',\n",
       "       'brt jnl clinical pharmacology', 'child: care, health development',\n",
       "       'drug and alcohol review', 'evolutionary applications',\n",
       "       'molecular genetics & genomic medicine',\n",
       "       'maternal and child nutrition', 'evaluation in clinical practice',\n",
       "       'journal of cell physiology', 'journal of internal medicine',\n",
       "       'journal of sleep research', 'child: care, heath & development',\n",
       "       'dev world bioeth.', 'dev. world bioeth', 'eur j immunol',\n",
       "       'influenza or respi viruses.', 'marten child nutr',\n",
       "       'trop med int health', 'clinical transcriptional science',\n",
       "       'immunology', 'acta opthalmologica',\n",
       "       'american journal of transplantation',\n",
       "       'angewandte chemie international edition',\n",
       "       'british jounal of pharmacology', 'centaurus',\n",
       "       'criminal behavior and mental health', 'depression and anxiety',\n",
       "       'dermatologic surgery', 'economic history review',\n",
       "       'genetic epidemology', 'hpb',\n",
       "       'international journal of experimental pathology',\n",
       "       'journal of comparative neurology',\n",
       "       'journal of evaluation in clinical practice',\n",
       "       'journal of microscopy', 'journal of orthopedic research',\n",
       "       'journal of viral hepatitis', 'obesity reviews',\n",
       "       'statistics in medicine', 'synapse', 'zoonoses and public health',\n",
       "       'angew chems int ed', 'chemmedchem', 'protemics',\n",
       "       'journal of small animal practice', 'aids', 'aids journal',\n",
       "       'aids uk', 'jaids journal of acquired immune deficiency syndromes',\n",
       "       'journal of acquired immune deficiency syndroms (jaids)',\n",
       "       'journal of aids', 'circulation research', 'pediatr infect dis j',\n",
       "       'journal of acquired immune deficiency syndromes'], dtype=object)"
      ]
     },
     "execution_count": 25,
     "metadata": {},
     "output_type": "execute_result"
    }
   ],
   "source": [
    "df['journal'].unique()"
   ]
  },
  {
   "cell_type": "code",
   "execution_count": 20,
   "metadata": {
    "scrolled": false
   },
   "outputs": [
    {
     "data": {
      "text/plain": [
       "plos one                                                                                 200\n",
       "journal of biological chemistry                                                           72\n",
       "neuroimage                                                                                29\n",
       "nucleic acids research                                                                    26\n",
       "plos pathogens                                                                            24\n",
       "plos genetics                                                                             24\n",
       "proceedings of national academy of sciences                                               22\n",
       "plos neglected tropical diseases                                                          20\n",
       "human molecular genetics                                                                  19\n",
       "nature communications                                                                     19\n",
       "biochemical journal                                                                       15\n",
       "journal of neuroscience                                                                   15\n",
       "bmc public health                                                                         15\n",
       "movement disorders                                                                        15\n",
       "brain                                                                                     14\n",
       "developmental cell                                                                        12\n",
       "faseb journal                                                                             11\n",
       "journal of general virology                                                               11\n",
       "current biology                                                                           11\n",
       "bmj                                                                                       10\n",
       "plos computational biology                                                                10\n",
       "malaria journal                                                                           10\n",
       "american journal of human genetics                                                         9\n",
       "development                                                                                9\n",
       "journal of medicinal chemistry                                                             9\n",
       "neuron                                                                                     9\n",
       "journal of physiology                                                                      9\n",
       "embo journal                                                                               9\n",
       "cell reports                                                                               9\n",
       "journal of virology                                                                        9\n",
       "                                                                                        ... \n",
       "frontiers in neurorobotics                                                                 1\n",
       "frontiers in inflammation                                                                  1\n",
       "european journal of preventive cardiology                                                  1\n",
       "am j bioeth                                                                                1\n",
       "tropical animal health & production                                                        1\n",
       "journal od clinical endocrinology                                                          1\n",
       "neurophysiologia                                                                           1\n",
       "nutrition journal                                                                          1\n",
       "pntd                                                                                       1\n",
       "pnas (proceedings of national academy of sciences of united states of america              1\n",
       "j med internet research                                                                    1\n",
       "brain structure and function                                                               1\n",
       "cancer letters                                                                             1\n",
       "chemical communication                                                                     1\n",
       "mol bio                                                                                    1\n",
       "vet. journal                                                                               1\n",
       "plos medicine journal                                                                      1\n",
       "nmr in biomedicine                                                                         1\n",
       "seminars in oncology                                                                       1\n",
       "hernia                                                                                     1\n",
       "biomed central                                                                             1\n",
       "international journal of behavioral nutrition and physical activity                        1\n",
       "reproductive sciences                                                                      1\n",
       "journal of transport geography                                                             1\n",
       "health: an interdisciplinary journal for social study of health, illness and medicine      1\n",
       "stem cells and development                                                                 1\n",
       "journal of clinical epidemiology                                                           1\n",
       "european history quarterly                                                                 1\n",
       "frontiers in genetics                                                                      1\n",
       "heptology                                                                                  1\n",
       "Name: journal, Length: 861, dtype: int64"
      ]
     },
     "execution_count": 20,
     "metadata": {},
     "output_type": "execute_result"
    }
   ],
   "source": [
    "df['journal'].value_counts()"
   ]
  },
  {
   "cell_type": "code",
   "execution_count": 21,
   "metadata": {},
   "outputs": [
    {
     "data": {
      "text/plain": [
       "plos one                           200\n",
       "journal of biological chemistry     72\n",
       "neuroimage                          29\n",
       "nucleic acids research              26\n",
       "plos pathogens                      24\n",
       "Name: journal, dtype: int64"
      ]
     },
     "execution_count": 21,
     "metadata": {},
     "output_type": "execute_result"
    }
   ],
   "source": [
    "#top 5 most common journals\n",
    "df['journal'].value_counts()[:5]"
   ]
  },
  {
   "cell_type": "code",
   "execution_count": 22,
   "metadata": {
    "collapsed": true
   },
   "outputs": [],
   "source": [
    "top_5 = df['journal'].value_counts().index[:5].tolist()"
   ]
  },
  {
   "cell_type": "code",
   "execution_count": 23,
   "metadata": {},
   "outputs": [
    {
     "name": "stdout",
     "output_type": "stream",
     "text": [
      "plos one\n",
      "Mean:  931.4815183246061\n",
      "Median:  893.43\n",
      "Standard Deviation:  197.5782539794733\n",
      "\n",
      "\n",
      "journal of biological chemistry\n",
      "Mean:  1384.3060000000003\n",
      "Median:  1313.13\n",
      "Standard Deviation:  387.845379397512\n",
      "\n",
      "\n",
      "neuroimage\n",
      "Mean:  2215.168275862069\n",
      "Median:  2326.43\n",
      "Standard Deviation:  266.65394691928987\n",
      "\n",
      "\n",
      "nucleic acids research\n",
      "Mean:  1149.0\n",
      "Median:  852.0\n",
      "Standard Deviation:  442.9404474644419\n",
      "\n",
      "\n",
      "plos pathogens\n",
      "Mean:  1572.8668181818182\n",
      "Median:  1600.25\n",
      "Standard Deviation:  161.78089066583865\n",
      "\n",
      "\n"
     ]
    }
   ],
   "source": [
    "# mean, median, sd for top 5 journals\n",
    "for j in top_5:\n",
    "    print(j)\n",
    "    print('Mean: ', df[df['journal'] == j]['cost'].mean())\n",
    "    print('Median: ',df[df['journal'] == j]['cost'].median())\n",
    "    print('Standard Deviation: ',df[df['journal'] == j]['cost'].std())\n",
    "    print('\\n')"
   ]
  },
  {
   "cell_type": "code",
   "execution_count": 16,
   "metadata": {},
   "outputs": [],
   "source": [
    "df = df[~df['journal'].isnull()]"
   ]
  },
  {
   "cell_type": "code",
   "execution_count": 24,
   "metadata": {},
   "outputs": [
    {
     "data": {
      "text/plain": [
       "0       []\n",
       "1       []\n",
       "2       []\n",
       "3       []\n",
       "4       []\n",
       "5       []\n",
       "6       []\n",
       "7       []\n",
       "8       []\n",
       "9       []\n",
       "10      []\n",
       "11      []\n",
       "12      []\n",
       "13      []\n",
       "14      []\n",
       "15      []\n",
       "16      []\n",
       "17      []\n",
       "18      []\n",
       "19      []\n",
       "20      []\n",
       "21      []\n",
       "22      []\n",
       "23      []\n",
       "24      []\n",
       "25      []\n",
       "26      []\n",
       "27      []\n",
       "28      []\n",
       "29      []\n",
       "        ..\n",
       "2097    []\n",
       "2098    []\n",
       "2099    []\n",
       "2100    []\n",
       "2101    []\n",
       "2102    []\n",
       "2103    []\n",
       "2104    []\n",
       "2105    []\n",
       "2106    []\n",
       "2107    []\n",
       "2108    []\n",
       "2109    []\n",
       "2110    []\n",
       "2111    []\n",
       "2112    []\n",
       "2113    []\n",
       "2114    []\n",
       "2115    []\n",
       "2116    []\n",
       "2117    []\n",
       "2118    []\n",
       "2119    []\n",
       "2120    []\n",
       "2121    []\n",
       "2122    []\n",
       "2123    []\n",
       "2124    []\n",
       "2125    []\n",
       "2126    []\n",
       "Name: journal, Length: 2126, dtype: object"
      ]
     },
     "execution_count": 24,
     "metadata": {},
     "output_type": "execute_result"
    }
   ],
   "source": [
    "import re\n",
    "df['journal'].apply(lambda x: re.findall('neuroimage', x))"
   ]
  },
  {
   "cell_type": "code",
   "execution_count": 32,
   "metadata": {},
   "outputs": [
    {
     "data": {
      "text/plain": [
       "437              neuroimage\n",
       "438              neuroimage\n",
       "689              neuroimage\n",
       "690              neuroimage\n",
       "691              neuroimage\n",
       "692              neuroimage\n",
       "693              neuroimage\n",
       "694              neuroimage\n",
       "695              neuroimage\n",
       "696              neuroimage\n",
       "697              neuroimage\n",
       "698              neuroimage\n",
       "699              neuroimage\n",
       "700              neuroimage\n",
       "701              neuroimage\n",
       "702              neuroimage\n",
       "703              neuroimage\n",
       "704              neuroimage\n",
       "705              neuroimage\n",
       "706              neuroimage\n",
       "707              neuroimage\n",
       "708              neuroimage\n",
       "709              neuroimage\n",
       "710              neuroimage\n",
       "711              neuroimage\n",
       "712              neuroimage\n",
       "713              neuroimage\n",
       "714              neuroimage\n",
       "715              neuroimage\n",
       "716    neuroimage: clinical\n",
       "717    neuroimage: clinical\n",
       "718    neuroimage: clinical\n",
       "719    neuroimage: clinical\n",
       "720    neuroimage: clinical\n",
       "Name: journal, dtype: object"
      ]
     },
     "execution_count": 32,
     "metadata": {},
     "output_type": "execute_result"
    }
   ],
   "source": [
    "df.loc[df['journal'].str.contains('neuroimage'), 'journal']"
   ]
  },
  {
   "cell_type": "code",
   "execution_count": 33,
   "metadata": {
    "collapsed": true
   },
   "outputs": [],
   "source": [
    "def find_subject(journal):\n",
    "    if 'neuro' in journal:\n",
    "        return 'neuroscience'\n",
    "    elif 'bio' in journal:\n",
    "        return 'biology'\n",
    "    elif 'chem' in journal:\n",
    "        return 'chemistry'\n",
    "    elif 'gene' in journal:\n",
    "        return 'genetics'\n",
    "    elif 'health' in journal:\n",
    "        return 'health'\n",
    "    else:\n",
    "        return 'other'"
   ]
  },
  {
   "cell_type": "code",
   "execution_count": 35,
   "metadata": {},
   "outputs": [],
   "source": [
    "df['subject'] = df['journal'].apply(find_subject)"
   ]
  },
  {
   "cell_type": "code",
   "execution_count": 41,
   "metadata": {},
   "outputs": [],
   "source": [
    "subjects = df.groupby(df['subject'])"
   ]
  },
  {
   "cell_type": "code",
   "execution_count": 42,
   "metadata": {},
   "outputs": [
    {
     "data": {
      "text/plain": [
       "subject\n",
       "biology         1770.821752\n",
       "chemistry       1676.740213\n",
       "genetics        2005.594537\n",
       "health          1626.555789\n",
       "neuroscience    2054.688368\n",
       "other           1800.041602\n",
       "Name: cost, dtype: float64"
      ]
     },
     "execution_count": 42,
     "metadata": {},
     "output_type": "execute_result"
    }
   ],
   "source": [
    "subjects['cost'].mean()"
   ]
  },
  {
   "cell_type": "code",
   "execution_count": null,
   "metadata": {
    "collapsed": true
   },
   "outputs": [],
   "source": []
  }
 ],
 "metadata": {
  "kernelspec": {
   "display_name": "Python 3",
   "language": "python",
   "name": "python3"
  },
  "language_info": {
   "codemirror_mode": {
    "name": "ipython",
    "version": 3
   },
   "file_extension": ".py",
   "mimetype": "text/x-python",
   "name": "python",
   "nbconvert_exporter": "python",
   "pygments_lexer": "ipython3",
   "version": "3.6.2"
  }
 },
 "nbformat": 4,
 "nbformat_minor": 2
}
