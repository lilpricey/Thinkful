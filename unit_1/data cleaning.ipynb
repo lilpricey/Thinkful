{
 "cells": [
  {
   "cell_type": "code",
   "execution_count": 1,
   "metadata": {
    "collapsed": true
   },
   "outputs": [],
   "source": [
    "import numpy as np\n",
    "import pandas as pd\n",
    "import scipy\n",
    "import matplotlib.pyplot as plt\n",
    "import seaborn as sns\n",
    "\n",
    "\n",
    "%matplotlib inline"
   ]
  },
  {
   "cell_type": "code",
   "execution_count": 17,
   "metadata": {
    "collapsed": true
   },
   "outputs": [],
   "source": [
    "df = pd.read_csv(\"WELLCOME_APCspend2013_forThinkful.csv\", engine='python')"
   ]
  },
  {
   "cell_type": "code",
   "execution_count": 3,
   "metadata": {},
   "outputs": [
    {
     "data": {
      "text/html": [
       "<div>\n",
       "<style>\n",
       "    .dataframe thead tr:only-child th {\n",
       "        text-align: right;\n",
       "    }\n",
       "\n",
       "    .dataframe thead th {\n",
       "        text-align: left;\n",
       "    }\n",
       "\n",
       "    .dataframe tbody tr th {\n",
       "        vertical-align: top;\n",
       "    }\n",
       "</style>\n",
       "<table border=\"1\" class=\"dataframe\">\n",
       "  <thead>\n",
       "    <tr style=\"text-align: right;\">\n",
       "      <th></th>\n",
       "      <th>PMID/PMCID</th>\n",
       "      <th>Publisher</th>\n",
       "      <th>Journal title</th>\n",
       "      <th>Article title</th>\n",
       "      <th>COST (£) charged to Wellcome (inc VAT when charged)</th>\n",
       "    </tr>\n",
       "  </thead>\n",
       "  <tbody>\n",
       "    <tr>\n",
       "      <th>0</th>\n",
       "      <td>NaN</td>\n",
       "      <td>CUP</td>\n",
       "      <td>Psychological Medicine</td>\n",
       "      <td>Reduced parahippocampal cortical thickness in ...</td>\n",
       "      <td>£0.00</td>\n",
       "    </tr>\n",
       "    <tr>\n",
       "      <th>1</th>\n",
       "      <td>PMC3679557</td>\n",
       "      <td>ACS</td>\n",
       "      <td>Biomacromolecules</td>\n",
       "      <td>Structural characterization of a Model Gram-ne...</td>\n",
       "      <td>£2381.04</td>\n",
       "    </tr>\n",
       "    <tr>\n",
       "      <th>2</th>\n",
       "      <td>23043264  PMC3506128</td>\n",
       "      <td>ACS</td>\n",
       "      <td>J Med Chem</td>\n",
       "      <td>Fumaroylamino-4,5-epoxymorphinans and related ...</td>\n",
       "      <td>£642.56</td>\n",
       "    </tr>\n",
       "    <tr>\n",
       "      <th>3</th>\n",
       "      <td>23438330 PMC3646402</td>\n",
       "      <td>ACS</td>\n",
       "      <td>J Med Chem</td>\n",
       "      <td>Orvinols with mixed kappa/mu opioid receptor a...</td>\n",
       "      <td>£669.64</td>\n",
       "    </tr>\n",
       "    <tr>\n",
       "      <th>4</th>\n",
       "      <td>23438216 PMC3601604</td>\n",
       "      <td>ACS</td>\n",
       "      <td>J Org Chem</td>\n",
       "      <td>Regioselective opening of myo-inositol orthoes...</td>\n",
       "      <td>£685.88</td>\n",
       "    </tr>\n",
       "  </tbody>\n",
       "</table>\n",
       "</div>"
      ],
      "text/plain": [
       "              PMID/PMCID Publisher           Journal title  \\\n",
       "0                    NaN       CUP  Psychological Medicine   \n",
       "1             PMC3679557       ACS       Biomacromolecules   \n",
       "2  23043264  PMC3506128        ACS              J Med Chem   \n",
       "3    23438330 PMC3646402       ACS              J Med Chem   \n",
       "4   23438216 PMC3601604        ACS              J Org Chem   \n",
       "\n",
       "                                       Article title  \\\n",
       "0  Reduced parahippocampal cortical thickness in ...   \n",
       "1  Structural characterization of a Model Gram-ne...   \n",
       "2  Fumaroylamino-4,5-epoxymorphinans and related ...   \n",
       "3  Orvinols with mixed kappa/mu opioid receptor a...   \n",
       "4  Regioselective opening of myo-inositol orthoes...   \n",
       "\n",
       "  COST (£) charged to Wellcome (inc VAT when charged)  \n",
       "0                                              £0.00   \n",
       "1                                           £2381.04   \n",
       "2                                            £642.56   \n",
       "3                                            £669.64   \n",
       "4                                            £685.88   "
      ]
     },
     "execution_count": 3,
     "metadata": {},
     "output_type": "execute_result"
    }
   ],
   "source": [
    "df.head()"
   ]
  },
  {
   "cell_type": "code",
   "execution_count": 4,
   "metadata": {},
   "outputs": [
    {
     "data": {
      "text/plain": [
       "PMID/PMCID                                             object\n",
       "Publisher                                              object\n",
       "Journal title                                          object\n",
       "Article title                                          object\n",
       "COST (£) charged to Wellcome (inc VAT when charged)    object\n",
       "dtype: object"
      ]
     },
     "execution_count": 4,
     "metadata": {},
     "output_type": "execute_result"
    }
   ],
   "source": [
    "df.dtypes"
   ]
  },
  {
   "cell_type": "code",
   "execution_count": 18,
   "metadata": {
    "collapsed": true
   },
   "outputs": [],
   "source": [
    "#rename columns for easy reference\n",
    "df.columns = ['id', 'publisher', 'journal', 'article', 'cost']"
   ]
  },
  {
   "cell_type": "code",
   "execution_count": 6,
   "metadata": {},
   "outputs": [
    {
     "data": {
      "text/plain": [
       "(2127, 5)"
      ]
     },
     "execution_count": 6,
     "metadata": {},
     "output_type": "execute_result"
    }
   ],
   "source": [
    "df.shape"
   ]
  },
  {
   "cell_type": "code",
   "execution_count": 38,
   "metadata": {
    "collapsed": true
   },
   "outputs": [],
   "source": [
    "#remove £,$ from cost\n",
    "df['cost'] = df['cost'].str.replace('£', '')\n",
    "df['cost'] = df['cost'].str.replace('$', '')"
   ]
  },
  {
   "cell_type": "code",
   "execution_count": 39,
   "metadata": {
    "collapsed": true
   },
   "outputs": [],
   "source": [
    "#convert cost to numeric\n",
    "df['cost'] = pd.to_numeric(df['cost'])"
   ]
  },
  {
   "cell_type": "code",
   "execution_count": 40,
   "metadata": {},
   "outputs": [
    {
     "data": {
      "text/plain": [
       "<matplotlib.axes._subplots.AxesSubplot at 0x18bf716e160>"
      ]
     },
     "execution_count": 40,
     "metadata": {},
     "output_type": "execute_result"
    },
    {
     "data": {
      "image/png": "[encoded data removed]",
      "text/plain": [
       "<matplotlib.figure.Figure at 0x18bf716edd8>"
      ]
     },
     "metadata": {},
     "output_type": "display_data"
    }
   ],
   "source": [
    "df.cost.hist()"
   ]
  },
  {
   "cell_type": "code",
   "execution_count": 41,
   "metadata": {
    "collapsed": true
   },
   "outputs": [],
   "source": [
    "#Replace outlier cost data with None\n",
    "df.loc[df.cost > 10000, 'cost'] = None"
   ]
  },
  {
   "cell_type": "code",
   "execution_count": 42,
   "metadata": {},
   "outputs": [
    {
     "data": {
      "text/plain": [
       "<matplotlib.axes._subplots.AxesSubplot at 0x18bf7161828>"
      ]
     },
     "execution_count": 42,
     "metadata": {},
     "output_type": "execute_result"
    },
    {
     "data": {
      "image/png": "[encoded data removed]",
      "text/plain": [
       "<matplotlib.figure.Figure at 0x18bf6fe53c8>"
      ]
     },
     "metadata": {},
     "output_type": "display_data"
    }
   ],
   "source": [
    "sns.boxplot('cost', data=df)"
   ]
  },
  {
   "cell_type": "code",
   "execution_count": 19,
   "metadata": {
    "collapsed": true
   },
   "outputs": [],
   "source": [
    "#make all journal names lowercase\n",
    "df['journal'] = df['journal'].str.lower()\n",
    "df['journal'] = df['journal'].str.replace('the', '')\n",
    "# strip whitespace, remove double spaces\n",
    "df['journal'] = df['journal'].str.strip().str.replace('  ', ' ')"
   ]
  },
  {
   "cell_type": "code",
   "execution_count": 20,
   "metadata": {
    "collapsed": true
   },
   "outputs": [],
   "source": [
    "#replace variations\n",
    "df['journal'] = df['journal'].str.replace('plosone', 'plos one')\n",
    "df['journal'] = df['journal'].str.replace('j med chem', 'journal of medicinal chemistry')\n",
    "df['journal'] = df['journal'].str.replace('antimicrobial agfents and chemorapy', 'antimicrobial agents and chemorapy')\n",
    "df['journal'] = df['journal'].str.replace('j biol chemistry', 'journal of biological chemistry')\n",
    "df['journal'] = df['journal'].str.replace('j biol chem.', 'journal of biological chemistry')\n",
    "df['journal'] = df['journal'].str.replace('biologicial chemistry', 'journal of biological chemistry')\n",
    "df['journal'] = df['journal'].str.replace('jnl journal of biological chemistry', 'journal of biological chemistry')\n",
    "df['journal'] = df['journal'].str.replace('journal journal of biological chemistry', 'journal of biological chemistry')\n",
    "df['journal'] = df['journal'].str.replace('journal of biol chem', 'journal of biological chemistry')"
   ]
  },
  {
   "cell_type": "code",
   "execution_count": 53,
   "metadata": {},
   "outputs": [
    {
     "data": {
      "text/plain": [
       "plos one                                                               200\n",
       "journal of biological chemistry                                         68\n",
       "neuroimage                                                              29\n",
       "nucleic acids research                                                  26\n",
       "plos pathogens                                                          24\n",
       "plos genetics                                                           24\n",
       "proceedings of national academy of sciences                             22\n",
       "plos neglected tropical diseases                                        20\n",
       "nature communications                                                   19\n",
       "human molecular genetics                                                19\n",
       "movement disorders                                                      15\n",
       "bmc public health                                                       15\n",
       "journal of neuroscience                                                 15\n",
       "biochemical journal                                                     14\n",
       "brain                                                                   14\n",
       "developmental cell                                                      12\n",
       "journal of general virology                                             11\n",
       "current biology                                                         11\n",
       "faseb journal                                                           11\n",
       "malaria journal                                                         10\n",
       "plos computational biology                                              10\n",
       "bmj                                                                     10\n",
       "embo journal                                                             9\n",
       "american journal of human genetics                                       9\n",
       "development                                                              9\n",
       "neuron                                                                   9\n",
       "cell reports                                                             9\n",
       "journal of virology                                                      9\n",
       "journal of physiology                                                    9\n",
       "journal of medicinal chemistry                                           9\n",
       "                                                                      ... \n",
       "pulmonary pharmacology & rapeutics                                       1\n",
       "human mutation: variation, informatics, and disease                      1\n",
       "current analytical chemistry                                             1\n",
       "development genes and evolution                                          1\n",
       "personality and individual differences                                   1\n",
       "biochem journal                                                          1\n",
       "journal biological chemistry                                             1\n",
       "ethn health                                                              1\n",
       "psychological trauma: ory research, practice and policy                  1\n",
       "cognition                                                                1\n",
       "journal of computational neuroscience                                    1\n",
       "journal of abnormal child psychology and psychiatry                      1\n",
       "inflammatory bowel diseases                                              1\n",
       "behavioural brain research                                               1\n",
       "seizure                                                                  1\n",
       "sex transm infect.                                                       1\n",
       "endocrine related cancer                                                 1\n",
       "american jnl epidemiology                                                1\n",
       "osteoarthritis and cartilage                                             1\n",
       "qualitative research                                                     1\n",
       "bioconjugate chemistry                                                   1\n",
       "int j epidemiol                                                          1\n",
       "journal of cultural economy                                              1\n",
       "journal of consulting and clinical psychology                            1\n",
       "current topics in medicinal chemistry                                    1\n",
       "international journal of behavioral nutrition and physical activity      1\n",
       "journal of experimental psychology: animal behaviour process             1\n",
       "biogerontology                                                           1\n",
       "biochemical pharmacology                                                 1\n",
       "international immunology                                                 1\n",
       "Name: journal, Length: 864, dtype: int64"
      ]
     },
     "execution_count": 53,
     "metadata": {},
     "output_type": "execute_result"
    }
   ],
   "source": [
    "df['journal'].value_counts()"
   ]
  },
  {
   "cell_type": "code",
   "execution_count": 52,
   "metadata": {},
   "outputs": [
    {
     "data": {
      "text/plain": [
       "plos one                           200\n",
       "journal of biological chemistry     68\n",
       "neuroimage                          29\n",
       "nucleic acids research              26\n",
       "plos pathogens                      24\n",
       "Name: journal, dtype: int64"
      ]
     },
     "execution_count": 52,
     "metadata": {},
     "output_type": "execute_result"
    }
   ],
   "source": [
    "#top 5 most common journals\n",
    "df['journal'].value_counts()[:5]"
   ]
  },
  {
   "cell_type": "code",
   "execution_count": 35,
   "metadata": {
    "collapsed": true
   },
   "outputs": [],
   "source": [
    "top_5 = df['journal'].value_counts().index[:5].tolist()"
   ]
  },
  {
   "cell_type": "code",
   "execution_count": 51,
   "metadata": {},
   "outputs": [
    {
     "name": "stdout",
     "output_type": "stream",
     "text": [
      "plos one\n",
      "Mean:  931.4815183246061\n",
      "Median:  893.43\n",
      "Standard Deviation:  197.5782539794733\n",
      "\n",
      "\n",
      "journal of biological chemistry\n",
      "Mean:  1411.143731343284\n",
      "Median:  1324.57\n",
      "Standard Deviation:  369.3549551371296\n",
      "\n",
      "\n",
      "neuroimage\n",
      "Mean:  2215.168275862069\n",
      "Median:  2326.43\n",
      "Standard Deviation:  266.65394691928987\n",
      "\n",
      "\n",
      "nucleic acids research\n",
      "Mean:  1149.0\n",
      "Median:  852.0\n",
      "Standard Deviation:  442.9404474644419\n",
      "\n",
      "\n",
      "plos pathogens\n",
      "Mean:  1572.8668181818182\n",
      "Median:  1600.25\n",
      "Standard Deviation:  161.78089066583865\n",
      "\n",
      "\n"
     ]
    }
   ],
   "source": [
    "# mean, median, sd for top 5 journals\n",
    "for j in top_5:\n",
    "    print(j)\n",
    "    print('Mean: ', df[df['journal'] == j]['cost'].mean())\n",
    "    print('Median: ',df[df['journal'] == j]['cost'].median())\n",
    "    print('Standard Deviation: ',df[df['journal'] == j]['cost'].std())\n",
    "    print('\\n')"
   ]
  },
  {
   "cell_type": "code",
   "execution_count": null,
   "metadata": {
    "collapsed": true
   },
   "outputs": [],
   "source": []
  }
 ],
 "metadata": {
  "kernelspec": {
   "display_name": "Python 3",
   "language": "python",
   "name": "python3"
  },
  "language_info": {
   "codemirror_mode": {
    "name": "ipython",
    "version": 3
   },
   "file_extension": ".py",
   "mimetype": "text/x-python",
   "name": "python",
   "nbconvert_exporter": "python",
   "pygments_lexer": "ipython3",
   "version": "3.6.2"
  }
 },
 "nbformat": 4,
 "nbformat_minor": 2
}
