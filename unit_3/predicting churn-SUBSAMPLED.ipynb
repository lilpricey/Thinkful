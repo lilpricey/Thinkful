{
 "cells": [
  {
   "cell_type": "markdown",
   "metadata": {},
   "source": [
    "# Predicting Customer Churn \n",
    "___\n",
    "\n",
    "### Objective: Predict customer churn in the telecommunications Industry. \n",
    "\n",
    "Preventing customer attrition, or churn, is a common business objective. Losing customers results in direct revenue loss, as well as the expenditure of resources to continually find new customers. Brands across all industries are looking for ways to build meaningful bonds with their customers in order to keep them engaged and loyal to the company. In the telecommunications industry, it's a particularly challenging problem as customers in most markets have access to several options.  \n",
    "\n",
    "### The dataset: [Telco Customer Churn](https://www.kaggle.com/blastchar/telco-customer-churn/home) \n",
    "\n",
    "The Telco Customer Churn dataset contains customer information from a telecommunications company. It includes general demographic information about the customer as well as the various services they were using. It was published by IBM in 2015. \n",
    "The raw data contains  7043 rows and 21 columns, with each row being a customer. The target variable is **Churn**, whether or not the customer left the company in the last 30 days.  "
   ]
  },
  {
   "cell_type": "code",
   "execution_count": 57,
   "metadata": {},
   "outputs": [],
   "source": [
    "import pandas as pd\n",
    "from matplotlib import pyplot as plt\n",
    "import numpy as np\n",
    "import math\n",
    "import seaborn as sns\n",
    "import sklearn\n",
    "from sklearn import linear_model\n",
    "from sklearn.naive_bayes import BernoulliNB\n",
    "from sklearn import preprocessing\n",
    "from sklearn import tree\n",
    "from sklearn import ensemble\n",
    "from sklearn.ensemble import GradientBoostingClassifier\n",
    "from sklearn.model_selection import cross_val_score\n",
    "from sklearn.linear_model import LogisticRegression\n",
    "from sklearn.grid_search import GridSearchCV\n",
    "from sklearn.svm import SVC\n",
    "from sklearn.neighbors import KNeighborsClassifier\n",
    "from sklearn.metrics import confusion_matrix\n",
    "import time\n",
    "\n",
    "%matplotlib inline\n",
    "\n",
    "import warnings\n",
    "warnings.filterwarnings('ignore')\n",
    "sns.set_style('white')"
   ]
  },
  {
   "cell_type": "code",
   "execution_count": 2,
   "metadata": {},
   "outputs": [],
   "source": [
    "df = pd.read_csv('WA_Fn-UseC_-Telco-Customer-Churn.csv')"
   ]
  },
  {
   "cell_type": "code",
   "execution_count": 3,
   "metadata": {},
   "outputs": [
    {
     "data": {
      "text/plain": [
       "(7043, 21)"
      ]
     },
     "execution_count": 3,
     "metadata": {},
     "output_type": "execute_result"
    }
   ],
   "source": [
    "df.shape"
   ]
  },
  {
   "cell_type": "code",
   "execution_count": 4,
   "metadata": {},
   "outputs": [
    {
     "data": {
      "text/html": [
       "<div>\n",
       "<style scoped>\n",
       "    .dataframe tbody tr th:only-of-type {\n",
       "        vertical-align: middle;\n",
       "    }\n",
       "\n",
       "    .dataframe tbody tr th {\n",
       "        vertical-align: top;\n",
       "    }\n",
       "\n",
       "    .dataframe thead th {\n",
       "        text-align: right;\n",
       "    }\n",
       "</style>\n",
       "<table border=\"1\" class=\"dataframe\">\n",
       "  <thead>\n",
       "    <tr style=\"text-align: right;\">\n",
       "      <th></th>\n",
       "      <th>customerID</th>\n",
       "      <th>gender</th>\n",
       "      <th>SeniorCitizen</th>\n",
       "      <th>Partner</th>\n",
       "      <th>Dependents</th>\n",
       "      <th>tenure</th>\n",
       "      <th>PhoneService</th>\n",
       "      <th>MultipleLines</th>\n",
       "      <th>InternetService</th>\n",
       "      <th>OnlineSecurity</th>\n",
       "      <th>...</th>\n",
       "      <th>DeviceProtection</th>\n",
       "      <th>TechSupport</th>\n",
       "      <th>StreamingTV</th>\n",
       "      <th>StreamingMovies</th>\n",
       "      <th>Contract</th>\n",
       "      <th>PaperlessBilling</th>\n",
       "      <th>PaymentMethod</th>\n",
       "      <th>MonthlyCharges</th>\n",
       "      <th>TotalCharges</th>\n",
       "      <th>Churn</th>\n",
       "    </tr>\n",
       "  </thead>\n",
       "  <tbody>\n",
       "    <tr>\n",
       "      <th>0</th>\n",
       "      <td>7590-VHVEG</td>\n",
       "      <td>Female</td>\n",
       "      <td>0</td>\n",
       "      <td>Yes</td>\n",
       "      <td>No</td>\n",
       "      <td>1</td>\n",
       "      <td>No</td>\n",
       "      <td>No phone service</td>\n",
       "      <td>DSL</td>\n",
       "      <td>No</td>\n",
       "      <td>...</td>\n",
       "      <td>No</td>\n",
       "      <td>No</td>\n",
       "      <td>No</td>\n",
       "      <td>No</td>\n",
       "      <td>Month-to-month</td>\n",
       "      <td>Yes</td>\n",
       "      <td>Electronic check</td>\n",
       "      <td>29.85</td>\n",
       "      <td>29.85</td>\n",
       "      <td>No</td>\n",
       "    </tr>\n",
       "    <tr>\n",
       "      <th>1</th>\n",
       "      <td>5575-GNVDE</td>\n",
       "      <td>Male</td>\n",
       "      <td>0</td>\n",
       "      <td>No</td>\n",
       "      <td>No</td>\n",
       "      <td>34</td>\n",
       "      <td>Yes</td>\n",
       "      <td>No</td>\n",
       "      <td>DSL</td>\n",
       "      <td>Yes</td>\n",
       "      <td>...</td>\n",
       "      <td>Yes</td>\n",
       "      <td>No</td>\n",
       "      <td>No</td>\n",
       "      <td>No</td>\n",
       "      <td>One year</td>\n",
       "      <td>No</td>\n",
       "      <td>Mailed check</td>\n",
       "      <td>56.95</td>\n",
       "      <td>1889.5</td>\n",
       "      <td>No</td>\n",
       "    </tr>\n",
       "    <tr>\n",
       "      <th>2</th>\n",
       "      <td>3668-QPYBK</td>\n",
       "      <td>Male</td>\n",
       "      <td>0</td>\n",
       "      <td>No</td>\n",
       "      <td>No</td>\n",
       "      <td>2</td>\n",
       "      <td>Yes</td>\n",
       "      <td>No</td>\n",
       "      <td>DSL</td>\n",
       "      <td>Yes</td>\n",
       "      <td>...</td>\n",
       "      <td>No</td>\n",
       "      <td>No</td>\n",
       "      <td>No</td>\n",
       "      <td>No</td>\n",
       "      <td>Month-to-month</td>\n",
       "      <td>Yes</td>\n",
       "      <td>Mailed check</td>\n",
       "      <td>53.85</td>\n",
       "      <td>108.15</td>\n",
       "      <td>Yes</td>\n",
       "    </tr>\n",
       "    <tr>\n",
       "      <th>3</th>\n",
       "      <td>7795-CFOCW</td>\n",
       "      <td>Male</td>\n",
       "      <td>0</td>\n",
       "      <td>No</td>\n",
       "      <td>No</td>\n",
       "      <td>45</td>\n",
       "      <td>No</td>\n",
       "      <td>No phone service</td>\n",
       "      <td>DSL</td>\n",
       "      <td>Yes</td>\n",
       "      <td>...</td>\n",
       "      <td>Yes</td>\n",
       "      <td>Yes</td>\n",
       "      <td>No</td>\n",
       "      <td>No</td>\n",
       "      <td>One year</td>\n",
       "      <td>No</td>\n",
       "      <td>Bank transfer (automatic)</td>\n",
       "      <td>42.30</td>\n",
       "      <td>1840.75</td>\n",
       "      <td>No</td>\n",
       "    </tr>\n",
       "    <tr>\n",
       "      <th>4</th>\n",
       "      <td>9237-HQITU</td>\n",
       "      <td>Female</td>\n",
       "      <td>0</td>\n",
       "      <td>No</td>\n",
       "      <td>No</td>\n",
       "      <td>2</td>\n",
       "      <td>Yes</td>\n",
       "      <td>No</td>\n",
       "      <td>Fiber optic</td>\n",
       "      <td>No</td>\n",
       "      <td>...</td>\n",
       "      <td>No</td>\n",
       "      <td>No</td>\n",
       "      <td>No</td>\n",
       "      <td>No</td>\n",
       "      <td>Month-to-month</td>\n",
       "      <td>Yes</td>\n",
       "      <td>Electronic check</td>\n",
       "      <td>70.70</td>\n",
       "      <td>151.65</td>\n",
       "      <td>Yes</td>\n",
       "    </tr>\n",
       "  </tbody>\n",
       "</table>\n",
       "<p>5 rows × 21 columns</p>\n",
       "</div>"
      ],
      "text/plain": [
       "   customerID  gender  SeniorCitizen Partner Dependents  tenure PhoneService  \\\n",
       "0  7590-VHVEG  Female              0     Yes         No       1           No   \n",
       "1  5575-GNVDE    Male              0      No         No      34          Yes   \n",
       "2  3668-QPYBK    Male              0      No         No       2          Yes   \n",
       "3  7795-CFOCW    Male              0      No         No      45           No   \n",
       "4  9237-HQITU  Female              0      No         No       2          Yes   \n",
       "\n",
       "      MultipleLines InternetService OnlineSecurity  ...  DeviceProtection  \\\n",
       "0  No phone service             DSL             No  ...                No   \n",
       "1                No             DSL            Yes  ...               Yes   \n",
       "2                No             DSL            Yes  ...                No   \n",
       "3  No phone service             DSL            Yes  ...               Yes   \n",
       "4                No     Fiber optic             No  ...                No   \n",
       "\n",
       "  TechSupport StreamingTV StreamingMovies        Contract PaperlessBilling  \\\n",
       "0          No          No              No  Month-to-month              Yes   \n",
       "1          No          No              No        One year               No   \n",
       "2          No          No              No  Month-to-month              Yes   \n",
       "3         Yes          No              No        One year               No   \n",
       "4          No          No              No  Month-to-month              Yes   \n",
       "\n",
       "               PaymentMethod MonthlyCharges  TotalCharges Churn  \n",
       "0           Electronic check          29.85         29.85    No  \n",
       "1               Mailed check          56.95        1889.5    No  \n",
       "2               Mailed check          53.85        108.15   Yes  \n",
       "3  Bank transfer (automatic)          42.30       1840.75    No  \n",
       "4           Electronic check          70.70        151.65   Yes  \n",
       "\n",
       "[5 rows x 21 columns]"
      ]
     },
     "execution_count": 4,
     "metadata": {},
     "output_type": "execute_result"
    }
   ],
   "source": [
    "df.head()"
   ]
  },
  {
   "cell_type": "code",
   "execution_count": 5,
   "metadata": {},
   "outputs": [
    {
     "name": "stdout",
     "output_type": "stream",
     "text": [
      "<class 'pandas.core.frame.DataFrame'>\n",
      "RangeIndex: 7043 entries, 0 to 7042\n",
      "Data columns (total 21 columns):\n",
      "customerID          7043 non-null object\n",
      "gender              7043 non-null object\n",
      "SeniorCitizen       7043 non-null int64\n",
      "Partner             7043 non-null object\n",
      "Dependents          7043 non-null object\n",
      "tenure              7043 non-null int64\n",
      "PhoneService        7043 non-null object\n",
      "MultipleLines       7043 non-null object\n",
      "InternetService     7043 non-null object\n",
      "OnlineSecurity      7043 non-null object\n",
      "OnlineBackup        7043 non-null object\n",
      "DeviceProtection    7043 non-null object\n",
      "TechSupport         7043 non-null object\n",
      "StreamingTV         7043 non-null object\n",
      "StreamingMovies     7043 non-null object\n",
      "Contract            7043 non-null object\n",
      "PaperlessBilling    7043 non-null object\n",
      "PaymentMethod       7043 non-null object\n",
      "MonthlyCharges      7043 non-null float64\n",
      "TotalCharges        7043 non-null object\n",
      "Churn               7043 non-null object\n",
      "dtypes: float64(1), int64(2), object(18)\n",
      "memory usage: 1.1+ MB\n"
     ]
    }
   ],
   "source": [
    "df.info()"
   ]
  },
  {
   "cell_type": "markdown",
   "metadata": {},
   "source": [
    "# Exploratory Data Analysis"
   ]
  },
  {
   "cell_type": "code",
   "execution_count": 6,
   "metadata": {},
   "outputs": [
    {
     "data": {
      "image/png": "[encoded data removed]",
      "text/plain": [
       "<Figure size 864x360 with 1 Axes>"
      ]
     },
     "metadata": {},
     "output_type": "display_data"
    }
   ],
   "source": [
    "plt.figure(figsize=(12,5))\n",
    "sns.countplot(x=\"gender\", data=df);\n",
    "plt.title('Gender')\n",
    "\n",
    "\n",
    "plt.show()"
   ]
  },
  {
   "cell_type": "code",
   "execution_count": 7,
   "metadata": {},
   "outputs": [
    {
     "data": {
      "image/png": "[encoded data removed]",
      "text/plain": [
       "<Figure size 864x360 with 1 Axes>"
      ]
     },
     "metadata": {},
     "output_type": "display_data"
    }
   ],
   "source": [
    "plt.figure(figsize=(12,5))\n",
    "sns.countplot(x=\"SeniorCitizen\", data=df);\n",
    "plt.title('SeniorCitizen')\n",
    "\n",
    "\n",
    "plt.show()"
   ]
  },
  {
   "cell_type": "code",
   "execution_count": 8,
   "metadata": {},
   "outputs": [
    {
     "data": {
      "image/png": "[encoded data removed]",
      "text/plain": [
       "<Figure size 864x360 with 1 Axes>"
      ]
     },
     "metadata": {},
     "output_type": "display_data"
    }
   ],
   "source": [
    "plt.figure(figsize=(12,5))\n",
    "sns.countplot(x=\"Partner\", data=df);\n",
    "plt.title('Partner')\n",
    "\n",
    "\n",
    "plt.show()"
   ]
  },
  {
   "cell_type": "code",
   "execution_count": 9,
   "metadata": {},
   "outputs": [
    {
     "data": {
      "image/png": "[encoded data removed]",
      "text/plain": [
       "<Figure size 864x360 with 1 Axes>"
      ]
     },
     "metadata": {},
     "output_type": "display_data"
    }
   ],
   "source": [
    "plt.figure(figsize=(12,5))\n",
    "sns.countplot(x=\"Dependents\", data=df);\n",
    "plt.title('Dependents')\n",
    "\n",
    "\n",
    "plt.show()"
   ]
  },
  {
   "cell_type": "code",
   "execution_count": 10,
   "metadata": {
    "scrolled": true
   },
   "outputs": [
    {
     "data": {
      "image/png": "[encoded data removed]",
      "text/plain": [
       "<Figure size 864x360 with 2 Axes>"
      ]
     },
     "metadata": {},
     "output_type": "display_data"
    }
   ],
   "source": [
    "#number of months customer has been with the company\n",
    "plt.figure(figsize=(12,5))\n",
    "\n",
    "plt.subplot(1, 2, 1)\n",
    "sns.distplot(df['tenure'])\n",
    "plt.title('tenure')\n",
    "\n",
    "plt.subplot(1, 2, 2)\n",
    "sns.boxplot(df['tenure'])\n",
    "plt.title('tenure')\n",
    "\n",
    "plt.show()"
   ]
  },
  {
   "cell_type": "code",
   "execution_count": 11,
   "metadata": {
    "scrolled": true
   },
   "outputs": [
    {
     "data": {
      "image/png": "[encoded data removed]",
      "text/plain": [
       "<Figure size 864x360 with 1 Axes>"
      ]
     },
     "metadata": {},
     "output_type": "display_data"
    }
   ],
   "source": [
    "plt.figure(figsize=(12,5))\n",
    "sns.countplot(x=\"PhoneService\", data=df);\n",
    "plt.title('PhoneService')\n",
    "\n",
    "\n",
    "plt.show()"
   ]
  },
  {
   "cell_type": "code",
   "execution_count": 12,
   "metadata": {
    "scrolled": false
   },
   "outputs": [
    {
     "data": {
      "image/png": "[encoded data removed]",
      "text/plain": [
       "<Figure size 864x360 with 1 Axes>"
      ]
     },
     "metadata": {},
     "output_type": "display_data"
    }
   ],
   "source": [
    "plt.figure(figsize=(12,5))\n",
    "sns.countplot(x=\"MultipleLines\", data=df);\n",
    "plt.title('MultipleLines')\n",
    "\n",
    "\n",
    "plt.show()"
   ]
  },
  {
   "cell_type": "code",
   "execution_count": 13,
   "metadata": {
    "scrolled": true
   },
   "outputs": [
    {
     "data": {
      "image/png": "[encoded data removed]",
      "text/plain": [
       "<Figure size 864x360 with 1 Axes>"
      ]
     },
     "metadata": {},
     "output_type": "display_data"
    }
   ],
   "source": [
    "plt.figure(figsize=(12,5))\n",
    "sns.countplot(x=\"InternetService\", data=df);\n",
    "plt.title('InternetService')\n",
    "\n",
    "\n",
    "plt.show()"
   ]
  },
  {
   "cell_type": "code",
   "execution_count": 14,
   "metadata": {
    "scrolled": true
   },
   "outputs": [
    {
     "data": {
      "image/png": "[encoded data removed]",
      "text/plain": [
       "<Figure size 864x360 with 1 Axes>"
      ]
     },
     "metadata": {},
     "output_type": "display_data"
    }
   ],
   "source": [
    "plt.figure(figsize=(12,5))\n",
    "sns.countplot(x=\"OnlineSecurity\", data=df);\n",
    "plt.title('OnlineSecurity')\n",
    "\n",
    "\n",
    "plt.show()"
   ]
  },
  {
   "cell_type": "code",
   "execution_count": 15,
   "metadata": {
    "scrolled": false
   },
   "outputs": [
    {
     "data": {
      "image/png": "[encoded data removed]",
      "text/plain": [
       "<Figure size 864x360 with 1 Axes>"
      ]
     },
     "metadata": {},
     "output_type": "display_data"
    }
   ],
   "source": [
    "plt.figure(figsize=(12,5))\n",
    "sns.countplot(x=\"OnlineBackup\", data=df);\n",
    "plt.title('OnlineBackup')\n",
    "\n",
    "\n",
    "plt.show()"
   ]
  },
  {
   "cell_type": "code",
   "execution_count": 16,
   "metadata": {
    "scrolled": true
   },
   "outputs": [
    {
     "data": {
      "image/png": "[encoded data removed]",
      "text/plain": [
       "<Figure size 864x360 with 1 Axes>"
      ]
     },
     "metadata": {},
     "output_type": "display_data"
    }
   ],
   "source": [
    "plt.figure(figsize=(12,5))\n",
    "sns.countplot(x=\"DeviceProtection\", data=df);\n",
    "plt.title('DeviceProtection')\n",
    "\n",
    "\n",
    "plt.show()"
   ]
  },
  {
   "cell_type": "code",
   "execution_count": 17,
   "metadata": {
    "scrolled": false
   },
   "outputs": [
    {
     "data": {
      "image/png": "[encoded data removed]",
      "text/plain": [
       "<Figure size 864x360 with 1 Axes>"
      ]
     },
     "metadata": {},
     "output_type": "display_data"
    }
   ],
   "source": [
    "plt.figure(figsize=(12,5))\n",
    "sns.countplot(x=\"TechSupport\", data=df);\n",
    "plt.title('TechSupport')\n",
    "\n",
    "\n",
    "plt.show()"
   ]
  },
  {
   "cell_type": "code",
   "execution_count": 18,
   "metadata": {
    "scrolled": true
   },
   "outputs": [
    {
     "data": {
      "image/png": "[encoded data removed]",
      "text/plain": [
       "<Figure size 864x360 with 1 Axes>"
      ]
     },
     "metadata": {},
     "output_type": "display_data"
    }
   ],
   "source": [
    "plt.figure(figsize=(12,5))\n",
    "sns.countplot(x=\"StreamingTV\", data=df);\n",
    "plt.title('StreamingTV')\n",
    "\n",
    "\n",
    "plt.show()"
   ]
  },
  {
   "cell_type": "code",
   "execution_count": 19,
   "metadata": {
    "scrolled": false
   },
   "outputs": [
    {
     "data": {
      "image/png": "[encoded data removed]",
      "text/plain": [
       "<Figure size 864x360 with 1 Axes>"
      ]
     },
     "metadata": {},
     "output_type": "display_data"
    }
   ],
   "source": [
    "plt.figure(figsize=(12,5))\n",
    "sns.countplot(x=\"StreamingMovies\", data=df);\n",
    "plt.title('StreamingMovies')\n",
    "\n",
    "\n",
    "plt.show()"
   ]
  },
  {
   "cell_type": "code",
   "execution_count": 20,
   "metadata": {
    "scrolled": true
   },
   "outputs": [
    {
     "data": {
      "image/png": "[encoded data removed]",
      "text/plain": [
       "<Figure size 864x360 with 1 Axes>"
      ]
     },
     "metadata": {},
     "output_type": "display_data"
    }
   ],
   "source": [
    "plt.figure(figsize=(12,5))\n",
    "sns.countplot(x=\"Contract\", data=df);\n",
    "plt.title('Contract')\n",
    "\n",
    "\n",
    "plt.show()"
   ]
  },
  {
   "cell_type": "code",
   "execution_count": 21,
   "metadata": {
    "scrolled": false
   },
   "outputs": [
    {
     "data": {
      "image/png": "[encoded data removed]",
      "text/plain": [
       "<Figure size 864x360 with 1 Axes>"
      ]
     },
     "metadata": {},
     "output_type": "display_data"
    }
   ],
   "source": [
    "plt.figure(figsize=(12,5))\n",
    "sns.countplot(x=\"PaperlessBilling\", data=df);\n",
    "plt.title('PaperlessBilling')\n",
    "\n",
    "\n",
    "plt.show()"
   ]
  },
  {
   "cell_type": "code",
   "execution_count": 22,
   "metadata": {
    "scrolled": true
   },
   "outputs": [
    {
     "data": {
      "image/png": "[encoded data removed]",
      "text/plain": [
       "<Figure size 864x360 with 1 Axes>"
      ]
     },
     "metadata": {},
     "output_type": "display_data"
    }
   ],
   "source": [
    "plt.figure(figsize=(12,5))\n",
    "sns.countplot(x=\"PaymentMethod\", data=df);\n",
    "plt.title('PaymentMethod')\n",
    "\n",
    "\n",
    "plt.show()"
   ]
  },
  {
   "cell_type": "code",
   "execution_count": 23,
   "metadata": {
    "scrolled": true
   },
   "outputs": [
    {
     "data": {
      "image/png": "[encoded data removed]",
      "text/plain": [
       "<Figure size 864x360 with 2 Axes>"
      ]
     },
     "metadata": {},
     "output_type": "display_data"
    }
   ],
   "source": [
    "#number of months customer has been with the company\n",
    "plt.figure(figsize=(12,5))\n",
    "\n",
    "plt.subplot(1, 2, 1)\n",
    "sns.distplot(df['MonthlyCharges'])\n",
    "plt.title('MonthlyCharges')\n",
    "\n",
    "plt.subplot(1, 2, 2)\n",
    "sns.boxplot(df['MonthlyCharges'])\n",
    "plt.title('MonthlyCharges')\n",
    "\n",
    "plt.show()"
   ]
  },
  {
   "cell_type": "code",
   "execution_count": 24,
   "metadata": {},
   "outputs": [],
   "source": [
    "#for i in range(len(df)):\n",
    " #   q = float(df['TotalCharges'][i])\n",
    "#    print(i, df['TotalCharges'][i])"
   ]
  },
  {
   "cell_type": "code",
   "execution_count": 25,
   "metadata": {},
   "outputs": [
    {
     "data": {
      "text/plain": [
       "' '"
      ]
     },
     "execution_count": 25,
     "metadata": {},
     "output_type": "execute_result"
    }
   ],
   "source": [
    "df['TotalCharges'][488]"
   ]
  },
  {
   "cell_type": "code",
   "execution_count": 26,
   "metadata": {},
   "outputs": [
    {
     "data": {
      "text/plain": [
       "11"
      ]
     },
     "execution_count": 26,
     "metadata": {},
     "output_type": "execute_result"
    }
   ],
   "source": [
    "len(df[df['TotalCharges'] == ' '])"
   ]
  },
  {
   "cell_type": "code",
   "execution_count": 27,
   "metadata": {},
   "outputs": [],
   "source": [
    "df = df[df['TotalCharges'] != ' ']\n",
    "df['TotalCharges'] = df['TotalCharges'].astype('float64')"
   ]
  },
  {
   "cell_type": "code",
   "execution_count": 28,
   "metadata": {
    "scrolled": true
   },
   "outputs": [
    {
     "data": {
      "image/png": "[encoded data removed]",
      "text/plain": [
       "<Figure size 864x360 with 2 Axes>"
      ]
     },
     "metadata": {},
     "output_type": "display_data"
    }
   ],
   "source": [
    "#number of months customer has been with the company\n",
    "plt.figure(figsize=(12,5))\n",
    "\n",
    "plt.subplot(1, 2, 1)\n",
    "sns.distplot(df['TotalCharges'])\n",
    "plt.title('TotalCharges')\n",
    "\n",
    "plt.subplot(1, 2, 2)\n",
    "sns.boxplot(df['TotalCharges'])\n",
    "plt.title('TotalCharges')\n",
    "\n",
    "plt.show()"
   ]
  },
  {
   "cell_type": "markdown",
   "metadata": {},
   "source": [
    "# Examine the target variable"
   ]
  },
  {
   "cell_type": "code",
   "execution_count": 29,
   "metadata": {
    "scrolled": true
   },
   "outputs": [
    {
     "data": {
      "image/png": "[encoded data removed]",
      "text/plain": [
       "<Figure size 864x360 with 1 Axes>"
      ]
     },
     "metadata": {},
     "output_type": "display_data"
    }
   ],
   "source": [
    "plt.figure(figsize=(12,5))\n",
    "sns.countplot(x=\"Churn\", data=df);\n",
    "plt.title('Churn')\n",
    "\n",
    "\n",
    "plt.show()"
   ]
  },
  {
   "cell_type": "code",
   "execution_count": 30,
   "metadata": {},
   "outputs": [
    {
     "data": {
      "text/plain": [
       "1869"
      ]
     },
     "execution_count": 30,
     "metadata": {},
     "output_type": "execute_result"
    }
   ],
   "source": [
    "len(df[df['Churn'] == 'Yes'])"
   ]
  },
  {
   "cell_type": "code",
   "execution_count": 31,
   "metadata": {
    "scrolled": true
   },
   "outputs": [
    {
     "data": {
      "text/plain": [
       "0.7342150170648464"
      ]
     },
     "execution_count": 31,
     "metadata": {},
     "output_type": "execute_result"
    }
   ],
   "source": [
    "len(df[df['Churn'] == 'No']) / len(df)"
   ]
  },
  {
   "cell_type": "markdown",
   "metadata": {},
   "source": [
    "### Benchmark of 0.734\n",
    "\n",
    "### try undersampling to combat imbalance"
   ]
  },
  {
   "cell_type": "code",
   "execution_count": 32,
   "metadata": {},
   "outputs": [],
   "source": [
    "df = df[df['SeniorCitizen'] == 0 ]"
   ]
  },
  {
   "cell_type": "code",
   "execution_count": 33,
   "metadata": {},
   "outputs": [],
   "source": [
    "df = df[df['PhoneService'] == 'Yes' ]"
   ]
  },
  {
   "cell_type": "code",
   "execution_count": 34,
   "metadata": {},
   "outputs": [
    {
     "data": {
      "text/plain": [
       "(5314, 21)"
      ]
     },
     "execution_count": 34,
     "metadata": {},
     "output_type": "execute_result"
    }
   ],
   "source": [
    "df.shape"
   ]
  },
  {
   "cell_type": "code",
   "execution_count": 35,
   "metadata": {},
   "outputs": [
    {
     "data": {
      "text/plain": [
       "Yes    1267\n",
       "No     1267\n",
       "Name: Churn, dtype: int64"
      ]
     },
     "execution_count": 35,
     "metadata": {},
     "output_type": "execute_result"
    }
   ],
   "source": [
    "from sklearn.utils import resample\n",
    "# Separate majority and minority classes\n",
    "df_majority = df[df['Churn']=='No']\n",
    "df_minority = df[df['Churn']=='Yes']\n",
    "\n",
    "# Downsample majority class\n",
    "df_majority_downsampled = resample(df_majority, \n",
    "                                 replace=False,    # sample without replacement\n",
    "                                 n_samples=1267,     # to match minority class\n",
    "                                 random_state=123) # reproducible results\n",
    " \n",
    "# Combine minority class with downsampled majority class\n",
    "df_downsampled = pd.concat([df_majority_downsampled, df_minority])\n",
    " \n",
    "# Display new class counts\n",
    "df_downsampled.Churn.value_counts()\n"
   ]
  },
  {
   "cell_type": "markdown",
   "metadata": {},
   "source": [
    "### Benchmark of .5\n",
    "# Feature Engineering and Selection"
   ]
  },
  {
   "cell_type": "code",
   "execution_count": 36,
   "metadata": {},
   "outputs": [],
   "source": [
    "#Create dummies\n",
    "df = pd.get_dummies(data=df, columns=['gender', 'Partner', 'Dependents','MultipleLines', 'InternetService', 'OnlineSecurity','OnlineBackup', 'DeviceProtection', 'TechSupport', 'StreamingTV', 'StreamingMovies', 'Contract', 'PaperlessBilling', 'PaymentMethod'])\n",
    "X = df.drop(['customerID', 'Churn', 'SeniorCitizen', 'PhoneService'], axis=1)\n",
    "df['Churn'] = np.where(df['Churn'] == 'No', 0, 1)\n",
    "y = df['Churn'].values.reshape(-1, 1)"
   ]
  },
  {
   "cell_type": "code",
   "execution_count": 128,
   "metadata": {},
   "outputs": [
    {
     "data": {
      "image/png": "[encoded data removed]",
      "text/plain": [
       "<Figure size 864x648 with 2 Axes>"
      ]
     },
     "metadata": {},
     "output_type": "display_data"
    }
   ],
   "source": [
    "corrmat = df.corr()\n",
    "\n",
    "# Set up the matplotlib figure.\n",
    "f, ax = plt.subplots(figsize=(12, 9))\n",
    "\n",
    "# Draw the heatmap using seaborn\n",
    "sns.heatmap(corrmat, vmax=.8, square=True)\n",
    "plt.show()"
   ]
  },
  {
   "cell_type": "code",
   "execution_count": 39,
   "metadata": {},
   "outputs": [
    {
     "name": "stdout",
     "output_type": "stream",
     "text": [
      "<class 'pandas.core.frame.DataFrame'>\n",
      "Int64Index: 5314 entries, 1 to 7042\n",
      "Data columns (total 41 columns):\n",
      "tenure                                     5314 non-null int64\n",
      "MonthlyCharges                             5314 non-null float64\n",
      "TotalCharges                               5314 non-null float64\n",
      "gender_Female                              5314 non-null uint8\n",
      "gender_Male                                5314 non-null uint8\n",
      "Partner_No                                 5314 non-null uint8\n",
      "Partner_Yes                                5314 non-null uint8\n",
      "Dependents_No                              5314 non-null uint8\n",
      "Dependents_Yes                             5314 non-null uint8\n",
      "MultipleLines_No                           5314 non-null uint8\n",
      "MultipleLines_Yes                          5314 non-null uint8\n",
      "InternetService_DSL                        5314 non-null uint8\n",
      "InternetService_Fiber optic                5314 non-null uint8\n",
      "InternetService_No                         5314 non-null uint8\n",
      "OnlineSecurity_No                          5314 non-null uint8\n",
      "OnlineSecurity_No internet service         5314 non-null uint8\n",
      "OnlineSecurity_Yes                         5314 non-null uint8\n",
      "OnlineBackup_No                            5314 non-null uint8\n",
      "OnlineBackup_No internet service           5314 non-null uint8\n",
      "OnlineBackup_Yes                           5314 non-null uint8\n",
      "DeviceProtection_No                        5314 non-null uint8\n",
      "DeviceProtection_No internet service       5314 non-null uint8\n",
      "DeviceProtection_Yes                       5314 non-null uint8\n",
      "TechSupport_No                             5314 non-null uint8\n",
      "TechSupport_No internet service            5314 non-null uint8\n",
      "TechSupport_Yes                            5314 non-null uint8\n",
      "StreamingTV_No                             5314 non-null uint8\n",
      "StreamingTV_No internet service            5314 non-null uint8\n",
      "StreamingTV_Yes                            5314 non-null uint8\n",
      "StreamingMovies_No                         5314 non-null uint8\n",
      "StreamingMovies_No internet service        5314 non-null uint8\n",
      "StreamingMovies_Yes                        5314 non-null uint8\n",
      "Contract_Month-to-month                    5314 non-null uint8\n",
      "Contract_One year                          5314 non-null uint8\n",
      "Contract_Two year                          5314 non-null uint8\n",
      "PaperlessBilling_No                        5314 non-null uint8\n",
      "PaperlessBilling_Yes                       5314 non-null uint8\n",
      "PaymentMethod_Bank transfer (automatic)    5314 non-null uint8\n",
      "PaymentMethod_Credit card (automatic)      5314 non-null uint8\n",
      "PaymentMethod_Electronic check             5314 non-null uint8\n",
      "PaymentMethod_Mailed check                 5314 non-null uint8\n",
      "dtypes: float64(2), int64(1), uint8(38)\n",
      "memory usage: 363.3 KB\n"
     ]
    }
   ],
   "source": [
    "X.info()"
   ]
  },
  {
   "cell_type": "markdown",
   "metadata": {},
   "source": [
    "# Initialize and fit model "
   ]
  },
  {
   "cell_type": "markdown",
   "metadata": {},
   "source": [
    "# Naive Bayes"
   ]
  },
  {
   "cell_type": "code",
   "execution_count": 60,
   "metadata": {},
   "outputs": [
    {
     "name": "stdout",
     "output_type": "stream",
     "text": [
      "Number of mislabeled points out of a total 5314 points : 1513\n",
      "\n",
      "Runtime: 0.02 seconds\n"
     ]
    }
   ],
   "source": [
    "start_time = time.clock()\n",
    "# Instantiate our model and store it in a new variable.\n",
    "bnb = BernoulliNB()\n",
    "\n",
    "# Fit our model to the data.\n",
    "bnb.fit(X, y)\n",
    "\n",
    "# Classify, storing the result in a new variable.\n",
    "y_pred = bnb.predict(X)\n",
    "\n",
    "# Display our results.\n",
    "print(\"Number of mislabeled points out of a total {} points : {}\".format(\n",
    "    df.shape[0],\n",
    "    (y_pred != df['Churn']).sum().sum()\n",
    "))\n",
    "print('\\nRuntime: {} seconds'.format(round((time.clock()-start_time),2)))"
   ]
  },
  {
   "cell_type": "code",
   "execution_count": 41,
   "metadata": {},
   "outputs": [
    {
     "data": {
      "text/plain": [
       "array([0.72180451, 0.72744361, 0.71052632, 0.7424812 , 0.72556391,\n",
       "       0.68045113, 0.71428571, 0.69811321, 0.73018868, 0.69433962])"
      ]
     },
     "execution_count": 41,
     "metadata": {},
     "output_type": "execute_result"
    }
   ],
   "source": [
    "cross_val_score(bnb, X, y, cv=10)"
   ]
  },
  {
   "cell_type": "markdown",
   "metadata": {},
   "source": [
    "# KNN"
   ]
  },
  {
   "cell_type": "code",
   "execution_count": 42,
   "metadata": {},
   "outputs": [
    {
     "data": {
      "image/png": "[encoded data removed]",
      "text/plain": [
       "<Figure size 864x360 with 2 Axes>"
      ]
     },
     "metadata": {},
     "output_type": "display_data"
    }
   ],
   "source": [
    "no_neighbors = []\n",
    "for i in range(1, 200, 2):\n",
    "    neighbors = KNeighborsClassifier(n_neighbors=i)\n",
    "    neighbors.fit(X,y)    \n",
    "    score = cross_val_score(neighbors, X, y, cv=10)\n",
    "    mean_score = score.mean()\n",
    "    score_range = score.max() - score.min()\n",
    "\n",
    "    no_neighbors.append([i, mean_score, score_range])\n",
    "\n",
    "no_neighbors = pd.DataFrame(no_neighbors)\n",
    "no_neighbors.columns = ['k', 'mean_score', 'score_range']\n",
    "\n",
    "plt.figure(figsize=(12,5))\n",
    "\n",
    "plt.subplot(1, 2, 1)\n",
    "plt.plot(no_neighbors.k, no_neighbors.mean_score)\n",
    "plt.title('mean cross val score')\n",
    "\n",
    "plt.subplot(1, 2, 2)\n",
    "plt.plot(no_neighbors.k, no_neighbors.score_range)\n",
    "plt.title('cross val range')\n",
    "\n",
    "plt.show()"
   ]
  },
  {
   "cell_type": "code",
   "execution_count": 43,
   "metadata": {},
   "outputs": [
    {
     "data": {
      "text/html": [
       "<div>\n",
       "<style scoped>\n",
       "    .dataframe tbody tr th:only-of-type {\n",
       "        vertical-align: middle;\n",
       "    }\n",
       "\n",
       "    .dataframe tbody tr th {\n",
       "        vertical-align: top;\n",
       "    }\n",
       "\n",
       "    .dataframe thead th {\n",
       "        text-align: right;\n",
       "    }\n",
       "</style>\n",
       "<table border=\"1\" class=\"dataframe\">\n",
       "  <thead>\n",
       "    <tr style=\"text-align: right;\">\n",
       "      <th></th>\n",
       "      <th>k</th>\n",
       "      <th>mean_score</th>\n",
       "      <th>score_range</th>\n",
       "    </tr>\n",
       "  </thead>\n",
       "  <tbody>\n",
       "    <tr>\n",
       "      <th>12</th>\n",
       "      <td>25</td>\n",
       "      <td>0.804662</td>\n",
       "      <td>0.039474</td>\n",
       "    </tr>\n",
       "  </tbody>\n",
       "</table>\n",
       "</div>"
      ],
      "text/plain": [
       "     k  mean_score  score_range\n",
       "12  25    0.804662     0.039474"
      ]
     },
     "execution_count": 43,
     "metadata": {},
     "output_type": "execute_result"
    }
   ],
   "source": [
    "no_neighbors[no_neighbors['mean_score'] == no_neighbors['mean_score'].max()]"
   ]
  },
  {
   "cell_type": "code",
   "execution_count": 44,
   "metadata": {},
   "outputs": [
    {
     "data": {
      "text/html": [
       "<div>\n",
       "<style scoped>\n",
       "    .dataframe tbody tr th:only-of-type {\n",
       "        vertical-align: middle;\n",
       "    }\n",
       "\n",
       "    .dataframe tbody tr th {\n",
       "        vertical-align: top;\n",
       "    }\n",
       "\n",
       "    .dataframe thead th {\n",
       "        text-align: right;\n",
       "    }\n",
       "</style>\n",
       "<table border=\"1\" class=\"dataframe\">\n",
       "  <thead>\n",
       "    <tr style=\"text-align: right;\">\n",
       "      <th></th>\n",
       "      <th>k</th>\n",
       "      <th>mean_score</th>\n",
       "      <th>score_range</th>\n",
       "    </tr>\n",
       "  </thead>\n",
       "  <tbody>\n",
       "    <tr>\n",
       "      <th>41</th>\n",
       "      <td>83</td>\n",
       "      <td>0.79714</td>\n",
       "      <td>0.028195</td>\n",
       "    </tr>\n",
       "  </tbody>\n",
       "</table>\n",
       "</div>"
      ],
      "text/plain": [
       "     k  mean_score  score_range\n",
       "41  83     0.79714     0.028195"
      ]
     },
     "execution_count": 44,
     "metadata": {},
     "output_type": "execute_result"
    }
   ],
   "source": [
    "no_neighbors[no_neighbors['score_range'] == no_neighbors['score_range'].min()]"
   ]
  },
  {
   "cell_type": "code",
   "execution_count": 45,
   "metadata": {},
   "outputs": [
    {
     "data": {
      "text/plain": [
       "KNeighborsClassifier(algorithm='auto', leaf_size=30, metric='minkowski',\n",
       "           metric_params=None, n_jobs=1, n_neighbors=23, p=2,\n",
       "           weights='uniform')"
      ]
     },
     "execution_count": 45,
     "metadata": {},
     "output_type": "execute_result"
    }
   ],
   "source": [
    "neighbors = KNeighborsClassifier(n_neighbors=23)\n",
    "neighbors.fit(X,y)"
   ]
  },
  {
   "cell_type": "code",
   "execution_count": 46,
   "metadata": {},
   "outputs": [
    {
     "data": {
      "text/plain": [
       "array([0.80639098, 0.80451128, 0.80451128, 0.78759398, 0.81015038,\n",
       "       0.79323308, 0.82142857, 0.78301887, 0.81509434, 0.80566038])"
      ]
     },
     "execution_count": 46,
     "metadata": {},
     "output_type": "execute_result"
    }
   ],
   "source": [
    "cross_val_score(neighbors, X, y, cv=10)"
   ]
  },
  {
   "cell_type": "code",
   "execution_count": 47,
   "metadata": {},
   "outputs": [
    {
     "data": {
      "text/plain": [
       "KNeighborsClassifier(algorithm='auto', leaf_size=30, metric='minkowski',\n",
       "           metric_params=None, n_jobs=1, n_neighbors=29, p=2,\n",
       "           weights='uniform')"
      ]
     },
     "execution_count": 47,
     "metadata": {},
     "output_type": "execute_result"
    }
   ],
   "source": [
    "neighbors = KNeighborsClassifier(n_neighbors=29)\n",
    "neighbors.fit(X,y)"
   ]
  },
  {
   "cell_type": "code",
   "execution_count": 48,
   "metadata": {
    "scrolled": true
   },
   "outputs": [
    {
     "data": {
      "text/plain": [
       "array([0.81203008, 0.79887218, 0.80075188, 0.78195489, 0.80263158,\n",
       "       0.80827068, 0.82142857, 0.78490566, 0.81698113, 0.80754717])"
      ]
     },
     "execution_count": 48,
     "metadata": {},
     "output_type": "execute_result"
    }
   ],
   "source": [
    "cross_val_score(neighbors, X, y, cv=10)"
   ]
  },
  {
   "cell_type": "code",
   "execution_count": 49,
   "metadata": {
    "scrolled": true
   },
   "outputs": [
    {
     "data": {
      "image/png": "[encoded data removed]",
      "text/plain": [
       "<Figure size 864x360 with 2 Axes>"
      ]
     },
     "metadata": {},
     "output_type": "display_data"
    }
   ],
   "source": [
    "#with distance weighting\n",
    "no_neighbors = []\n",
    "for i in range(1, 200, 2):\n",
    "    neighbors = KNeighborsClassifier(n_neighbors=i, weights='distance')\n",
    "    neighbors.fit(X,y)    \n",
    "    score = cross_val_score(neighbors, X, y, cv=10)\n",
    "    mean_score = score.mean()\n",
    "    score_range = score.max() - score.min()\n",
    "\n",
    "    no_neighbors.append([i, mean_score, score_range])\n",
    "\n",
    "no_neighbors = pd.DataFrame(no_neighbors)\n",
    "no_neighbors.columns = ['k', 'mean_score', 'score_range']\n",
    "\n",
    "plt.figure(figsize=(12,5))\n",
    "\n",
    "plt.subplot(1, 2, 1)\n",
    "plt.plot(no_neighbors.k, no_neighbors.mean_score)\n",
    "plt.title('mean cross val score')\n",
    "\n",
    "plt.subplot(1, 2, 2)\n",
    "plt.plot(no_neighbors.k, no_neighbors.score_range)\n",
    "plt.title('cross val range')\n",
    "\n",
    "plt.show()"
   ]
  },
  {
   "cell_type": "code",
   "execution_count": 50,
   "metadata": {
    "scrolled": true
   },
   "outputs": [
    {
     "data": {
      "text/html": [
       "<div>\n",
       "<style scoped>\n",
       "    .dataframe tbody tr th:only-of-type {\n",
       "        vertical-align: middle;\n",
       "    }\n",
       "\n",
       "    .dataframe tbody tr th {\n",
       "        vertical-align: top;\n",
       "    }\n",
       "\n",
       "    .dataframe thead th {\n",
       "        text-align: right;\n",
       "    }\n",
       "</style>\n",
       "<table border=\"1\" class=\"dataframe\">\n",
       "  <thead>\n",
       "    <tr style=\"text-align: right;\">\n",
       "      <th></th>\n",
       "      <th>k</th>\n",
       "      <th>mean_score</th>\n",
       "      <th>score_range</th>\n",
       "    </tr>\n",
       "  </thead>\n",
       "  <tbody>\n",
       "    <tr>\n",
       "      <th>19</th>\n",
       "      <td>39</td>\n",
       "      <td>0.805613</td>\n",
       "      <td>0.041509</td>\n",
       "    </tr>\n",
       "  </tbody>\n",
       "</table>\n",
       "</div>"
      ],
      "text/plain": [
       "     k  mean_score  score_range\n",
       "19  39    0.805613     0.041509"
      ]
     },
     "execution_count": 50,
     "metadata": {},
     "output_type": "execute_result"
    }
   ],
   "source": [
    "no_neighbors[no_neighbors['mean_score'] == no_neighbors['mean_score'].max()]"
   ]
  },
  {
   "cell_type": "code",
   "execution_count": 48,
   "metadata": {},
   "outputs": [
    {
     "data": {
      "text/plain": [
       "array([[4816,  347],\n",
       "       [1072,  797]], dtype=int64)"
      ]
     },
     "execution_count": 48,
     "metadata": {},
     "output_type": "execute_result"
    }
   ],
   "source": [
    "#confusion matrix\n",
    "neighbors = KNeighborsClassifier(n_neighbors=23)\n",
    "y_pred = neighbors.fit(X,y).predict(X)\n",
    "\n",
    "confusion_matrix(y, y_pred)"
   ]
  },
  {
   "cell_type": "code",
   "execution_count": 49,
   "metadata": {},
   "outputs": [
    {
     "name": "stdout",
     "output_type": "stream",
     "text": [
      "Type 1 error (false positive): 347\n",
      "Type 2 error (false negative): 1072\n",
      "Sensitivity: 0.42643124665596577\n",
      "Specificity: 0.9327910129769514\n"
     ]
    }
   ],
   "source": [
    "confusion = confusion_matrix(y, y_pred)\n",
    "print('Type 1 error (false positive): {}'.format(confusion[0][1]))\n",
    "print('Type 2 error (false negative): {}'.format(confusion[1][0]))\n",
    "print('Sensitivity: {}'.format(confusion[1][1] / confusion[1].sum()))\n",
    "print('Specificity: {}'.format(confusion[0][0] / confusion[0].sum()))"
   ]
  },
  {
   "cell_type": "markdown",
   "metadata": {},
   "source": [
    "# Decision Tree"
   ]
  },
  {
   "cell_type": "code",
   "execution_count": 50,
   "metadata": {},
   "outputs": [
    {
     "data": {
      "image/png": "[encoded data removed]",
      "text/plain": [
       "<Figure size 864x360 with 2 Axes>"
      ]
     },
     "metadata": {},
     "output_type": "display_data"
    }
   ],
   "source": [
    "param_tune = []\n",
    "for i in range(1, 40):\n",
    "    decision_tree = tree.DecisionTreeClassifier(criterion='entropy', max_depth=i)\n",
    "    decision_tree.fit(X, y)\n",
    "    score = cross_val_score(decision_tree, X, y, cv=10)\n",
    "    mean_score = score.mean()\n",
    "    score_range = score.max() - score.min()\n",
    "    param_tune.append([i, mean_score, score_range])\n",
    "\n",
    "param_tune = pd.DataFrame(param_tune)\n",
    "param_tune.columns = ['parameter', 'mean_score', 'score_range']\n",
    "\n",
    "plt.figure(figsize=(12,5))\n",
    "\n",
    "plt.subplot(1, 2, 1)\n",
    "plt.plot(param_tune.parameter, param_tune.mean_score)\n",
    "plt.title('mean cross val score')\n",
    "\n",
    "plt.subplot(1, 2, 2)\n",
    "plt.plot(param_tune.parameter, param_tune.score_range)\n",
    "plt.title('cross val range')\n",
    "\n",
    "plt.show()"
   ]
  },
  {
   "cell_type": "code",
   "execution_count": 51,
   "metadata": {},
   "outputs": [
    {
     "data": {
      "text/html": [
       "<div>\n",
       "<style scoped>\n",
       "    .dataframe tbody tr th:only-of-type {\n",
       "        vertical-align: middle;\n",
       "    }\n",
       "\n",
       "    .dataframe tbody tr th {\n",
       "        vertical-align: top;\n",
       "    }\n",
       "\n",
       "    .dataframe thead th {\n",
       "        text-align: right;\n",
       "    }\n",
       "</style>\n",
       "<table border=\"1\" class=\"dataframe\">\n",
       "  <thead>\n",
       "    <tr style=\"text-align: right;\">\n",
       "      <th></th>\n",
       "      <th>parameter</th>\n",
       "      <th>mean_score</th>\n",
       "      <th>score_range</th>\n",
       "    </tr>\n",
       "  </thead>\n",
       "  <tbody>\n",
       "    <tr>\n",
       "      <th>3</th>\n",
       "      <td>4</td>\n",
       "      <td>0.791241</td>\n",
       "      <td>0.043827</td>\n",
       "    </tr>\n",
       "  </tbody>\n",
       "</table>\n",
       "</div>"
      ],
      "text/plain": [
       "   parameter  mean_score  score_range\n",
       "3          4    0.791241     0.043827"
      ]
     },
     "execution_count": 51,
     "metadata": {},
     "output_type": "execute_result"
    }
   ],
   "source": [
    "param_tune[param_tune['mean_score'] == param_tune['mean_score'].max()]"
   ]
  },
  {
   "cell_type": "code",
   "execution_count": 52,
   "metadata": {},
   "outputs": [
    {
     "data": {
      "image/png": "[encoded data removed]",
      "text/plain": [
       "<Figure size 864x360 with 2 Axes>"
      ]
     },
     "metadata": {},
     "output_type": "display_data"
    }
   ],
   "source": [
    "param_tune = []\n",
    "for i in range(1, 45):\n",
    "    decision_tree = tree.DecisionTreeClassifier(criterion='entropy', max_depth=4, max_features=i)\n",
    "    decision_tree.fit(X, y)\n",
    "    score = cross_val_score(decision_tree, X, y, cv=10)\n",
    "    mean_score = score.mean()\n",
    "    score_range = score.max() - score.min()\n",
    "    param_tune.append([i, mean_score, score_range])\n",
    "\n",
    "param_tune = pd.DataFrame(param_tune)\n",
    "param_tune.columns = ['parameter', 'mean_score', 'score_range']\n",
    "\n",
    "plt.figure(figsize=(12,5))\n",
    "\n",
    "plt.subplot(1, 2, 1)\n",
    "plt.plot(param_tune.parameter, param_tune.mean_score)\n",
    "plt.title('mean cross val score')\n",
    "\n",
    "plt.subplot(1, 2, 2)\n",
    "plt.plot(param_tune.parameter, param_tune.score_range)\n",
    "plt.title('cross val range')\n",
    "\n",
    "plt.show()"
   ]
  },
  {
   "cell_type": "code",
   "execution_count": 53,
   "metadata": {
    "scrolled": false
   },
   "outputs": [
    {
     "data": {
      "text/html": [
       "<div>\n",
       "<style scoped>\n",
       "    .dataframe tbody tr th:only-of-type {\n",
       "        vertical-align: middle;\n",
       "    }\n",
       "\n",
       "    .dataframe tbody tr th {\n",
       "        vertical-align: top;\n",
       "    }\n",
       "\n",
       "    .dataframe thead th {\n",
       "        text-align: right;\n",
       "    }\n",
       "</style>\n",
       "<table border=\"1\" class=\"dataframe\">\n",
       "  <thead>\n",
       "    <tr style=\"text-align: right;\">\n",
       "      <th></th>\n",
       "      <th>parameter</th>\n",
       "      <th>mean_score</th>\n",
       "      <th>score_range</th>\n",
       "    </tr>\n",
       "  </thead>\n",
       "  <tbody>\n",
       "    <tr>\n",
       "      <th>43</th>\n",
       "      <td>44</td>\n",
       "      <td>0.791526</td>\n",
       "      <td>0.046676</td>\n",
       "    </tr>\n",
       "  </tbody>\n",
       "</table>\n",
       "</div>"
      ],
      "text/plain": [
       "    parameter  mean_score  score_range\n",
       "43         44    0.791526     0.046676"
      ]
     },
     "execution_count": 53,
     "metadata": {},
     "output_type": "execute_result"
    }
   ],
   "source": [
    "#The default 'None' max features is performing best\n",
    "param_tune[param_tune['mean_score'] == param_tune['mean_score'].max()]"
   ]
  },
  {
   "cell_type": "code",
   "execution_count": 54,
   "metadata": {
    "scrolled": false
   },
   "outputs": [
    {
     "data": {
      "text/plain": [
       "array([[4673,  490],\n",
       "       [ 950,  919]], dtype=int64)"
      ]
     },
     "execution_count": 54,
     "metadata": {},
     "output_type": "execute_result"
    }
   ],
   "source": [
    "decision_tree = tree.DecisionTreeClassifier(criterion='entropy',  max_depth=4)\n",
    "y_pred = decision_tree.fit(X, y).predict(X)\n",
    "\n",
    "confusion_matrix(y, y_pred)"
   ]
  },
  {
   "cell_type": "code",
   "execution_count": 55,
   "metadata": {},
   "outputs": [
    {
     "name": "stdout",
     "output_type": "stream",
     "text": [
      "Type 1 error (false positive): 490\n",
      "Type 2 error (false negative): 950\n",
      "Sensitivity: 0.4917067950775816\n",
      "Specificity: 0.905093937633159\n"
     ]
    }
   ],
   "source": [
    "confusion = confusion_matrix(y, y_pred)\n",
    "print('Type 1 error (false positive): {}'.format(confusion[0][1]))\n",
    "print('Type 2 error (false negative): {}'.format(confusion[1][0]))\n",
    "print('Sensitivity: {}'.format(confusion[1][1] / confusion[1].sum()))\n",
    "print('Specificity: {}'.format(confusion[0][0] / confusion[0].sum()))"
   ]
  },
  {
   "cell_type": "code",
   "execution_count": 56,
   "metadata": {},
   "outputs": [
    {
     "data": {
      "text/plain": [
       "array([0.79545455, 0.80823864, 0.78267045, 0.79516358, 0.77809388,\n",
       "       0.76671408, 0.80369844, 0.78378378, 0.78805121, 0.81054131])"
      ]
     },
     "execution_count": 56,
     "metadata": {},
     "output_type": "execute_result"
    }
   ],
   "source": [
    "cross_val_score(decision_tree, X, y, cv=10)"
   ]
  },
  {
   "cell_type": "markdown",
   "metadata": {},
   "source": [
    "# Random Forest"
   ]
  },
  {
   "cell_type": "code",
   "execution_count": 57,
   "metadata": {},
   "outputs": [
    {
     "data": {
      "image/png": "[encoded data removed]",
      "text/plain": [
       "<Figure size 864x360 with 2 Axes>"
      ]
     },
     "metadata": {},
     "output_type": "display_data"
    }
   ],
   "source": [
    "#Tune number of estimators\n",
    "param_tune = []\n",
    "for i in np.arange(10, 100):\n",
    "    rfc = ensemble.RandomForestClassifier(n_estimators=i, max_depth=8, max_features=None)\n",
    "    rfc.fit(X, y)\n",
    "    score = cross_val_score(rfc, X, y, cv=10)\n",
    "    mean_score = score.mean()\n",
    "    score_range = score.max() - score.min()\n",
    "    param_tune.append([i, mean_score, score_range])\n",
    "\n",
    "param_tune = pd.DataFrame(param_tune)\n",
    "param_tune.columns = ['parameter', 'mean_score', 'score_range']\n",
    "\n",
    "plt.figure(figsize=(12,5))\n",
    "\n",
    "plt.subplot(1, 2, 1)\n",
    "plt.plot(param_tune.parameter, param_tune.mean_score)\n",
    "plt.title('mean cross val score')\n",
    "\n",
    "plt.subplot(1, 2, 2)\n",
    "plt.plot(param_tune.parameter, param_tune.score_range)\n",
    "plt.title('cross val range')\n",
    "\n",
    "plt.show()"
   ]
  },
  {
   "cell_type": "code",
   "execution_count": 58,
   "metadata": {
    "scrolled": false
   },
   "outputs": [
    {
     "data": {
      "text/html": [
       "<div>\n",
       "<style scoped>\n",
       "    .dataframe tbody tr th:only-of-type {\n",
       "        vertical-align: middle;\n",
       "    }\n",
       "\n",
       "    .dataframe tbody tr th {\n",
       "        vertical-align: top;\n",
       "    }\n",
       "\n",
       "    .dataframe thead th {\n",
       "        text-align: right;\n",
       "    }\n",
       "</style>\n",
       "<table border=\"1\" class=\"dataframe\">\n",
       "  <thead>\n",
       "    <tr style=\"text-align: right;\">\n",
       "      <th></th>\n",
       "      <th>parameter</th>\n",
       "      <th>mean_score</th>\n",
       "      <th>score_range</th>\n",
       "    </tr>\n",
       "  </thead>\n",
       "  <tbody>\n",
       "    <tr>\n",
       "      <th>83</th>\n",
       "      <td>93</td>\n",
       "      <td>0.803042</td>\n",
       "      <td>0.042674</td>\n",
       "    </tr>\n",
       "  </tbody>\n",
       "</table>\n",
       "</div>"
      ],
      "text/plain": [
       "    parameter  mean_score  score_range\n",
       "83         93    0.803042     0.042674"
      ]
     },
     "execution_count": 58,
     "metadata": {},
     "output_type": "execute_result"
    }
   ],
   "source": [
    "param_tune[param_tune['mean_score'] == param_tune['mean_score'].max()]"
   ]
  },
  {
   "cell_type": "code",
   "execution_count": 59,
   "metadata": {},
   "outputs": [
    {
     "data": {
      "image/png": "[encoded data removed]",
      "text/plain": [
       "<Figure size 864x360 with 2 Axes>"
      ]
     },
     "metadata": {},
     "output_type": "display_data"
    }
   ],
   "source": [
    "#Tune max depth with 93 estimators\n",
    "param_tune = []\n",
    "for i in np.arange(1, 20):\n",
    "    rfc = ensemble.RandomForestClassifier(n_estimators=93, max_depth=i)\n",
    "    rfc.fit(X, y)\n",
    "    score = cross_val_score(rfc, X, y, cv=10)\n",
    "    mean_score = score.mean()\n",
    "    score_range = score.max() - score.min()\n",
    "    param_tune.append([i, mean_score, score_range])\n",
    "\n",
    "param_tune = pd.DataFrame(param_tune)\n",
    "param_tune.columns = ['parameter', 'mean_score', 'score_range']\n",
    "\n",
    "plt.figure(figsize=(12,5))\n",
    "\n",
    "plt.subplot(1, 2, 1)\n",
    "plt.plot(param_tune.parameter, param_tune.mean_score)\n",
    "plt.title('mean cross val score')\n",
    "\n",
    "plt.subplot(1, 2, 2)\n",
    "plt.plot(param_tune.parameter, param_tune.score_range)\n",
    "plt.title('cross val range')\n",
    "\n",
    "plt.show()"
   ]
  },
  {
   "cell_type": "code",
   "execution_count": 60,
   "metadata": {},
   "outputs": [
    {
     "data": {
      "text/html": [
       "<div>\n",
       "<style scoped>\n",
       "    .dataframe tbody tr th:only-of-type {\n",
       "        vertical-align: middle;\n",
       "    }\n",
       "\n",
       "    .dataframe tbody tr th {\n",
       "        vertical-align: top;\n",
       "    }\n",
       "\n",
       "    .dataframe thead th {\n",
       "        text-align: right;\n",
       "    }\n",
       "</style>\n",
       "<table border=\"1\" class=\"dataframe\">\n",
       "  <thead>\n",
       "    <tr style=\"text-align: right;\">\n",
       "      <th></th>\n",
       "      <th>parameter</th>\n",
       "      <th>mean_score</th>\n",
       "      <th>score_range</th>\n",
       "    </tr>\n",
       "  </thead>\n",
       "  <tbody>\n",
       "    <tr>\n",
       "      <th>8</th>\n",
       "      <td>9</td>\n",
       "      <td>0.804607</td>\n",
       "      <td>0.042674</td>\n",
       "    </tr>\n",
       "  </tbody>\n",
       "</table>\n",
       "</div>"
      ],
      "text/plain": [
       "   parameter  mean_score  score_range\n",
       "8          9    0.804607     0.042674"
      ]
     },
     "execution_count": 60,
     "metadata": {},
     "output_type": "execute_result"
    }
   ],
   "source": [
    "param_tune[param_tune['mean_score'] == param_tune['mean_score'].max()]"
   ]
  },
  {
   "cell_type": "code",
   "execution_count": 61,
   "metadata": {},
   "outputs": [
    {
     "data": {
      "text/html": [
       "<div>\n",
       "<style scoped>\n",
       "    .dataframe tbody tr th:only-of-type {\n",
       "        vertical-align: middle;\n",
       "    }\n",
       "\n",
       "    .dataframe tbody tr th {\n",
       "        vertical-align: top;\n",
       "    }\n",
       "\n",
       "    .dataframe thead th {\n",
       "        text-align: right;\n",
       "    }\n",
       "</style>\n",
       "<table border=\"1\" class=\"dataframe\">\n",
       "  <thead>\n",
       "    <tr style=\"text-align: right;\">\n",
       "      <th></th>\n",
       "      <th>parameter</th>\n",
       "      <th>mean_score</th>\n",
       "      <th>score_range</th>\n",
       "    </tr>\n",
       "  </thead>\n",
       "  <tbody>\n",
       "    <tr>\n",
       "      <th>0</th>\n",
       "      <td>None</td>\n",
       "      <td>0.800198</td>\n",
       "      <td>0.039829</td>\n",
       "    </tr>\n",
       "    <tr>\n",
       "      <th>1</th>\n",
       "      <td>sqrt</td>\n",
       "      <td>0.805035</td>\n",
       "      <td>0.056899</td>\n",
       "    </tr>\n",
       "    <tr>\n",
       "      <th>2</th>\n",
       "      <td>log2</td>\n",
       "      <td>0.805034</td>\n",
       "      <td>0.049787</td>\n",
       "    </tr>\n",
       "  </tbody>\n",
       "</table>\n",
       "</div>"
      ],
      "text/plain": [
       "  parameter  mean_score  score_range\n",
       "0      None    0.800198     0.039829\n",
       "1      sqrt    0.805035     0.056899\n",
       "2      log2    0.805034     0.049787"
      ]
     },
     "execution_count": 61,
     "metadata": {},
     "output_type": "execute_result"
    }
   ],
   "source": [
    "# tume max features\n",
    "param_tune = []\n",
    "for i in [None, 'sqrt', 'log2']:\n",
    "    rfc = ensemble.RandomForestClassifier(n_estimators=93, max_depth=9, max_features=i)\n",
    "    rfc.fit(X, y)\n",
    "    score = cross_val_score(rfc, X, y, cv=10)\n",
    "    mean_score = score.mean()\n",
    "    score_range = score.max() - score.min()\n",
    "    param_tune.append([i, mean_score, score_range])\n",
    "\n",
    "param_tune = pd.DataFrame(param_tune)\n",
    "param_tune.columns = ['parameter', 'mean_score', 'score_range']\n",
    "\n",
    "param_tune"
   ]
  },
  {
   "cell_type": "code",
   "execution_count": 65,
   "metadata": {},
   "outputs": [
    {
     "data": {
      "image/png": "[encoded data removed]",
      "text/plain": [
       "<Figure size 864x360 with 2 Axes>"
      ]
     },
     "metadata": {},
     "output_type": "display_data"
    }
   ],
   "source": [
    "# tune min sample leaf\n",
    "param_tune = []\n",
    "for i in np.arange(1, 100, 5):\n",
    "    rfc = ensemble.RandomForestClassifier(n_estimators=93, max_depth=9, max_features='sqrt', min_samples_leaf=i)\n",
    "    rfc.fit(X, y)\n",
    "    score = cross_val_score(rfc, X, y, cv=10)\n",
    "    mean_score = score.mean()\n",
    "    score_range = score.max() - score.min()\n",
    "    param_tune.append([i, mean_score, score_range])\n",
    "\n",
    "param_tune = pd.DataFrame(param_tune)\n",
    "param_tune.columns = ['parameter', 'mean_score', 'score_range']\n",
    "\n",
    "plt.figure(figsize=(12,5))\n",
    "\n",
    "plt.subplot(1, 2, 1)\n",
    "plt.plot(param_tune.parameter, param_tune.mean_score)\n",
    "plt.title('mean cross val score')\n",
    "\n",
    "plt.subplot(1, 2, 2)\n",
    "plt.plot(param_tune.parameter, param_tune.score_range)\n",
    "plt.title('cross val range')\n",
    "\n",
    "plt.show()"
   ]
  },
  {
   "cell_type": "code",
   "execution_count": 66,
   "metadata": {
    "scrolled": true
   },
   "outputs": [
    {
     "data": {
      "text/html": [
       "<div>\n",
       "<style scoped>\n",
       "    .dataframe tbody tr th:only-of-type {\n",
       "        vertical-align: middle;\n",
       "    }\n",
       "\n",
       "    .dataframe tbody tr th {\n",
       "        vertical-align: top;\n",
       "    }\n",
       "\n",
       "    .dataframe thead th {\n",
       "        text-align: right;\n",
       "    }\n",
       "</style>\n",
       "<table border=\"1\" class=\"dataframe\">\n",
       "  <thead>\n",
       "    <tr style=\"text-align: right;\">\n",
       "      <th></th>\n",
       "      <th>parameter</th>\n",
       "      <th>mean_score</th>\n",
       "      <th>score_range</th>\n",
       "    </tr>\n",
       "  </thead>\n",
       "  <tbody>\n",
       "    <tr>\n",
       "      <th>4</th>\n",
       "      <td>21</td>\n",
       "      <td>0.804039</td>\n",
       "      <td>0.045519</td>\n",
       "    </tr>\n",
       "  </tbody>\n",
       "</table>\n",
       "</div>"
      ],
      "text/plain": [
       "   parameter  mean_score  score_range\n",
       "4         21    0.804039     0.045519"
      ]
     },
     "execution_count": 66,
     "metadata": {},
     "output_type": "execute_result"
    }
   ],
   "source": [
    "param_tune[param_tune['mean_score'] == param_tune['mean_score'].max()]"
   ]
  },
  {
   "cell_type": "code",
   "execution_count": 67,
   "metadata": {},
   "outputs": [
    {
     "data": {
      "text/plain": [
       "array([0.80397727, 0.80539773, 0.79971591, 0.81934566, 0.78236131,\n",
       "       0.77951636, 0.82503556, 0.80227596, 0.79231863, 0.82051282])"
      ]
     },
     "execution_count": 67,
     "metadata": {},
     "output_type": "execute_result"
    }
   ],
   "source": [
    "rfc = ensemble.RandomForestClassifier(n_estimators=93, max_depth=9, max_features='sqrt', min_samples_leaf=21)\n",
    "cross_val_score(rfc, X, y, cv=10)"
   ]
  },
  {
   "cell_type": "code",
   "execution_count": 68,
   "metadata": {},
   "outputs": [
    {
     "data": {
      "text/plain": [
       "array([[4760,  403],\n",
       "       [ 884,  985]], dtype=int64)"
      ]
     },
     "execution_count": 68,
     "metadata": {},
     "output_type": "execute_result"
    }
   ],
   "source": [
    "y_pred = rfc.fit(X, y).predict(X)\n",
    "\n",
    "confusion_matrix(y, y_pred)"
   ]
  },
  {
   "cell_type": "code",
   "execution_count": 69,
   "metadata": {},
   "outputs": [
    {
     "name": "stdout",
     "output_type": "stream",
     "text": [
      "Type 1 error (false positive): 403\n",
      "Type 2 error (false negative): 884\n",
      "Sensitivity: 0.527019796682718\n",
      "Specificity: 0.9219446058493124\n"
     ]
    }
   ],
   "source": [
    "confusion = confusion_matrix(y, y_pred)\n",
    "print('Type 1 error (false positive): {}'.format(confusion[0][1]))\n",
    "print('Type 2 error (false negative): {}'.format(confusion[1][0]))\n",
    "print('Sensitivity: {}'.format(confusion[1][1] / confusion[1].sum()))\n",
    "print('Specificity: {}'.format(confusion[0][0] / confusion[0].sum()))"
   ]
  },
  {
   "cell_type": "markdown",
   "metadata": {},
   "source": [
    "# Logistic Regression"
   ]
  },
  {
   "cell_type": "code",
   "execution_count": 70,
   "metadata": {},
   "outputs": [
    {
     "name": "stdout",
     "output_type": "stream",
     "text": [
      "Coefficients\n",
      "[[ 2.45937997e-01 -6.06340713e-02  2.28630103e-03  3.15995220e-04\n",
      "  -5.34465463e-02 -8.09900208e-02 -8.70881034e-02 -4.73484637e-02\n",
      "   1.82336997e-02 -1.52670267e-01  1.12989475e-01 -2.47426042e-01\n",
      "  -2.43591885e-01  1.12989475e-01 -3.83415748e-03 -3.57944642e-01\n",
      "   3.26838071e-01 -1.03329996e-01  2.24434685e-01 -1.03329996e-01\n",
      "  -2.55541256e-01  8.59659855e-02 -1.03329996e-01 -1.17072557e-01\n",
      "   2.25460218e-02 -1.03329996e-01 -5.36525929e-02  2.27234931e-01\n",
      "  -1.03329996e-01 -2.58341502e-01 -1.03985298e-01 -1.03329996e-01\n",
      "   7.28787274e-02 -1.08456339e-01 -1.03329996e-01  7.73497682e-02\n",
      "   4.94943050e-01 -1.90035469e-01 -4.39344147e-01 -2.41640328e-01\n",
      "   1.07203761e-01 -8.18215684e-02 -1.70050162e-01  2.68734426e-01\n",
      "  -1.51299263e-01]]\n",
      "[-0.13443657]\n",
      "\n",
      " Percentage accuracy\n",
      "0.8056029579067122\n"
     ]
    },
    {
     "data": {
      "text/plain": [
       "array([[4760,  403],\n",
       "       [ 884,  985]], dtype=int64)"
      ]
     },
     "execution_count": 70,
     "metadata": {},
     "output_type": "execute_result"
    }
   ],
   "source": [
    "lr = LogisticRegression(C=1e9)\n",
    "                      \n",
    "fit = lr.fit(X, y)\n",
    "\n",
    "# Display.\n",
    "print('Coefficients')\n",
    "print(fit.coef_)\n",
    "print(fit.intercept_)\n",
    "pred_y = lr.predict(X)\n",
    "\n",
    "print('\\n Percentage accuracy')\n",
    "print(lr.score(X, y))\n",
    "\n",
    "confusion_matrix(y, y_pred)"
   ]
  },
  {
   "cell_type": "code",
   "execution_count": 71,
   "metadata": {},
   "outputs": [
    {
     "name": "stdout",
     "output_type": "stream",
     "text": [
      "Type 1 error (false positive): 403\n",
      "Type 2 error (false negative): 884\n",
      "Sensitivity: 0.527019796682718\n",
      "Specificity: 0.9219446058493124\n"
     ]
    }
   ],
   "source": [
    "confusion = confusion_matrix(y, y_pred)\n",
    "print('Type 1 error (false positive): {}'.format(confusion[0][1]))\n",
    "print('Type 2 error (false negative): {}'.format(confusion[1][0]))\n",
    "print('Sensitivity: {}'.format(confusion[1][1] / confusion[1].sum()))\n",
    "print('Specificity: {}'.format(confusion[0][0] / confusion[0].sum()))"
   ]
  },
  {
   "cell_type": "code",
   "execution_count": 72,
   "metadata": {},
   "outputs": [
    {
     "data": {
      "text/html": [
       "<div>\n",
       "<style scoped>\n",
       "    .dataframe tbody tr th:only-of-type {\n",
       "        vertical-align: middle;\n",
       "    }\n",
       "\n",
       "    .dataframe tbody tr th {\n",
       "        vertical-align: top;\n",
       "    }\n",
       "\n",
       "    .dataframe thead th {\n",
       "        text-align: right;\n",
       "    }\n",
       "</style>\n",
       "<table border=\"1\" class=\"dataframe\">\n",
       "  <thead>\n",
       "    <tr style=\"text-align: right;\">\n",
       "      <th></th>\n",
       "      <th>features</th>\n",
       "      <th>coefficients</th>\n",
       "      <th>absolute_coef</th>\n",
       "    </tr>\n",
       "  </thead>\n",
       "  <tbody>\n",
       "    <tr>\n",
       "      <th>0</th>\n",
       "      <td>Contract_Month-to-month</td>\n",
       "      <td>0.494943</td>\n",
       "      <td>0.494943</td>\n",
       "    </tr>\n",
       "    <tr>\n",
       "      <th>1</th>\n",
       "      <td>Contract_Two year</td>\n",
       "      <td>-0.439344</td>\n",
       "      <td>0.439344</td>\n",
       "    </tr>\n",
       "    <tr>\n",
       "      <th>2</th>\n",
       "      <td>InternetService_DSL</td>\n",
       "      <td>-0.357945</td>\n",
       "      <td>0.357945</td>\n",
       "    </tr>\n",
       "    <tr>\n",
       "      <th>3</th>\n",
       "      <td>InternetService_Fiber optic</td>\n",
       "      <td>0.326838</td>\n",
       "      <td>0.326838</td>\n",
       "    </tr>\n",
       "    <tr>\n",
       "      <th>4</th>\n",
       "      <td>PaymentMethod_Electronic check</td>\n",
       "      <td>0.268734</td>\n",
       "      <td>0.268734</td>\n",
       "    </tr>\n",
       "    <tr>\n",
       "      <th>5</th>\n",
       "      <td>TechSupport_Yes</td>\n",
       "      <td>-0.258342</td>\n",
       "      <td>0.258342</td>\n",
       "    </tr>\n",
       "    <tr>\n",
       "      <th>6</th>\n",
       "      <td>OnlineSecurity_Yes</td>\n",
       "      <td>-0.255541</td>\n",
       "      <td>0.255541</td>\n",
       "    </tr>\n",
       "    <tr>\n",
       "      <th>7</th>\n",
       "      <td>PhoneService_Yes</td>\n",
       "      <td>-0.247426</td>\n",
       "      <td>0.247426</td>\n",
       "    </tr>\n",
       "    <tr>\n",
       "      <th>8</th>\n",
       "      <td>SeniorCitizen</td>\n",
       "      <td>0.245938</td>\n",
       "      <td>0.245938</td>\n",
       "    </tr>\n",
       "    <tr>\n",
       "      <th>9</th>\n",
       "      <td>MultipleLines_No</td>\n",
       "      <td>-0.243592</td>\n",
       "      <td>0.243592</td>\n",
       "    </tr>\n",
       "    <tr>\n",
       "      <th>10</th>\n",
       "      <td>PaperlessBilling_No</td>\n",
       "      <td>-0.241640</td>\n",
       "      <td>0.241640</td>\n",
       "    </tr>\n",
       "    <tr>\n",
       "      <th>11</th>\n",
       "      <td>TechSupport_No</td>\n",
       "      <td>0.227235</td>\n",
       "      <td>0.227235</td>\n",
       "    </tr>\n",
       "    <tr>\n",
       "      <th>12</th>\n",
       "      <td>OnlineSecurity_No</td>\n",
       "      <td>0.224435</td>\n",
       "      <td>0.224435</td>\n",
       "    </tr>\n",
       "    <tr>\n",
       "      <th>13</th>\n",
       "      <td>Contract_One year</td>\n",
       "      <td>-0.190035</td>\n",
       "      <td>0.190035</td>\n",
       "    </tr>\n",
       "    <tr>\n",
       "      <th>14</th>\n",
       "      <td>PaymentMethod_Credit card (automatic)</td>\n",
       "      <td>-0.170050</td>\n",
       "      <td>0.170050</td>\n",
       "    </tr>\n",
       "    <tr>\n",
       "      <th>15</th>\n",
       "      <td>Dependents_Yes</td>\n",
       "      <td>-0.152670</td>\n",
       "      <td>0.152670</td>\n",
       "    </tr>\n",
       "    <tr>\n",
       "      <th>16</th>\n",
       "      <td>PaymentMethod_Mailed check</td>\n",
       "      <td>-0.151299</td>\n",
       "      <td>0.151299</td>\n",
       "    </tr>\n",
       "    <tr>\n",
       "      <th>17</th>\n",
       "      <td>OnlineBackup_Yes</td>\n",
       "      <td>-0.117073</td>\n",
       "      <td>0.117073</td>\n",
       "    </tr>\n",
       "    <tr>\n",
       "      <th>18</th>\n",
       "      <td>PhoneService_No</td>\n",
       "      <td>0.112989</td>\n",
       "      <td>0.112989</td>\n",
       "    </tr>\n",
       "    <tr>\n",
       "      <th>19</th>\n",
       "      <td>MultipleLines_No phone service</td>\n",
       "      <td>0.112989</td>\n",
       "      <td>0.112989</td>\n",
       "    </tr>\n",
       "    <tr>\n",
       "      <th>20</th>\n",
       "      <td>StreamingMovies_No</td>\n",
       "      <td>-0.108456</td>\n",
       "      <td>0.108456</td>\n",
       "    </tr>\n",
       "    <tr>\n",
       "      <th>21</th>\n",
       "      <td>PaperlessBilling_Yes</td>\n",
       "      <td>0.107204</td>\n",
       "      <td>0.107204</td>\n",
       "    </tr>\n",
       "    <tr>\n",
       "      <th>22</th>\n",
       "      <td>StreamingTV_No</td>\n",
       "      <td>-0.103985</td>\n",
       "      <td>0.103985</td>\n",
       "    </tr>\n",
       "    <tr>\n",
       "      <th>23</th>\n",
       "      <td>InternetService_No</td>\n",
       "      <td>-0.103330</td>\n",
       "      <td>0.103330</td>\n",
       "    </tr>\n",
       "    <tr>\n",
       "      <th>24</th>\n",
       "      <td>StreamingMovies_No internet service</td>\n",
       "      <td>-0.103330</td>\n",
       "      <td>0.103330</td>\n",
       "    </tr>\n",
       "    <tr>\n",
       "      <th>25</th>\n",
       "      <td>TechSupport_No internet service</td>\n",
       "      <td>-0.103330</td>\n",
       "      <td>0.103330</td>\n",
       "    </tr>\n",
       "    <tr>\n",
       "      <th>26</th>\n",
       "      <td>StreamingTV_No internet service</td>\n",
       "      <td>-0.103330</td>\n",
       "      <td>0.103330</td>\n",
       "    </tr>\n",
       "    <tr>\n",
       "      <th>27</th>\n",
       "      <td>OnlineBackup_No internet service</td>\n",
       "      <td>-0.103330</td>\n",
       "      <td>0.103330</td>\n",
       "    </tr>\n",
       "    <tr>\n",
       "      <th>28</th>\n",
       "      <td>OnlineSecurity_No internet service</td>\n",
       "      <td>-0.103330</td>\n",
       "      <td>0.103330</td>\n",
       "    </tr>\n",
       "    <tr>\n",
       "      <th>29</th>\n",
       "      <td>DeviceProtection_No internet service</td>\n",
       "      <td>-0.103330</td>\n",
       "      <td>0.103330</td>\n",
       "    </tr>\n",
       "    <tr>\n",
       "      <th>30</th>\n",
       "      <td>Partner_No</td>\n",
       "      <td>-0.087088</td>\n",
       "      <td>0.087088</td>\n",
       "    </tr>\n",
       "    <tr>\n",
       "      <th>31</th>\n",
       "      <td>OnlineBackup_No</td>\n",
       "      <td>0.085966</td>\n",
       "      <td>0.085966</td>\n",
       "    </tr>\n",
       "    <tr>\n",
       "      <th>32</th>\n",
       "      <td>PaymentMethod_Bank transfer (automatic)</td>\n",
       "      <td>-0.081822</td>\n",
       "      <td>0.081822</td>\n",
       "    </tr>\n",
       "    <tr>\n",
       "      <th>33</th>\n",
       "      <td>gender_Male</td>\n",
       "      <td>-0.080990</td>\n",
       "      <td>0.080990</td>\n",
       "    </tr>\n",
       "    <tr>\n",
       "      <th>34</th>\n",
       "      <td>StreamingMovies_Yes</td>\n",
       "      <td>0.077350</td>\n",
       "      <td>0.077350</td>\n",
       "    </tr>\n",
       "    <tr>\n",
       "      <th>35</th>\n",
       "      <td>StreamingTV_Yes</td>\n",
       "      <td>0.072879</td>\n",
       "      <td>0.072879</td>\n",
       "    </tr>\n",
       "    <tr>\n",
       "      <th>36</th>\n",
       "      <td>tenure</td>\n",
       "      <td>-0.060634</td>\n",
       "      <td>0.060634</td>\n",
       "    </tr>\n",
       "    <tr>\n",
       "      <th>37</th>\n",
       "      <td>DeviceProtection_Yes</td>\n",
       "      <td>-0.053653</td>\n",
       "      <td>0.053653</td>\n",
       "    </tr>\n",
       "    <tr>\n",
       "      <th>38</th>\n",
       "      <td>gender_Female</td>\n",
       "      <td>-0.053447</td>\n",
       "      <td>0.053447</td>\n",
       "    </tr>\n",
       "    <tr>\n",
       "      <th>39</th>\n",
       "      <td>Partner_Yes</td>\n",
       "      <td>-0.047348</td>\n",
       "      <td>0.047348</td>\n",
       "    </tr>\n",
       "    <tr>\n",
       "      <th>40</th>\n",
       "      <td>DeviceProtection_No</td>\n",
       "      <td>0.022546</td>\n",
       "      <td>0.022546</td>\n",
       "    </tr>\n",
       "    <tr>\n",
       "      <th>41</th>\n",
       "      <td>Dependents_No</td>\n",
       "      <td>0.018234</td>\n",
       "      <td>0.018234</td>\n",
       "    </tr>\n",
       "    <tr>\n",
       "      <th>42</th>\n",
       "      <td>MultipleLines_Yes</td>\n",
       "      <td>-0.003834</td>\n",
       "      <td>0.003834</td>\n",
       "    </tr>\n",
       "    <tr>\n",
       "      <th>43</th>\n",
       "      <td>MonthlyCharges</td>\n",
       "      <td>0.002286</td>\n",
       "      <td>0.002286</td>\n",
       "    </tr>\n",
       "    <tr>\n",
       "      <th>44</th>\n",
       "      <td>TotalCharges</td>\n",
       "      <td>0.000316</td>\n",
       "      <td>0.000316</td>\n",
       "    </tr>\n",
       "  </tbody>\n",
       "</table>\n",
       "</div>"
      ],
      "text/plain": [
       "                                   features  coefficients  absolute_coef\n",
       "0                   Contract_Month-to-month      0.494943       0.494943\n",
       "1                         Contract_Two year     -0.439344       0.439344\n",
       "2                       InternetService_DSL     -0.357945       0.357945\n",
       "3               InternetService_Fiber optic      0.326838       0.326838\n",
       "4            PaymentMethod_Electronic check      0.268734       0.268734\n",
       "5                           TechSupport_Yes     -0.258342       0.258342\n",
       "6                        OnlineSecurity_Yes     -0.255541       0.255541\n",
       "7                          PhoneService_Yes     -0.247426       0.247426\n",
       "8                             SeniorCitizen      0.245938       0.245938\n",
       "9                          MultipleLines_No     -0.243592       0.243592\n",
       "10                      PaperlessBilling_No     -0.241640       0.241640\n",
       "11                           TechSupport_No      0.227235       0.227235\n",
       "12                        OnlineSecurity_No      0.224435       0.224435\n",
       "13                        Contract_One year     -0.190035       0.190035\n",
       "14    PaymentMethod_Credit card (automatic)     -0.170050       0.170050\n",
       "15                           Dependents_Yes     -0.152670       0.152670\n",
       "16               PaymentMethod_Mailed check     -0.151299       0.151299\n",
       "17                         OnlineBackup_Yes     -0.117073       0.117073\n",
       "18                          PhoneService_No      0.112989       0.112989\n",
       "19           MultipleLines_No phone service      0.112989       0.112989\n",
       "20                       StreamingMovies_No     -0.108456       0.108456\n",
       "21                     PaperlessBilling_Yes      0.107204       0.107204\n",
       "22                           StreamingTV_No     -0.103985       0.103985\n",
       "23                       InternetService_No     -0.103330       0.103330\n",
       "24      StreamingMovies_No internet service     -0.103330       0.103330\n",
       "25          TechSupport_No internet service     -0.103330       0.103330\n",
       "26          StreamingTV_No internet service     -0.103330       0.103330\n",
       "27         OnlineBackup_No internet service     -0.103330       0.103330\n",
       "28       OnlineSecurity_No internet service     -0.103330       0.103330\n",
       "29     DeviceProtection_No internet service     -0.103330       0.103330\n",
       "30                               Partner_No     -0.087088       0.087088\n",
       "31                          OnlineBackup_No      0.085966       0.085966\n",
       "32  PaymentMethod_Bank transfer (automatic)     -0.081822       0.081822\n",
       "33                              gender_Male     -0.080990       0.080990\n",
       "34                      StreamingMovies_Yes      0.077350       0.077350\n",
       "35                          StreamingTV_Yes      0.072879       0.072879\n",
       "36                                   tenure     -0.060634       0.060634\n",
       "37                     DeviceProtection_Yes     -0.053653       0.053653\n",
       "38                            gender_Female     -0.053447       0.053447\n",
       "39                              Partner_Yes     -0.047348       0.047348\n",
       "40                      DeviceProtection_No      0.022546       0.022546\n",
       "41                            Dependents_No      0.018234       0.018234\n",
       "42                        MultipleLines_Yes     -0.003834       0.003834\n",
       "43                           MonthlyCharges      0.002286       0.002286\n",
       "44                             TotalCharges      0.000316       0.000316"
      ]
     },
     "execution_count": 72,
     "metadata": {},
     "output_type": "execute_result"
    }
   ],
   "source": [
    "feature_rank = pd.DataFrame({'features': X.columns, 'coefficients': fit.coef_.flatten()})\n",
    "feature_rank['absolute_coef'] = feature_rank['coefficients'].abs()\n",
    "feature_rank.sort_values(by=['absolute_coef'], inplace=True, ascending=False)\n",
    "feature_rank = feature_rank.reset_index(drop=True)\n",
    "feature_rank"
   ]
  },
  {
   "cell_type": "code",
   "execution_count": 73,
   "metadata": {
    "scrolled": false
   },
   "outputs": [
    {
     "data": {
      "text/plain": [
       "array([0.79403409, 0.81392045, 0.80539773, 0.81792319, 0.78093883,\n",
       "       0.79658606, 0.81223329, 0.81081081, 0.79800853, 0.80626781])"
      ]
     },
     "execution_count": 73,
     "metadata": {},
     "output_type": "execute_result"
    }
   ],
   "source": [
    "cross_val_score(lr, X, y, cv=10)"
   ]
  },
  {
   "cell_type": "markdown",
   "metadata": {},
   "source": [
    "# Logistic Regression with Ridge Regularization"
   ]
  },
  {
   "cell_type": "code",
   "execution_count": 74,
   "metadata": {},
   "outputs": [
    {
     "data": {
      "image/png": "[encoded data removed]",
      "text/plain": [
       "<Figure size 864x360 with 2 Axes>"
      ]
     },
     "metadata": {},
     "output_type": "display_data"
    }
   ],
   "source": [
    "# tune l2 regularization\n",
    "param_tune = []\n",
    "for i in [0.000001, 0.00001, 0.0001, 0.001, 0.001, 0.01, 0.1, 0.5]:\n",
    "    ridge = LogisticRegression(penalty='l2', C=i)\n",
    "    ridge.fit(X, y)\n",
    "    score = cross_val_score(ridge, X, y, cv=10)\n",
    "    mean_score = score.mean()\n",
    "    score_range = score.max() - score.min()\n",
    "    param_tune.append([i, mean_score, score_range])\n",
    "\n",
    "param_tune = pd.DataFrame(param_tune)\n",
    "param_tune.columns = ['parameter', 'mean_score', 'score_range']\n",
    "\n",
    "plt.figure(figsize=(12,5))\n",
    "\n",
    "plt.subplot(1, 2, 1)\n",
    "plt.plot(param_tune.parameter, param_tune.mean_score)\n",
    "plt.title('mean cross val score')\n",
    "\n",
    "plt.subplot(1, 2, 2)\n",
    "plt.plot(param_tune.parameter, param_tune.score_range)\n",
    "plt.title('cross val range')\n",
    "\n",
    "plt.show()"
   ]
  },
  {
   "cell_type": "code",
   "execution_count": 75,
   "metadata": {},
   "outputs": [
    {
     "data": {
      "text/html": [
       "<div>\n",
       "<style scoped>\n",
       "    .dataframe tbody tr th:only-of-type {\n",
       "        vertical-align: middle;\n",
       "    }\n",
       "\n",
       "    .dataframe tbody tr th {\n",
       "        vertical-align: top;\n",
       "    }\n",
       "\n",
       "    .dataframe thead th {\n",
       "        text-align: right;\n",
       "    }\n",
       "</style>\n",
       "<table border=\"1\" class=\"dataframe\">\n",
       "  <thead>\n",
       "    <tr style=\"text-align: right;\">\n",
       "      <th></th>\n",
       "      <th>parameter</th>\n",
       "      <th>mean_score</th>\n",
       "      <th>score_range</th>\n",
       "    </tr>\n",
       "  </thead>\n",
       "  <tbody>\n",
       "    <tr>\n",
       "      <th>5</th>\n",
       "      <td>0.01</td>\n",
       "      <td>0.805176</td>\n",
       "      <td>0.029872</td>\n",
       "    </tr>\n",
       "  </tbody>\n",
       "</table>\n",
       "</div>"
      ],
      "text/plain": [
       "   parameter  mean_score  score_range\n",
       "5       0.01    0.805176     0.029872"
      ]
     },
     "execution_count": 75,
     "metadata": {},
     "output_type": "execute_result"
    }
   ],
   "source": [
    "param_tune[param_tune['mean_score'] == param_tune['mean_score'].max()]"
   ]
  },
  {
   "cell_type": "code",
   "execution_count": 76,
   "metadata": {},
   "outputs": [
    {
     "name": "stdout",
     "output_type": "stream",
     "text": [
      "Coefficients\n",
      "[[ 0.18059098 -0.0681136   0.00452356  0.00035434 -0.04690531 -0.06672353\n",
      "  -0.06967654 -0.04395231  0.01523778 -0.12886662  0.07461966 -0.1882485\n",
      "  -0.20976882  0.07461966  0.02152032 -0.25399225  0.23851994 -0.09815654\n",
      "   0.18411821 -0.09815654 -0.19959051  0.07140798 -0.09815654 -0.08688028\n",
      "   0.03194047 -0.09815654 -0.04741277  0.18988274 -0.09815654 -0.20535505\n",
      "  -0.06813271 -0.09815654  0.05266041 -0.07141388 -0.09815654  0.05594157\n",
      "   0.30985044 -0.14102176 -0.28245753 -0.21106214  0.0974333  -0.06518751\n",
      "  -0.12096445  0.21505815 -0.14253504]]\n",
      "[-0.11362884]\n",
      "\n",
      " Percentage accuracy\n",
      "0.8064562002275313\n"
     ]
    },
    {
     "data": {
      "text/plain": [
       "array([[4663,  500],\n",
       "       [ 861, 1008]], dtype=int64)"
      ]
     },
     "execution_count": 76,
     "metadata": {},
     "output_type": "execute_result"
    }
   ],
   "source": [
    "ridge = LogisticRegression(penalty='l2', C=0.01)\n",
    "                      \n",
    "fit = ridge.fit(X, y)\n",
    "\n",
    "# Display.\n",
    "print('Coefficients')\n",
    "print(fit.coef_)\n",
    "print(fit.intercept_)\n",
    "y_pred = ridge.predict(X)\n",
    "\n",
    "print('\\n Percentage accuracy')\n",
    "print(ridge.score(X, y))\n",
    "\n",
    "confusion_matrix(y, y_pred)"
   ]
  },
  {
   "cell_type": "code",
   "execution_count": 77,
   "metadata": {},
   "outputs": [
    {
     "data": {
      "text/plain": [
       "array([0.80255682, 0.80965909, 0.80255682, 0.81650071, 0.78662873,\n",
       "       0.79800853, 0.81365576, 0.81365576, 0.80512091, 0.8034188 ])"
      ]
     },
     "execution_count": 77,
     "metadata": {},
     "output_type": "execute_result"
    }
   ],
   "source": [
    "cross_val_score(ridge, X, y, cv=10)"
   ]
  },
  {
   "cell_type": "code",
   "execution_count": 78,
   "metadata": {
    "scrolled": true
   },
   "outputs": [
    {
     "name": "stdout",
     "output_type": "stream",
     "text": [
      "Type 1 error (false positive): 500\n",
      "Type 2 error (false negative): 861\n",
      "Sensitivity: 0.5393258426966292\n",
      "Specificity: 0.9031570792175092\n"
     ]
    }
   ],
   "source": [
    "confusion = confusion_matrix(y, y_pred)\n",
    "print('Type 1 error (false positive): {}'.format(confusion[0][1]))\n",
    "print('Type 2 error (false negative): {}'.format(confusion[1][0]))\n",
    "print('Sensitivity: {}'.format(confusion[1][1] / confusion[1].sum()))\n",
    "print('Specificity: {}'.format(confusion[0][0] / confusion[0].sum()))"
   ]
  },
  {
   "cell_type": "markdown",
   "metadata": {},
   "source": [
    "# Logistic Regression with Lasso Regularization"
   ]
  },
  {
   "cell_type": "code",
   "execution_count": 51,
   "metadata": {},
   "outputs": [
    {
     "data": {
      "image/png": "[encoded data removed]",
      "text/plain": [
       "<Figure size 864x360 with 2 Axes>"
      ]
     },
     "metadata": {},
     "output_type": "display_data"
    }
   ],
   "source": [
    "# tune l1 regularization\n",
    "param_tune = []\n",
    "for i in [0.000001, 0.00001, 0.0001, 0.001, 0.001, 0.01, 0.015, 0.1, 0.11, 0.12, 0.13, 0.14, 0.15]:\n",
    "    lasso = LogisticRegression(penalty='l1', C=i)\n",
    "    lasso.fit(X, y)\n",
    "    score = cross_val_score(lasso, X, y, cv=10)\n",
    "    mean_score = score.mean()\n",
    "    score_range = score.max() - score.min()\n",
    "    param_tune.append([i, mean_score, score_range])\n",
    "\n",
    "param_tune = pd.DataFrame(param_tune)\n",
    "param_tune.columns = ['parameter', 'mean_score', 'score_range']\n",
    "\n",
    "plt.figure(figsize=(12,5))\n",
    "\n",
    "plt.subplot(1, 2, 1)\n",
    "plt.plot(param_tune.parameter, param_tune.mean_score)\n",
    "plt.title('mean cross val score')\n",
    "\n",
    "plt.subplot(1, 2, 2)\n",
    "plt.plot(param_tune.parameter, param_tune.score_range)\n",
    "plt.title('cross val range')\n",
    "\n",
    "plt.show()"
   ]
  },
  {
   "cell_type": "code",
   "execution_count": 52,
   "metadata": {},
   "outputs": [
    {
     "data": {
      "text/html": [
       "<div>\n",
       "<style scoped>\n",
       "    .dataframe tbody tr th:only-of-type {\n",
       "        vertical-align: middle;\n",
       "    }\n",
       "\n",
       "    .dataframe tbody tr th {\n",
       "        vertical-align: top;\n",
       "    }\n",
       "\n",
       "    .dataframe thead th {\n",
       "        text-align: right;\n",
       "    }\n",
       "</style>\n",
       "<table border=\"1\" class=\"dataframe\">\n",
       "  <thead>\n",
       "    <tr style=\"text-align: right;\">\n",
       "      <th></th>\n",
       "      <th>parameter</th>\n",
       "      <th>mean_score</th>\n",
       "      <th>score_range</th>\n",
       "    </tr>\n",
       "  </thead>\n",
       "  <tbody>\n",
       "    <tr>\n",
       "      <th>0</th>\n",
       "      <td>0.000001</td>\n",
       "      <td>0.761574</td>\n",
       "      <td>0.000986</td>\n",
       "    </tr>\n",
       "    <tr>\n",
       "      <th>1</th>\n",
       "      <td>0.000010</td>\n",
       "      <td>0.761574</td>\n",
       "      <td>0.000986</td>\n",
       "    </tr>\n",
       "    <tr>\n",
       "      <th>2</th>\n",
       "      <td>0.000100</td>\n",
       "      <td>0.761574</td>\n",
       "      <td>0.000986</td>\n",
       "    </tr>\n",
       "    <tr>\n",
       "      <th>3</th>\n",
       "      <td>0.001000</td>\n",
       "      <td>0.795453</td>\n",
       "      <td>0.029359</td>\n",
       "    </tr>\n",
       "    <tr>\n",
       "      <th>4</th>\n",
       "      <td>0.001000</td>\n",
       "      <td>0.795265</td>\n",
       "      <td>0.029359</td>\n",
       "    </tr>\n",
       "    <tr>\n",
       "      <th>5</th>\n",
       "      <td>0.010000</td>\n",
       "      <td>0.809189</td>\n",
       "      <td>0.042588</td>\n",
       "    </tr>\n",
       "    <tr>\n",
       "      <th>6</th>\n",
       "      <td>0.015000</td>\n",
       "      <td>0.817275</td>\n",
       "      <td>0.045113</td>\n",
       "    </tr>\n",
       "    <tr>\n",
       "      <th>7</th>\n",
       "      <td>0.100000</td>\n",
       "      <td>0.818403</td>\n",
       "      <td>0.025153</td>\n",
       "    </tr>\n",
       "    <tr>\n",
       "      <th>8</th>\n",
       "      <td>0.110000</td>\n",
       "      <td>0.818401</td>\n",
       "      <td>0.027039</td>\n",
       "    </tr>\n",
       "    <tr>\n",
       "      <th>9</th>\n",
       "      <td>0.120000</td>\n",
       "      <td>0.817461</td>\n",
       "      <td>0.027046</td>\n",
       "    </tr>\n",
       "    <tr>\n",
       "      <th>10</th>\n",
       "      <td>0.130000</td>\n",
       "      <td>0.817084</td>\n",
       "      <td>0.027053</td>\n",
       "    </tr>\n",
       "    <tr>\n",
       "      <th>11</th>\n",
       "      <td>0.140000</td>\n",
       "      <td>0.817272</td>\n",
       "      <td>0.027053</td>\n",
       "    </tr>\n",
       "    <tr>\n",
       "      <th>12</th>\n",
       "      <td>0.150000</td>\n",
       "      <td>0.817460</td>\n",
       "      <td>0.027053</td>\n",
       "    </tr>\n",
       "  </tbody>\n",
       "</table>\n",
       "</div>"
      ],
      "text/plain": [
       "    parameter  mean_score  score_range\n",
       "0    0.000001    0.761574     0.000986\n",
       "1    0.000010    0.761574     0.000986\n",
       "2    0.000100    0.761574     0.000986\n",
       "3    0.001000    0.795453     0.029359\n",
       "4    0.001000    0.795265     0.029359\n",
       "5    0.010000    0.809189     0.042588\n",
       "6    0.015000    0.817275     0.045113\n",
       "7    0.100000    0.818403     0.025153\n",
       "8    0.110000    0.818401     0.027039\n",
       "9    0.120000    0.817461     0.027046\n",
       "10   0.130000    0.817084     0.027053\n",
       "11   0.140000    0.817272     0.027053\n",
       "12   0.150000    0.817460     0.027053"
      ]
     },
     "execution_count": 52,
     "metadata": {},
     "output_type": "execute_result"
    }
   ],
   "source": [
    "param_tune"
   ]
  },
  {
   "cell_type": "code",
   "execution_count": 53,
   "metadata": {},
   "outputs": [
    {
     "name": "stdout",
     "output_type": "stream",
     "text": [
      "Coefficients\n",
      "[[-8.51351361e-02  1.09003593e-03  5.45942677e-04  0.00000000e+00\n",
      "  -3.12875785e-02  0.00000000e+00 -3.42188248e-02  0.00000000e+00\n",
      "  -1.67861346e-02 -2.21406549e-01  0.00000000e+00 -4.87642969e-01\n",
      "   2.20737726e-01 -1.58660527e-04  3.29977038e-01  0.00000000e+00\n",
      "  -5.85261210e-02  5.46150783e-02 -7.10237716e-01 -1.10866411e-01\n",
      "   0.00000000e+00  0.00000000e+00  0.00000000e+00  1.78093945e-01\n",
      "   0.00000000e+00 -1.06391189e-01 -6.90490571e-02 -1.16795727e-05\n",
      "   5.07610189e-03 -6.00224815e-07  0.00000000e+00  6.84072372e-03\n",
      "   1.78376054e-01 -1.96994204e-01 -7.47988106e-01 -3.06504561e-01\n",
      "   0.00000000e+00  0.00000000e+00 -7.61839995e-02  3.00943657e-01\n",
      "  -8.47609740e-02]]\n",
      "[-0.02231661]\n",
      "\n",
      " Percentage accuracy\n",
      "0.8202860368837034\n"
     ]
    },
    {
     "data": {
      "text/plain": [
       "array([[3723,  324],\n",
       "       [ 631,  636]], dtype=int64)"
      ]
     },
     "execution_count": 53,
     "metadata": {},
     "output_type": "execute_result"
    }
   ],
   "source": [
    "lasso = LogisticRegression(penalty='l1', C=0.1)\n",
    "                      \n",
    "fit = lasso.fit(X, y)\n",
    "\n",
    "# Display.\n",
    "print('Coefficients')\n",
    "print(fit.coef_)\n",
    "print(fit.intercept_)\n",
    "y_pred = lasso.predict(X)\n",
    "\n",
    "print('\\n Percentage accuracy')\n",
    "print(lasso.score(X, y))\n",
    "\n",
    "confusion_matrix(y, y_pred)"
   ]
  },
  {
   "cell_type": "code",
   "execution_count": 54,
   "metadata": {},
   "outputs": [
    {
     "name": "stdout",
     "output_type": "stream",
     "text": [
      "Type 1 error (false positive): 324\n",
      "Type 2 error (false negative): 631\n",
      "Sensitivity: 0.5019731649565904\n",
      "Specificity: 0.9199406968124537\n"
     ]
    }
   ],
   "source": [
    "confusion = confusion_matrix(y, y_pred)\n",
    "print('Type 1 error (false positive): {}'.format(confusion[0][1]))\n",
    "print('Type 2 error (false negative): {}'.format(confusion[1][0]))\n",
    "print('Sensitivity: {}'.format(confusion[1][1] / confusion[1].sum()))\n",
    "print('Specificity: {}'.format(confusion[0][0] / confusion[0].sum()))"
   ]
  },
  {
   "cell_type": "code",
   "execution_count": 55,
   "metadata": {},
   "outputs": [
    {
     "data": {
      "text/plain": [
       "array([0.82142857, 0.81766917, 0.81390977, 0.81766917, 0.81015038,\n",
       "       0.81015038, 0.83458647, 0.81320755, 0.82830189, 0.80943396])"
      ]
     },
     "execution_count": 55,
     "metadata": {},
     "output_type": "execute_result"
    }
   ],
   "source": [
    "cross_val_score(lasso, X, y, cv=10)"
   ]
  },
  {
   "cell_type": "code",
   "execution_count": 56,
   "metadata": {},
   "outputs": [
    {
     "data": {
      "text/html": [
       "<div>\n",
       "<style scoped>\n",
       "    .dataframe tbody tr th:only-of-type {\n",
       "        vertical-align: middle;\n",
       "    }\n",
       "\n",
       "    .dataframe tbody tr th {\n",
       "        vertical-align: top;\n",
       "    }\n",
       "\n",
       "    .dataframe thead th {\n",
       "        text-align: right;\n",
       "    }\n",
       "</style>\n",
       "<table border=\"1\" class=\"dataframe\">\n",
       "  <thead>\n",
       "    <tr style=\"text-align: right;\">\n",
       "      <th></th>\n",
       "      <th>features</th>\n",
       "      <th>coefficients</th>\n",
       "      <th>absolute_coef</th>\n",
       "    </tr>\n",
       "  </thead>\n",
       "  <tbody>\n",
       "    <tr>\n",
       "      <th>0</th>\n",
       "      <td>Contract_Two year</td>\n",
       "      <td>-7.479881e-01</td>\n",
       "      <td>7.479881e-01</td>\n",
       "    </tr>\n",
       "    <tr>\n",
       "      <th>1</th>\n",
       "      <td>OnlineBackup_No internet service</td>\n",
       "      <td>-7.102377e-01</td>\n",
       "      <td>7.102377e-01</td>\n",
       "    </tr>\n",
       "    <tr>\n",
       "      <th>2</th>\n",
       "      <td>InternetService_DSL</td>\n",
       "      <td>-4.876430e-01</td>\n",
       "      <td>4.876430e-01</td>\n",
       "    </tr>\n",
       "    <tr>\n",
       "      <th>3</th>\n",
       "      <td>OnlineSecurity_No</td>\n",
       "      <td>3.299770e-01</td>\n",
       "      <td>3.299770e-01</td>\n",
       "    </tr>\n",
       "    <tr>\n",
       "      <th>4</th>\n",
       "      <td>PaperlessBilling_No</td>\n",
       "      <td>-3.065046e-01</td>\n",
       "      <td>3.065046e-01</td>\n",
       "    </tr>\n",
       "    <tr>\n",
       "      <th>5</th>\n",
       "      <td>PaymentMethod_Electronic check</td>\n",
       "      <td>3.009437e-01</td>\n",
       "      <td>3.009437e-01</td>\n",
       "    </tr>\n",
       "    <tr>\n",
       "      <th>6</th>\n",
       "      <td>MultipleLines_No</td>\n",
       "      <td>-2.214065e-01</td>\n",
       "      <td>2.214065e-01</td>\n",
       "    </tr>\n",
       "    <tr>\n",
       "      <th>7</th>\n",
       "      <td>InternetService_Fiber optic</td>\n",
       "      <td>2.207377e-01</td>\n",
       "      <td>2.207377e-01</td>\n",
       "    </tr>\n",
       "    <tr>\n",
       "      <th>8</th>\n",
       "      <td>Contract_One year</td>\n",
       "      <td>-1.969942e-01</td>\n",
       "      <td>1.969942e-01</td>\n",
       "    </tr>\n",
       "    <tr>\n",
       "      <th>9</th>\n",
       "      <td>Contract_Month-to-month</td>\n",
       "      <td>1.783761e-01</td>\n",
       "      <td>1.783761e-01</td>\n",
       "    </tr>\n",
       "    <tr>\n",
       "      <th>10</th>\n",
       "      <td>TechSupport_No</td>\n",
       "      <td>1.780939e-01</td>\n",
       "      <td>1.780939e-01</td>\n",
       "    </tr>\n",
       "    <tr>\n",
       "      <th>11</th>\n",
       "      <td>OnlineBackup_Yes</td>\n",
       "      <td>-1.108664e-01</td>\n",
       "      <td>1.108664e-01</td>\n",
       "    </tr>\n",
       "    <tr>\n",
       "      <th>12</th>\n",
       "      <td>TechSupport_Yes</td>\n",
       "      <td>-1.063912e-01</td>\n",
       "      <td>1.063912e-01</td>\n",
       "    </tr>\n",
       "    <tr>\n",
       "      <th>13</th>\n",
       "      <td>tenure</td>\n",
       "      <td>-8.513514e-02</td>\n",
       "      <td>8.513514e-02</td>\n",
       "    </tr>\n",
       "    <tr>\n",
       "      <th>14</th>\n",
       "      <td>PaymentMethod_Mailed check</td>\n",
       "      <td>-8.476097e-02</td>\n",
       "      <td>8.476097e-02</td>\n",
       "    </tr>\n",
       "    <tr>\n",
       "      <th>15</th>\n",
       "      <td>PaymentMethod_Credit card (automatic)</td>\n",
       "      <td>-7.618400e-02</td>\n",
       "      <td>7.618400e-02</td>\n",
       "    </tr>\n",
       "    <tr>\n",
       "      <th>16</th>\n",
       "      <td>StreamingTV_No</td>\n",
       "      <td>-6.904906e-02</td>\n",
       "      <td>6.904906e-02</td>\n",
       "    </tr>\n",
       "    <tr>\n",
       "      <th>17</th>\n",
       "      <td>OnlineSecurity_Yes</td>\n",
       "      <td>-5.852612e-02</td>\n",
       "      <td>5.852612e-02</td>\n",
       "    </tr>\n",
       "    <tr>\n",
       "      <th>18</th>\n",
       "      <td>OnlineBackup_No</td>\n",
       "      <td>5.461508e-02</td>\n",
       "      <td>5.461508e-02</td>\n",
       "    </tr>\n",
       "    <tr>\n",
       "      <th>19</th>\n",
       "      <td>Partner_Yes</td>\n",
       "      <td>-3.421882e-02</td>\n",
       "      <td>3.421882e-02</td>\n",
       "    </tr>\n",
       "    <tr>\n",
       "      <th>20</th>\n",
       "      <td>gender_Male</td>\n",
       "      <td>-3.128758e-02</td>\n",
       "      <td>3.128758e-02</td>\n",
       "    </tr>\n",
       "    <tr>\n",
       "      <th>21</th>\n",
       "      <td>Dependents_Yes</td>\n",
       "      <td>-1.678613e-02</td>\n",
       "      <td>1.678613e-02</td>\n",
       "    </tr>\n",
       "    <tr>\n",
       "      <th>22</th>\n",
       "      <td>StreamingMovies_Yes</td>\n",
       "      <td>6.840724e-03</td>\n",
       "      <td>6.840724e-03</td>\n",
       "    </tr>\n",
       "    <tr>\n",
       "      <th>23</th>\n",
       "      <td>StreamingTV_Yes</td>\n",
       "      <td>5.076102e-03</td>\n",
       "      <td>5.076102e-03</td>\n",
       "    </tr>\n",
       "    <tr>\n",
       "      <th>24</th>\n",
       "      <td>MonthlyCharges</td>\n",
       "      <td>1.090036e-03</td>\n",
       "      <td>1.090036e-03</td>\n",
       "    </tr>\n",
       "    <tr>\n",
       "      <th>25</th>\n",
       "      <td>TotalCharges</td>\n",
       "      <td>5.459427e-04</td>\n",
       "      <td>5.459427e-04</td>\n",
       "    </tr>\n",
       "    <tr>\n",
       "      <th>26</th>\n",
       "      <td>InternetService_No</td>\n",
       "      <td>-1.586605e-04</td>\n",
       "      <td>1.586605e-04</td>\n",
       "    </tr>\n",
       "    <tr>\n",
       "      <th>27</th>\n",
       "      <td>StreamingTV_No internet service</td>\n",
       "      <td>-1.167957e-05</td>\n",
       "      <td>1.167957e-05</td>\n",
       "    </tr>\n",
       "    <tr>\n",
       "      <th>28</th>\n",
       "      <td>StreamingMovies_No</td>\n",
       "      <td>-6.002248e-07</td>\n",
       "      <td>6.002248e-07</td>\n",
       "    </tr>\n",
       "    <tr>\n",
       "      <th>29</th>\n",
       "      <td>Partner_No</td>\n",
       "      <td>0.000000e+00</td>\n",
       "      <td>0.000000e+00</td>\n",
       "    </tr>\n",
       "    <tr>\n",
       "      <th>30</th>\n",
       "      <td>gender_Female</td>\n",
       "      <td>0.000000e+00</td>\n",
       "      <td>0.000000e+00</td>\n",
       "    </tr>\n",
       "    <tr>\n",
       "      <th>31</th>\n",
       "      <td>PaymentMethod_Bank transfer (automatic)</td>\n",
       "      <td>0.000000e+00</td>\n",
       "      <td>0.000000e+00</td>\n",
       "    </tr>\n",
       "    <tr>\n",
       "      <th>32</th>\n",
       "      <td>PaperlessBilling_Yes</td>\n",
       "      <td>0.000000e+00</td>\n",
       "      <td>0.000000e+00</td>\n",
       "    </tr>\n",
       "    <tr>\n",
       "      <th>33</th>\n",
       "      <td>OnlineSecurity_No internet service</td>\n",
       "      <td>0.000000e+00</td>\n",
       "      <td>0.000000e+00</td>\n",
       "    </tr>\n",
       "    <tr>\n",
       "      <th>34</th>\n",
       "      <td>StreamingMovies_No internet service</td>\n",
       "      <td>0.000000e+00</td>\n",
       "      <td>0.000000e+00</td>\n",
       "    </tr>\n",
       "    <tr>\n",
       "      <th>35</th>\n",
       "      <td>Dependents_No</td>\n",
       "      <td>0.000000e+00</td>\n",
       "      <td>0.000000e+00</td>\n",
       "    </tr>\n",
       "    <tr>\n",
       "      <th>36</th>\n",
       "      <td>TechSupport_No internet service</td>\n",
       "      <td>0.000000e+00</td>\n",
       "      <td>0.000000e+00</td>\n",
       "    </tr>\n",
       "    <tr>\n",
       "      <th>37</th>\n",
       "      <td>DeviceProtection_Yes</td>\n",
       "      <td>0.000000e+00</td>\n",
       "      <td>0.000000e+00</td>\n",
       "    </tr>\n",
       "    <tr>\n",
       "      <th>38</th>\n",
       "      <td>DeviceProtection_No internet service</td>\n",
       "      <td>0.000000e+00</td>\n",
       "      <td>0.000000e+00</td>\n",
       "    </tr>\n",
       "    <tr>\n",
       "      <th>39</th>\n",
       "      <td>MultipleLines_Yes</td>\n",
       "      <td>0.000000e+00</td>\n",
       "      <td>0.000000e+00</td>\n",
       "    </tr>\n",
       "    <tr>\n",
       "      <th>40</th>\n",
       "      <td>DeviceProtection_No</td>\n",
       "      <td>0.000000e+00</td>\n",
       "      <td>0.000000e+00</td>\n",
       "    </tr>\n",
       "  </tbody>\n",
       "</table>\n",
       "</div>"
      ],
      "text/plain": [
       "                                   features  coefficients  absolute_coef\n",
       "0                         Contract_Two year -7.479881e-01   7.479881e-01\n",
       "1          OnlineBackup_No internet service -7.102377e-01   7.102377e-01\n",
       "2                       InternetService_DSL -4.876430e-01   4.876430e-01\n",
       "3                         OnlineSecurity_No  3.299770e-01   3.299770e-01\n",
       "4                       PaperlessBilling_No -3.065046e-01   3.065046e-01\n",
       "5            PaymentMethod_Electronic check  3.009437e-01   3.009437e-01\n",
       "6                          MultipleLines_No -2.214065e-01   2.214065e-01\n",
       "7               InternetService_Fiber optic  2.207377e-01   2.207377e-01\n",
       "8                         Contract_One year -1.969942e-01   1.969942e-01\n",
       "9                   Contract_Month-to-month  1.783761e-01   1.783761e-01\n",
       "10                           TechSupport_No  1.780939e-01   1.780939e-01\n",
       "11                         OnlineBackup_Yes -1.108664e-01   1.108664e-01\n",
       "12                          TechSupport_Yes -1.063912e-01   1.063912e-01\n",
       "13                                   tenure -8.513514e-02   8.513514e-02\n",
       "14               PaymentMethod_Mailed check -8.476097e-02   8.476097e-02\n",
       "15    PaymentMethod_Credit card (automatic) -7.618400e-02   7.618400e-02\n",
       "16                           StreamingTV_No -6.904906e-02   6.904906e-02\n",
       "17                       OnlineSecurity_Yes -5.852612e-02   5.852612e-02\n",
       "18                          OnlineBackup_No  5.461508e-02   5.461508e-02\n",
       "19                              Partner_Yes -3.421882e-02   3.421882e-02\n",
       "20                              gender_Male -3.128758e-02   3.128758e-02\n",
       "21                           Dependents_Yes -1.678613e-02   1.678613e-02\n",
       "22                      StreamingMovies_Yes  6.840724e-03   6.840724e-03\n",
       "23                          StreamingTV_Yes  5.076102e-03   5.076102e-03\n",
       "24                           MonthlyCharges  1.090036e-03   1.090036e-03\n",
       "25                             TotalCharges  5.459427e-04   5.459427e-04\n",
       "26                       InternetService_No -1.586605e-04   1.586605e-04\n",
       "27          StreamingTV_No internet service -1.167957e-05   1.167957e-05\n",
       "28                       StreamingMovies_No -6.002248e-07   6.002248e-07\n",
       "29                               Partner_No  0.000000e+00   0.000000e+00\n",
       "30                            gender_Female  0.000000e+00   0.000000e+00\n",
       "31  PaymentMethod_Bank transfer (automatic)  0.000000e+00   0.000000e+00\n",
       "32                     PaperlessBilling_Yes  0.000000e+00   0.000000e+00\n",
       "33       OnlineSecurity_No internet service  0.000000e+00   0.000000e+00\n",
       "34      StreamingMovies_No internet service  0.000000e+00   0.000000e+00\n",
       "35                            Dependents_No  0.000000e+00   0.000000e+00\n",
       "36          TechSupport_No internet service  0.000000e+00   0.000000e+00\n",
       "37                     DeviceProtection_Yes  0.000000e+00   0.000000e+00\n",
       "38     DeviceProtection_No internet service  0.000000e+00   0.000000e+00\n",
       "39                        MultipleLines_Yes  0.000000e+00   0.000000e+00\n",
       "40                      DeviceProtection_No  0.000000e+00   0.000000e+00"
      ]
     },
     "execution_count": 56,
     "metadata": {},
     "output_type": "execute_result"
    }
   ],
   "source": [
    "feature_rank = pd.DataFrame({'features': X.columns, 'coefficients': fit.coef_.flatten()})\n",
    "feature_rank['absolute_coef'] = feature_rank['coefficients'].abs()\n",
    "feature_rank.sort_values(by=['absolute_coef'], inplace=True, ascending=False)\n",
    "feature_rank = feature_rank.reset_index(drop=True)\n",
    "feature_rank"
   ]
  },
  {
   "cell_type": "markdown",
   "metadata": {},
   "source": [
    "# SVM"
   ]
  },
  {
   "cell_type": "code",
   "execution_count": 85,
   "metadata": {},
   "outputs": [
    {
     "data": {
      "image/png": "[encoded data removed]",
      "text/plain": [
       "<Figure size 864x360 with 2 Axes>"
      ]
     },
     "metadata": {},
     "output_type": "display_data"
    }
   ],
   "source": [
    "# tune C parameter\n",
    "param_tune = []\n",
    "for i in [0.000001, 0.00001, 0.0001, 0.001, 0.001, 0.01, 0.015, 0.1, 0.15, .2, .3, .4, .5, .6, .7, .8, .9, 1, 2, 3, 4, 5, 10]:\n",
    "    svm = SVC(C=i)    \n",
    "    svm.fit(X, y)\n",
    "    score = cross_val_score(svm, X, y, cv=5)\n",
    "    mean_score = score.mean()\n",
    "    score_range = score.max() - score.min()\n",
    "    param_tune.append([i, mean_score, score_range])\n",
    "\n",
    "param_tune = pd.DataFrame(param_tune)\n",
    "param_tune.columns = ['parameter', 'mean_score', 'score_range']\n",
    "\n",
    "plt.figure(figsize=(12,5))\n",
    "\n",
    "plt.subplot(1, 2, 1)\n",
    "plt.plot(param_tune.parameter, param_tune.mean_score)\n",
    "plt.title('mean cross val score')\n",
    "\n",
    "plt.subplot(1, 2, 2)\n",
    "plt.plot(param_tune.parameter, param_tune.score_range)\n",
    "plt.title('cross val range')\n",
    "\n",
    "plt.show()"
   ]
  },
  {
   "cell_type": "code",
   "execution_count": 86,
   "metadata": {},
   "outputs": [
    {
     "data": {
      "text/html": [
       "<div>\n",
       "<style scoped>\n",
       "    .dataframe tbody tr th:only-of-type {\n",
       "        vertical-align: middle;\n",
       "    }\n",
       "\n",
       "    .dataframe tbody tr th {\n",
       "        vertical-align: top;\n",
       "    }\n",
       "\n",
       "    .dataframe thead th {\n",
       "        text-align: right;\n",
       "    }\n",
       "</style>\n",
       "<table border=\"1\" class=\"dataframe\">\n",
       "  <thead>\n",
       "    <tr style=\"text-align: right;\">\n",
       "      <th></th>\n",
       "      <th>parameter</th>\n",
       "      <th>mean_score</th>\n",
       "      <th>score_range</th>\n",
       "    </tr>\n",
       "  </thead>\n",
       "  <tbody>\n",
       "    <tr>\n",
       "      <th>16</th>\n",
       "      <td>0.9</td>\n",
       "      <td>0.770624</td>\n",
       "      <td>0.018878</td>\n",
       "    </tr>\n",
       "  </tbody>\n",
       "</table>\n",
       "</div>"
      ],
      "text/plain": [
       "    parameter  mean_score  score_range\n",
       "16        0.9    0.770624     0.018878"
      ]
     },
     "execution_count": 86,
     "metadata": {},
     "output_type": "execute_result"
    }
   ],
   "source": [
    "param_tune[param_tune['mean_score'] == param_tune['mean_score'].max()]"
   ]
  },
  {
   "cell_type": "code",
   "execution_count": 87,
   "metadata": {},
   "outputs": [],
   "source": [
    "# tune \n",
    "#param_tune = []\n",
    "#for i in ['linear', 'poly', 'rbf']:\n",
    "#    svm = SVC(C=.9, kernel=i)    \n",
    "#    svm.fit(X, y)\n",
    "#    score = cross_val_score(svm, X, y, cv=5)\n",
    "#    mean_score = score.mean()\n",
    "#    score_range = score.max() - score.min()\n",
    "#    param_tune.append([i, mean_score, score_range])\n",
    "\n",
    "#param_tune = pd.DataFrame(param_tune)\n",
    "#param_tune.columns = ['parameter', 'mean_score', 'score_range']\n",
    "\n",
    "#param_tune"
   ]
  },
  {
   "cell_type": "code",
   "execution_count": 88,
   "metadata": {},
   "outputs": [],
   "source": [
    "#svm = SVC(C=.9, kernel='poly')\n",
    "#cross_val_score(svm, X, y, cv=3)"
   ]
  },
  {
   "cell_type": "code",
   "execution_count": 89,
   "metadata": {},
   "outputs": [],
   "source": [
    "y_1d = df['Churn']\n",
    "def svc_param_selection(X, y, nfolds):\n",
    "    Cs = [0.001, 0.01, 0.1, 1, 10]\n",
    "    gammas = [0.001, 0.01, 0.1, 1]\n",
    "    param_grid = {'C': Cs, 'gamma' : gammas}\n",
    "    grid_search = GridSearchCV(SVC(kernel='rbf'), param_grid, cv=nfolds)\n",
    "    grid_search.fit(X, y)\n",
    "    grid_search.best_params_\n",
    "    return grid_search.grid_scores_"
   ]
  },
  {
   "cell_type": "code",
   "execution_count": 90,
   "metadata": {},
   "outputs": [
    {
     "data": {
      "text/plain": [
       "[mean: 0.73422, std: 0.00017, params: {'C': 0.001, 'gamma': 0.001},\n",
       " mean: 0.73422, std: 0.00017, params: {'C': 0.001, 'gamma': 0.01},\n",
       " mean: 0.73422, std: 0.00017, params: {'C': 0.001, 'gamma': 0.1},\n",
       " mean: 0.73422, std: 0.00017, params: {'C': 0.001, 'gamma': 1},\n",
       " mean: 0.75398, std: 0.00465, params: {'C': 0.01, 'gamma': 0.001},\n",
       " mean: 0.73422, std: 0.00017, params: {'C': 0.01, 'gamma': 0.01},\n",
       " mean: 0.73422, std: 0.00017, params: {'C': 0.01, 'gamma': 0.1},\n",
       " mean: 0.73422, std: 0.00017, params: {'C': 0.01, 'gamma': 1},\n",
       " mean: 0.76934, std: 0.00710, params: {'C': 0.1, 'gamma': 0.001},\n",
       " mean: 0.75739, std: 0.00505, params: {'C': 0.1, 'gamma': 0.01},\n",
       " mean: 0.75100, std: 0.00439, params: {'C': 0.1, 'gamma': 0.1},\n",
       " mean: 0.73436, std: 0.00032, params: {'C': 0.1, 'gamma': 1},\n",
       " mean: 0.78498, std: 0.00620, params: {'C': 1, 'gamma': 0.001},\n",
       " mean: 0.77090, std: 0.00459, params: {'C': 1, 'gamma': 0.01},\n",
       " mean: 0.76294, std: 0.00465, params: {'C': 1, 'gamma': 0.1},\n",
       " mean: 0.74133, std: 0.00343, params: {'C': 1, 'gamma': 1},\n",
       " mean: 0.77346, std: 0.00631, params: {'C': 10, 'gamma': 0.001},\n",
       " mean: 0.74261, std: 0.01246, params: {'C': 10, 'gamma': 0.01},\n",
       " mean: 0.76081, std: 0.00602, params: {'C': 10, 'gamma': 0.1},\n",
       " mean: 0.74133, std: 0.00469, params: {'C': 10, 'gamma': 1}]"
      ]
     },
     "execution_count": 90,
     "metadata": {},
     "output_type": "execute_result"
    }
   ],
   "source": [
    "svc_param_selection(X, y_1d, 5)"
   ]
  },
  {
   "cell_type": "code",
   "execution_count": 91,
   "metadata": {},
   "outputs": [
    {
     "data": {
      "text/plain": [
       "array([0.78114334, 0.77474403, 0.7862628 ])"
      ]
     },
     "execution_count": 91,
     "metadata": {},
     "output_type": "execute_result"
    }
   ],
   "source": [
    "svm = SVC(C=1, kernel='rbf', gamma=0.001)\n",
    "cross_val_score(svm, X, y, cv=3)"
   ]
  },
  {
   "cell_type": "code",
   "execution_count": 22,
   "metadata": {},
   "outputs": [
    {
     "data": {
      "text/plain": [
       "array([0.79180887, 0.78882253, 0.80290102])"
      ]
     },
     "execution_count": 22,
     "metadata": {},
     "output_type": "execute_result"
    }
   ],
   "source": [
    "svm = SVC(C=.9, kernel='linear')\n",
    "cross_val_score(svm, X, y, cv=3)"
   ]
  },
  {
   "cell_type": "code",
   "execution_count": 24,
   "metadata": {},
   "outputs": [
    {
     "data": {
      "text/plain": [
       "array([[4773,  390],\n",
       "       [1037,  832]], dtype=int64)"
      ]
     },
     "execution_count": 24,
     "metadata": {},
     "output_type": "execute_result"
    }
   ],
   "source": [
    "y_pred = svm.fit(X, y).predict(X)\n",
    "\n",
    "confusion_matrix(y, y_pred)"
   ]
  },
  {
   "cell_type": "code",
   "execution_count": 25,
   "metadata": {},
   "outputs": [
    {
     "name": "stdout",
     "output_type": "stream",
     "text": [
      "Type 1 error (false positive): 390\n",
      "Type 2 error (false negative): 1037\n",
      "Sensitivity: 0.4451578384162654\n",
      "Specificity: 0.9244625217896572\n"
     ]
    }
   ],
   "source": [
    "confusion = confusion_matrix(y, y_pred)\n",
    "print('Type 1 error (false positive): {}'.format(confusion[0][1]))\n",
    "print('Type 2 error (false negative): {}'.format(confusion[1][0]))\n",
    "print('Sensitivity: {}'.format(confusion[1][1] / confusion[1].sum()))\n",
    "print('Specificity: {}'.format(confusion[0][0] / confusion[0].sum()))"
   ]
  },
  {
   "cell_type": "markdown",
   "metadata": {},
   "source": [
    "# Gradient Boost "
   ]
  },
  {
   "cell_type": "code",
   "execution_count": 12,
   "metadata": {},
   "outputs": [
    {
     "data": {
      "text/plain": [
       "([mean: 0.73422, std: 0.00017, params: {'max_depth': 2, 'n_estimators': 1},\n",
       "  mean: 0.73422, std: 0.00017, params: {'max_depth': 2, 'n_estimators': 2},\n",
       "  mean: 0.73422, std: 0.00017, params: {'max_depth': 2, 'n_estimators': 3},\n",
       "  mean: 0.73422, std: 0.00017, params: {'max_depth': 2, 'n_estimators': 4},\n",
       "  mean: 0.73422, std: 0.00017, params: {'max_depth': 2, 'n_estimators': 5},\n",
       "  mean: 0.73422, std: 0.00017, params: {'max_depth': 2, 'n_estimators': 6},\n",
       "  mean: 0.73422, std: 0.00017, params: {'max_depth': 2, 'n_estimators': 7},\n",
       "  mean: 0.73422, std: 0.00017, params: {'max_depth': 2, 'n_estimators': 8},\n",
       "  mean: 0.73422, std: 0.00017, params: {'max_depth': 2, 'n_estimators': 9},\n",
       "  mean: 0.73422, std: 0.00017, params: {'max_depth': 2, 'n_estimators': 10},\n",
       "  mean: 0.74929, std: 0.00844, params: {'max_depth': 2, 'n_estimators': 11},\n",
       "  mean: 0.74232, std: 0.01097, params: {'max_depth': 2, 'n_estimators': 12},\n",
       "  mean: 0.75682, std: 0.01215, params: {'max_depth': 2, 'n_estimators': 13},\n",
       "  mean: 0.76664, std: 0.00648, params: {'max_depth': 2, 'n_estimators': 14},\n",
       "  mean: 0.77091, std: 0.00856, params: {'max_depth': 2, 'n_estimators': 15},\n",
       "  mean: 0.76920, std: 0.01035, params: {'max_depth': 2, 'n_estimators': 16},\n",
       "  mean: 0.77631, std: 0.00823, params: {'max_depth': 2, 'n_estimators': 17},\n",
       "  mean: 0.78143, std: 0.01163, params: {'max_depth': 2, 'n_estimators': 18},\n",
       "  mean: 0.78001, std: 0.00891, params: {'max_depth': 2, 'n_estimators': 19},\n",
       "  mean: 0.78584, std: 0.00491, params: {'max_depth': 2, 'n_estimators': 20},\n",
       "  mean: 0.78655, std: 0.00561, params: {'max_depth': 2, 'n_estimators': 21},\n",
       "  mean: 0.78556, std: 0.00812, params: {'max_depth': 2, 'n_estimators': 22},\n",
       "  mean: 0.78783, std: 0.00624, params: {'max_depth': 2, 'n_estimators': 23},\n",
       "  mean: 0.78783, std: 0.00700, params: {'max_depth': 2, 'n_estimators': 24},\n",
       "  mean: 0.78826, std: 0.00592, params: {'max_depth': 2, 'n_estimators': 25},\n",
       "  mean: 0.79010, std: 0.00780, params: {'max_depth': 2, 'n_estimators': 26},\n",
       "  mean: 0.79380, std: 0.00610, params: {'max_depth': 2, 'n_estimators': 27},\n",
       "  mean: 0.79295, std: 0.00905, params: {'max_depth': 2, 'n_estimators': 28},\n",
       "  mean: 0.79224, std: 0.00648, params: {'max_depth': 2, 'n_estimators': 29},\n",
       "  mean: 0.79295, std: 0.00869, params: {'max_depth': 2, 'n_estimators': 30},\n",
       "  mean: 0.79451, std: 0.00740, params: {'max_depth': 2, 'n_estimators': 31},\n",
       "  mean: 0.79394, std: 0.00641, params: {'max_depth': 2, 'n_estimators': 32},\n",
       "  mean: 0.79380, std: 0.00727, params: {'max_depth': 2, 'n_estimators': 33},\n",
       "  mean: 0.79608, std: 0.00910, params: {'max_depth': 2, 'n_estimators': 34},\n",
       "  mean: 0.79565, std: 0.00823, params: {'max_depth': 2, 'n_estimators': 35},\n",
       "  mean: 0.79437, std: 0.00680, params: {'max_depth': 2, 'n_estimators': 36},\n",
       "  mean: 0.79579, std: 0.00610, params: {'max_depth': 2, 'n_estimators': 37},\n",
       "  mean: 0.79593, std: 0.00729, params: {'max_depth': 2, 'n_estimators': 38},\n",
       "  mean: 0.79977, std: 0.00810, params: {'max_depth': 2, 'n_estimators': 39},\n",
       "  mean: 0.79664, std: 0.00923, params: {'max_depth': 2, 'n_estimators': 40},\n",
       "  mean: 0.79821, std: 0.00793, params: {'max_depth': 2, 'n_estimators': 41},\n",
       "  mean: 0.79892, std: 0.00794, params: {'max_depth': 2, 'n_estimators': 42},\n",
       "  mean: 0.79792, std: 0.00558, params: {'max_depth': 2, 'n_estimators': 43},\n",
       "  mean: 0.80105, std: 0.00686, params: {'max_depth': 2, 'n_estimators': 44},\n",
       "  mean: 0.79920, std: 0.00768, params: {'max_depth': 2, 'n_estimators': 45},\n",
       "  mean: 0.79921, std: 0.00810, params: {'max_depth': 2, 'n_estimators': 46},\n",
       "  mean: 0.80020, std: 0.00799, params: {'max_depth': 2, 'n_estimators': 47},\n",
       "  mean: 0.80048, std: 0.00740, params: {'max_depth': 2, 'n_estimators': 48},\n",
       "  mean: 0.80048, std: 0.00970, params: {'max_depth': 2, 'n_estimators': 49},\n",
       "  mean: 0.79977, std: 0.00847, params: {'max_depth': 2, 'n_estimators': 50},\n",
       "  mean: 0.80049, std: 0.00813, params: {'max_depth': 2, 'n_estimators': 51},\n",
       "  mean: 0.80361, std: 0.00943, params: {'max_depth': 2, 'n_estimators': 52},\n",
       "  mean: 0.80447, std: 0.00629, params: {'max_depth': 2, 'n_estimators': 53},\n",
       "  mean: 0.80248, std: 0.00722, params: {'max_depth': 2, 'n_estimators': 54},\n",
       "  mean: 0.80375, std: 0.00755, params: {'max_depth': 2, 'n_estimators': 55},\n",
       "  mean: 0.80361, std: 0.00786, params: {'max_depth': 2, 'n_estimators': 56},\n",
       "  mean: 0.80219, std: 0.00829, params: {'max_depth': 2, 'n_estimators': 57},\n",
       "  mean: 0.80077, std: 0.00897, params: {'max_depth': 2, 'n_estimators': 58},\n",
       "  mean: 0.80205, std: 0.00758, params: {'max_depth': 2, 'n_estimators': 59},\n",
       "  mean: 0.80176, std: 0.00727, params: {'max_depth': 2, 'n_estimators': 60},\n",
       "  mean: 0.80162, std: 0.00827, params: {'max_depth': 2, 'n_estimators': 61},\n",
       "  mean: 0.80361, std: 0.00674, params: {'max_depth': 2, 'n_estimators': 62},\n",
       "  mean: 0.80461, std: 0.01063, params: {'max_depth': 2, 'n_estimators': 63},\n",
       "  mean: 0.80276, std: 0.00607, params: {'max_depth': 2, 'n_estimators': 64},\n",
       "  mean: 0.80091, std: 0.00803, params: {'max_depth': 2, 'n_estimators': 65},\n",
       "  mean: 0.80205, std: 0.00792, params: {'max_depth': 2, 'n_estimators': 66},\n",
       "  mean: 0.80020, std: 0.00581, params: {'max_depth': 2, 'n_estimators': 67},\n",
       "  mean: 0.80148, std: 0.00833, params: {'max_depth': 2, 'n_estimators': 68},\n",
       "  mean: 0.80304, std: 0.00759, params: {'max_depth': 2, 'n_estimators': 69},\n",
       "  mean: 0.80261, std: 0.00716, params: {'max_depth': 2, 'n_estimators': 70},\n",
       "  mean: 0.80077, std: 0.00962, params: {'max_depth': 2, 'n_estimators': 71},\n",
       "  mean: 0.80205, std: 0.00827, params: {'max_depth': 2, 'n_estimators': 72},\n",
       "  mean: 0.80532, std: 0.00972, params: {'max_depth': 2, 'n_estimators': 73},\n",
       "  mean: 0.80319, std: 0.00736, params: {'max_depth': 2, 'n_estimators': 74},\n",
       "  mean: 0.80489, std: 0.00762, params: {'max_depth': 2, 'n_estimators': 75},\n",
       "  mean: 0.80319, std: 0.00763, params: {'max_depth': 2, 'n_estimators': 76},\n",
       "  mean: 0.80233, std: 0.00931, params: {'max_depth': 2, 'n_estimators': 77},\n",
       "  mean: 0.80404, std: 0.00744, params: {'max_depth': 2, 'n_estimators': 78},\n",
       "  mean: 0.80589, std: 0.00935, params: {'max_depth': 2, 'n_estimators': 79},\n",
       "  mean: 0.80489, std: 0.01002, params: {'max_depth': 2, 'n_estimators': 80},\n",
       "  mean: 0.80290, std: 0.00739, params: {'max_depth': 2, 'n_estimators': 81},\n",
       "  mean: 0.80447, std: 0.00777, params: {'max_depth': 2, 'n_estimators': 82},\n",
       "  mean: 0.80304, std: 0.00807, params: {'max_depth': 2, 'n_estimators': 83},\n",
       "  mean: 0.80575, std: 0.00993, params: {'max_depth': 2, 'n_estimators': 84},\n",
       "  mean: 0.80432, std: 0.00793, params: {'max_depth': 2, 'n_estimators': 85},\n",
       "  mean: 0.80518, std: 0.00648, params: {'max_depth': 2, 'n_estimators': 86},\n",
       "  mean: 0.80105, std: 0.00738, params: {'max_depth': 2, 'n_estimators': 87},\n",
       "  mean: 0.80205, std: 0.00875, params: {'max_depth': 2, 'n_estimators': 88},\n",
       "  mean: 0.80347, std: 0.00606, params: {'max_depth': 2, 'n_estimators': 89},\n",
       "  mean: 0.80432, std: 0.00879, params: {'max_depth': 2, 'n_estimators': 90},\n",
       "  mean: 0.80333, std: 0.00989, params: {'max_depth': 2, 'n_estimators': 91},\n",
       "  mean: 0.80432, std: 0.00582, params: {'max_depth': 2, 'n_estimators': 92},\n",
       "  mean: 0.80148, std: 0.00798, params: {'max_depth': 2, 'n_estimators': 93},\n",
       "  mean: 0.80489, std: 0.00721, params: {'max_depth': 2, 'n_estimators': 94},\n",
       "  mean: 0.80247, std: 0.00762, params: {'max_depth': 2, 'n_estimators': 95},\n",
       "  mean: 0.80205, std: 0.00655, params: {'max_depth': 2, 'n_estimators': 96},\n",
       "  mean: 0.80191, std: 0.00747, params: {'max_depth': 2, 'n_estimators': 97},\n",
       "  mean: 0.80276, std: 0.00707, params: {'max_depth': 2, 'n_estimators': 98},\n",
       "  mean: 0.80461, std: 0.00873, params: {'max_depth': 2, 'n_estimators': 99},\n",
       "  mean: 0.80276, std: 0.00710, params: {'max_depth': 2, 'n_estimators': 100},\n",
       "  mean: 0.80048, std: 0.00799, params: {'max_depth': 2, 'n_estimators': 101},\n",
       "  mean: 0.80503, std: 0.00915, params: {'max_depth': 2, 'n_estimators': 102},\n",
       "  mean: 0.80162, std: 0.00600, params: {'max_depth': 2, 'n_estimators': 103},\n",
       "  mean: 0.80546, std: 0.00978, params: {'max_depth': 2, 'n_estimators': 104},\n",
       "  mean: 0.80560, std: 0.00852, params: {'max_depth': 2, 'n_estimators': 105},\n",
       "  mean: 0.80532, std: 0.00822, params: {'max_depth': 2, 'n_estimators': 106},\n",
       "  mean: 0.80418, std: 0.00850, params: {'max_depth': 2, 'n_estimators': 107},\n",
       "  mean: 0.80361, std: 0.00671, params: {'max_depth': 2, 'n_estimators': 108},\n",
       "  mean: 0.80603, std: 0.00743, params: {'max_depth': 2, 'n_estimators': 109},\n",
       "  mean: 0.80447, std: 0.00625, params: {'max_depth': 2, 'n_estimators': 110},\n",
       "  mean: 0.80575, std: 0.00809, params: {'max_depth': 2, 'n_estimators': 111},\n",
       "  mean: 0.80219, std: 0.00685, params: {'max_depth': 2, 'n_estimators': 112},\n",
       "  mean: 0.80461, std: 0.01003, params: {'max_depth': 2, 'n_estimators': 113},\n",
       "  mean: 0.80503, std: 0.00732, params: {'max_depth': 2, 'n_estimators': 114},\n",
       "  mean: 0.80532, std: 0.00916, params: {'max_depth': 2, 'n_estimators': 115},\n",
       "  mean: 0.80617, std: 0.00807, params: {'max_depth': 2, 'n_estimators': 116},\n",
       "  mean: 0.80361, std: 0.00735, params: {'max_depth': 2, 'n_estimators': 117},\n",
       "  mean: 0.80219, std: 0.00947, params: {'max_depth': 2, 'n_estimators': 118},\n",
       "  mean: 0.80333, std: 0.00854, params: {'max_depth': 2, 'n_estimators': 119},\n",
       "  mean: 0.80475, std: 0.00832, params: {'max_depth': 2, 'n_estimators': 120},\n",
       "  mean: 0.80432, std: 0.00678, params: {'max_depth': 2, 'n_estimators': 121},\n",
       "  mean: 0.80617, std: 0.00716, params: {'max_depth': 2, 'n_estimators': 122},\n",
       "  mean: 0.80560, std: 0.00476, params: {'max_depth': 2, 'n_estimators': 123},\n",
       "  mean: 0.80717, std: 0.00818, params: {'max_depth': 2, 'n_estimators': 124},\n",
       "  mean: 0.80376, std: 0.00882, params: {'max_depth': 2, 'n_estimators': 125},\n",
       "  mean: 0.80560, std: 0.00633, params: {'max_depth': 2, 'n_estimators': 126},\n",
       "  mean: 0.80347, std: 0.00843, params: {'max_depth': 2, 'n_estimators': 127},\n",
       "  mean: 0.80304, std: 0.00975, params: {'max_depth': 2, 'n_estimators': 128},\n",
       "  mean: 0.80375, std: 0.00597, params: {'max_depth': 2, 'n_estimators': 129},\n",
       "  mean: 0.80432, std: 0.00794, params: {'max_depth': 2, 'n_estimators': 130},\n",
       "  mean: 0.80361, std: 0.00719, params: {'max_depth': 2, 'n_estimators': 131},\n",
       "  mean: 0.80447, std: 0.01003, params: {'max_depth': 2, 'n_estimators': 132},\n",
       "  mean: 0.80432, std: 0.00570, params: {'max_depth': 2, 'n_estimators': 133},\n",
       "  mean: 0.80347, std: 0.00664, params: {'max_depth': 2, 'n_estimators': 134},\n",
       "  mean: 0.80404, std: 0.00557, params: {'max_depth': 2, 'n_estimators': 135},\n",
       "  mean: 0.80361, std: 0.00577, params: {'max_depth': 2, 'n_estimators': 136},\n",
       "  mean: 0.80646, std: 0.00869, params: {'max_depth': 2, 'n_estimators': 137},\n",
       "  mean: 0.80276, std: 0.00660, params: {'max_depth': 2, 'n_estimators': 138},\n",
       "  mean: 0.80432, std: 0.00709, params: {'max_depth': 2, 'n_estimators': 139},\n",
       "  mean: 0.80532, std: 0.00813, params: {'max_depth': 2, 'n_estimators': 140},\n",
       "  mean: 0.80375, std: 0.00600, params: {'max_depth': 2, 'n_estimators': 141},\n",
       "  mean: 0.80347, std: 0.01006, params: {'max_depth': 2, 'n_estimators': 142},\n",
       "  mean: 0.80617, std: 0.00774, params: {'max_depth': 2, 'n_estimators': 143},\n",
       "  mean: 0.80461, std: 0.00790, params: {'max_depth': 2, 'n_estimators': 144},\n",
       "  mean: 0.80546, std: 0.00674, params: {'max_depth': 2, 'n_estimators': 145},\n",
       "  mean: 0.80518, std: 0.00808, params: {'max_depth': 2, 'n_estimators': 146},\n",
       "  mean: 0.80475, std: 0.00758, params: {'max_depth': 2, 'n_estimators': 147},\n",
       "  mean: 0.80347, std: 0.00748, params: {'max_depth': 2, 'n_estimators': 148},\n",
       "  mean: 0.80518, std: 0.00674, params: {'max_depth': 2, 'n_estimators': 149},\n",
       "  mean: 0.73422, std: 0.00017, params: {'max_depth': 3, 'n_estimators': 1},\n",
       "  mean: 0.73422, std: 0.00017, params: {'max_depth': 3, 'n_estimators': 2},\n",
       "  mean: 0.73422, std: 0.00017, params: {'max_depth': 3, 'n_estimators': 3},\n",
       "  mean: 0.73422, std: 0.00017, params: {'max_depth': 3, 'n_estimators': 4},\n",
       "  mean: 0.73422, std: 0.00017, params: {'max_depth': 3, 'n_estimators': 5},\n",
       "  mean: 0.73422, std: 0.00017, params: {'max_depth': 3, 'n_estimators': 6},\n",
       "  mean: 0.73663, std: 0.00357, params: {'max_depth': 3, 'n_estimators': 7},\n",
       "  mean: 0.74175, std: 0.01042, params: {'max_depth': 3, 'n_estimators': 8},\n",
       "  mean: 0.75597, std: 0.00546, params: {'max_depth': 3, 'n_estimators': 9},\n",
       "  mean: 0.75995, std: 0.00702, params: {'max_depth': 3, 'n_estimators': 10},\n",
       "  mean: 0.76906, std: 0.01012, params: {'max_depth': 3, 'n_estimators': 11},\n",
       "  mean: 0.77261, std: 0.00432, params: {'max_depth': 3, 'n_estimators': 12},\n",
       "  mean: 0.77475, std: 0.00682, params: {'max_depth': 3, 'n_estimators': 13},\n",
       "  mean: 0.78428, std: 0.00628, params: {'max_depth': 3, 'n_estimators': 14},\n",
       "  mean: 0.78342, std: 0.00894, params: {'max_depth': 3, 'n_estimators': 15},\n",
       "  mean: 0.78925, std: 0.00584, params: {'max_depth': 3, 'n_estimators': 16},\n",
       "  mean: 0.78683, std: 0.01005, params: {'max_depth': 3, 'n_estimators': 17},\n",
       "  mean: 0.79039, std: 0.00613, params: {'max_depth': 3, 'n_estimators': 18},\n",
       "  mean: 0.79138, std: 0.00575, params: {'max_depth': 3, 'n_estimators': 19},\n",
       "  mean: 0.79110, std: 0.00885, params: {'max_depth': 3, 'n_estimators': 20},\n",
       "  mean: 0.79465, std: 0.00557, params: {'max_depth': 3, 'n_estimators': 21},\n",
       "  mean: 0.79494, std: 0.00814, params: {'max_depth': 3, 'n_estimators': 22},\n",
       "  mean: 0.79380, std: 0.00873, params: {'max_depth': 3, 'n_estimators': 23},\n",
       "  mean: 0.79451, std: 0.00624, params: {'max_depth': 3, 'n_estimators': 24},\n",
       "  mean: 0.79707, std: 0.00457, params: {'max_depth': 3, 'n_estimators': 25},\n",
       "  mean: 0.79935, std: 0.00845, params: {'max_depth': 3, 'n_estimators': 26},\n",
       "  mean: 0.79693, std: 0.01003, params: {'max_depth': 3, 'n_estimators': 27},\n",
       "  mean: 0.79665, std: 0.00788, params: {'max_depth': 3, 'n_estimators': 28},\n",
       "  mean: 0.79992, std: 0.01032, params: {'max_depth': 3, 'n_estimators': 29},\n",
       "  mean: 0.79835, std: 0.00827, params: {'max_depth': 3, 'n_estimators': 30},\n",
       "  mean: 0.79963, std: 0.00822, params: {'max_depth': 3, 'n_estimators': 31},\n",
       "  mean: 0.80105, std: 0.00629, params: {'max_depth': 3, 'n_estimators': 32},\n",
       "  mean: 0.79864, std: 0.01058, params: {'max_depth': 3, 'n_estimators': 33},\n",
       "  mean: 0.80205, std: 0.01084, params: {'max_depth': 3, 'n_estimators': 34},\n",
       "  mean: 0.80048, std: 0.00768, params: {'max_depth': 3, 'n_estimators': 35},\n",
       "  mean: 0.80262, std: 0.01016, params: {'max_depth': 3, 'n_estimators': 36},\n",
       "  mean: 0.80461, std: 0.00951, params: {'max_depth': 3, 'n_estimators': 37},\n",
       "  mean: 0.80091, std: 0.00537, params: {'max_depth': 3, 'n_estimators': 38},\n",
       "  mean: 0.80290, std: 0.00970, params: {'max_depth': 3, 'n_estimators': 39},\n",
       "  mean: 0.80617, std: 0.00951, params: {'max_depth': 3, 'n_estimators': 40},\n",
       "  mean: 0.80176, std: 0.00926, params: {'max_depth': 3, 'n_estimators': 41},\n",
       "  mean: 0.80190, std: 0.00807, params: {'max_depth': 3, 'n_estimators': 42},\n",
       "  mean: 0.80361, std: 0.00803, params: {'max_depth': 3, 'n_estimators': 43},\n",
       "  mean: 0.80290, std: 0.00670, params: {'max_depth': 3, 'n_estimators': 44},\n",
       "  mean: 0.80247, std: 0.00775, params: {'max_depth': 3, 'n_estimators': 45},\n",
       "  mean: 0.80518, std: 0.00633, params: {'max_depth': 3, 'n_estimators': 46},\n",
       "  mean: 0.80119, std: 0.00836, params: {'max_depth': 3, 'n_estimators': 47},\n",
       "  mean: 0.80219, std: 0.00882, params: {'max_depth': 3, 'n_estimators': 48},\n",
       "  mean: 0.80404, std: 0.00881, params: {'max_depth': 3, 'n_estimators': 49},\n",
       "  mean: 0.80262, std: 0.00800, params: {'max_depth': 3, 'n_estimators': 50},\n",
       "  mean: 0.80546, std: 0.00879, params: {'max_depth': 3, 'n_estimators': 51},\n",
       "  mean: 0.80418, std: 0.00725, params: {'max_depth': 3, 'n_estimators': 52},\n",
       "  mean: 0.80404, std: 0.00899, params: {'max_depth': 3, 'n_estimators': 53},\n",
       "  mean: 0.80304, std: 0.00989, params: {'max_depth': 3, 'n_estimators': 54},\n",
       "  mean: 0.80347, std: 0.00922, params: {'max_depth': 3, 'n_estimators': 55},\n",
       "  mean: 0.80446, std: 0.00941, params: {'max_depth': 3, 'n_estimators': 56},\n",
       "  mean: 0.80461, std: 0.00736, params: {'max_depth': 3, 'n_estimators': 57},\n",
       "  mean: 0.80489, std: 0.00851, params: {'max_depth': 3, 'n_estimators': 58},\n",
       "  mean: 0.80361, std: 0.00622, params: {'max_depth': 3, 'n_estimators': 59},\n",
       "  mean: 0.80347, std: 0.01109, params: {'max_depth': 3, 'n_estimators': 60},\n",
       "  mean: 0.80375, std: 0.00945, params: {'max_depth': 3, 'n_estimators': 61},\n",
       "  mean: 0.80176, std: 0.00885, params: {'max_depth': 3, 'n_estimators': 62},\n",
       "  mean: 0.80418, std: 0.00815, params: {'max_depth': 3, 'n_estimators': 63},\n",
       "  mean: 0.80120, std: 0.00788, params: {'max_depth': 3, 'n_estimators': 64},\n",
       "  mean: 0.80361, std: 0.00940, params: {'max_depth': 3, 'n_estimators': 65},\n",
       "  mean: 0.80347, std: 0.00701, params: {'max_depth': 3, 'n_estimators': 66},\n",
       "  mean: 0.80262, std: 0.01077, params: {'max_depth': 3, 'n_estimators': 67},\n",
       "  mean: 0.80290, std: 0.00837, params: {'max_depth': 3, 'n_estimators': 68},\n",
       "  mean: 0.80333, std: 0.00917, params: {'max_depth': 3, 'n_estimators': 69},\n",
       "  mean: 0.80290, std: 0.00728, params: {'max_depth': 3, 'n_estimators': 70},\n",
       "  mean: 0.80433, std: 0.00820, params: {'max_depth': 3, 'n_estimators': 71},\n",
       "  mean: 0.80518, std: 0.01071, params: {'max_depth': 3, 'n_estimators': 72},\n",
       "  mean: 0.80333, std: 0.00697, params: {'max_depth': 3, 'n_estimators': 73},\n",
       "  mean: 0.80333, std: 0.00701, params: {'max_depth': 3, 'n_estimators': 74},\n",
       "  mean: 0.80248, std: 0.00893, params: {'max_depth': 3, 'n_estimators': 75},\n",
       "  mean: 0.80532, std: 0.00757, params: {'max_depth': 3, 'n_estimators': 76},\n",
       "  mean: 0.80489, std: 0.00758, params: {'max_depth': 3, 'n_estimators': 77},\n",
       "  mean: 0.80404, std: 0.00626, params: {'max_depth': 3, 'n_estimators': 78},\n",
       "  mean: 0.80404, std: 0.00731, params: {'max_depth': 3, 'n_estimators': 79},\n",
       "  mean: 0.80333, std: 0.00666, params: {'max_depth': 3, 'n_estimators': 80},\n",
       "  mean: 0.80560, std: 0.00925, params: {'max_depth': 3, 'n_estimators': 81},\n",
       "  mean: 0.80376, std: 0.00713, params: {'max_depth': 3, 'n_estimators': 82},\n",
       "  mean: 0.80347, std: 0.00824, params: {'max_depth': 3, 'n_estimators': 83},\n",
       "  mean: 0.80219, std: 0.00910, params: {'max_depth': 3, 'n_estimators': 84},\n",
       "  mean: 0.80447, std: 0.00747, params: {'max_depth': 3, 'n_estimators': 85},\n",
       "  mean: 0.80446, std: 0.00744, params: {'max_depth': 3, 'n_estimators': 86},\n",
       "  mean: 0.80702, std: 0.00835, params: {'max_depth': 3, 'n_estimators': 87},\n",
       "  mean: 0.80646, std: 0.00833, params: {'max_depth': 3, 'n_estimators': 88},\n",
       "  mean: 0.80518, std: 0.01018, params: {'max_depth': 3, 'n_estimators': 89},\n",
       "  mean: 0.80575, std: 0.00953, params: {'max_depth': 3, 'n_estimators': 90},\n",
       "  mean: 0.80461, std: 0.01062, params: {'max_depth': 3, 'n_estimators': 91},\n",
       "  mean: 0.80603, std: 0.00886, params: {'max_depth': 3, 'n_estimators': 92},\n",
       "  mean: 0.80589, std: 0.00871, params: {'max_depth': 3, 'n_estimators': 93},\n",
       "  mean: 0.80518, std: 0.00817, params: {'max_depth': 3, 'n_estimators': 94},\n",
       "  mean: 0.80660, std: 0.01068, params: {'max_depth': 3, 'n_estimators': 95},\n",
       "  mean: 0.80475, std: 0.01091, params: {'max_depth': 3, 'n_estimators': 96},\n",
       "  mean: 0.80702, std: 0.00922, params: {'max_depth': 3, 'n_estimators': 97},\n",
       "  mean: 0.80560, std: 0.00933, params: {'max_depth': 3, 'n_estimators': 98},\n",
       "  mean: 0.80361, std: 0.00495, params: {'max_depth': 3, 'n_estimators': 99},\n",
       "  mean: 0.80347, std: 0.01042, params: {'max_depth': 3, 'n_estimators': 100},\n",
       "  mean: 0.80489, std: 0.01005, params: {'max_depth': 3, 'n_estimators': 101},\n",
       "  mean: 0.80390, std: 0.00659, params: {'max_depth': 3, 'n_estimators': 102},\n",
       "  mean: 0.80504, std: 0.01083, params: {'max_depth': 3, 'n_estimators': 103},\n",
       "  mean: 0.80603, std: 0.00830, params: {'max_depth': 3, 'n_estimators': 104},\n",
       "  mean: 0.80461, std: 0.00759, params: {'max_depth': 3, 'n_estimators': 105},\n",
       "  mean: 0.80361, std: 0.00847, params: {'max_depth': 3, 'n_estimators': 106},\n",
       "  mean: 0.80276, std: 0.00756, params: {'max_depth': 3, 'n_estimators': 107},\n",
       "  mean: 0.80489, std: 0.00574, params: {'max_depth': 3, 'n_estimators': 108},\n",
       "  mean: 0.80646, std: 0.00843, params: {'max_depth': 3, 'n_estimators': 109},\n",
       "  mean: 0.80859, std: 0.00917, params: {'max_depth': 3, 'n_estimators': 110},\n",
       "  mean: 0.80774, std: 0.00819, params: {'max_depth': 3, 'n_estimators': 111},\n",
       "  mean: 0.80475, std: 0.00809, params: {'max_depth': 3, 'n_estimators': 112},\n",
       "  mean: 0.80617, std: 0.01022, params: {'max_depth': 3, 'n_estimators': 113},\n",
       "  mean: 0.80759, std: 0.01109, params: {'max_depth': 3, 'n_estimators': 114},\n",
       "  mean: 0.80575, std: 0.00802, params: {'max_depth': 3, 'n_estimators': 115},\n",
       "  mean: 0.80703, std: 0.00892, params: {'max_depth': 3, 'n_estimators': 116},\n",
       "  mean: 0.80461, std: 0.00690, params: {'max_depth': 3, 'n_estimators': 117},\n",
       "  mean: 0.80575, std: 0.00590, params: {'max_depth': 3, 'n_estimators': 118},\n",
       "  mean: 0.80603, std: 0.00799, params: {'max_depth': 3, 'n_estimators': 119},\n",
       "  mean: 0.80432, std: 0.01017, params: {'max_depth': 3, 'n_estimators': 120},\n",
       "  mean: 0.80546, std: 0.00791, params: {'max_depth': 3, 'n_estimators': 121},\n",
       "  mean: 0.80603, std: 0.00991, params: {'max_depth': 3, 'n_estimators': 122},\n",
       "  mean: 0.80532, std: 0.00962, params: {'max_depth': 3, 'n_estimators': 123},\n",
       "  mean: 0.80319, std: 0.00928, params: {'max_depth': 3, 'n_estimators': 124},\n",
       "  mean: 0.80504, std: 0.00822, params: {'max_depth': 3, 'n_estimators': 125},\n",
       "  mean: 0.80617, std: 0.00774, params: {'max_depth': 3, 'n_estimators': 126},\n",
       "  mean: 0.80233, std: 0.00773, params: {'max_depth': 3, 'n_estimators': 127},\n",
       "  mean: 0.80688, std: 0.00927, params: {'max_depth': 3, 'n_estimators': 128},\n",
       "  mean: 0.80617, std: 0.00896, params: {'max_depth': 3, 'n_estimators': 129},\n",
       "  mean: 0.80475, std: 0.00566, params: {'max_depth': 3, 'n_estimators': 130},\n",
       "  mean: 0.80361, std: 0.01033, params: {'max_depth': 3, 'n_estimators': 131},\n",
       "  mean: 0.80247, std: 0.00492, params: {'max_depth': 3, 'n_estimators': 132},\n",
       "  mean: 0.80674, std: 0.00884, params: {'max_depth': 3, 'n_estimators': 133},\n",
       "  mean: 0.80518, std: 0.00787, params: {'max_depth': 3, 'n_estimators': 134},\n",
       "  mean: 0.80432, std: 0.00869, params: {'max_depth': 3, 'n_estimators': 135},\n",
       "  mean: 0.80518, std: 0.00808, params: {'max_depth': 3, 'n_estimators': 136},\n",
       "  mean: 0.80489, std: 0.00647, params: {'max_depth': 3, 'n_estimators': 137},\n",
       "  mean: 0.80233, std: 0.00912, params: {'max_depth': 3, 'n_estimators': 138},\n",
       "  mean: 0.80404, std: 0.00770, params: {'max_depth': 3, 'n_estimators': 139},\n",
       "  mean: 0.80503, std: 0.00785, params: {'max_depth': 3, 'n_estimators': 140},\n",
       "  mean: 0.80333, std: 0.00789, params: {'max_depth': 3, 'n_estimators': 141},\n",
       "  mean: 0.80489, std: 0.00874, params: {'max_depth': 3, 'n_estimators': 142},\n",
       "  mean: 0.80447, std: 0.00881, params: {'max_depth': 3, 'n_estimators': 143},\n",
       "  mean: 0.80660, std: 0.00899, params: {'max_depth': 3, 'n_estimators': 144},\n",
       "  mean: 0.80461, std: 0.00786, params: {'max_depth': 3, 'n_estimators': 145},\n",
       "  mean: 0.80560, std: 0.00878, params: {'max_depth': 3, 'n_estimators': 146},\n",
       "  mean: 0.80646, std: 0.00894, params: {'max_depth': 3, 'n_estimators': 147},\n",
       "  mean: 0.80688, std: 0.00904, params: {'max_depth': 3, 'n_estimators': 148},\n",
       "  mean: 0.80432, std: 0.00932, params: {'max_depth': 3, 'n_estimators': 149},\n",
       "  mean: 0.73422, std: 0.00017, params: {'max_depth': 4, 'n_estimators': 1},\n",
       "  mean: 0.73422, std: 0.00017, params: {'max_depth': 4, 'n_estimators': 2},\n",
       "  mean: 0.73422, std: 0.00017, params: {'max_depth': 4, 'n_estimators': 3},\n",
       "  mean: 0.73422, std: 0.00017, params: {'max_depth': 4, 'n_estimators': 4},\n",
       "  mean: 0.73422, std: 0.00017, params: {'max_depth': 4, 'n_estimators': 5},\n",
       "  mean: 0.73677, std: 0.00442, params: {'max_depth': 4, 'n_estimators': 6},\n",
       "  mean: 0.74076, std: 0.00797, params: {'max_depth': 4, 'n_estimators': 7},\n",
       "  mean: 0.75868, std: 0.00905, params: {'max_depth': 4, 'n_estimators': 8},\n",
       "  mean: 0.76024, std: 0.01097, params: {'max_depth': 4, 'n_estimators': 9},\n",
       "  mean: 0.77333, std: 0.00745, params: {'max_depth': 4, 'n_estimators': 10},\n",
       "  mean: 0.78086, std: 0.00725, params: {'max_depth': 4, 'n_estimators': 11},\n",
       "  mean: 0.78143, std: 0.00676, params: {'max_depth': 4, 'n_estimators': 12},\n",
       "  mean: 0.78442, std: 0.00887, params: {'max_depth': 4, 'n_estimators': 13},\n",
       "  mean: 0.78854, std: 0.00440, params: {'max_depth': 4, 'n_estimators': 14},\n",
       "  mean: 0.79053, std: 0.00787, params: {'max_depth': 4, 'n_estimators': 15},\n",
       "  mean: 0.78939, std: 0.00543, params: {'max_depth': 4, 'n_estimators': 16},\n",
       "  mean: 0.79039, std: 0.00639, params: {'max_depth': 4, 'n_estimators': 17},\n",
       "  mean: 0.79224, std: 0.00768, params: {'max_depth': 4, 'n_estimators': 18},\n",
       "  mean: 0.79636, std: 0.00852, params: {'max_depth': 4, 'n_estimators': 19},\n",
       "  mean: 0.79721, std: 0.00742, params: {'max_depth': 4, 'n_estimators': 20},\n",
       "  mean: 0.79537, std: 0.00733, params: {'max_depth': 4, 'n_estimators': 21},\n",
       "  mean: 0.79494, std: 0.00709, params: {'max_depth': 4, 'n_estimators': 22},\n",
       "  mean: 0.79807, std: 0.00851, params: {'max_depth': 4, 'n_estimators': 23},\n",
       "  mean: 0.79864, std: 0.01217, params: {'max_depth': 4, 'n_estimators': 24},\n",
       "  mean: 0.79878, std: 0.00770, params: {'max_depth': 4, 'n_estimators': 25},\n",
       "  mean: 0.80290, std: 0.00523, params: {'max_depth': 4, 'n_estimators': 26},\n",
       "  mean: 0.80006, std: 0.00769, params: {'max_depth': 4, 'n_estimators': 27},\n",
       "  mean: 0.80091, std: 0.00982, params: {'max_depth': 4, 'n_estimators': 28},\n",
       "  mean: 0.80006, std: 0.00729, params: {'max_depth': 4, 'n_estimators': 29},\n",
       "  mean: 0.80134, std: 0.00915, params: {'max_depth': 4, 'n_estimators': 30},\n",
       "  mean: 0.80048, std: 0.01171, params: {'max_depth': 4, 'n_estimators': 31},\n",
       "  mean: 0.80361, std: 0.01087, params: {'max_depth': 4, 'n_estimators': 32},\n",
       "  mean: 0.80290, std: 0.00873, params: {'max_depth': 4, 'n_estimators': 33},\n",
       "  mean: 0.80077, std: 0.01109, params: {'max_depth': 4, 'n_estimators': 34},\n",
       "  mean: 0.80290, std: 0.01141, params: {'max_depth': 4, 'n_estimators': 35},\n",
       "  mean: 0.80503, std: 0.00663, params: {'max_depth': 4, 'n_estimators': 36},\n",
       "  mean: 0.80247, std: 0.00899, params: {'max_depth': 4, 'n_estimators': 37},\n",
       "  mean: 0.80518, std: 0.00796, params: {'max_depth': 4, 'n_estimators': 38},\n",
       "  mean: 0.80219, std: 0.00716, params: {'max_depth': 4, 'n_estimators': 39},\n",
       "  mean: 0.80361, std: 0.00878, params: {'max_depth': 4, 'n_estimators': 40},\n",
       "  mean: 0.80461, std: 0.00836, params: {'max_depth': 4, 'n_estimators': 41},\n",
       "  mean: 0.80646, std: 0.00959, params: {'max_depth': 4, 'n_estimators': 42},\n",
       "  mean: 0.80432, std: 0.01097, params: {'max_depth': 4, 'n_estimators': 43},\n",
       "  mean: 0.80276, std: 0.00819, params: {'max_depth': 4, 'n_estimators': 44},\n",
       "  mean: 0.80475, std: 0.00849, params: {'max_depth': 4, 'n_estimators': 45},\n",
       "  mean: 0.80432, std: 0.00949, params: {'max_depth': 4, 'n_estimators': 46},\n",
       "  mean: 0.80631, std: 0.00794, params: {'max_depth': 4, 'n_estimators': 47},\n",
       "  mean: 0.80603, std: 0.00945, params: {'max_depth': 4, 'n_estimators': 48},\n",
       "  mean: 0.80191, std: 0.00684, params: {'max_depth': 4, 'n_estimators': 49},\n",
       "  mean: 0.80532, std: 0.00942, params: {'max_depth': 4, 'n_estimators': 50},\n",
       "  mean: 0.80560, std: 0.00630, params: {'max_depth': 4, 'n_estimators': 51},\n",
       "  mean: 0.80461, std: 0.00886, params: {'max_depth': 4, 'n_estimators': 52},\n",
       "  mean: 0.80304, std: 0.00757, params: {'max_depth': 4, 'n_estimators': 53},\n",
       "  mean: 0.80418, std: 0.00967, params: {'max_depth': 4, 'n_estimators': 54},\n",
       "  mean: 0.80361, std: 0.00900, params: {'max_depth': 4, 'n_estimators': 55},\n",
       "  mean: 0.80375, std: 0.00610, params: {'max_depth': 4, 'n_estimators': 56},\n",
       "  mean: 0.80560, std: 0.00934, params: {'max_depth': 4, 'n_estimators': 57},\n",
       "  mean: 0.80205, std: 0.00768, params: {'max_depth': 4, 'n_estimators': 58},\n",
       "  mean: 0.80319, std: 0.00788, params: {'max_depth': 4, 'n_estimators': 59},\n",
       "  mean: 0.80290, std: 0.00919, params: {'max_depth': 4, 'n_estimators': 60},\n",
       "  mean: 0.80532, std: 0.00877, params: {'max_depth': 4, 'n_estimators': 61},\n",
       "  mean: 0.80347, std: 0.00774, params: {'max_depth': 4, 'n_estimators': 62},\n",
       "  mean: 0.80248, std: 0.00955, params: {'max_depth': 4, 'n_estimators': 63},\n",
       "  mean: 0.80432, std: 0.00883, params: {'max_depth': 4, 'n_estimators': 64},\n",
       "  mean: 0.80518, std: 0.00965, params: {'max_depth': 4, 'n_estimators': 65},\n",
       "  mean: 0.80461, std: 0.00864, params: {'max_depth': 4, 'n_estimators': 66},\n",
       "  mean: 0.80674, std: 0.00916, params: {'max_depth': 4, 'n_estimators': 67},\n",
       "  mean: 0.80390, std: 0.00874, params: {'max_depth': 4, 'n_estimators': 68},\n",
       "  mean: 0.80489, std: 0.00935, params: {'max_depth': 4, 'n_estimators': 69},\n",
       "  mean: 0.80262, std: 0.01059, params: {'max_depth': 4, 'n_estimators': 70},\n",
       "  mean: 0.80575, std: 0.00822, params: {'max_depth': 4, 'n_estimators': 71},\n",
       "  mean: 0.80674, std: 0.00820, params: {'max_depth': 4, 'n_estimators': 72},\n",
       "  mean: 0.80432, std: 0.01029, params: {'max_depth': 4, 'n_estimators': 73},\n",
       "  mean: 0.80375, std: 0.00748, params: {'max_depth': 4, 'n_estimators': 74},\n",
       "  mean: 0.80617, std: 0.01088, params: {'max_depth': 4, 'n_estimators': 75},\n",
       "  mean: 0.80048, std: 0.00774, params: {'max_depth': 4, 'n_estimators': 76},\n",
       "  mean: 0.80390, std: 0.00591, params: {'max_depth': 4, 'n_estimators': 77},\n",
       "  mean: 0.80447, std: 0.00964, params: {'max_depth': 4, 'n_estimators': 78},\n",
       "  mean: 0.80660, std: 0.00911, params: {'max_depth': 4, 'n_estimators': 79},\n",
       "  mean: 0.80646, std: 0.00678, params: {'max_depth': 4, 'n_estimators': 80},\n",
       "  mean: 0.80688, std: 0.00815, params: {'max_depth': 4, 'n_estimators': 81},\n",
       "  mean: 0.80461, std: 0.00799, params: {'max_depth': 4, 'n_estimators': 82},\n",
       "  mean: 0.80375, std: 0.01037, params: {'max_depth': 4, 'n_estimators': 83},\n",
       "  mean: 0.80503, std: 0.00810, params: {'max_depth': 4, 'n_estimators': 84},\n",
       "  mean: 0.80404, std: 0.00920, params: {'max_depth': 4, 'n_estimators': 85},\n",
       "  mean: 0.80575, std: 0.00885, params: {'max_depth': 4, 'n_estimators': 86},\n",
       "  mean: 0.80404, std: 0.00906, params: {'max_depth': 4, 'n_estimators': 87},\n",
       "  mean: 0.80276, std: 0.00866, params: {'max_depth': 4, 'n_estimators': 88},\n",
       "  mean: 0.80446, std: 0.00739, params: {'max_depth': 4, 'n_estimators': 89},\n",
       "  mean: 0.80603, std: 0.00970, params: {'max_depth': 4, 'n_estimators': 90},\n",
       "  mean: 0.80532, std: 0.01044, params: {'max_depth': 4, 'n_estimators': 91},\n",
       "  mean: 0.80461, std: 0.01005, params: {'max_depth': 4, 'n_estimators': 92},\n",
       "  mean: 0.80532, std: 0.00970, params: {'max_depth': 4, 'n_estimators': 93},\n",
       "  mean: 0.80518, std: 0.00914, params: {'max_depth': 4, 'n_estimators': 94},\n",
       "  mean: 0.80148, std: 0.00988, params: {'max_depth': 4, 'n_estimators': 95},\n",
       "  mean: 0.80262, std: 0.00919, params: {'max_depth': 4, 'n_estimators': 96},\n",
       "  mean: 0.80319, std: 0.00985, params: {'max_depth': 4, 'n_estimators': 97},\n",
       "  mean: 0.80418, std: 0.01041, params: {'max_depth': 4, 'n_estimators': 98},\n",
       "  mean: 0.80589, std: 0.00791, params: {'max_depth': 4, 'n_estimators': 99},\n",
       "  mean: 0.80560, std: 0.00589, params: {'max_depth': 4, 'n_estimators': 100},\n",
       "  mean: 0.80546, std: 0.00903, params: {'max_depth': 4, 'n_estimators': 101},\n",
       "  mean: 0.80347, std: 0.00922, params: {'max_depth': 4, 'n_estimators': 102},\n",
       "  mean: 0.80503, std: 0.00894, params: {'max_depth': 4, 'n_estimators': 103},\n",
       "  mean: 0.80560, std: 0.00956, params: {'max_depth': 4, 'n_estimators': 104},\n",
       "  mean: 0.80404, std: 0.00904, params: {'max_depth': 4, 'n_estimators': 105},\n",
       "  mean: 0.80674, std: 0.00844, params: {'max_depth': 4, 'n_estimators': 106},\n",
       "  mean: 0.80475, std: 0.01014, params: {'max_depth': 4, 'n_estimators': 107},\n",
       "  mean: 0.80745, std: 0.00799, params: {'max_depth': 4, 'n_estimators': 108},\n",
       "  mean: 0.80504, std: 0.01025, params: {'max_depth': 4, 'n_estimators': 109},\n",
       "  mean: 0.80205, std: 0.00944, params: {'max_depth': 4, 'n_estimators': 110},\n",
       "  mean: 0.80603, std: 0.00974, params: {'max_depth': 4, 'n_estimators': 111},\n",
       "  mean: 0.80774, std: 0.00917, params: {'max_depth': 4, 'n_estimators': 112},\n",
       "  mean: 0.80461, std: 0.00926, params: {'max_depth': 4, 'n_estimators': 113},\n",
       "  mean: 0.80361, std: 0.01039, params: {'max_depth': 4, 'n_estimators': 114},\n",
       "  mean: 0.80518, std: 0.00992, params: {'max_depth': 4, 'n_estimators': 115},\n",
       "  mean: 0.80461, std: 0.01059, params: {'max_depth': 4, 'n_estimators': 116},\n",
       "  mean: 0.80375, std: 0.00962, params: {'max_depth': 4, 'n_estimators': 117},\n",
       "  mean: 0.80361, std: 0.01020, params: {'max_depth': 4, 'n_estimators': 118},\n",
       "  mean: 0.80333, std: 0.00973, params: {'max_depth': 4, 'n_estimators': 119},\n",
       "  mean: 0.80333, std: 0.00908, params: {'max_depth': 4, 'n_estimators': 120},\n",
       "  mean: 0.80148, std: 0.01020, params: {'max_depth': 4, 'n_estimators': 121},\n",
       "  mean: 0.80375, std: 0.00843, params: {'max_depth': 4, 'n_estimators': 122},\n",
       "  mean: 0.80390, std: 0.00976, params: {'max_depth': 4, 'n_estimators': 123},\n",
       "  mean: 0.80148, std: 0.01024, params: {'max_depth': 4, 'n_estimators': 124},\n",
       "  mean: 0.80375, std: 0.00946, params: {'max_depth': 4, 'n_estimators': 125},\n",
       "  mean: 0.80589, std: 0.00909, params: {'max_depth': 4, 'n_estimators': 126},\n",
       "  mean: 0.80432, std: 0.00960, params: {'max_depth': 4, 'n_estimators': 127},\n",
       "  mean: 0.80376, std: 0.00943, params: {'max_depth': 4, 'n_estimators': 128},\n",
       "  mean: 0.80461, std: 0.01092, params: {'max_depth': 4, 'n_estimators': 129},\n",
       "  mean: 0.80375, std: 0.00630, params: {'max_depth': 4, 'n_estimators': 130},\n",
       "  mean: 0.80475, std: 0.01055, params: {'max_depth': 4, 'n_estimators': 131},\n",
       "  mean: 0.80418, std: 0.00971, params: {'max_depth': 4, 'n_estimators': 132},\n",
       "  mean: 0.80233, std: 0.00919, params: {'max_depth': 4, 'n_estimators': 133},\n",
       "  mean: 0.80447, std: 0.01009, params: {'max_depth': 4, 'n_estimators': 134},\n",
       "  mean: 0.80361, std: 0.00908, params: {'max_depth': 4, 'n_estimators': 135},\n",
       "  mean: 0.80518, std: 0.01001, params: {'max_depth': 4, 'n_estimators': 136},\n",
       "  mean: 0.80475, std: 0.01189, params: {'max_depth': 4, 'n_estimators': 137},\n",
       "  mean: 0.80162, std: 0.00707, params: {'max_depth': 4, 'n_estimators': 138},\n",
       "  mean: 0.80646, std: 0.00988, params: {'max_depth': 4, 'n_estimators': 139},\n",
       "  mean: 0.80347, std: 0.01058, params: {'max_depth': 4, 'n_estimators': 140},\n",
       "  mean: 0.80489, std: 0.00665, params: {'max_depth': 4, 'n_estimators': 141},\n",
       "  mean: 0.80489, std: 0.00997, params: {'max_depth': 4, 'n_estimators': 142},\n",
       "  mean: 0.80176, std: 0.01165, params: {'max_depth': 4, 'n_estimators': 143},\n",
       "  mean: 0.80134, std: 0.00874, params: {'max_depth': 4, 'n_estimators': 144},\n",
       "  mean: 0.80376, std: 0.00809, params: {'max_depth': 4, 'n_estimators': 145},\n",
       "  mean: 0.80262, std: 0.00998, params: {'max_depth': 4, 'n_estimators': 146},\n",
       "  mean: 0.80347, std: 0.00996, params: {'max_depth': 4, 'n_estimators': 147},\n",
       "  mean: 0.80248, std: 0.01124, params: {'max_depth': 4, 'n_estimators': 148},\n",
       "  mean: 0.80575, std: 0.00975, params: {'max_depth': 4, 'n_estimators': 149},\n",
       "  mean: 0.73422, std: 0.00017, params: {'max_depth': 5, 'n_estimators': 1},\n",
       "  mean: 0.73422, std: 0.00017, params: {'max_depth': 5, 'n_estimators': 2},\n",
       "  mean: 0.73422, std: 0.00017, params: {'max_depth': 5, 'n_estimators': 3},\n",
       "  mean: 0.73422, std: 0.00017, params: {'max_depth': 5, 'n_estimators': 4},\n",
       "  mean: 0.73422, std: 0.00017, params: {'max_depth': 5, 'n_estimators': 5},\n",
       "  mean: 0.73507, std: 0.00170, params: {'max_depth': 5, 'n_estimators': 6},\n",
       "  mean: 0.74602, std: 0.00929, params: {'max_depth': 5, 'n_estimators': 7},\n",
       "  mean: 0.76138, std: 0.00340, params: {'max_depth': 5, 'n_estimators': 8},\n",
       "  mean: 0.76635, std: 0.00498, params: {'max_depth': 5, 'n_estimators': 9},\n",
       "  mean: 0.77617, std: 0.00750, params: {'max_depth': 5, 'n_estimators': 10},\n",
       "  mean: 0.78058, std: 0.00900, params: {'max_depth': 5, 'n_estimators': 11},\n",
       "  mean: 0.78385, std: 0.00936, params: {'max_depth': 5, 'n_estimators': 12},\n",
       "  mean: 0.78740, std: 0.00426, params: {'max_depth': 5, 'n_estimators': 13},\n",
       "  mean: 0.79110, std: 0.00799, params: {'max_depth': 5, 'n_estimators': 14},\n",
       "  mean: 0.79181, std: 0.00544, params: {'max_depth': 5, 'n_estimators': 15},\n",
       "  mean: 0.79366, std: 0.00811, params: {'max_depth': 5, 'n_estimators': 16},\n",
       "  mean: 0.79494, std: 0.00797, params: {'max_depth': 5, 'n_estimators': 17},\n",
       "  mean: 0.79736, std: 0.00722, params: {'max_depth': 5, 'n_estimators': 18},\n",
       "  mean: 0.79736, std: 0.00772, params: {'max_depth': 5, 'n_estimators': 19},\n",
       "  mean: 0.79835, std: 0.00864, params: {'max_depth': 5, 'n_estimators': 20},\n",
       "  mean: 0.79892, std: 0.00489, params: {'max_depth': 5, 'n_estimators': 21},\n",
       "  mean: 0.79935, std: 0.00643, params: {'max_depth': 5, 'n_estimators': 22},\n",
       "  mean: 0.79992, std: 0.01074, params: {'max_depth': 5, 'n_estimators': 23},\n",
       "  mean: 0.79849, std: 0.00807, params: {'max_depth': 5, 'n_estimators': 24},\n",
       "  mean: 0.80048, std: 0.00680, params: {'max_depth': 5, 'n_estimators': 25},\n",
       "  mean: 0.80020, std: 0.01156, params: {'max_depth': 5, 'n_estimators': 26},\n",
       "  mean: 0.80006, std: 0.00756, params: {'max_depth': 5, 'n_estimators': 27},\n",
       "  mean: 0.80333, std: 0.00444, params: {'max_depth': 5, 'n_estimators': 28},\n",
       "  mean: 0.80091, std: 0.01054, params: {'max_depth': 5, 'n_estimators': 29},\n",
       "  mean: 0.80120, std: 0.00712, params: {'max_depth': 5, 'n_estimators': 30},\n",
       "  mean: 0.80176, std: 0.00952, params: {'max_depth': 5, 'n_estimators': 31},\n",
       "  mean: 0.80333, std: 0.01035, params: {'max_depth': 5, 'n_estimators': 32},\n",
       "  mean: 0.80376, std: 0.00724, params: {'max_depth': 5, 'n_estimators': 33},\n",
       "  mean: 0.80503, std: 0.01230, params: {'max_depth': 5, 'n_estimators': 34},\n",
       "  mean: 0.80518, std: 0.01097, params: {'max_depth': 5, 'n_estimators': 35},\n",
       "  mean: 0.80333, std: 0.00588, params: {'max_depth': 5, 'n_estimators': 36},\n",
       "  mean: 0.80191, std: 0.01208, params: {'max_depth': 5, 'n_estimators': 37},\n",
       "  mean: 0.80347, std: 0.00618, params: {'max_depth': 5, 'n_estimators': 38},\n",
       "  mean: 0.80290, std: 0.00852, params: {'max_depth': 5, 'n_estimators': 39},\n",
       "  mean: 0.80176, std: 0.00968, params: {'max_depth': 5, 'n_estimators': 40},\n",
       "  mean: 0.80560, std: 0.01017, params: {'max_depth': 5, 'n_estimators': 41},\n",
       "  mean: 0.80631, std: 0.00805, params: {'max_depth': 5, 'n_estimators': 42},\n",
       "  mean: 0.80304, std: 0.01070, params: {'max_depth': 5, 'n_estimators': 43},\n",
       "  mean: 0.80660, std: 0.01085, params: {'max_depth': 5, 'n_estimators': 44},\n",
       "  mean: 0.80347, std: 0.01021, params: {'max_depth': 5, 'n_estimators': 45},\n",
       "  mean: 0.80418, std: 0.01072, params: {'max_depth': 5, 'n_estimators': 46},\n",
       "  mean: 0.80333, std: 0.01060, params: {'max_depth': 5, 'n_estimators': 47},\n",
       "  mean: 0.80375, std: 0.01124, params: {'max_depth': 5, 'n_estimators': 48},\n",
       "  mean: 0.80575, std: 0.00811, params: {'max_depth': 5, 'n_estimators': 49},\n",
       "  mean: 0.80475, std: 0.01025, params: {'max_depth': 5, 'n_estimators': 50},\n",
       "  mean: 0.80546, std: 0.00849, params: {'max_depth': 5, 'n_estimators': 51},\n",
       "  mean: 0.80233, std: 0.00951, params: {'max_depth': 5, 'n_estimators': 52},\n",
       "  mean: 0.80475, std: 0.00882, params: {'max_depth': 5, 'n_estimators': 53},\n",
       "  mean: 0.80205, std: 0.00828, params: {'max_depth': 5, 'n_estimators': 54},\n",
       "  mean: 0.80262, std: 0.00836, params: {'max_depth': 5, 'n_estimators': 55},\n",
       "  mean: 0.80347, std: 0.01212, params: {'max_depth': 5, 'n_estimators': 56},\n",
       "  mean: 0.80375, std: 0.00733, params: {'max_depth': 5, 'n_estimators': 57},\n",
       "  mean: 0.80219, std: 0.00846, params: {'max_depth': 5, 'n_estimators': 58},\n",
       "  mean: 0.80361, std: 0.00923, params: {'max_depth': 5, 'n_estimators': 59},\n",
       "  mean: 0.80418, std: 0.00846, params: {'max_depth': 5, 'n_estimators': 60},\n",
       "  mean: 0.80461, std: 0.00784, params: {'max_depth': 5, 'n_estimators': 61},\n",
       "  mean: 0.80518, std: 0.01133, params: {'max_depth': 5, 'n_estimators': 62},\n",
       "  mean: 0.80489, std: 0.01062, params: {'max_depth': 5, 'n_estimators': 63},\n",
       "  mean: 0.80205, std: 0.00992, params: {'max_depth': 5, 'n_estimators': 64},\n",
       "  mean: 0.80575, std: 0.00826, params: {'max_depth': 5, 'n_estimators': 65},\n",
       "  mean: 0.80646, std: 0.01045, params: {'max_depth': 5, 'n_estimators': 66},\n",
       "  mean: 0.80603, std: 0.00776, params: {'max_depth': 5, 'n_estimators': 67},\n",
       "  mean: 0.80475, std: 0.00866, params: {'max_depth': 5, 'n_estimators': 68},\n",
       "  mean: 0.80617, std: 0.01272, params: {'max_depth': 5, 'n_estimators': 69},\n",
       "  mean: 0.80205, std: 0.00765, params: {'max_depth': 5, 'n_estimators': 70},\n",
       "  mean: 0.80489, std: 0.00753, params: {'max_depth': 5, 'n_estimators': 71},\n",
       "  mean: 0.80191, std: 0.00746, params: {'max_depth': 5, 'n_estimators': 72},\n",
       "  mean: 0.80390, std: 0.00915, params: {'max_depth': 5, 'n_estimators': 73},\n",
       "  mean: 0.80205, std: 0.00902, params: {'max_depth': 5, 'n_estimators': 74},\n",
       "  mean: 0.80447, std: 0.00965, params: {'max_depth': 5, 'n_estimators': 75},\n",
       "  mean: 0.80432, std: 0.00995, params: {'max_depth': 5, 'n_estimators': 76},\n",
       "  mean: 0.80574, std: 0.00917, params: {'max_depth': 5, 'n_estimators': 77},\n",
       "  mean: 0.80418, std: 0.00939, params: {'max_depth': 5, 'n_estimators': 78},\n",
       "  mean: 0.80589, std: 0.00783, params: {'max_depth': 5, 'n_estimators': 79},\n",
       "  mean: 0.80305, std: 0.00843, params: {'max_depth': 5, 'n_estimators': 80},\n",
       "  mean: 0.80390, std: 0.00883, params: {'max_depth': 5, 'n_estimators': 81},\n",
       "  mean: 0.80475, std: 0.00937, params: {'max_depth': 5, 'n_estimators': 82},\n",
       "  mean: 0.80432, std: 0.00833, params: {'max_depth': 5, 'n_estimators': 83},\n",
       "  mean: 0.80205, std: 0.00725, params: {'max_depth': 5, 'n_estimators': 84},\n",
       "  mean: 0.80304, std: 0.01027, params: {'max_depth': 5, 'n_estimators': 85},\n",
       "  mean: 0.80518, std: 0.00788, params: {'max_depth': 5, 'n_estimators': 86},\n",
       "  mean: 0.80560, std: 0.00762, params: {'max_depth': 5, 'n_estimators': 87},\n",
       "  mean: 0.80489, std: 0.00784, params: {'max_depth': 5, 'n_estimators': 88},\n",
       "  mean: 0.80262, std: 0.00733, params: {'max_depth': 5, 'n_estimators': 89},\n",
       "  mean: 0.80475, std: 0.00833, params: {'max_depth': 5, 'n_estimators': 90},\n",
       "  mean: 0.80290, std: 0.00824, params: {'max_depth': 5, 'n_estimators': 91},\n",
       "  mean: 0.80475, std: 0.00763, params: {'max_depth': 5, 'n_estimators': 92},\n",
       "  mean: 0.80233, std: 0.00968, params: {'max_depth': 5, 'n_estimators': 93},\n",
       "  mean: 0.80361, std: 0.01086, params: {'max_depth': 5, 'n_estimators': 94},\n",
       "  mean: 0.80191, std: 0.00941, params: {'max_depth': 5, 'n_estimators': 95},\n",
       "  mean: 0.80319, std: 0.00784, params: {'max_depth': 5, 'n_estimators': 96},\n",
       "  mean: 0.80503, std: 0.00734, params: {'max_depth': 5, 'n_estimators': 97},\n",
       "  mean: 0.80333, std: 0.00899, params: {'max_depth': 5, 'n_estimators': 98},\n",
       "  mean: 0.80404, std: 0.00923, params: {'max_depth': 5, 'n_estimators': 99},\n",
       "  mean: 0.80461, std: 0.00889, params: {'max_depth': 5, 'n_estimators': 100},\n",
       "  mean: 0.80290, std: 0.00977, params: {'max_depth': 5, 'n_estimators': 101},\n",
       "  mean: 0.80347, std: 0.00949, params: {'max_depth': 5, 'n_estimators': 102},\n",
       "  mean: 0.80333, std: 0.01069, params: {'max_depth': 5, 'n_estimators': 103},\n",
       "  mean: 0.80120, std: 0.00686, params: {'max_depth': 5, 'n_estimators': 104},\n",
       "  mean: 0.80418, std: 0.00792, params: {'max_depth': 5, 'n_estimators': 105},\n",
       "  mean: 0.80262, std: 0.00837, params: {'max_depth': 5, 'n_estimators': 106},\n",
       "  mean: 0.80247, std: 0.00661, params: {'max_depth': 5, 'n_estimators': 107},\n",
       "  mean: 0.80290, std: 0.01128, params: {'max_depth': 5, 'n_estimators': 108},\n",
       "  mean: 0.80191, std: 0.00896, params: {'max_depth': 5, 'n_estimators': 109},\n",
       "  mean: 0.80319, std: 0.00977, params: {'max_depth': 5, 'n_estimators': 110},\n",
       "  mean: 0.80319, std: 0.00910, params: {'max_depth': 5, 'n_estimators': 111},\n",
       "  mean: 0.80489, std: 0.01028, params: {'max_depth': 5, 'n_estimators': 112},\n",
       "  mean: 0.80589, std: 0.01017, params: {'max_depth': 5, 'n_estimators': 113},\n",
       "  mean: 0.80304, std: 0.01137, params: {'max_depth': 5, 'n_estimators': 114},\n",
       "  mean: 0.80333, std: 0.00985, params: {'max_depth': 5, 'n_estimators': 115},\n",
       "  mean: 0.80162, std: 0.00925, params: {'max_depth': 5, 'n_estimators': 116},\n",
       "  mean: 0.80077, std: 0.01079, params: {'max_depth': 5, 'n_estimators': 117},\n",
       "  mean: 0.80432, std: 0.00856, params: {'max_depth': 5, 'n_estimators': 118},\n",
       "  mean: 0.80404, std: 0.01024, params: {'max_depth': 5, 'n_estimators': 119},\n",
       "  mean: 0.80475, std: 0.00742, params: {'max_depth': 5, 'n_estimators': 120},\n",
       "  mean: 0.80105, std: 0.00916, params: {'max_depth': 5, 'n_estimators': 121},\n",
       "  mean: 0.80020, std: 0.00859, params: {'max_depth': 5, 'n_estimators': 122},\n",
       "  mean: 0.80333, std: 0.00936, params: {'max_depth': 5, 'n_estimators': 123},\n",
       "  mean: 0.80247, std: 0.00824, params: {'max_depth': 5, 'n_estimators': 124},\n",
       "  mean: 0.80205, std: 0.01013, params: {'max_depth': 5, 'n_estimators': 125},\n",
       "  mean: 0.80034, std: 0.01231, params: {'max_depth': 5, 'n_estimators': 126},\n",
       "  mean: 0.80347, std: 0.01113, params: {'max_depth': 5, 'n_estimators': 127},\n",
       "  mean: 0.80404, std: 0.00992, params: {'max_depth': 5, 'n_estimators': 128},\n",
       "  mean: 0.80191, std: 0.00971, params: {'max_depth': 5, 'n_estimators': 129},\n",
       "  mean: 0.80219, std: 0.01079, params: {'max_depth': 5, 'n_estimators': 130},\n",
       "  mean: 0.80347, std: 0.01105, params: {'max_depth': 5, 'n_estimators': 131},\n",
       "  mean: 0.80248, std: 0.01115, params: {'max_depth': 5, 'n_estimators': 132},\n",
       "  mean: 0.80376, std: 0.00827, params: {'max_depth': 5, 'n_estimators': 133},\n",
       "  mean: 0.80120, std: 0.00832, params: {'max_depth': 5, 'n_estimators': 134},\n",
       "  mean: 0.80333, std: 0.00961, params: {'max_depth': 5, 'n_estimators': 135},\n",
       "  mean: 0.80148, std: 0.00993, params: {'max_depth': 5, 'n_estimators': 136},\n",
       "  mean: 0.80219, std: 0.00954, params: {'max_depth': 5, 'n_estimators': 137},\n",
       "  mean: 0.80020, std: 0.01035, params: {'max_depth': 5, 'n_estimators': 138},\n",
       "  mean: 0.80262, std: 0.00658, params: {'max_depth': 5, 'n_estimators': 139},\n",
       "  mean: 0.80461, std: 0.00953, params: {'max_depth': 5, 'n_estimators': 140},\n",
       "  mean: 0.80347, std: 0.01027, params: {'max_depth': 5, 'n_estimators': 141},\n",
       "  mean: 0.80134, std: 0.00806, params: {'max_depth': 5, 'n_estimators': 142},\n",
       "  mean: 0.80333, std: 0.00980, params: {'max_depth': 5, 'n_estimators': 143},\n",
       "  mean: 0.80290, std: 0.01023, params: {'max_depth': 5, 'n_estimators': 144},\n",
       "  mean: 0.80290, std: 0.01102, params: {'max_depth': 5, 'n_estimators': 145},\n",
       "  mean: 0.80205, std: 0.01108, params: {'max_depth': 5, 'n_estimators': 146},\n",
       "  mean: 0.80219, std: 0.01007, params: {'max_depth': 5, 'n_estimators': 147},\n",
       "  mean: 0.80162, std: 0.00889, params: {'max_depth': 5, 'n_estimators': 148},\n",
       "  mean: 0.80390, std: 0.00960, params: {'max_depth': 5, 'n_estimators': 149},\n",
       "  mean: 0.73422, std: 0.00017, params: {'max_depth': 6, 'n_estimators': 1},\n",
       "  mean: 0.73422, std: 0.00017, params: {'max_depth': 6, 'n_estimators': 2},\n",
       "  mean: 0.73422, std: 0.00017, params: {'max_depth': 6, 'n_estimators': 3},\n",
       "  mean: 0.73422, std: 0.00017, params: {'max_depth': 6, 'n_estimators': 4},\n",
       "  mean: 0.73805, std: 0.00501, params: {'max_depth': 6, 'n_estimators': 5},\n",
       "  mean: 0.74431, std: 0.00841, params: {'max_depth': 6, 'n_estimators': 6},\n",
       "  mean: 0.75469, std: 0.00446, params: {'max_depth': 6, 'n_estimators': 7},\n",
       "  mean: 0.76095, std: 0.00686, params: {'max_depth': 6, 'n_estimators': 8},\n",
       "  mean: 0.77475, std: 0.00639, params: {'max_depth': 6, 'n_estimators': 9},\n",
       "  mean: 0.77532, std: 0.00695, params: {'max_depth': 6, 'n_estimators': 10},\n",
       "  mean: 0.78072, std: 0.00370, params: {'max_depth': 6, 'n_estimators': 11},\n",
       "  mean: 0.78669, std: 0.00649, params: {'max_depth': 6, 'n_estimators': 12},\n",
       "  mean: 0.78883, std: 0.00717, params: {'max_depth': 6, 'n_estimators': 13},\n",
       "  mean: 0.78726, std: 0.00605, params: {'max_depth': 6, 'n_estimators': 14},\n",
       "  mean: 0.79124, std: 0.00757, params: {'max_depth': 6, 'n_estimators': 15},\n",
       "  mean: 0.79551, std: 0.01046, params: {'max_depth': 6, 'n_estimators': 16},\n",
       "  mean: 0.79466, std: 0.00650, params: {'max_depth': 6, 'n_estimators': 17},\n",
       "  mean: 0.80134, std: 0.00961, params: {'max_depth': 6, 'n_estimators': 18},\n",
       "  mean: 0.79778, std: 0.00802, params: {'max_depth': 6, 'n_estimators': 19},\n",
       "  mean: 0.80020, std: 0.00858, params: {'max_depth': 6, 'n_estimators': 20},\n",
       "  mean: 0.80034, std: 0.00875, params: {'max_depth': 6, 'n_estimators': 21},\n",
       "  mean: 0.79977, std: 0.00916, params: {'max_depth': 6, 'n_estimators': 22},\n",
       "  mean: 0.80162, std: 0.00808, params: {'max_depth': 6, 'n_estimators': 23},\n",
       "  mean: 0.80048, std: 0.01007, params: {'max_depth': 6, 'n_estimators': 24},\n",
       "  mean: 0.80219, std: 0.00634, params: {'max_depth': 6, 'n_estimators': 25},\n",
       "  mean: 0.80290, std: 0.00843, params: {'max_depth': 6, 'n_estimators': 26},\n",
       "  mean: 0.80162, std: 0.00770, params: {'max_depth': 6, 'n_estimators': 27},\n",
       "  mean: 0.80333, std: 0.00714, params: {'max_depth': 6, 'n_estimators': 28},\n",
       "  mean: 0.80290, std: 0.00870, params: {'max_depth': 6, 'n_estimators': 29},\n",
       "  mean: 0.80233, std: 0.00582, params: {'max_depth': 6, 'n_estimators': 30},\n",
       "  mean: 0.80319, std: 0.00907, params: {'max_depth': 6, 'n_estimators': 31},\n",
       "  mean: 0.80233, std: 0.00988, params: {'max_depth': 6, 'n_estimators': 32},\n",
       "  mean: 0.80247, std: 0.00671, params: {'max_depth': 6, 'n_estimators': 33},\n",
       "  mean: 0.80503, std: 0.00999, params: {'max_depth': 6, 'n_estimators': 34},\n",
       "  mean: 0.80191, std: 0.01050, params: {'max_depth': 6, 'n_estimators': 35},\n",
       "  mean: 0.80262, std: 0.00859, params: {'max_depth': 6, 'n_estimators': 36},\n",
       "  mean: 0.80319, std: 0.00803, params: {'max_depth': 6, 'n_estimators': 37},\n",
       "  mean: 0.80162, std: 0.00723, params: {'max_depth': 6, 'n_estimators': 38},\n",
       "  mean: 0.80376, std: 0.00964, params: {'max_depth': 6, 'n_estimators': 39},\n",
       "  mean: 0.80276, std: 0.00876, params: {'max_depth': 6, 'n_estimators': 40},\n",
       "  mean: 0.80518, std: 0.00877, params: {'max_depth': 6, 'n_estimators': 41},\n",
       "  mean: 0.80319, std: 0.00836, params: {'max_depth': 6, 'n_estimators': 42},\n",
       "  mean: 0.80390, std: 0.01090, params: {'max_depth': 6, 'n_estimators': 43},\n",
       "  mean: 0.80347, std: 0.00947, params: {'max_depth': 6, 'n_estimators': 44},\n",
       "  mean: 0.80432, std: 0.01097, params: {'max_depth': 6, 'n_estimators': 45},\n",
       "  mean: 0.80318, std: 0.00919, params: {'max_depth': 6, 'n_estimators': 46},\n",
       "  mean: 0.80219, std: 0.00935, params: {'max_depth': 6, 'n_estimators': 47},\n",
       "  mean: 0.80119, std: 0.00758, params: {'max_depth': 6, 'n_estimators': 48},\n",
       "  mean: 0.80162, std: 0.01081, params: {'max_depth': 6, 'n_estimators': 49},\n",
       "  mean: 0.80475, std: 0.01147, params: {'max_depth': 6, 'n_estimators': 50},\n",
       "  mean: 0.80574, std: 0.00970, params: {'max_depth': 6, 'n_estimators': 51},\n",
       "  mean: 0.80375, std: 0.00863, params: {'max_depth': 6, 'n_estimators': 52},\n",
       "  mean: 0.80276, std: 0.00968, params: {'max_depth': 6, 'n_estimators': 53},\n",
       "  mean: 0.80603, std: 0.01025, params: {'max_depth': 6, 'n_estimators': 54},\n",
       "  mean: 0.80475, std: 0.00763, params: {'max_depth': 6, 'n_estimators': 55},\n",
       "  mean: 0.80361, std: 0.01017, params: {'max_depth': 6, 'n_estimators': 56},\n",
       "  mean: 0.80475, std: 0.01011, params: {'max_depth': 6, 'n_estimators': 57},\n",
       "  mean: 0.80205, std: 0.00824, params: {'max_depth': 6, 'n_estimators': 58},\n",
       "  mean: 0.80276, std: 0.00879, params: {'max_depth': 6, 'n_estimators': 59},\n",
       "  mean: 0.80404, std: 0.00915, params: {'max_depth': 6, 'n_estimators': 60},\n",
       "  mean: 0.80504, std: 0.00888, params: {'max_depth': 6, 'n_estimators': 61},\n",
       "  mean: 0.80447, std: 0.00941, params: {'max_depth': 6, 'n_estimators': 62},\n",
       "  mean: 0.80319, std: 0.00966, params: {'max_depth': 6, 'n_estimators': 63},\n",
       "  mean: 0.80319, std: 0.01000, params: {'max_depth': 6, 'n_estimators': 64},\n",
       "  mean: 0.80205, std: 0.00736, params: {'max_depth': 6, 'n_estimators': 65},\n",
       "  mean: 0.80589, std: 0.00743, params: {'max_depth': 6, 'n_estimators': 66},\n",
       "  mean: 0.80532, std: 0.00939, params: {'max_depth': 6, 'n_estimators': 67},\n",
       "  mean: 0.80290, std: 0.00886, params: {'max_depth': 6, 'n_estimators': 68},\n",
       "  mean: 0.80589, std: 0.01032, params: {'max_depth': 6, 'n_estimators': 69},\n",
       "  mean: 0.80233, std: 0.01003, params: {'max_depth': 6, 'n_estimators': 70},\n",
       "  mean: 0.80404, std: 0.00789, params: {'max_depth': 6, 'n_estimators': 71},\n",
       "  mean: 0.80432, std: 0.00890, params: {'max_depth': 6, 'n_estimators': 72},\n",
       "  mean: 0.80333, std: 0.00874, params: {'max_depth': 6, 'n_estimators': 73},\n",
       "  mean: 0.80191, std: 0.00603, params: {'max_depth': 6, 'n_estimators': 74},\n",
       "  mean: 0.80589, std: 0.00901, params: {'max_depth': 6, 'n_estimators': 75},\n",
       "  mean: 0.80489, std: 0.00732, params: {'max_depth': 6, 'n_estimators': 76},\n",
       "  mean: 0.80489, std: 0.01306, params: {'max_depth': 6, 'n_estimators': 77},\n",
       "  mean: 0.80375, std: 0.00969, params: {'max_depth': 6, 'n_estimators': 78},\n",
       "  mean: 0.80404, std: 0.00941, params: {'max_depth': 6, 'n_estimators': 79},\n",
       "  mean: 0.80631, std: 0.00847, params: {'max_depth': 6, 'n_estimators': 80},\n",
       "  mean: 0.80404, std: 0.01162, params: {'max_depth': 6, 'n_estimators': 81},\n",
       "  mean: 0.80304, std: 0.01059, params: {'max_depth': 6, 'n_estimators': 82},\n",
       "  mean: 0.80319, std: 0.00978, params: {'max_depth': 6, 'n_estimators': 83},\n",
       "  mean: 0.80261, std: 0.00900, params: {'max_depth': 6, 'n_estimators': 84},\n",
       "  mean: 0.80304, std: 0.01168, params: {'max_depth': 6, 'n_estimators': 85},\n",
       "  mean: 0.80262, std: 0.00960, params: {'max_depth': 6, 'n_estimators': 86},\n",
       "  mean: 0.80134, std: 0.00828, params: {'max_depth': 6, 'n_estimators': 87},\n",
       "  mean: 0.80390, std: 0.00707, params: {'max_depth': 6, 'n_estimators': 88},\n",
       "  mean: 0.80361, std: 0.01201, params: {'max_depth': 6, 'n_estimators': 89},\n",
       "  mean: 0.80404, std: 0.01027, params: {'max_depth': 6, 'n_estimators': 90},\n",
       "  mean: 0.80290, std: 0.00877, params: {'max_depth': 6, 'n_estimators': 91},\n",
       "  mean: 0.80304, std: 0.01017, params: {'max_depth': 6, 'n_estimators': 92},\n",
       "  mean: 0.80290, std: 0.00698, params: {'max_depth': 6, 'n_estimators': 93},\n",
       "  mean: 0.80574, std: 0.00803, params: {'max_depth': 6, 'n_estimators': 94},\n",
       "  mean: 0.80319, std: 0.01132, params: {'max_depth': 6, 'n_estimators': 95},\n",
       "  mean: 0.80347, std: 0.01132, params: {'max_depth': 6, 'n_estimators': 96},\n",
       "  mean: 0.80404, std: 0.00922, params: {'max_depth': 6, 'n_estimators': 97},\n",
       "  mean: 0.80447, std: 0.00993, params: {'max_depth': 6, 'n_estimators': 98},\n",
       "  mean: 0.80418, std: 0.01064, params: {'max_depth': 6, 'n_estimators': 99},\n",
       "  mean: 0.80134, std: 0.01032, params: {'max_depth': 6, 'n_estimators': 100},\n",
       "  mean: 0.80489, std: 0.00921, params: {'max_depth': 6, 'n_estimators': 101},\n",
       "  mean: 0.80191, std: 0.00987, params: {'max_depth': 6, 'n_estimators': 102},\n",
       "  mean: 0.80276, std: 0.00930, params: {'max_depth': 6, 'n_estimators': 103},\n",
       "  mean: 0.80162, std: 0.01107, params: {'max_depth': 6, 'n_estimators': 104},\n",
       "  mean: 0.80219, std: 0.00980, params: {'max_depth': 6, 'n_estimators': 105},\n",
       "  mean: 0.80390, std: 0.01004, params: {'max_depth': 6, 'n_estimators': 106},\n",
       "  mean: 0.80148, std: 0.00999, params: {'max_depth': 6, 'n_estimators': 107},\n",
       "  mean: 0.80503, std: 0.00863, params: {'max_depth': 6, 'n_estimators': 108},\n",
       "  mean: 0.80248, std: 0.00982, params: {'max_depth': 6, 'n_estimators': 109},\n",
       "  mean: 0.80119, std: 0.01330, params: {'max_depth': 6, 'n_estimators': 110},\n",
       "  mean: 0.80205, std: 0.00797, params: {'max_depth': 6, 'n_estimators': 111},\n",
       "  mean: 0.80475, std: 0.00799, params: {'max_depth': 6, 'n_estimators': 112},\n",
       "  mean: 0.80205, std: 0.00896, params: {'max_depth': 6, 'n_estimators': 113},\n",
       "  mean: 0.80148, std: 0.01075, params: {'max_depth': 6, 'n_estimators': 114},\n",
       "  mean: 0.80276, std: 0.00947, params: {'max_depth': 6, 'n_estimators': 115},\n",
       "  mean: 0.80432, std: 0.00915, params: {'max_depth': 6, 'n_estimators': 116},\n",
       "  mean: 0.79992, std: 0.00832, params: {'max_depth': 6, 'n_estimators': 117},\n",
       "  mean: 0.80034, std: 0.01006, params: {'max_depth': 6, 'n_estimators': 118},\n",
       "  mean: 0.80290, std: 0.00946, params: {'max_depth': 6, 'n_estimators': 119},\n",
       "  mean: 0.80290, std: 0.00894, params: {'max_depth': 6, 'n_estimators': 120},\n",
       "  mean: 0.80077, std: 0.00918, params: {'max_depth': 6, 'n_estimators': 121},\n",
       "  mean: 0.80262, std: 0.01247, params: {'max_depth': 6, 'n_estimators': 122},\n",
       "  mean: 0.80233, std: 0.01238, params: {'max_depth': 6, 'n_estimators': 123},\n",
       "  mean: 0.79935, std: 0.01111, params: {'max_depth': 6, 'n_estimators': 124},\n",
       "  mean: 0.79977, std: 0.01002, params: {'max_depth': 6, 'n_estimators': 125},\n",
       "  mean: 0.80162, std: 0.00805, params: {'max_depth': 6, 'n_estimators': 126},\n",
       "  mean: 0.80077, std: 0.00891, params: {'max_depth': 6, 'n_estimators': 127},\n",
       "  mean: 0.80162, std: 0.01167, params: {'max_depth': 6, 'n_estimators': 128},\n",
       "  mean: 0.80148, std: 0.00902, params: {'max_depth': 6, 'n_estimators': 129},\n",
       "  mean: 0.80276, std: 0.00905, params: {'max_depth': 6, 'n_estimators': 130},\n",
       "  mean: 0.80049, std: 0.01040, params: {'max_depth': 6, 'n_estimators': 131},\n",
       "  mean: 0.80162, std: 0.01194, params: {'max_depth': 6, 'n_estimators': 132},\n",
       "  mean: 0.80418, std: 0.01210, params: {'max_depth': 6, 'n_estimators': 133},\n",
       "  mean: 0.80048, std: 0.00860, params: {'max_depth': 6, 'n_estimators': 134},\n",
       "  mean: 0.80191, std: 0.00713, params: {'max_depth': 6, 'n_estimators': 135},\n",
       "  mean: 0.80091, std: 0.00824, params: {'max_depth': 6, 'n_estimators': 136},\n",
       "  mean: 0.80034, std: 0.00738, params: {'max_depth': 6, 'n_estimators': 137},\n",
       "  mean: 0.80063, std: 0.00915, params: {'max_depth': 6, 'n_estimators': 138},\n",
       "  mean: 0.80247, std: 0.01148, params: {'max_depth': 6, 'n_estimators': 139},\n",
       "  mean: 0.80404, std: 0.00827, params: {'max_depth': 6, 'n_estimators': 140},\n",
       "  mean: 0.80433, std: 0.00881, params: {'max_depth': 6, 'n_estimators': 141},\n",
       "  mean: 0.80120, std: 0.00876, params: {'max_depth': 6, 'n_estimators': 142},\n",
       "  mean: 0.80361, std: 0.00899, params: {'max_depth': 6, 'n_estimators': 143},\n",
       "  mean: 0.79935, std: 0.00821, params: {'max_depth': 6, 'n_estimators': 144},\n",
       "  mean: 0.80205, std: 0.00914, params: {'max_depth': 6, 'n_estimators': 145},\n",
       "  mean: 0.80077, std: 0.00761, params: {'max_depth': 6, 'n_estimators': 146},\n",
       "  mean: 0.79864, std: 0.00819, params: {'max_depth': 6, 'n_estimators': 147},\n",
       "  mean: 0.79906, std: 0.00893, params: {'max_depth': 6, 'n_estimators': 148},\n",
       "  mean: 0.80006, std: 0.00899, params: {'max_depth': 6, 'n_estimators': 149},\n",
       "  mean: 0.73422, std: 0.00017, params: {'max_depth': 7, 'n_estimators': 1},\n",
       "  mean: 0.73422, std: 0.00017, params: {'max_depth': 7, 'n_estimators': 2},\n",
       "  mean: 0.73422, std: 0.00017, params: {'max_depth': 7, 'n_estimators': 3},\n",
       "  mean: 0.73422, std: 0.00017, params: {'max_depth': 7, 'n_estimators': 4},\n",
       "  mean: 0.73422, std: 0.00017, params: {'max_depth': 7, 'n_estimators': 5},\n",
       "  mean: 0.74730, std: 0.00381, params: {'max_depth': 7, 'n_estimators': 6},\n",
       "  mean: 0.75398, std: 0.00314, params: {'max_depth': 7, 'n_estimators': 7},\n",
       "  mean: 0.76295, std: 0.01025, params: {'max_depth': 7, 'n_estimators': 8},\n",
       "  mean: 0.76977, std: 0.00605, params: {'max_depth': 7, 'n_estimators': 9},\n",
       "  mean: 0.77759, std: 0.00517, params: {'max_depth': 7, 'n_estimators': 10},\n",
       "  mean: 0.78413, std: 0.00623, params: {'max_depth': 7, 'n_estimators': 11},\n",
       "  mean: 0.78584, std: 0.00452, params: {'max_depth': 7, 'n_estimators': 12},\n",
       "  mean: 0.78726, std: 0.00806, params: {'max_depth': 7, 'n_estimators': 13},\n",
       "  mean: 0.79096, std: 0.00654, params: {'max_depth': 7, 'n_estimators': 14},\n",
       "  mean: 0.79295, std: 0.00799, params: {'max_depth': 7, 'n_estimators': 15},\n",
       "  mean: 0.79465, std: 0.00610, params: {'max_depth': 7, 'n_estimators': 16},\n",
       "  mean: 0.79565, std: 0.00666, params: {'max_depth': 7, 'n_estimators': 17},\n",
       "  mean: 0.79764, std: 0.00551, params: {'max_depth': 7, 'n_estimators': 18},\n",
       "  mean: 0.79977, std: 0.00568, params: {'max_depth': 7, 'n_estimators': 19},\n",
       "  mean: 0.79992, std: 0.00733, params: {'max_depth': 7, 'n_estimators': 20},\n",
       "  mean: 0.79849, std: 0.00592, params: {'max_depth': 7, 'n_estimators': 21},\n",
       "  mean: 0.80305, std: 0.00905, params: {'max_depth': 7, 'n_estimators': 22},\n",
       "  mean: 0.79878, std: 0.00795, params: {'max_depth': 7, 'n_estimators': 23},\n",
       "  mean: 0.79906, std: 0.00947, params: {'max_depth': 7, 'n_estimators': 24},\n",
       "  mean: 0.80233, std: 0.00784, params: {'max_depth': 7, 'n_estimators': 25},\n",
       "  mean: 0.79878, std: 0.00622, params: {'max_depth': 7, 'n_estimators': 26},\n",
       "  mean: 0.80461, std: 0.00858, params: {'max_depth': 7, 'n_estimators': 27},\n",
       "  mean: 0.80219, std: 0.00830, params: {'max_depth': 7, 'n_estimators': 28},\n",
       "  mean: 0.80034, std: 0.00922, params: {'max_depth': 7, 'n_estimators': 29},\n",
       "  mean: 0.80418, std: 0.00745, params: {'max_depth': 7, 'n_estimators': 30},\n",
       "  mean: 0.80404, std: 0.00858, params: {'max_depth': 7, 'n_estimators': 31},\n",
       "  mean: 0.80461, std: 0.00789, params: {'max_depth': 7, 'n_estimators': 32},\n",
       "  mean: 0.80191, std: 0.00593, params: {'max_depth': 7, 'n_estimators': 33},\n",
       "  mean: 0.80176, std: 0.00830, params: {'max_depth': 7, 'n_estimators': 34},\n",
       "  mean: 0.80304, std: 0.00804, params: {'max_depth': 7, 'n_estimators': 35},\n",
       "  mean: 0.80646, std: 0.01068, params: {'max_depth': 7, 'n_estimators': 36},\n",
       "  mean: 0.80191, std: 0.01100, params: {'max_depth': 7, 'n_estimators': 37},\n",
       "  mean: 0.80148, std: 0.00897, params: {'max_depth': 7, 'n_estimators': 38},\n",
       "  mean: 0.80304, std: 0.00936, params: {'max_depth': 7, 'n_estimators': 39},\n",
       "  mean: 0.80347, std: 0.01031, params: {'max_depth': 7, 'n_estimators': 40},\n",
       "  mean: 0.80375, std: 0.00842, params: {'max_depth': 7, 'n_estimators': 41},\n",
       "  mean: 0.80304, std: 0.00830, params: {'max_depth': 7, 'n_estimators': 42},\n",
       "  mean: 0.80432, std: 0.01067, params: {'max_depth': 7, 'n_estimators': 43},\n",
       "  mean: 0.80589, std: 0.01027, params: {'max_depth': 7, 'n_estimators': 44},\n",
       "  mean: 0.80347, std: 0.01008, params: {'max_depth': 7, 'n_estimators': 45},\n",
       "  mean: 0.80617, std: 0.00894, params: {'max_depth': 7, 'n_estimators': 46},\n",
       "  mean: 0.80475, std: 0.01077, params: {'max_depth': 7, 'n_estimators': 47},\n",
       "  mean: 0.80489, std: 0.01157, params: {'max_depth': 7, 'n_estimators': 48},\n",
       "  mean: 0.80205, std: 0.01101, params: {'max_depth': 7, 'n_estimators': 49},\n",
       "  mean: 0.80432, std: 0.00914, params: {'max_depth': 7, 'n_estimators': 50},\n",
       "  mean: 0.80333, std: 0.00640, params: {'max_depth': 7, 'n_estimators': 51},\n",
       "  mean: 0.80191, std: 0.01014, params: {'max_depth': 7, 'n_estimators': 52},\n",
       "  mean: 0.80304, std: 0.01010, params: {'max_depth': 7, 'n_estimators': 53},\n",
       "  mean: 0.80248, std: 0.00997, params: {'max_depth': 7, 'n_estimators': 54},\n",
       "  mean: 0.80447, std: 0.00707, params: {'max_depth': 7, 'n_estimators': 55},\n",
       "  mean: 0.80674, std: 0.00891, params: {'max_depth': 7, 'n_estimators': 56},\n",
       "  mean: 0.80475, std: 0.00674, params: {'max_depth': 7, 'n_estimators': 57},\n",
       "  mean: 0.80390, std: 0.00844, params: {'max_depth': 7, 'n_estimators': 58},\n",
       "  mean: 0.80546, std: 0.00884, params: {'max_depth': 7, 'n_estimators': 59},\n",
       "  mean: 0.80518, std: 0.01095, params: {'max_depth': 7, 'n_estimators': 60},\n",
       "  mean: 0.80390, std: 0.01192, params: {'max_depth': 7, 'n_estimators': 61},\n",
       "  mean: 0.80503, std: 0.00759, params: {'max_depth': 7, 'n_estimators': 62},\n",
       "  mean: 0.80603, std: 0.00964, params: {'max_depth': 7, 'n_estimators': 63},\n",
       "  mean: 0.80532, std: 0.00730, params: {'max_depth': 7, 'n_estimators': 64},\n",
       "  mean: 0.80290, std: 0.00807, params: {'max_depth': 7, 'n_estimators': 65},\n",
       "  mean: 0.80404, std: 0.00990, params: {'max_depth': 7, 'n_estimators': 66},\n",
       "  mean: 0.80489, std: 0.01016, params: {'max_depth': 7, 'n_estimators': 67},\n",
       "  mean: 0.80489, std: 0.01006, params: {'max_depth': 7, 'n_estimators': 68},\n",
       "  mean: 0.80560, std: 0.00996, params: {'max_depth': 7, 'n_estimators': 69},\n",
       "  mean: 0.80176, std: 0.00780, params: {'max_depth': 7, 'n_estimators': 70},\n",
       "  mean: 0.80461, std: 0.00950, params: {'max_depth': 7, 'n_estimators': 71},\n",
       "  mean: 0.80432, std: 0.00884, params: {'max_depth': 7, 'n_estimators': 72},\n",
       "  mean: 0.80617, std: 0.00910, params: {'max_depth': 7, 'n_estimators': 73},\n",
       "  mean: 0.80191, std: 0.00831, params: {'max_depth': 7, 'n_estimators': 74},\n",
       "  mean: 0.80589, std: 0.00792, params: {'max_depth': 7, 'n_estimators': 75},\n",
       "  mean: 0.80304, std: 0.00717, params: {'max_depth': 7, 'n_estimators': 76},\n",
       "  mean: 0.80361, std: 0.01009, params: {'max_depth': 7, 'n_estimators': 77},\n",
       "  mean: 0.80461, std: 0.00745, params: {'max_depth': 7, 'n_estimators': 78},\n",
       "  mean: 0.80475, std: 0.01234, params: {'max_depth': 7, 'n_estimators': 79},\n",
       "  mean: 0.80375, std: 0.01014, params: {'max_depth': 7, 'n_estimators': 80},\n",
       "  mean: 0.80233, std: 0.00928, params: {'max_depth': 7, 'n_estimators': 81},\n",
       "  mean: 0.80347, std: 0.01038, params: {'max_depth': 7, 'n_estimators': 82},\n",
       "  mean: 0.80262, std: 0.00959, params: {'max_depth': 7, 'n_estimators': 83},\n",
       "  mean: 0.80276, std: 0.00709, params: {'max_depth': 7, 'n_estimators': 84},\n",
       "  mean: 0.80162, std: 0.00970, params: {'max_depth': 7, 'n_estimators': 85},\n",
       "  mean: 0.80176, std: 0.01090, params: {'max_depth': 7, 'n_estimators': 86},\n",
       "  mean: 0.80361, std: 0.00945, params: {'max_depth': 7, 'n_estimators': 87},\n",
       "  mean: 0.80361, std: 0.00908, params: {'max_depth': 7, 'n_estimators': 88},\n",
       "  mean: 0.80390, std: 0.00696, params: {'max_depth': 7, 'n_estimators': 89},\n",
       "  mean: 0.80432, std: 0.00907, params: {'max_depth': 7, 'n_estimators': 90},\n",
       "  mean: 0.80105, std: 0.01041, params: {'max_depth': 7, 'n_estimators': 91},\n",
       "  mean: 0.80262, std: 0.00932, params: {'max_depth': 7, 'n_estimators': 92},\n",
       "  mean: 0.80034, std: 0.00873, params: {'max_depth': 7, 'n_estimators': 93},\n",
       "  mean: 0.80276, std: 0.00943, params: {'max_depth': 7, 'n_estimators': 94},\n",
       "  mean: 0.80532, std: 0.00852, params: {'max_depth': 7, 'n_estimators': 95},\n",
       "  mean: 0.80191, std: 0.00733, params: {'max_depth': 7, 'n_estimators': 96},\n",
       "  mean: 0.80205, std: 0.00901, params: {'max_depth': 7, 'n_estimators': 97},\n",
       "  mean: 0.80290, std: 0.00819, params: {'max_depth': 7, 'n_estimators': 98},\n",
       "  mean: 0.80447, std: 0.01268, params: {'max_depth': 7, 'n_estimators': 99},\n",
       "  mean: 0.80219, std: 0.00926, params: {'max_depth': 7, 'n_estimators': 100},\n",
       "  mean: 0.80219, std: 0.00741, params: {'max_depth': 7, 'n_estimators': 101},\n",
       "  mean: 0.80233, std: 0.00850, params: {'max_depth': 7, 'n_estimators': 102},\n",
       "  mean: 0.79992, std: 0.00991, params: {'max_depth': 7, 'n_estimators': 103},\n",
       "  mean: 0.80390, std: 0.00753, params: {'max_depth': 7, 'n_estimators': 104},\n",
       "  mean: 0.80404, std: 0.00890, params: {'max_depth': 7, 'n_estimators': 105},\n",
       "  mean: 0.80404, std: 0.01093, params: {'max_depth': 7, 'n_estimators': 106},\n",
       "  mean: 0.80518, std: 0.01069, params: {'max_depth': 7, 'n_estimators': 107},\n",
       "  mean: 0.80475, std: 0.00783, params: {'max_depth': 7, 'n_estimators': 108},\n",
       "  mean: 0.80048, std: 0.00911, params: {'max_depth': 7, 'n_estimators': 109},\n",
       "  mean: 0.80219, std: 0.00927, params: {'max_depth': 7, 'n_estimators': 110},\n",
       "  mean: 0.80304, std: 0.00906, params: {'max_depth': 7, 'n_estimators': 111},\n",
       "  mean: 0.80091, std: 0.00717, params: {'max_depth': 7, 'n_estimators': 112},\n",
       "  mean: 0.80319, std: 0.00947, params: {'max_depth': 7, 'n_estimators': 113},\n",
       "  mean: 0.80361, std: 0.01082, params: {'max_depth': 7, 'n_estimators': 114},\n",
       "  mean: 0.80304, std: 0.00809, params: {'max_depth': 7, 'n_estimators': 115},\n",
       "  mean: 0.80191, std: 0.00915, params: {'max_depth': 7, 'n_estimators': 116},\n",
       "  mean: 0.80247, std: 0.01067, params: {'max_depth': 7, 'n_estimators': 117},\n",
       "  mean: 0.80120, std: 0.00954, params: {'max_depth': 7, 'n_estimators': 118},\n",
       "  mean: 0.80418, std: 0.01058, params: {'max_depth': 7, 'n_estimators': 119},\n",
       "  mean: 0.80276, std: 0.00861, params: {'max_depth': 7, 'n_estimators': 120},\n",
       "  mean: 0.80262, std: 0.00832, params: {'max_depth': 7, 'n_estimators': 121},\n",
       "  mean: 0.80247, std: 0.01090, params: {'max_depth': 7, 'n_estimators': 122},\n",
       "  mean: 0.80077, std: 0.01033, params: {'max_depth': 7, 'n_estimators': 123},\n",
       "  mean: 0.80191, std: 0.00885, params: {'max_depth': 7, 'n_estimators': 124},\n",
       "  mean: 0.80162, std: 0.00802, params: {'max_depth': 7, 'n_estimators': 125},\n",
       "  mean: 0.80048, std: 0.00857, params: {'max_depth': 7, 'n_estimators': 126},\n",
       "  mean: 0.80375, std: 0.00897, params: {'max_depth': 7, 'n_estimators': 127},\n",
       "  mean: 0.80020, std: 0.01056, params: {'max_depth': 7, 'n_estimators': 128},\n",
       "  mean: 0.79949, std: 0.01162, params: {'max_depth': 7, 'n_estimators': 129},\n",
       "  mean: 0.80319, std: 0.00869, params: {'max_depth': 7, 'n_estimators': 130},\n",
       "  mean: 0.80176, std: 0.00788, params: {'max_depth': 7, 'n_estimators': 131},\n",
       "  mean: 0.80177, std: 0.01018, params: {'max_depth': 7, 'n_estimators': 132},\n",
       "  mean: 0.80034, std: 0.01193, params: {'max_depth': 7, 'n_estimators': 133},\n",
       "  mean: 0.80105, std: 0.00631, params: {'max_depth': 7, 'n_estimators': 134},\n",
       "  mean: 0.80262, std: 0.01009, params: {'max_depth': 7, 'n_estimators': 135},\n",
       "  mean: 0.80120, std: 0.01037, params: {'max_depth': 7, 'n_estimators': 136},\n",
       "  mean: 0.79935, std: 0.00837, params: {'max_depth': 7, 'n_estimators': 137},\n",
       "  mean: 0.80091, std: 0.01124, params: {'max_depth': 7, 'n_estimators': 138},\n",
       "  mean: 0.80205, std: 0.01097, params: {'max_depth': 7, 'n_estimators': 139},\n",
       "  mean: 0.80119, std: 0.00843, params: {'max_depth': 7, 'n_estimators': 140},\n",
       "  mean: 0.80176, std: 0.00871, params: {'max_depth': 7, 'n_estimators': 141},\n",
       "  mean: 0.80091, std: 0.00844, params: {'max_depth': 7, 'n_estimators': 142},\n",
       "  mean: 0.80205, std: 0.00994, params: {'max_depth': 7, 'n_estimators': 143},\n",
       "  mean: 0.80034, std: 0.00762, params: {'max_depth': 7, 'n_estimators': 144},\n",
       "  mean: 0.80077, std: 0.00881, params: {'max_depth': 7, 'n_estimators': 145},\n",
       "  mean: 0.79992, std: 0.00888, params: {'max_depth': 7, 'n_estimators': 146},\n",
       "  mean: 0.79935, std: 0.01154, params: {'max_depth': 7, 'n_estimators': 147},\n",
       "  mean: 0.80105, std: 0.01192, params: {'max_depth': 7, 'n_estimators': 148},\n",
       "  mean: 0.79906, std: 0.00978, params: {'max_depth': 7, 'n_estimators': 149},\n",
       "  mean: 0.73422, std: 0.00017, params: {'max_depth': 8, 'n_estimators': 1},\n",
       "  mean: 0.73422, std: 0.00017, params: {'max_depth': 8, 'n_estimators': 2},\n",
       "  mean: 0.73422, std: 0.00017, params: {'max_depth': 8, 'n_estimators': 3},\n",
       "  mean: 0.73422, std: 0.00017, params: {'max_depth': 8, 'n_estimators': 4},\n",
       "  mean: 0.73422, std: 0.00017, params: {'max_depth': 8, 'n_estimators': 5},\n",
       "  mean: 0.73919, std: 0.00116, params: {'max_depth': 8, 'n_estimators': 6},\n",
       "  mean: 0.75412, std: 0.00515, params: {'max_depth': 8, 'n_estimators': 7},\n",
       "  mean: 0.76735, std: 0.00637, params: {'max_depth': 8, 'n_estimators': 8},\n",
       "  mean: 0.77617, std: 0.00923, params: {'max_depth': 8, 'n_estimators': 9},\n",
       "  mean: 0.77887, std: 0.00623, params: {'max_depth': 8, 'n_estimators': 10},\n",
       "  mean: 0.78115, std: 0.00766, params: {'max_depth': 8, 'n_estimators': 11},\n",
       "  mean: 0.78655, std: 0.00682, params: {'max_depth': 8, 'n_estimators': 12},\n",
       "  mean: 0.78897, std: 0.00717, params: {'max_depth': 8, 'n_estimators': 13},\n",
       "  mean: 0.78740, std: 0.00746, params: {'max_depth': 8, 'n_estimators': 14},\n",
       "  mean: 0.79480, std: 0.00797, params: {'max_depth': 8, 'n_estimators': 15},\n",
       "  mean: 0.79210, std: 0.00872, params: {'max_depth': 8, 'n_estimators': 16},\n",
       "  mean: 0.79849, std: 0.00663, params: {'max_depth': 8, 'n_estimators': 17},\n",
       "  mean: 0.79665, std: 0.01020, params: {'max_depth': 8, 'n_estimators': 18},\n",
       "  mean: 0.79963, std: 0.00666, params: {'max_depth': 8, 'n_estimators': 19},\n",
       "  mean: 0.79608, std: 0.00898, params: {'max_depth': 8, 'n_estimators': 20},\n",
       "  mean: 0.79864, std: 0.01001, params: {'max_depth': 8, 'n_estimators': 21},\n",
       "  mean: 0.80120, std: 0.00829, params: {'max_depth': 8, 'n_estimators': 22},\n",
       "  mean: 0.80176, std: 0.00787, params: {'max_depth': 8, 'n_estimators': 23},\n",
       "  mean: 0.80006, std: 0.00738, params: {'max_depth': 8, 'n_estimators': 24},\n",
       "  mean: 0.80290, std: 0.00920, params: {'max_depth': 8, 'n_estimators': 25},\n",
       "  mean: 0.80461, std: 0.00853, params: {'max_depth': 8, 'n_estimators': 26},\n",
       "  mean: 0.80248, std: 0.00936, params: {'max_depth': 8, 'n_estimators': 27},\n",
       "  mean: 0.80233, std: 0.01044, params: {'max_depth': 8, 'n_estimators': 28},\n",
       "  mean: 0.80418, std: 0.01008, params: {'max_depth': 8, 'n_estimators': 29},\n",
       "  mean: 0.79892, std: 0.00817, params: {'max_depth': 8, 'n_estimators': 30},\n",
       "  mean: 0.80532, std: 0.01011, params: {'max_depth': 8, 'n_estimators': 31},\n",
       "  mean: 0.80148, std: 0.00881, params: {'max_depth': 8, 'n_estimators': 32},\n",
       "  mean: 0.80262, std: 0.00925, params: {'max_depth': 8, 'n_estimators': 33},\n",
       "  mean: 0.80233, std: 0.00499, params: {'max_depth': 8, 'n_estimators': 34},\n",
       "  mean: 0.80418, std: 0.01031, params: {'max_depth': 8, 'n_estimators': 35},\n",
       "  mean: 0.80290, std: 0.00858, params: {'max_depth': 8, 'n_estimators': 36},\n",
       "  mean: 0.80461, std: 0.00774, params: {'max_depth': 8, 'n_estimators': 37},\n",
       "  mean: 0.80247, std: 0.01136, params: {'max_depth': 8, 'n_estimators': 38},\n",
       "  mean: 0.80518, std: 0.00931, params: {'max_depth': 8, 'n_estimators': 39},\n",
       "  mean: 0.80390, std: 0.00779, params: {'max_depth': 8, 'n_estimators': 40},\n",
       "  mean: 0.80347, std: 0.00801, params: {'max_depth': 8, 'n_estimators': 41},\n",
       "  mean: 0.80248, std: 0.01069, params: {'max_depth': 8, 'n_estimators': 42},\n",
       "  mean: 0.80574, std: 0.00993, params: {'max_depth': 8, 'n_estimators': 43},\n",
       "  mean: 0.80304, std: 0.01021, params: {'max_depth': 8, 'n_estimators': 44},\n",
       "  mean: 0.80390, std: 0.00958, params: {'max_depth': 8, 'n_estimators': 45},\n",
       "  mean: 0.80418, std: 0.00693, params: {'max_depth': 8, 'n_estimators': 46},\n",
       "  mean: 0.80233, std: 0.00739, params: {'max_depth': 8, 'n_estimators': 47},\n",
       "  mean: 0.80631, std: 0.01104, params: {'max_depth': 8, 'n_estimators': 48},\n",
       "  mean: 0.80432, std: 0.00990, params: {'max_depth': 8, 'n_estimators': 49},\n",
       "  mean: 0.80432, std: 0.00836, params: {'max_depth': 8, 'n_estimators': 50},\n",
       "  mean: 0.80489, std: 0.01036, params: {'max_depth': 8, 'n_estimators': 51},\n",
       "  mean: 0.80205, std: 0.01129, params: {'max_depth': 8, 'n_estimators': 52},\n",
       "  mean: 0.80446, std: 0.00866, params: {'max_depth': 8, 'n_estimators': 53},\n",
       "  mean: 0.80319, std: 0.00884, params: {'max_depth': 8, 'n_estimators': 54},\n",
       "  mean: 0.79963, std: 0.01008, params: {'max_depth': 8, 'n_estimators': 55},\n",
       "  mean: 0.80276, std: 0.00974, params: {'max_depth': 8, 'n_estimators': 56},\n",
       "  mean: 0.80418, std: 0.01169, params: {'max_depth': 8, 'n_estimators': 57},\n",
       "  mean: 0.80532, std: 0.00819, params: {'max_depth': 8, 'n_estimators': 58},\n",
       "  mean: 0.80219, std: 0.00803, params: {'max_depth': 8, 'n_estimators': 59},\n",
       "  mean: 0.80375, std: 0.00894, params: {'max_depth': 8, 'n_estimators': 60},\n",
       "  mean: 0.80546, std: 0.00967, params: {'max_depth': 8, 'n_estimators': 61},\n",
       "  mean: 0.80461, std: 0.00831, params: {'max_depth': 8, 'n_estimators': 62},\n",
       "  mean: 0.80318, std: 0.00766, params: {'max_depth': 8, 'n_estimators': 63},\n",
       "  mean: 0.80262, std: 0.00866, params: {'max_depth': 8, 'n_estimators': 64},\n",
       "  mean: 0.80347, std: 0.00692, params: {'max_depth': 8, 'n_estimators': 65},\n",
       "  mean: 0.80233, std: 0.01015, params: {'max_depth': 8, 'n_estimators': 66},\n",
       "  mean: 0.80262, std: 0.00860, params: {'max_depth': 8, 'n_estimators': 67},\n",
       "  mean: 0.80575, std: 0.00883, params: {'max_depth': 8, 'n_estimators': 68},\n",
       "  mean: 0.80532, std: 0.00933, params: {'max_depth': 8, 'n_estimators': 69},\n",
       "  mean: 0.80347, std: 0.01036, params: {'max_depth': 8, 'n_estimators': 70},\n",
       "  mean: 0.80432, std: 0.01080, params: {'max_depth': 8, 'n_estimators': 71},\n",
       "  mean: 0.80333, std: 0.00912, params: {'max_depth': 8, 'n_estimators': 72},\n",
       "  mean: 0.80361, std: 0.00896, params: {'max_depth': 8, 'n_estimators': 73},\n",
       "  mean: 0.80361, std: 0.01016, params: {'max_depth': 8, 'n_estimators': 74},\n",
       "  mean: 0.80191, std: 0.00706, params: {'max_depth': 8, 'n_estimators': 75},\n",
       "  mean: 0.80418, std: 0.00837, params: {'max_depth': 8, 'n_estimators': 76},\n",
       "  mean: 0.80063, std: 0.00852, params: {'max_depth': 8, 'n_estimators': 77},\n",
       "  mean: 0.80347, std: 0.00850, params: {'max_depth': 8, 'n_estimators': 78},\n",
       "  mean: 0.80262, std: 0.00772, params: {'max_depth': 8, 'n_estimators': 79},\n",
       "  mean: 0.80475, std: 0.00974, params: {'max_depth': 8, 'n_estimators': 80},\n",
       "  mean: 0.80347, std: 0.01159, params: {'max_depth': 8, 'n_estimators': 81},\n",
       "  mean: 0.80504, std: 0.00886, params: {'max_depth': 8, 'n_estimators': 82},\n",
       "  mean: 0.80503, std: 0.00985, params: {'max_depth': 8, 'n_estimators': 83},\n",
       "  mean: 0.80518, std: 0.00780, params: {'max_depth': 8, 'n_estimators': 84},\n",
       "  mean: 0.80290, std: 0.01029, params: {'max_depth': 8, 'n_estimators': 85},\n",
       "  mean: 0.80333, std: 0.01103, params: {'max_depth': 8, 'n_estimators': 86},\n",
       "  mean: 0.80418, std: 0.01001, params: {'max_depth': 8, 'n_estimators': 87},\n",
       "  mean: 0.80119, std: 0.00996, params: {'max_depth': 8, 'n_estimators': 88},\n",
       "  mean: 0.80432, std: 0.01055, params: {'max_depth': 8, 'n_estimators': 89},\n",
       "  mean: 0.80134, std: 0.01103, params: {'max_depth': 8, 'n_estimators': 90},\n",
       "  mean: 0.80361, std: 0.01280, params: {'max_depth': 8, 'n_estimators': 91},\n",
       "  mean: 0.80375, std: 0.01007, params: {'max_depth': 8, 'n_estimators': 92},\n",
       "  mean: 0.80248, std: 0.01004, params: {'max_depth': 8, 'n_estimators': 93},\n",
       "  mean: 0.80376, std: 0.00922, params: {'max_depth': 8, 'n_estimators': 94},\n",
       "  mean: 0.80120, std: 0.00859, params: {'max_depth': 8, 'n_estimators': 95},\n",
       "  mean: 0.80134, std: 0.00845, params: {'max_depth': 8, 'n_estimators': 96},\n",
       "  mean: 0.80247, std: 0.00985, params: {'max_depth': 8, 'n_estimators': 97},\n",
       "  mean: 0.80276, std: 0.01089, params: {'max_depth': 8, 'n_estimators': 98},\n",
       "  mean: 0.80077, std: 0.01030, params: {'max_depth': 8, 'n_estimators': 99},\n",
       "  mean: 0.80219, std: 0.01149, params: {'max_depth': 8, 'n_estimators': 100},\n",
       "  mean: 0.80532, std: 0.00920, params: {'max_depth': 8, 'n_estimators': 101},\n",
       "  mean: 0.80162, std: 0.00866, params: {'max_depth': 8, 'n_estimators': 102},\n",
       "  mean: 0.80290, std: 0.00723, params: {'max_depth': 8, 'n_estimators': 103},\n",
       "  mean: 0.80432, std: 0.00871, params: {'max_depth': 8, 'n_estimators': 104},\n",
       "  mean: 0.80091, std: 0.00987, params: {'max_depth': 8, 'n_estimators': 105},\n",
       "  mean: 0.80447, std: 0.00810, params: {'max_depth': 8, 'n_estimators': 106},\n",
       "  ...],\n",
       " {'max_depth': 3, 'n_estimators': 110},\n",
       " 0.8085900118780109)"
      ]
     },
     "execution_count": 12,
     "metadata": {},
     "output_type": "execute_result"
    }
   ],
   "source": [
    "y_1d = df['Churn']\n",
    "# Find number of estimators\n",
    "param_test1 = {'n_estimators':np.arange(1, 150), 'max_depth': np.arange(2,16)}\n",
    "gsearch1 = GridSearchCV(estimator = GradientBoostingClassifier(learning_rate=0.1, min_samples_split=500,min_samples_leaf=50,max_features='sqrt',subsample=0.8), \n",
    "param_grid = param_test1, scoring='accuracy',n_jobs=4,iid=False, cv=5)\n",
    "gsearch1.fit(X,y_1d)\n",
    "gsearch1.grid_scores_, gsearch1.best_params_, gsearch1.best_score_"
   ]
  },
  {
   "cell_type": "code",
   "execution_count": 13,
   "metadata": {},
   "outputs": [
    {
     "data": {
      "text/plain": [
       "([mean: 0.80688, std: 0.00747, params: {'min_samples_split': 50},\n",
       "  mean: 0.80660, std: 0.00861, params: {'min_samples_split': 60},\n",
       "  mean: 0.80489, std: 0.00786, params: {'min_samples_split': 70},\n",
       "  mean: 0.80518, std: 0.00862, params: {'min_samples_split': 80},\n",
       "  mean: 0.80788, std: 0.00855, params: {'min_samples_split': 90},\n",
       "  mean: 0.80660, std: 0.00871, params: {'min_samples_split': 100},\n",
       "  mean: 0.80276, std: 0.00721, params: {'min_samples_split': 110},\n",
       "  mean: 0.80489, std: 0.00902, params: {'min_samples_split': 120},\n",
       "  mean: 0.80333, std: 0.00751, params: {'min_samples_split': 130},\n",
       "  mean: 0.80304, std: 0.00762, params: {'min_samples_split': 140},\n",
       "  mean: 0.80461, std: 0.00854, params: {'min_samples_split': 150},\n",
       "  mean: 0.80589, std: 0.00609, params: {'min_samples_split': 160},\n",
       "  mean: 0.80589, std: 0.00843, params: {'min_samples_split': 170},\n",
       "  mean: 0.80503, std: 0.01169, params: {'min_samples_split': 180},\n",
       "  mean: 0.80376, std: 0.00792, params: {'min_samples_split': 190},\n",
       "  mean: 0.80475, std: 0.01069, params: {'min_samples_split': 200},\n",
       "  mean: 0.80830, std: 0.00771, params: {'min_samples_split': 210},\n",
       "  mean: 0.80617, std: 0.00807, params: {'min_samples_split': 220},\n",
       "  mean: 0.80205, std: 0.00654, params: {'min_samples_split': 230},\n",
       "  mean: 0.80503, std: 0.01067, params: {'min_samples_split': 240},\n",
       "  mean: 0.80788, std: 0.00911, params: {'min_samples_split': 250},\n",
       "  mean: 0.80404, std: 0.01066, params: {'min_samples_split': 260},\n",
       "  mean: 0.80688, std: 0.00818, params: {'min_samples_split': 270},\n",
       "  mean: 0.80560, std: 0.00844, params: {'min_samples_split': 280},\n",
       "  mean: 0.80674, std: 0.00767, params: {'min_samples_split': 290},\n",
       "  mean: 0.80617, std: 0.01121, params: {'min_samples_split': 300},\n",
       "  mean: 0.80418, std: 0.00976, params: {'min_samples_split': 310},\n",
       "  mean: 0.80390, std: 0.00570, params: {'min_samples_split': 320},\n",
       "  mean: 0.80432, std: 0.00616, params: {'min_samples_split': 330},\n",
       "  mean: 0.80475, std: 0.00773, params: {'min_samples_split': 340},\n",
       "  mean: 0.80489, std: 0.00794, params: {'min_samples_split': 350},\n",
       "  mean: 0.80560, std: 0.00806, params: {'min_samples_split': 360},\n",
       "  mean: 0.80432, std: 0.00827, params: {'min_samples_split': 370},\n",
       "  mean: 0.80432, std: 0.00716, params: {'min_samples_split': 380},\n",
       "  mean: 0.80759, std: 0.00932, params: {'min_samples_split': 390},\n",
       "  mean: 0.80404, std: 0.00712, params: {'min_samples_split': 400},\n",
       "  mean: 0.80447, std: 0.00725, params: {'min_samples_split': 410},\n",
       "  mean: 0.80646, std: 0.00690, params: {'min_samples_split': 420},\n",
       "  mean: 0.80560, std: 0.00976, params: {'min_samples_split': 430},\n",
       "  mean: 0.80560, std: 0.00813, params: {'min_samples_split': 440},\n",
       "  mean: 0.80432, std: 0.00712, params: {'min_samples_split': 450},\n",
       "  mean: 0.80489, std: 0.00970, params: {'min_samples_split': 460},\n",
       "  mean: 0.80546, std: 0.00975, params: {'min_samples_split': 470},\n",
       "  mean: 0.80475, std: 0.00835, params: {'min_samples_split': 480},\n",
       "  mean: 0.80560, std: 0.00602, params: {'min_samples_split': 490},\n",
       "  mean: 0.80532, std: 0.00952, params: {'min_samples_split': 500},\n",
       "  mean: 0.80603, std: 0.00884, params: {'min_samples_split': 510},\n",
       "  mean: 0.80504, std: 0.01101, params: {'min_samples_split': 520},\n",
       "  mean: 0.80589, std: 0.00860, params: {'min_samples_split': 530},\n",
       "  mean: 0.80546, std: 0.00994, params: {'min_samples_split': 540},\n",
       "  mean: 0.80361, std: 0.00738, params: {'min_samples_split': 550},\n",
       "  mean: 0.80390, std: 0.00718, params: {'min_samples_split': 560},\n",
       "  mean: 0.80432, std: 0.00880, params: {'min_samples_split': 570},\n",
       "  mean: 0.80802, std: 0.00770, params: {'min_samples_split': 580},\n",
       "  mean: 0.80475, std: 0.00812, params: {'min_samples_split': 590},\n",
       "  mean: 0.80361, std: 0.00812, params: {'min_samples_split': 600},\n",
       "  mean: 0.80774, std: 0.00587, params: {'min_samples_split': 610},\n",
       "  mean: 0.80546, std: 0.00733, params: {'min_samples_split': 620},\n",
       "  mean: 0.80418, std: 0.01128, params: {'min_samples_split': 630},\n",
       "  mean: 0.80461, std: 0.00832, params: {'min_samples_split': 640},\n",
       "  mean: 0.80489, std: 0.00948, params: {'min_samples_split': 650},\n",
       "  mean: 0.80589, std: 0.00720, params: {'min_samples_split': 660},\n",
       "  mean: 0.80446, std: 0.00926, params: {'min_samples_split': 670},\n",
       "  mean: 0.80589, std: 0.00668, params: {'min_samples_split': 680},\n",
       "  mean: 0.80176, std: 0.00752, params: {'min_samples_split': 690},\n",
       "  mean: 0.80774, std: 0.00908, params: {'min_samples_split': 700},\n",
       "  mean: 0.80375, std: 0.00828, params: {'min_samples_split': 710},\n",
       "  mean: 0.80546, std: 0.00981, params: {'min_samples_split': 720},\n",
       "  mean: 0.80447, std: 0.00715, params: {'min_samples_split': 730},\n",
       "  mean: 0.80461, std: 0.00948, params: {'min_samples_split': 740},\n",
       "  mean: 0.80390, std: 0.00815, params: {'min_samples_split': 750},\n",
       "  mean: 0.80503, std: 0.00588, params: {'min_samples_split': 760},\n",
       "  mean: 0.80560, std: 0.00861, params: {'min_samples_split': 770},\n",
       "  mean: 0.80461, std: 0.00675, params: {'min_samples_split': 780},\n",
       "  mean: 0.80120, std: 0.00812, params: {'min_samples_split': 790},\n",
       "  mean: 0.80617, std: 0.00963, params: {'min_samples_split': 800},\n",
       "  mean: 0.80518, std: 0.00534, params: {'min_samples_split': 810},\n",
       "  mean: 0.80603, std: 0.00777, params: {'min_samples_split': 820},\n",
       "  mean: 0.80617, std: 0.00691, params: {'min_samples_split': 830},\n",
       "  mean: 0.80361, std: 0.00855, params: {'min_samples_split': 840},\n",
       "  mean: 0.80631, std: 0.00994, params: {'min_samples_split': 850},\n",
       "  mean: 0.80503, std: 0.00854, params: {'min_samples_split': 860},\n",
       "  mean: 0.80404, std: 0.00741, params: {'min_samples_split': 870},\n",
       "  mean: 0.80162, std: 0.00776, params: {'min_samples_split': 880},\n",
       "  mean: 0.80617, std: 0.00898, params: {'min_samples_split': 890},\n",
       "  mean: 0.80304, std: 0.00916, params: {'min_samples_split': 900},\n",
       "  mean: 0.80518, std: 0.00784, params: {'min_samples_split': 910},\n",
       "  mean: 0.80560, std: 0.00568, params: {'min_samples_split': 920},\n",
       "  mean: 0.80560, std: 0.01096, params: {'min_samples_split': 930},\n",
       "  mean: 0.80560, std: 0.00809, params: {'min_samples_split': 940},\n",
       "  mean: 0.80532, std: 0.00595, params: {'min_samples_split': 950},\n",
       "  mean: 0.80105, std: 0.00826, params: {'min_samples_split': 960},\n",
       "  mean: 0.80375, std: 0.00848, params: {'min_samples_split': 970},\n",
       "  mean: 0.80632, std: 0.00902, params: {'min_samples_split': 980},\n",
       "  mean: 0.80674, std: 0.00675, params: {'min_samples_split': 990},\n",
       "  mean: 0.80376, std: 0.00930, params: {'min_samples_split': 1000}],\n",
       " {'min_samples_split': 210},\n",
       " 0.8083042021266801)"
      ]
     },
     "execution_count": 13,
     "metadata": {},
     "output_type": "execute_result"
    }
   ],
   "source": [
    "param_test2 = {'min_samples_split': np.arange(50,1001,10)}\n",
    "gsearch2 = GridSearchCV(estimator = GradientBoostingClassifier(learning_rate=0.1, n_estimators=110, max_depth=3, min_samples_leaf=50, max_features='sqrt', subsample=0.8), \n",
    "param_grid = param_test2, scoring='accuracy', n_jobs=4, iid=False, cv=5)\n",
    "gsearch2.fit(X,y_1d)\n",
    "gsearch2.grid_scores_, gsearch2.best_params_, gsearch2.best_score_"
   ]
  },
  {
   "cell_type": "code",
   "execution_count": 17,
   "metadata": {},
   "outputs": [
    {
     "data": {
      "text/plain": [
       "([mean: 0.80532, std: 0.00857, params: {'min_samples_leaf': 20},\n",
       "  mean: 0.80688, std: 0.00866, params: {'min_samples_leaf': 21},\n",
       "  mean: 0.80290, std: 0.00762, params: {'min_samples_leaf': 22},\n",
       "  mean: 0.80404, std: 0.00721, params: {'min_samples_leaf': 23},\n",
       "  mean: 0.80560, std: 0.00827, params: {'min_samples_leaf': 24},\n",
       "  mean: 0.80560, std: 0.01039, params: {'min_samples_leaf': 25},\n",
       "  mean: 0.80390, std: 0.00857, params: {'min_samples_leaf': 26},\n",
       "  mean: 0.80375, std: 0.00847, params: {'min_samples_leaf': 27},\n",
       "  mean: 0.80376, std: 0.00825, params: {'min_samples_leaf': 28},\n",
       "  mean: 0.80745, std: 0.00935, params: {'min_samples_leaf': 29},\n",
       "  mean: 0.80475, std: 0.00654, params: {'min_samples_leaf': 30},\n",
       "  mean: 0.80631, std: 0.00777, params: {'min_samples_leaf': 31},\n",
       "  mean: 0.80432, std: 0.00963, params: {'min_samples_leaf': 32},\n",
       "  mean: 0.80475, std: 0.00544, params: {'min_samples_leaf': 33},\n",
       "  mean: 0.80617, std: 0.00969, params: {'min_samples_leaf': 34},\n",
       "  mean: 0.80390, std: 0.00939, params: {'min_samples_leaf': 35},\n",
       "  mean: 0.80475, std: 0.00658, params: {'min_samples_leaf': 36},\n",
       "  mean: 0.80475, std: 0.00807, params: {'min_samples_leaf': 37},\n",
       "  mean: 0.80333, std: 0.00837, params: {'min_samples_leaf': 38},\n",
       "  mean: 0.80560, std: 0.00900, params: {'min_samples_leaf': 39},\n",
       "  mean: 0.80660, std: 0.00985, params: {'min_samples_leaf': 40},\n",
       "  mean: 0.80390, std: 0.00771, params: {'min_samples_leaf': 41},\n",
       "  mean: 0.80532, std: 0.00645, params: {'min_samples_leaf': 42},\n",
       "  mean: 0.80475, std: 0.00816, params: {'min_samples_leaf': 43},\n",
       "  mean: 0.80632, std: 0.00857, params: {'min_samples_leaf': 44},\n",
       "  mean: 0.80774, std: 0.00759, params: {'min_samples_leaf': 45},\n",
       "  mean: 0.80589, std: 0.01043, params: {'min_samples_leaf': 46},\n",
       "  mean: 0.80574, std: 0.00997, params: {'min_samples_leaf': 47},\n",
       "  mean: 0.80404, std: 0.00680, params: {'min_samples_leaf': 48},\n",
       "  mean: 0.80503, std: 0.01184, params: {'min_samples_leaf': 49},\n",
       "  mean: 0.80503, std: 0.01168, params: {'min_samples_leaf': 50},\n",
       "  mean: 0.80560, std: 0.00829, params: {'min_samples_leaf': 51},\n",
       "  mean: 0.80461, std: 0.00676, params: {'min_samples_leaf': 52},\n",
       "  mean: 0.80375, std: 0.00714, params: {'min_samples_leaf': 53},\n",
       "  mean: 0.80304, std: 0.00842, params: {'min_samples_leaf': 54},\n",
       "  mean: 0.80390, std: 0.00641, params: {'min_samples_leaf': 55},\n",
       "  mean: 0.80375, std: 0.00754, params: {'min_samples_leaf': 56},\n",
       "  mean: 0.80475, std: 0.00745, params: {'min_samples_leaf': 57},\n",
       "  mean: 0.80518, std: 0.00983, params: {'min_samples_leaf': 58},\n",
       "  mean: 0.80432, std: 0.01047, params: {'min_samples_leaf': 59},\n",
       "  mean: 0.80575, std: 0.00788, params: {'min_samples_leaf': 60},\n",
       "  mean: 0.80276, std: 0.00823, params: {'min_samples_leaf': 61},\n",
       "  mean: 0.80361, std: 0.00843, params: {'min_samples_leaf': 62},\n",
       "  mean: 0.80575, std: 0.00908, params: {'min_samples_leaf': 63},\n",
       "  mean: 0.80475, std: 0.00646, params: {'min_samples_leaf': 64},\n",
       "  mean: 0.80489, std: 0.00842, params: {'min_samples_leaf': 65},\n",
       "  mean: 0.80532, std: 0.00897, params: {'min_samples_leaf': 66},\n",
       "  mean: 0.80489, std: 0.00833, params: {'min_samples_leaf': 67},\n",
       "  mean: 0.80447, std: 0.00927, params: {'min_samples_leaf': 68},\n",
       "  mean: 0.80475, std: 0.00797, params: {'min_samples_leaf': 69},\n",
       "  mean: 0.80418, std: 0.00797, params: {'min_samples_leaf': 70}],\n",
       " {'min_samples_leaf': 45},\n",
       " 0.807735312752128)"
      ]
     },
     "execution_count": 17,
     "metadata": {},
     "output_type": "execute_result"
    }
   ],
   "source": [
    "param_test3 = {'min_samples_leaf': np.arange(20,71)}\n",
    "gsearch3 = GridSearchCV(estimator = GradientBoostingClassifier(learning_rate=0.1, min_samples_split=210, n_estimators=110, max_depth=3, max_features='sqrt', subsample=0.8), \n",
    "param_grid = param_test3, scoring='accuracy', n_jobs=4, iid=False, cv=5)\n",
    "gsearch3.fit(X,y_1d)\n",
    "gsearch3.grid_scores_, gsearch3.best_params_, gsearch3.best_score_"
   ]
  },
  {
   "cell_type": "code",
   "execution_count": 26,
   "metadata": {},
   "outputs": [
    {
     "data": {
      "text/plain": [
       "([mean: 0.80347, std: 0.00746, params: {'subsample': 0.5},\n",
       "  mean: 0.80390, std: 0.00853, params: {'subsample': 0.55},\n",
       "  mean: 0.80333, std: 0.00938, params: {'subsample': 0.6},\n",
       "  mean: 0.80575, std: 0.01050, params: {'subsample': 0.65},\n",
       "  mean: 0.80262, std: 0.00925, params: {'subsample': 0.7},\n",
       "  mean: 0.80247, std: 0.00751, params: {'subsample': 0.75},\n",
       "  mean: 0.80418, std: 0.01098, params: {'subsample': 0.8},\n",
       "  mean: 0.80461, std: 0.00902, params: {'subsample': 0.85},\n",
       "  mean: 0.80631, std: 0.00783, params: {'subsample': 0.9},\n",
       "  mean: 0.80617, std: 0.00912, params: {'subsample': 0.95},\n",
       "  mean: 0.80546, std: 0.01135, params: {'subsample': 1}],\n",
       " {'subsample': 0.9},\n",
       " 0.8063146583065064)"
      ]
     },
     "execution_count": 26,
     "metadata": {},
     "output_type": "execute_result"
    }
   ],
   "source": [
    "param_test5 = {'subsample':[0.5,0.55,0.6,0.65,0.7,0.75,0.8,0.85,0.9,0.95,1]}\n",
    "gsearch5 = GridSearchCV(estimator = GradientBoostingClassifier(learning_rate=0.1, n_estimators=110,max_depth=3,min_samples_split=210, min_samples_leaf=45,max_features='sqrt'),\n",
    "param_grid = param_test5, scoring='accuracy',n_jobs=4,iid=False, cv=5)\n",
    "gsearch5.fit(X,y_1d)\n",
    "gsearch5.grid_scores_, gsearch5.best_params_, gsearch5.best_score_"
   ]
  },
  {
   "cell_type": "code",
   "execution_count": 27,
   "metadata": {},
   "outputs": [
    {
     "data": {
      "text/plain": [
       "array([0.80965909, 0.81392045, 0.80255682, 0.82503556, 0.78805121,\n",
       "       0.78662873, 0.83072546, 0.78805121, 0.79374111, 0.81196581])"
      ]
     },
     "execution_count": 27,
     "metadata": {},
     "output_type": "execute_result"
    }
   ],
   "source": [
    "clf = GradientBoostingClassifier(learning_rate=0.1, n_estimators=110, max_depth=3, min_samples_split=210, min_samples_leaf=45,max_features='sqrt',subsample=0.8)\n",
    "cross_val_score(clf, X, y_1d, cv=10, scoring='accuracy')"
   ]
  },
  {
   "cell_type": "code",
   "execution_count": 28,
   "metadata": {},
   "outputs": [
    {
     "data": {
      "text/plain": [
       "array([[4708,  455],\n",
       "       [ 830, 1039]], dtype=int64)"
      ]
     },
     "execution_count": 28,
     "metadata": {},
     "output_type": "execute_result"
    }
   ],
   "source": [
    "y_pred = clf.fit(X, y_1d).predict(X)\n",
    "\n",
    "confusion_matrix(y, y_pred)"
   ]
  },
  {
   "cell_type": "code",
   "execution_count": 29,
   "metadata": {},
   "outputs": [
    {
     "name": "stdout",
     "output_type": "stream",
     "text": [
      "Type 1 error (false positive): 455\n",
      "Type 2 error (false negative): 830\n",
      "Sensitivity: 0.555912252541466\n",
      "Specificity: 0.9118729420879333\n"
     ]
    }
   ],
   "source": [
    "confusion = confusion_matrix(y, y_pred)\n",
    "print('Type 1 error (false positive): {}'.format(confusion[0][1]))\n",
    "print('Type 2 error (false negative): {}'.format(confusion[1][0]))\n",
    "print('Sensitivity: {}'.format(confusion[1][1] / confusion[1].sum()))\n",
    "print('Specificity: {}'.format(confusion[0][0] / confusion[0].sum()))"
   ]
  },
  {
   "cell_type": "code",
   "execution_count": null,
   "metadata": {},
   "outputs": [],
   "source": []
  }
 ],
 "metadata": {
  "kernelspec": {
   "display_name": "Python 3",
   "language": "python",
   "name": "python3"
  },
  "language_info": {
   "codemirror_mode": {
    "name": "ipython",
    "version": 3
   },
   "file_extension": ".py",
   "mimetype": "text/x-python",
   "name": "python",
   "nbconvert_exporter": "python",
   "pygments_lexer": "ipython3",
   "version": "3.6.5"
  }
 },
 "nbformat": 4,
 "nbformat_minor": 2
}
