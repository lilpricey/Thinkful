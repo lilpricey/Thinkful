{
 "cells": [
  {
   "cell_type": "markdown",
   "metadata": {},
   "source": [
    "# Challenge: what model can answer this question?\n",
    "\n",
    "#### 1.       Predict the running times of prospective Olympic sprinters using data from the last 20 Olympics.\n",
    "\n",
    "multivariable least squares regression, SVM regression, ridge regression.\n",
    "\n",
    "#### 2.       You have more features (columns) than rows in your dataset.\n",
    "\n",
    "You can reduce the number of features by performing PCA or RFE, or you can use lasso regression.\n",
    "\n",
    "#### 3.       Identify the most important characteristic predicting likelihood of being jailed before age 20.\n",
    "\n",
    "You could use Logistic regression with lasso regularization, gradient boosting classification and utilize the feature importance attribute, or RFE.\n",
    "\n",
    "#### 4.       Implement a filter to “highlight” emails that might be important to the recipient\n",
    "\n",
    "You could use KNN classifier, random forest classifier, SVM classifier.\n",
    "\n",
    "#### 5.       You have 1000+ features.\n",
    "\n",
    "PCA, Partial least squares regression.\n",
    "\n",
    "#### 6.       Predict whether someone who adds items to their cart on a website will purchase the items.\n",
    "\n",
    "Logistic regression, SVM classifier, random forest classifier.\n",
    "\n",
    "#### 7.       Your dataset dimensions are 982400 x 500\n",
    "\n",
    "PCA for reducing the features, not sure about addressing the high number of rows. \n",
    "\n",
    "#### 8.       Identify faces in an image.\n",
    "\n",
    "Support vector classifier. (this is mostly a guess, would like to discuss)\n",
    "\n",
    "#### 9.       Predict which of three flavors of ice cream will be most popular with boys vs girls\n",
    "\n",
    "KNN classifier, random forest classifier. "
   ]
  },
  {
   "cell_type": "code",
   "execution_count": null,
   "metadata": {},
   "outputs": [],
   "source": []
  }
 ],
 "metadata": {
  "kernelspec": {
   "display_name": "Python 3",
   "language": "python",
   "name": "python3"
  },
  "language_info": {
   "codemirror_mode": {
    "name": "ipython",
    "version": 3
   },
   "file_extension": ".py",
   "mimetype": "text/x-python",
   "name": "python",
   "nbconvert_exporter": "python",
   "pygments_lexer": "ipython3",
   "version": "3.6.5"
  }
 },
 "nbformat": 4,
 "nbformat_minor": 2
}
