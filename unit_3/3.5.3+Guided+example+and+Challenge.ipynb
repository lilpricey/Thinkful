{
 "cells": [
  {
   "cell_type": "code",
   "execution_count": 2,
   "metadata": {
    "run_control": {
     "frozen": false,
     "read_only": false
    }
   },
   "outputs": [
    {
     "name": "stderr",
     "output_type": "stream",
     "text": [
      "C:\\Users\\Loren\\Anaconda3\\lib\\site-packages\\sklearn\\cross_validation.py:41: DeprecationWarning: This module was deprecated in version 0.18 in favor of the model_selection module into which all the refactored classes and functions are moved. Also note that the interface of the new CV iterators are different from that of this module. This module will be removed in 0.20.\n",
      "  \"This module will be removed in 0.20.\", DeprecationWarning)\n",
      "C:\\Users\\Loren\\Anaconda3\\lib\\site-packages\\sklearn\\grid_search.py:42: DeprecationWarning: This module was deprecated in version 0.18 in favor of the model_selection module into which all the refactored classes and functions are moved. This module will be removed in 0.20.\n",
      "  DeprecationWarning)\n"
     ]
    }
   ],
   "source": [
    "import pandas as pd\n",
    "import numpy as np\n",
    "import scipy\n",
    "import matplotlib.pyplot as plt\n",
    "import seaborn as sns\n",
    "\n",
    "from sklearn.ensemble import GradientBoostingClassifier\n",
    "from sklearn import datasets\n",
    "from sklearn.utils import shuffle\n",
    "from sklearn.metrics import mean_squared_error\n",
    "from sklearn import cross_validation, metrics   \n",
    "from sklearn.grid_search import GridSearchCV \n",
    "\n",
    "%matplotlib inline"
   ]
  },
  {
   "cell_type": "markdown",
   "metadata": {},
   "source": [
    "### Gradient boost guided example\n",
    "\n",
    "Having walked through gradient boost by hand, now let's try it with SKlearn.  We'll still use the European Social Survey Data, but now with a categorical outcome: Whether or not someone lives with a partner."
   ]
  },
  {
   "cell_type": "code",
   "execution_count": 3,
   "metadata": {},
   "outputs": [],
   "source": [
    "df = pd.read_csv((\n",
    "    \"https://raw.githubusercontent.com/Thinkful-Ed/data-201-resources/\"\n",
    "    \"master/ESS_practice_data/ESSdata_Thinkful.csv\")).dropna()\n",
    "\n",
    "# Definine outcome and predictors.\n",
    "# Set our outcome to 0 and 1.\n",
    "y = df['partner'] - 1\n",
    "X = df.loc[:, ~df.columns.isin(['partner', 'cntry', 'idno'])]\n",
    "\n",
    "# Make the categorical variable 'country' into dummies.\n",
    "X = pd.concat([X, pd.get_dummies(df['cntry'])], axis=1)\n",
    "\n",
    "# Create training and test sets.\n",
    "offset = int(X.shape[0] * 0.9)\n",
    "\n",
    "# Put 90% of the data in the training set.\n",
    "X_train, y_train = X[:offset], y[:offset]\n",
    "\n",
    "# And put 10% in the test set.\n",
    "X_test, y_test = X[offset:], y[offset:]"
   ]
  },
  {
   "cell_type": "markdown",
   "metadata": {},
   "source": [
    "Since we're now working with a binary outcome, we've switched to a classifier.  Now our loss function can't be the residuals.  Our options are \"deviance\", or \"exponential\".  Deviance is used for logistic regression, and we'll try that here."
   ]
  },
  {
   "cell_type": "code",
   "execution_count": 3,
   "metadata": {},
   "outputs": [
    {
     "name": "stdout",
     "output_type": "stream",
     "text": [
      "Training set accuracy:\n",
      "Percent Type I errors: 0.04650845608292417\n",
      "Percent Type II errors: 0.17607746863066012\n",
      "\n",
      "Test set accuracy:\n",
      "Percent Type I errors: 0.06257668711656442\n",
      "Percent Type II errors: 0.18527607361963191\n"
     ]
    }
   ],
   "source": [
    "# We'll make 500 iterations, use 2-deep trees, and set our loss function.\n",
    "params = {'n_estimators': 500,\n",
    "          'max_depth': 2,\n",
    "          'loss': 'deviance'}\n",
    "\n",
    "# Initialize and fit the model.\n",
    "clf = ensemble.GradientBoostingClassifier(**params)\n",
    "clf.fit(X_train, y_train)\n",
    "\n",
    "predict_train = clf.predict(X_train)\n",
    "predict_test = clf.predict(X_test)\n",
    "\n",
    "# Accuracy tables.\n",
    "table_train = pd.crosstab(y_train, predict_train, margins=True)\n",
    "table_test = pd.crosstab(y_test, predict_test, margins=True)\n",
    "\n",
    "train_tI_errors = table_train.loc[0.0,1.0] / table_train.loc['All','All']\n",
    "train_tII_errors = table_train.loc[1.0,0.0] / table_train.loc['All','All']\n",
    "\n",
    "test_tI_errors = table_test.loc[0.0,1.0]/table_test.loc['All','All']\n",
    "test_tII_errors = table_test.loc[1.0,0.0]/table_test.loc['All','All']\n",
    "\n",
    "print((\n",
    "    'Training set accuracy:\\n'\n",
    "    'Percent Type I errors: {}\\n'\n",
    "    'Percent Type II errors: {}\\n\\n'\n",
    "    'Test set accuracy:\\n'\n",
    "    'Percent Type I errors: {}\\n'\n",
    "    'Percent Type II errors: {}'\n",
    ").format(train_tI_errors, train_tII_errors, test_tI_errors, test_tII_errors))\n"
   ]
  },
  {
   "cell_type": "markdown",
   "metadata": {},
   "source": [
    "Unlike decision trees, gradient boost solutions are not terribly easy to interpret on the surface.  But they aren't quite a black box.  We can get a measure of how important various features are by counting how many times a feature is used over the course of many decision trees."
   ]
  },
  {
   "cell_type": "code",
   "execution_count": 4,
   "metadata": {},
   "outputs": [
    {
     "data": {
      "image/png": "[encoded data removed]",
      "text/plain": [
       "<Figure size 432x288 with 1 Axes>"
      ]
     },
     "metadata": {},
     "output_type": "display_data"
    }
   ],
   "source": [
    "feature_importance = clf.feature_importances_\n",
    "\n",
    "# Make importances relative to max importance.\n",
    "feature_importance = 100.0 * (feature_importance / feature_importance.max())\n",
    "sorted_idx = np.argsort(feature_importance)\n",
    "pos = np.arange(sorted_idx.shape[0]) + .5\n",
    "plt.subplot(1, 2, 2)\n",
    "plt.barh(pos, feature_importance[sorted_idx], align='center')\n",
    "plt.yticks(pos, X.columns[sorted_idx])\n",
    "plt.xlabel('Relative Importance')\n",
    "plt.title('Variable Importance')\n",
    "plt.show()"
   ]
  },
  {
   "cell_type": "markdown",
   "metadata": {},
   "source": [
    "It appears that age and happiness are the most important features in predicting whether or not someone lives with a partner."
   ]
  },
  {
   "cell_type": "markdown",
   "metadata": {
    "collapsed": true
   },
   "source": [
    "### DRILL: Improve this gradient boost model\n",
    "\n",
    "While this model is already doing alright, we've seen from the Type I and Type II error rates that there is definitely room for improvement.  Your task is to see how low you can get the error rates to go in the test set, based on your model in the training set.  Strategies you might use include:\n",
    "\n",
    "* Creating new features\n",
    "* Applying more overfitting-prevention strategies like subsampling\n",
    "* More iterations\n",
    "* Trying a different loss function\n",
    "* Changing the structure of the weak learner: Allowing more leaves in the tree, or other modifications\n",
    "\n",
    "Have fun!\n",
    "\n",
    "# Challenge\n",
    "___\n",
    "## Exploration"
   ]
  },
  {
   "cell_type": "code",
   "execution_count": 5,
   "metadata": {},
   "outputs": [
    {
     "data": {
      "text/html": [
       "<div>\n",
       "<style scoped>\n",
       "    .dataframe tbody tr th:only-of-type {\n",
       "        vertical-align: middle;\n",
       "    }\n",
       "\n",
       "    .dataframe tbody tr th {\n",
       "        vertical-align: top;\n",
       "    }\n",
       "\n",
       "    .dataframe thead th {\n",
       "        text-align: right;\n",
       "    }\n",
       "</style>\n",
       "<table border=\"1\" class=\"dataframe\">\n",
       "  <thead>\n",
       "    <tr style=\"text-align: right;\">\n",
       "      <th></th>\n",
       "      <th>cntry</th>\n",
       "      <th>idno</th>\n",
       "      <th>year</th>\n",
       "      <th>tvtot</th>\n",
       "      <th>ppltrst</th>\n",
       "      <th>pplfair</th>\n",
       "      <th>pplhlp</th>\n",
       "      <th>happy</th>\n",
       "      <th>sclmeet</th>\n",
       "      <th>sclact</th>\n",
       "      <th>gndr</th>\n",
       "      <th>agea</th>\n",
       "      <th>partner</th>\n",
       "    </tr>\n",
       "  </thead>\n",
       "  <tbody>\n",
       "    <tr>\n",
       "      <th>0</th>\n",
       "      <td>CH</td>\n",
       "      <td>5.0</td>\n",
       "      <td>6</td>\n",
       "      <td>3.0</td>\n",
       "      <td>3.0</td>\n",
       "      <td>10.0</td>\n",
       "      <td>5.0</td>\n",
       "      <td>8.0</td>\n",
       "      <td>5.0</td>\n",
       "      <td>4.0</td>\n",
       "      <td>2.0</td>\n",
       "      <td>60.0</td>\n",
       "      <td>1.0</td>\n",
       "    </tr>\n",
       "    <tr>\n",
       "      <th>1</th>\n",
       "      <td>CH</td>\n",
       "      <td>25.0</td>\n",
       "      <td>6</td>\n",
       "      <td>6.0</td>\n",
       "      <td>5.0</td>\n",
       "      <td>7.0</td>\n",
       "      <td>5.0</td>\n",
       "      <td>9.0</td>\n",
       "      <td>3.0</td>\n",
       "      <td>2.0</td>\n",
       "      <td>2.0</td>\n",
       "      <td>59.0</td>\n",
       "      <td>1.0</td>\n",
       "    </tr>\n",
       "    <tr>\n",
       "      <th>2</th>\n",
       "      <td>CH</td>\n",
       "      <td>26.0</td>\n",
       "      <td>6</td>\n",
       "      <td>1.0</td>\n",
       "      <td>8.0</td>\n",
       "      <td>8.0</td>\n",
       "      <td>8.0</td>\n",
       "      <td>7.0</td>\n",
       "      <td>6.0</td>\n",
       "      <td>3.0</td>\n",
       "      <td>1.0</td>\n",
       "      <td>24.0</td>\n",
       "      <td>2.0</td>\n",
       "    </tr>\n",
       "    <tr>\n",
       "      <th>3</th>\n",
       "      <td>CH</td>\n",
       "      <td>28.0</td>\n",
       "      <td>6</td>\n",
       "      <td>4.0</td>\n",
       "      <td>6.0</td>\n",
       "      <td>6.0</td>\n",
       "      <td>7.0</td>\n",
       "      <td>10.0</td>\n",
       "      <td>6.0</td>\n",
       "      <td>2.0</td>\n",
       "      <td>2.0</td>\n",
       "      <td>64.0</td>\n",
       "      <td>1.0</td>\n",
       "    </tr>\n",
       "    <tr>\n",
       "      <th>4</th>\n",
       "      <td>CH</td>\n",
       "      <td>29.0</td>\n",
       "      <td>6</td>\n",
       "      <td>5.0</td>\n",
       "      <td>6.0</td>\n",
       "      <td>7.0</td>\n",
       "      <td>5.0</td>\n",
       "      <td>8.0</td>\n",
       "      <td>7.0</td>\n",
       "      <td>2.0</td>\n",
       "      <td>2.0</td>\n",
       "      <td>55.0</td>\n",
       "      <td>1.0</td>\n",
       "    </tr>\n",
       "  </tbody>\n",
       "</table>\n",
       "</div>"
      ],
      "text/plain": [
       "  cntry  idno  year  tvtot  ppltrst  pplfair  pplhlp  happy  sclmeet  sclact  \\\n",
       "0    CH   5.0     6    3.0      3.0     10.0     5.0    8.0      5.0     4.0   \n",
       "1    CH  25.0     6    6.0      5.0      7.0     5.0    9.0      3.0     2.0   \n",
       "2    CH  26.0     6    1.0      8.0      8.0     8.0    7.0      6.0     3.0   \n",
       "3    CH  28.0     6    4.0      6.0      6.0     7.0   10.0      6.0     2.0   \n",
       "4    CH  29.0     6    5.0      6.0      7.0     5.0    8.0      7.0     2.0   \n",
       "\n",
       "   gndr  agea  partner  \n",
       "0   2.0  60.0      1.0  \n",
       "1   2.0  59.0      1.0  \n",
       "2   1.0  24.0      2.0  \n",
       "3   2.0  64.0      1.0  \n",
       "4   2.0  55.0      1.0  "
      ]
     },
     "execution_count": 5,
     "metadata": {},
     "output_type": "execute_result"
    }
   ],
   "source": [
    "df.head()"
   ]
  },
  {
   "cell_type": "code",
   "execution_count": 6,
   "metadata": {},
   "outputs": [
    {
     "data": {
      "text/plain": [
       "(8147, 13)"
      ]
     },
     "execution_count": 6,
     "metadata": {},
     "output_type": "execute_result"
    }
   ],
   "source": [
    "df.shape"
   ]
  },
  {
   "cell_type": "code",
   "execution_count": 9,
   "metadata": {},
   "outputs": [
    {
     "name": "stderr",
     "output_type": "stream",
     "text": [
      "C:\\Users\\Loren\\Anaconda3\\lib\\site-packages\\matplotlib\\axes\\_axes.py:6462: UserWarning: The 'normed' kwarg is deprecated, and has been replaced by the 'density' kwarg.\n",
      "  warnings.warn(\"The 'normed' kwarg is deprecated, and has been \"\n"
     ]
    },
    {
     "data": {
      "image/png": "[encoded data removed]",
      "text/plain": [
       "<Figure size 864x360 with 2 Axes>"
      ]
     },
     "metadata": {},
     "output_type": "display_data"
    }
   ],
   "source": [
    "plt.figure(figsize=(12,5))\n",
    "\n",
    "plt.subplot(1, 2, 1)\n",
    "sns.distplot(df['agea'])\n",
    "plt.title('age')\n",
    "\n",
    "plt.subplot(1, 2, 2)\n",
    "sns.boxplot(df['agea'])\n",
    "plt.title('age')\n",
    "\n",
    "plt.show()"
   ]
  },
  {
   "cell_type": "code",
   "execution_count": 10,
   "metadata": {},
   "outputs": [
    {
     "name": "stderr",
     "output_type": "stream",
     "text": [
      "C:\\Users\\Loren\\Anaconda3\\lib\\site-packages\\matplotlib\\axes\\_axes.py:6462: UserWarning: The 'normed' kwarg is deprecated, and has been replaced by the 'density' kwarg.\n",
      "  warnings.warn(\"The 'normed' kwarg is deprecated, and has been \"\n"
     ]
    },
    {
     "data": {
      "image/png": "[encoded data removed]",
      "text/plain": [
       "<Figure size 864x360 with 2 Axes>"
      ]
     },
     "metadata": {},
     "output_type": "display_data"
    }
   ],
   "source": [
    "plt.figure(figsize=(12,5))\n",
    "\n",
    "plt.subplot(1, 2, 1)\n",
    "sns.distplot(df['happy'])\n",
    "plt.title('happy')\n",
    "\n",
    "plt.subplot(1, 2, 2)\n",
    "sns.boxplot(df['happy'])\n",
    "plt.title('happy')\n",
    "\n",
    "plt.show()"
   ]
  },
  {
   "cell_type": "code",
   "execution_count": 38,
   "metadata": {},
   "outputs": [
    {
     "data": {
      "image/png": "[encoded data removed]",
      "text/plain": [
       "<Figure size 720x360 with 1 Axes>"
      ]
     },
     "metadata": {},
     "output_type": "display_data"
    }
   ],
   "source": [
    "plt.figure(figsize=(10,5))\n",
    "sns.countplot(x=\"partner\", data=df);\n",
    "plt.xticks(np.arange(2),('Yes', 'No'))\n",
    "plt.title('Lives with Partner')\n",
    "plt.show()"
   ]
  },
  {
   "cell_type": "code",
   "execution_count": 42,
   "metadata": {},
   "outputs": [
    {
     "data": {
      "image/png": "[encoded data removed]",
      "text/plain": [
       "<Figure size 576x576 with 1 Axes>"
      ]
     },
     "metadata": {},
     "output_type": "display_data"
    }
   ],
   "source": [
    "plt.figure(figsize=(8,8))\n",
    "\n",
    "sns.violinplot(x=\"partner\",y=\"agea\", data=df)\n",
    "plt.title('Age by Partner Status')\n",
    "plt.xticks(np.arange(2),('Lives w/ Partner', 'does not live w/ partner'))\n",
    "plt.show()"
   ]
  },
  {
   "cell_type": "markdown",
   "metadata": {},
   "source": [
    "## Remove outliers"
   ]
  },
  {
   "cell_type": "code",
   "execution_count": 4,
   "metadata": {},
   "outputs": [],
   "source": [
    "# Remove all respondents above 90\n",
    "df = df[df['agea'] <= 90]\n",
    "# remove people that reported 3 or less on happy\n",
    "df = df[df['happy'] >= 4]"
   ]
  },
  {
   "cell_type": "code",
   "execution_count": 5,
   "metadata": {},
   "outputs": [
    {
     "data": {
      "text/plain": [
       "0.6228969006957622"
      ]
     },
     "execution_count": 5,
     "metadata": {},
     "output_type": "execute_result"
    }
   ],
   "source": [
    "y = df['partner'] - 1\n",
    "X = df.loc[:, ~df.columns.isin(['partner', 'cntry', 'idno'])]\n",
    "X = pd.concat([X, pd.get_dummies(df['cntry'])], axis=1)\n",
    "y.value_counts()\n",
    "len(y[y == 0.0]) / len(y)"
   ]
  },
  {
   "cell_type": "markdown",
   "metadata": {},
   "source": [
    "#### Benchmark of .623\n",
    "\n",
    "## Tuning "
   ]
  },
  {
   "cell_type": "code",
   "execution_count": 36,
   "metadata": {},
   "outputs": [],
   "source": [
    "# Find number of estimators\n",
    "param_test1 = {'n_estimators':np.arange(1, 200)}\n",
    "gsearch1 = GridSearchCV(estimator = GradientBoostingClassifier(learning_rate=0.1, min_samples_split=500,min_samples_leaf=50,max_depth=8,max_features='sqrt',subsample=0.8,random_state=10), \n",
    "param_grid = param_test1, scoring='roc_auc',n_jobs=4,iid=False, cv=5)"
   ]
  },
  {
   "cell_type": "code",
   "execution_count": 37,
   "metadata": {
    "collapsed": true
   },
   "outputs": [
    {
     "data": {
      "text/plain": [
       "([mean: 0.66186, std: 0.01760, params: {'n_estimators': 1},\n",
       "  mean: 0.72216, std: 0.02175, params: {'n_estimators': 2},\n",
       "  mean: 0.73926, std: 0.02583, params: {'n_estimators': 3},\n",
       "  mean: 0.74854, std: 0.03303, params: {'n_estimators': 4},\n",
       "  mean: 0.76082, std: 0.02351, params: {'n_estimators': 5},\n",
       "  mean: 0.76294, std: 0.02452, params: {'n_estimators': 6},\n",
       "  mean: 0.76488, std: 0.02302, params: {'n_estimators': 7},\n",
       "  mean: 0.76730, std: 0.02366, params: {'n_estimators': 8},\n",
       "  mean: 0.77018, std: 0.02328, params: {'n_estimators': 9},\n",
       "  mean: 0.77098, std: 0.02417, params: {'n_estimators': 10},\n",
       "  mean: 0.77235, std: 0.02488, params: {'n_estimators': 11},\n",
       "  mean: 0.77335, std: 0.02452, params: {'n_estimators': 12},\n",
       "  mean: 0.77462, std: 0.02425, params: {'n_estimators': 13},\n",
       "  mean: 0.77532, std: 0.02390, params: {'n_estimators': 14},\n",
       "  mean: 0.77525, std: 0.02384, params: {'n_estimators': 15},\n",
       "  mean: 0.77621, std: 0.02415, params: {'n_estimators': 16},\n",
       "  mean: 0.77695, std: 0.02463, params: {'n_estimators': 17},\n",
       "  mean: 0.77669, std: 0.02359, params: {'n_estimators': 18},\n",
       "  mean: 0.77798, std: 0.02310, params: {'n_estimators': 19},\n",
       "  mean: 0.77808, std: 0.02142, params: {'n_estimators': 20},\n",
       "  mean: 0.77929, std: 0.02086, params: {'n_estimators': 21},\n",
       "  mean: 0.77964, std: 0.02084, params: {'n_estimators': 22},\n",
       "  mean: 0.77989, std: 0.02126, params: {'n_estimators': 23},\n",
       "  mean: 0.78010, std: 0.02056, params: {'n_estimators': 24},\n",
       "  mean: 0.78014, std: 0.02117, params: {'n_estimators': 25},\n",
       "  mean: 0.78073, std: 0.02141, params: {'n_estimators': 26},\n",
       "  mean: 0.78097, std: 0.02178, params: {'n_estimators': 27},\n",
       "  mean: 0.78088, std: 0.02181, params: {'n_estimators': 28},\n",
       "  mean: 0.78100, std: 0.02237, params: {'n_estimators': 29},\n",
       "  mean: 0.78162, std: 0.02242, params: {'n_estimators': 30},\n",
       "  mean: 0.78141, std: 0.02257, params: {'n_estimators': 31},\n",
       "  mean: 0.78148, std: 0.02240, params: {'n_estimators': 32},\n",
       "  mean: 0.78145, std: 0.02264, params: {'n_estimators': 33},\n",
       "  mean: 0.78208, std: 0.02253, params: {'n_estimators': 34},\n",
       "  mean: 0.78218, std: 0.02261, params: {'n_estimators': 35},\n",
       "  mean: 0.78252, std: 0.02235, params: {'n_estimators': 36},\n",
       "  mean: 0.78278, std: 0.02230, params: {'n_estimators': 37},\n",
       "  mean: 0.78285, std: 0.02228, params: {'n_estimators': 38},\n",
       "  mean: 0.78337, std: 0.02262, params: {'n_estimators': 39},\n",
       "  mean: 0.78323, std: 0.02258, params: {'n_estimators': 40},\n",
       "  mean: 0.78321, std: 0.02253, params: {'n_estimators': 41},\n",
       "  mean: 0.78336, std: 0.02242, params: {'n_estimators': 42},\n",
       "  mean: 0.78395, std: 0.02211, params: {'n_estimators': 43},\n",
       "  mean: 0.78374, std: 0.02208, params: {'n_estimators': 44},\n",
       "  mean: 0.78387, std: 0.02201, params: {'n_estimators': 45},\n",
       "  mean: 0.78395, std: 0.02179, params: {'n_estimators': 46},\n",
       "  mean: 0.78421, std: 0.02154, params: {'n_estimators': 47},\n",
       "  mean: 0.78383, std: 0.02160, params: {'n_estimators': 48},\n",
       "  mean: 0.78410, std: 0.02164, params: {'n_estimators': 49},\n",
       "  mean: 0.78417, std: 0.02184, params: {'n_estimators': 50},\n",
       "  mean: 0.78411, std: 0.02186, params: {'n_estimators': 51},\n",
       "  mean: 0.78409, std: 0.02180, params: {'n_estimators': 52},\n",
       "  mean: 0.78389, std: 0.02165, params: {'n_estimators': 53},\n",
       "  mean: 0.78381, std: 0.02219, params: {'n_estimators': 54},\n",
       "  mean: 0.78386, std: 0.02230, params: {'n_estimators': 55},\n",
       "  mean: 0.78408, std: 0.02200, params: {'n_estimators': 56},\n",
       "  mean: 0.78420, std: 0.02158, params: {'n_estimators': 57},\n",
       "  mean: 0.78426, std: 0.02142, params: {'n_estimators': 58},\n",
       "  mean: 0.78418, std: 0.02171, params: {'n_estimators': 59},\n",
       "  mean: 0.78437, std: 0.02145, params: {'n_estimators': 60},\n",
       "  mean: 0.78457, std: 0.02096, params: {'n_estimators': 61},\n",
       "  mean: 0.78466, std: 0.02113, params: {'n_estimators': 62},\n",
       "  mean: 0.78468, std: 0.02113, params: {'n_estimators': 63},\n",
       "  mean: 0.78447, std: 0.02107, params: {'n_estimators': 64},\n",
       "  mean: 0.78453, std: 0.02124, params: {'n_estimators': 65},\n",
       "  mean: 0.78459, std: 0.02093, params: {'n_estimators': 66},\n",
       "  mean: 0.78457, std: 0.02083, params: {'n_estimators': 67},\n",
       "  mean: 0.78447, std: 0.02068, params: {'n_estimators': 68},\n",
       "  mean: 0.78451, std: 0.02093, params: {'n_estimators': 69},\n",
       "  mean: 0.78460, std: 0.02097, params: {'n_estimators': 70},\n",
       "  mean: 0.78459, std: 0.02139, params: {'n_estimators': 71},\n",
       "  mean: 0.78486, std: 0.02145, params: {'n_estimators': 72},\n",
       "  mean: 0.78476, std: 0.02174, params: {'n_estimators': 73},\n",
       "  mean: 0.78482, std: 0.02189, params: {'n_estimators': 74},\n",
       "  mean: 0.78484, std: 0.02197, params: {'n_estimators': 75},\n",
       "  mean: 0.78513, std: 0.02166, params: {'n_estimators': 76},\n",
       "  mean: 0.78504, std: 0.02183, params: {'n_estimators': 77},\n",
       "  mean: 0.78480, std: 0.02176, params: {'n_estimators': 78},\n",
       "  mean: 0.78471, std: 0.02160, params: {'n_estimators': 79},\n",
       "  mean: 0.78457, std: 0.02160, params: {'n_estimators': 80},\n",
       "  mean: 0.78472, std: 0.02181, params: {'n_estimators': 81},\n",
       "  mean: 0.78471, std: 0.02177, params: {'n_estimators': 82},\n",
       "  mean: 0.78450, std: 0.02149, params: {'n_estimators': 83},\n",
       "  mean: 0.78442, std: 0.02163, params: {'n_estimators': 84},\n",
       "  mean: 0.78440, std: 0.02153, params: {'n_estimators': 85},\n",
       "  mean: 0.78425, std: 0.02165, params: {'n_estimators': 86},\n",
       "  mean: 0.78456, std: 0.02181, params: {'n_estimators': 87},\n",
       "  mean: 0.78484, std: 0.02167, params: {'n_estimators': 88},\n",
       "  mean: 0.78491, std: 0.02173, params: {'n_estimators': 89},\n",
       "  mean: 0.78486, std: 0.02163, params: {'n_estimators': 90},\n",
       "  mean: 0.78485, std: 0.02171, params: {'n_estimators': 91},\n",
       "  mean: 0.78487, std: 0.02153, params: {'n_estimators': 92},\n",
       "  mean: 0.78478, std: 0.02157, params: {'n_estimators': 93},\n",
       "  mean: 0.78465, std: 0.02161, params: {'n_estimators': 94},\n",
       "  mean: 0.78525, std: 0.02144, params: {'n_estimators': 95},\n",
       "  mean: 0.78533, std: 0.02146, params: {'n_estimators': 96},\n",
       "  mean: 0.78517, std: 0.02160, params: {'n_estimators': 97},\n",
       "  mean: 0.78500, std: 0.02170, params: {'n_estimators': 98},\n",
       "  mean: 0.78515, std: 0.02151, params: {'n_estimators': 99},\n",
       "  mean: 0.78520, std: 0.02146, params: {'n_estimators': 100},\n",
       "  mean: 0.78537, std: 0.02178, params: {'n_estimators': 101},\n",
       "  mean: 0.78529, std: 0.02168, params: {'n_estimators': 102},\n",
       "  mean: 0.78535, std: 0.02169, params: {'n_estimators': 103},\n",
       "  mean: 0.78551, std: 0.02172, params: {'n_estimators': 104},\n",
       "  mean: 0.78574, std: 0.02163, params: {'n_estimators': 105},\n",
       "  mean: 0.78564, std: 0.02141, params: {'n_estimators': 106},\n",
       "  mean: 0.78553, std: 0.02135, params: {'n_estimators': 107},\n",
       "  mean: 0.78565, std: 0.02120, params: {'n_estimators': 108},\n",
       "  mean: 0.78567, std: 0.02110, params: {'n_estimators': 109},\n",
       "  mean: 0.78548, std: 0.02103, params: {'n_estimators': 110},\n",
       "  mean: 0.78531, std: 0.02108, params: {'n_estimators': 111},\n",
       "  mean: 0.78517, std: 0.02117, params: {'n_estimators': 112},\n",
       "  mean: 0.78487, std: 0.02118, params: {'n_estimators': 113},\n",
       "  mean: 0.78491, std: 0.02133, params: {'n_estimators': 114},\n",
       "  mean: 0.78493, std: 0.02100, params: {'n_estimators': 115},\n",
       "  mean: 0.78510, std: 0.02061, params: {'n_estimators': 116},\n",
       "  mean: 0.78497, std: 0.02068, params: {'n_estimators': 117},\n",
       "  mean: 0.78520, std: 0.02085, params: {'n_estimators': 118},\n",
       "  mean: 0.78495, std: 0.02061, params: {'n_estimators': 119},\n",
       "  mean: 0.78487, std: 0.02058, params: {'n_estimators': 120},\n",
       "  mean: 0.78479, std: 0.02074, params: {'n_estimators': 121},\n",
       "  mean: 0.78460, std: 0.02063, params: {'n_estimators': 122},\n",
       "  mean: 0.78452, std: 0.02052, params: {'n_estimators': 123},\n",
       "  mean: 0.78444, std: 0.02064, params: {'n_estimators': 124},\n",
       "  mean: 0.78446, std: 0.02059, params: {'n_estimators': 125},\n",
       "  mean: 0.78449, std: 0.02018, params: {'n_estimators': 126},\n",
       "  mean: 0.78420, std: 0.02032, params: {'n_estimators': 127},\n",
       "  mean: 0.78424, std: 0.02001, params: {'n_estimators': 128},\n",
       "  mean: 0.78423, std: 0.01975, params: {'n_estimators': 129},\n",
       "  mean: 0.78430, std: 0.01992, params: {'n_estimators': 130},\n",
       "  mean: 0.78452, std: 0.02002, params: {'n_estimators': 131},\n",
       "  mean: 0.78448, std: 0.02002, params: {'n_estimators': 132},\n",
       "  mean: 0.78430, std: 0.01998, params: {'n_estimators': 133},\n",
       "  mean: 0.78436, std: 0.02001, params: {'n_estimators': 134},\n",
       "  mean: 0.78438, std: 0.01991, params: {'n_estimators': 135},\n",
       "  mean: 0.78446, std: 0.01966, params: {'n_estimators': 136},\n",
       "  mean: 0.78434, std: 0.01959, params: {'n_estimators': 137},\n",
       "  mean: 0.78452, std: 0.01968, params: {'n_estimators': 138},\n",
       "  mean: 0.78446, std: 0.01958, params: {'n_estimators': 139},\n",
       "  mean: 0.78432, std: 0.01992, params: {'n_estimators': 140},\n",
       "  mean: 0.78442, std: 0.02006, params: {'n_estimators': 141},\n",
       "  mean: 0.78449, std: 0.02005, params: {'n_estimators': 142},\n",
       "  mean: 0.78448, std: 0.01988, params: {'n_estimators': 143},\n",
       "  mean: 0.78460, std: 0.01992, params: {'n_estimators': 144},\n",
       "  mean: 0.78460, std: 0.01980, params: {'n_estimators': 145},\n",
       "  mean: 0.78452, std: 0.01975, params: {'n_estimators': 146},\n",
       "  mean: 0.78429, std: 0.01974, params: {'n_estimators': 147},\n",
       "  mean: 0.78416, std: 0.01989, params: {'n_estimators': 148},\n",
       "  mean: 0.78419, std: 0.01982, params: {'n_estimators': 149},\n",
       "  mean: 0.78419, std: 0.01974, params: {'n_estimators': 150},\n",
       "  mean: 0.78417, std: 0.02005, params: {'n_estimators': 151},\n",
       "  mean: 0.78423, std: 0.01970, params: {'n_estimators': 152},\n",
       "  mean: 0.78435, std: 0.01972, params: {'n_estimators': 153},\n",
       "  mean: 0.78416, std: 0.01978, params: {'n_estimators': 154},\n",
       "  mean: 0.78405, std: 0.01962, params: {'n_estimators': 155},\n",
       "  mean: 0.78399, std: 0.01955, params: {'n_estimators': 156},\n",
       "  mean: 0.78394, std: 0.01963, params: {'n_estimators': 157},\n",
       "  mean: 0.78395, std: 0.01937, params: {'n_estimators': 158},\n",
       "  mean: 0.78391, std: 0.01954, params: {'n_estimators': 159},\n",
       "  mean: 0.78395, std: 0.01963, params: {'n_estimators': 160},\n",
       "  mean: 0.78391, std: 0.01988, params: {'n_estimators': 161},\n",
       "  mean: 0.78379, std: 0.01979, params: {'n_estimators': 162},\n",
       "  mean: 0.78377, std: 0.01966, params: {'n_estimators': 163},\n",
       "  mean: 0.78360, std: 0.01989, params: {'n_estimators': 164},\n",
       "  mean: 0.78367, std: 0.01996, params: {'n_estimators': 165},\n",
       "  mean: 0.78369, std: 0.01989, params: {'n_estimators': 166},\n",
       "  mean: 0.78359, std: 0.01979, params: {'n_estimators': 167},\n",
       "  mean: 0.78344, std: 0.01961, params: {'n_estimators': 168},\n",
       "  mean: 0.78346, std: 0.01958, params: {'n_estimators': 169},\n",
       "  mean: 0.78347, std: 0.01958, params: {'n_estimators': 170},\n",
       "  mean: 0.78360, std: 0.01970, params: {'n_estimators': 171},\n",
       "  mean: 0.78364, std: 0.01958, params: {'n_estimators': 172},\n",
       "  mean: 0.78376, std: 0.01963, params: {'n_estimators': 173},\n",
       "  mean: 0.78379, std: 0.01945, params: {'n_estimators': 174},\n",
       "  mean: 0.78368, std: 0.01953, params: {'n_estimators': 175},\n",
       "  mean: 0.78361, std: 0.01941, params: {'n_estimators': 176},\n",
       "  mean: 0.78359, std: 0.01929, params: {'n_estimators': 177},\n",
       "  mean: 0.78366, std: 0.01935, params: {'n_estimators': 178},\n",
       "  mean: 0.78345, std: 0.01932, params: {'n_estimators': 179},\n",
       "  mean: 0.78337, std: 0.01933, params: {'n_estimators': 180},\n",
       "  mean: 0.78347, std: 0.01934, params: {'n_estimators': 181},\n",
       "  mean: 0.78332, std: 0.01939, params: {'n_estimators': 182},\n",
       "  mean: 0.78321, std: 0.01940, params: {'n_estimators': 183},\n",
       "  mean: 0.78333, std: 0.01945, params: {'n_estimators': 184},\n",
       "  mean: 0.78314, std: 0.01979, params: {'n_estimators': 185},\n",
       "  mean: 0.78310, std: 0.02000, params: {'n_estimators': 186},\n",
       "  mean: 0.78322, std: 0.01987, params: {'n_estimators': 187},\n",
       "  mean: 0.78322, std: 0.01982, params: {'n_estimators': 188},\n",
       "  mean: 0.78324, std: 0.01998, params: {'n_estimators': 189},\n",
       "  mean: 0.78333, std: 0.01985, params: {'n_estimators': 190},\n",
       "  mean: 0.78317, std: 0.01990, params: {'n_estimators': 191},\n",
       "  mean: 0.78318, std: 0.01981, params: {'n_estimators': 192},\n",
       "  mean: 0.78313, std: 0.01974, params: {'n_estimators': 193},\n",
       "  mean: 0.78312, std: 0.01973, params: {'n_estimators': 194},\n",
       "  mean: 0.78287, std: 0.01958, params: {'n_estimators': 195},\n",
       "  mean: 0.78280, std: 0.01966, params: {'n_estimators': 196},\n",
       "  mean: 0.78280, std: 0.01957, params: {'n_estimators': 197},\n",
       "  mean: 0.78278, std: 0.01961, params: {'n_estimators': 198},\n",
       "  mean: 0.78265, std: 0.01967, params: {'n_estimators': 199}],\n",
       " {'n_estimators': 105},\n",
       " 0.7857370176338515)"
      ]
     },
     "execution_count": 37,
     "metadata": {},
     "output_type": "execute_result"
    }
   ],
   "source": [
    "gsearch1.fit(X,y)\n",
    "gsearch1.grid_scores_, gsearch1.best_params_, gsearch1.best_score_"
   ]
  },
  {
   "cell_type": "markdown",
   "metadata": {},
   "source": [
    "### 105 estimators has the highest accuracy at .7857 and a std of  .02163\n",
    "\n",
    "#### Tuning max depth and min_samples_split"
   ]
  },
  {
   "cell_type": "code",
   "execution_count": 45,
   "metadata": {},
   "outputs": [],
   "source": [
    "param_test2 = {'max_depth': np.arange(2,16), 'min_samples_split': np.arange(200,1001,100)}\n",
    "gsearch2 = GridSearchCV(estimator = GradientBoostingClassifier(learning_rate=0.1, n_estimators=105, min_samples_leaf=50, max_features='sqrt', subsample=0.8), \n",
    "param_grid = param_test2, scoring='roc_auc', n_jobs=4, iid=False, cv=5)"
   ]
  },
  {
   "cell_type": "code",
   "execution_count": 46,
   "metadata": {
    "collapsed": true
   },
   "outputs": [
    {
     "data": {
      "text/plain": [
       "([mean: 0.78103, std: 0.02279, params: {'max_depth': 2, 'min_samples_split': 200},\n",
       "  mean: 0.78153, std: 0.02267, params: {'max_depth': 2, 'min_samples_split': 300},\n",
       "  mean: 0.78126, std: 0.02314, params: {'max_depth': 2, 'min_samples_split': 400},\n",
       "  mean: 0.78086, std: 0.02273, params: {'max_depth': 2, 'min_samples_split': 500},\n",
       "  mean: 0.78116, std: 0.02303, params: {'max_depth': 2, 'min_samples_split': 600},\n",
       "  mean: 0.78008, std: 0.02371, params: {'max_depth': 2, 'min_samples_split': 700},\n",
       "  mean: 0.78142, std: 0.02170, params: {'max_depth': 2, 'min_samples_split': 800},\n",
       "  mean: 0.78063, std: 0.02281, params: {'max_depth': 2, 'min_samples_split': 900},\n",
       "  mean: 0.78186, std: 0.02179, params: {'max_depth': 2, 'min_samples_split': 1000},\n",
       "  mean: 0.78677, std: 0.02225, params: {'max_depth': 4, 'min_samples_split': 200},\n",
       "  mean: 0.78593, std: 0.02244, params: {'max_depth': 4, 'min_samples_split': 300},\n",
       "  mean: 0.78677, std: 0.02067, params: {'max_depth': 4, 'min_samples_split': 400},\n",
       "  mean: 0.78446, std: 0.02038, params: {'max_depth': 4, 'min_samples_split': 500},\n",
       "  mean: 0.78572, std: 0.02249, params: {'max_depth': 4, 'min_samples_split': 600},\n",
       "  mean: 0.78458, std: 0.02277, params: {'max_depth': 4, 'min_samples_split': 700},\n",
       "  mean: 0.78425, std: 0.01966, params: {'max_depth': 4, 'min_samples_split': 800},\n",
       "  mean: 0.78384, std: 0.02011, params: {'max_depth': 4, 'min_samples_split': 900},\n",
       "  mean: 0.78283, std: 0.01985, params: {'max_depth': 4, 'min_samples_split': 1000},\n",
       "  mean: 0.78329, std: 0.02161, params: {'max_depth': 6, 'min_samples_split': 200},\n",
       "  mean: 0.78313, std: 0.01991, params: {'max_depth': 6, 'min_samples_split': 300},\n",
       "  mean: 0.78384, std: 0.01907, params: {'max_depth': 6, 'min_samples_split': 400},\n",
       "  mean: 0.78456, std: 0.01973, params: {'max_depth': 6, 'min_samples_split': 500},\n",
       "  mean: 0.78440, std: 0.02161, params: {'max_depth': 6, 'min_samples_split': 600},\n",
       "  mean: 0.78570, std: 0.02092, params: {'max_depth': 6, 'min_samples_split': 700},\n",
       "  mean: 0.78569, std: 0.02330, params: {'max_depth': 6, 'min_samples_split': 800},\n",
       "  mean: 0.78466, std: 0.01877, params: {'max_depth': 6, 'min_samples_split': 900},\n",
       "  mean: 0.78440, std: 0.01912, params: {'max_depth': 6, 'min_samples_split': 1000},\n",
       "  mean: 0.77990, std: 0.01956, params: {'max_depth': 8, 'min_samples_split': 200},\n",
       "  mean: 0.78122, std: 0.01859, params: {'max_depth': 8, 'min_samples_split': 300},\n",
       "  mean: 0.78209, std: 0.01957, params: {'max_depth': 8, 'min_samples_split': 400},\n",
       "  mean: 0.78244, std: 0.01919, params: {'max_depth': 8, 'min_samples_split': 500},\n",
       "  mean: 0.78464, std: 0.02008, params: {'max_depth': 8, 'min_samples_split': 600},\n",
       "  mean: 0.78590, std: 0.02043, params: {'max_depth': 8, 'min_samples_split': 700},\n",
       "  mean: 0.78418, std: 0.01909, params: {'max_depth': 8, 'min_samples_split': 800},\n",
       "  mean: 0.78603, std: 0.02066, params: {'max_depth': 8, 'min_samples_split': 900},\n",
       "  mean: 0.78372, std: 0.02251, params: {'max_depth': 8, 'min_samples_split': 1000},\n",
       "  mean: 0.77741, std: 0.02122, params: {'max_depth': 10, 'min_samples_split': 200},\n",
       "  mean: 0.78152, std: 0.02019, params: {'max_depth': 10, 'min_samples_split': 300},\n",
       "  mean: 0.78205, std: 0.02124, params: {'max_depth': 10, 'min_samples_split': 400},\n",
       "  mean: 0.78163, std: 0.02133, params: {'max_depth': 10, 'min_samples_split': 500},\n",
       "  mean: 0.78049, std: 0.02040, params: {'max_depth': 10, 'min_samples_split': 600},\n",
       "  mean: 0.78453, std: 0.02121, params: {'max_depth': 10, 'min_samples_split': 700},\n",
       "  mean: 0.78607, std: 0.02034, params: {'max_depth': 10, 'min_samples_split': 800},\n",
       "  mean: 0.78398, std: 0.01810, params: {'max_depth': 10, 'min_samples_split': 900},\n",
       "  mean: 0.78355, std: 0.02183, params: {'max_depth': 10, 'min_samples_split': 1000},\n",
       "  mean: 0.77897, std: 0.02171, params: {'max_depth': 12, 'min_samples_split': 200},\n",
       "  mean: 0.78175, std: 0.02158, params: {'max_depth': 12, 'min_samples_split': 300},\n",
       "  mean: 0.78252, std: 0.02361, params: {'max_depth': 12, 'min_samples_split': 400},\n",
       "  mean: 0.78002, std: 0.01942, params: {'max_depth': 12, 'min_samples_split': 500},\n",
       "  mean: 0.78262, std: 0.02054, params: {'max_depth': 12, 'min_samples_split': 600},\n",
       "  mean: 0.78257, std: 0.01987, params: {'max_depth': 12, 'min_samples_split': 700},\n",
       "  mean: 0.78485, std: 0.02189, params: {'max_depth': 12, 'min_samples_split': 800},\n",
       "  mean: 0.78243, std: 0.02138, params: {'max_depth': 12, 'min_samples_split': 900},\n",
       "  mean: 0.78403, std: 0.01948, params: {'max_depth': 12, 'min_samples_split': 1000},\n",
       "  mean: 0.77917, std: 0.01979, params: {'max_depth': 14, 'min_samples_split': 200},\n",
       "  mean: 0.77789, std: 0.02124, params: {'max_depth': 14, 'min_samples_split': 300},\n",
       "  mean: 0.78213, std: 0.02168, params: {'max_depth': 14, 'min_samples_split': 400},\n",
       "  mean: 0.78240, std: 0.02147, params: {'max_depth': 14, 'min_samples_split': 500},\n",
       "  mean: 0.78321, std: 0.02225, params: {'max_depth': 14, 'min_samples_split': 600},\n",
       "  mean: 0.78427, std: 0.02152, params: {'max_depth': 14, 'min_samples_split': 700},\n",
       "  mean: 0.78465, std: 0.02042, params: {'max_depth': 14, 'min_samples_split': 800},\n",
       "  mean: 0.78584, std: 0.02201, params: {'max_depth': 14, 'min_samples_split': 900},\n",
       "  mean: 0.78245, std: 0.02054, params: {'max_depth': 14, 'min_samples_split': 1000}],\n",
       " {'max_depth': 4, 'min_samples_split': 400},\n",
       " 0.7867719176128044)"
      ]
     },
     "execution_count": 46,
     "metadata": {},
     "output_type": "execute_result"
    }
   ],
   "source": [
    "gsearch2.fit(X,y)\n",
    "gsearch2.grid_scores_, gsearch2.best_params_, gsearch2.best_score_"
   ]
  },
  {
   "cell_type": "markdown",
   "metadata": {},
   "source": [
    "### max_depth of 4 and min_samples_split of 400 yielded the best accuracy of .78677 and a std of 0.02067\n",
    "\n",
    "### Trying more values for min_samples_split along with different values for min_samples_leaf with a max_depth of 4. "
   ]
  },
  {
   "cell_type": "code",
   "execution_count": 6,
   "metadata": {
    "collapsed": true
   },
   "outputs": [
    {
     "data": {
      "text/plain": [
       "([mean: 0.78599, std: 0.02100, params: {'min_samples_leaf': 20, 'min_samples_split': 300},\n",
       "  mean: 0.78469, std: 0.02033, params: {'min_samples_leaf': 20, 'min_samples_split': 320},\n",
       "  mean: 0.78467, std: 0.02154, params: {'min_samples_leaf': 20, 'min_samples_split': 340},\n",
       "  mean: 0.78565, std: 0.01987, params: {'min_samples_leaf': 20, 'min_samples_split': 360},\n",
       "  mean: 0.78591, std: 0.01946, params: {'min_samples_leaf': 20, 'min_samples_split': 380},\n",
       "  mean: 0.78526, std: 0.02076, params: {'min_samples_leaf': 20, 'min_samples_split': 400},\n",
       "  mean: 0.78630, std: 0.02148, params: {'min_samples_leaf': 20, 'min_samples_split': 420},\n",
       "  mean: 0.78564, std: 0.01890, params: {'min_samples_leaf': 20, 'min_samples_split': 440},\n",
       "  mean: 0.78539, std: 0.01935, params: {'min_samples_leaf': 20, 'min_samples_split': 460},\n",
       "  mean: 0.78360, std: 0.02169, params: {'min_samples_leaf': 20, 'min_samples_split': 480},\n",
       "  mean: 0.78283, std: 0.01906, params: {'min_samples_leaf': 30, 'min_samples_split': 300},\n",
       "  mean: 0.78614, std: 0.02199, params: {'min_samples_leaf': 30, 'min_samples_split': 320},\n",
       "  mean: 0.78441, std: 0.01927, params: {'min_samples_leaf': 30, 'min_samples_split': 340},\n",
       "  mean: 0.78568, std: 0.02181, params: {'min_samples_leaf': 30, 'min_samples_split': 360},\n",
       "  mean: 0.78450, std: 0.02329, params: {'min_samples_leaf': 30, 'min_samples_split': 380},\n",
       "  mean: 0.78492, std: 0.02301, params: {'min_samples_leaf': 30, 'min_samples_split': 400},\n",
       "  mean: 0.78627, std: 0.02086, params: {'min_samples_leaf': 30, 'min_samples_split': 420},\n",
       "  mean: 0.78541, std: 0.02159, params: {'min_samples_leaf': 30, 'min_samples_split': 440},\n",
       "  mean: 0.78317, std: 0.02152, params: {'min_samples_leaf': 30, 'min_samples_split': 460},\n",
       "  mean: 0.78668, std: 0.02248, params: {'min_samples_leaf': 30, 'min_samples_split': 480},\n",
       "  mean: 0.78606, std: 0.02064, params: {'min_samples_leaf': 40, 'min_samples_split': 300},\n",
       "  mean: 0.78571, std: 0.02270, params: {'min_samples_leaf': 40, 'min_samples_split': 320},\n",
       "  mean: 0.78551, std: 0.02265, params: {'min_samples_leaf': 40, 'min_samples_split': 340},\n",
       "  mean: 0.78624, std: 0.02248, params: {'min_samples_leaf': 40, 'min_samples_split': 360},\n",
       "  mean: 0.78553, std: 0.02349, params: {'min_samples_leaf': 40, 'min_samples_split': 380},\n",
       "  mean: 0.78545, std: 0.02280, params: {'min_samples_leaf': 40, 'min_samples_split': 400},\n",
       "  mean: 0.78598, std: 0.02237, params: {'min_samples_leaf': 40, 'min_samples_split': 420},\n",
       "  mean: 0.78509, std: 0.01990, params: {'min_samples_leaf': 40, 'min_samples_split': 440},\n",
       "  mean: 0.78766, std: 0.02369, params: {'min_samples_leaf': 40, 'min_samples_split': 460},\n",
       "  mean: 0.78647, std: 0.01914, params: {'min_samples_leaf': 40, 'min_samples_split': 480},\n",
       "  mean: 0.78501, std: 0.01992, params: {'min_samples_leaf': 50, 'min_samples_split': 300},\n",
       "  mean: 0.78638, std: 0.02181, params: {'min_samples_leaf': 50, 'min_samples_split': 320},\n",
       "  mean: 0.78620, std: 0.02076, params: {'min_samples_leaf': 50, 'min_samples_split': 340},\n",
       "  mean: 0.78376, std: 0.02021, params: {'min_samples_leaf': 50, 'min_samples_split': 360},\n",
       "  mean: 0.78595, std: 0.02130, params: {'min_samples_leaf': 50, 'min_samples_split': 380},\n",
       "  mean: 0.78383, std: 0.02052, params: {'min_samples_leaf': 50, 'min_samples_split': 400},\n",
       "  mean: 0.78677, std: 0.02295, params: {'min_samples_leaf': 50, 'min_samples_split': 420},\n",
       "  mean: 0.78400, std: 0.02337, params: {'min_samples_leaf': 50, 'min_samples_split': 440},\n",
       "  mean: 0.78401, std: 0.02083, params: {'min_samples_leaf': 50, 'min_samples_split': 460},\n",
       "  mean: 0.78485, std: 0.02105, params: {'min_samples_leaf': 50, 'min_samples_split': 480},\n",
       "  mean: 0.78565, std: 0.02211, params: {'min_samples_leaf': 60, 'min_samples_split': 300},\n",
       "  mean: 0.78546, std: 0.02030, params: {'min_samples_leaf': 60, 'min_samples_split': 320},\n",
       "  mean: 0.78564, std: 0.02135, params: {'min_samples_leaf': 60, 'min_samples_split': 340},\n",
       "  mean: 0.78494, std: 0.02056, params: {'min_samples_leaf': 60, 'min_samples_split': 360},\n",
       "  mean: 0.78686, std: 0.02139, params: {'min_samples_leaf': 60, 'min_samples_split': 380},\n",
       "  mean: 0.78453, std: 0.02177, params: {'min_samples_leaf': 60, 'min_samples_split': 400},\n",
       "  mean: 0.78550, std: 0.02042, params: {'min_samples_leaf': 60, 'min_samples_split': 420},\n",
       "  mean: 0.78471, std: 0.02148, params: {'min_samples_leaf': 60, 'min_samples_split': 440},\n",
       "  mean: 0.78588, std: 0.02171, params: {'min_samples_leaf': 60, 'min_samples_split': 460},\n",
       "  mean: 0.78398, std: 0.02093, params: {'min_samples_leaf': 60, 'min_samples_split': 480},\n",
       "  mean: 0.78347, std: 0.02158, params: {'min_samples_leaf': 70, 'min_samples_split': 300},\n",
       "  mean: 0.78228, std: 0.02026, params: {'min_samples_leaf': 70, 'min_samples_split': 320},\n",
       "  mean: 0.78690, std: 0.01987, params: {'min_samples_leaf': 70, 'min_samples_split': 340},\n",
       "  mean: 0.78630, std: 0.01962, params: {'min_samples_leaf': 70, 'min_samples_split': 360},\n",
       "  mean: 0.78482, std: 0.02025, params: {'min_samples_leaf': 70, 'min_samples_split': 380},\n",
       "  mean: 0.78730, std: 0.01977, params: {'min_samples_leaf': 70, 'min_samples_split': 400},\n",
       "  mean: 0.78371, std: 0.02130, params: {'min_samples_leaf': 70, 'min_samples_split': 420},\n",
       "  mean: 0.78598, std: 0.02276, params: {'min_samples_leaf': 70, 'min_samples_split': 440},\n",
       "  mean: 0.78543, std: 0.02119, params: {'min_samples_leaf': 70, 'min_samples_split': 460},\n",
       "  mean: 0.78287, std: 0.02050, params: {'min_samples_leaf': 70, 'min_samples_split': 480}],\n",
       " {'min_samples_leaf': 40, 'min_samples_split': 460},\n",
       " 0.7876606005602316)"
      ]
     },
     "execution_count": 6,
     "metadata": {},
     "output_type": "execute_result"
    }
   ],
   "source": [
    "param_test3 = {'min_samples_leaf': np.arange(20,71,10), 'min_samples_split': np.arange(300,500,20)}\n",
    "gsearch3 = GridSearchCV(estimator = GradientBoostingClassifier(learning_rate=0.1, n_estimators=105, max_depth=4, max_features='sqrt', subsample=0.8), \n",
    "param_grid = param_test3, scoring='roc_auc', n_jobs=4, iid=False, cv=5)\n",
    "gsearch3.fit(X,y)\n",
    "gsearch3.grid_scores_, gsearch3.best_params_, gsearch3.best_score_"
   ]
  },
  {
   "cell_type": "markdown",
   "metadata": {},
   "source": [
    "#### min_sample_leaf = 40 and min_sample_split = 460 had the best accuracy of .78766\n",
    "\n",
    "### fine the optimum max_features"
   ]
  },
  {
   "cell_type": "code",
   "execution_count": 10,
   "metadata": {},
   "outputs": [
    {
     "data": {
      "text/plain": [
       "([mean: 0.78166, std: 0.02077, params: {'max_features': 2},\n",
       "  mean: 0.78549, std: 0.02040, params: {'max_features': 4},\n",
       "  mean: 0.78794, std: 0.02214, params: {'max_features': 6},\n",
       "  mean: 0.78612, std: 0.02174, params: {'max_features': 8},\n",
       "  mean: 0.78710, std: 0.02042, params: {'max_features': 10},\n",
       "  mean: 0.78625, std: 0.02107, params: {'max_features': 12},\n",
       "  mean: 0.78701, std: 0.02060, params: {'max_features': 14},\n",
       "  mean: 0.78627, std: 0.02111, params: {'max_features': 16}],\n",
       " {'max_features': 6},\n",
       " 0.7879371886012853)"
      ]
     },
     "execution_count": 10,
     "metadata": {},
     "output_type": "execute_result"
    }
   ],
   "source": [
    "param_test4 = {'max_features':np.arange(2,17,2)}\n",
    "gsearch4 = GridSearchCV(estimator = GradientBoostingClassifier(learning_rate=0.1, n_estimators=105,max_depth=4, min_samples_split=460, min_samples_leaf=40, subsample=0.8),\n",
    "param_grid = param_test4, scoring='roc_auc',n_jobs=4,iid=False, cv=5)\n",
    "gsearch4.fit(X,y)\n",
    "gsearch4.grid_scores_, gsearch4.best_params_, gsearch4.best_score_"
   ]
  },
  {
   "cell_type": "markdown",
   "metadata": {},
   "source": [
    "#### Max features of 6 has the highest accuracy of .7879\n",
    "\n",
    "\n",
    "### Checking the crosstab table "
   ]
  },
  {
   "cell_type": "code",
   "execution_count": 13,
   "metadata": {},
   "outputs": [
    {
     "name": "stdout",
     "output_type": "stream",
     "text": [
      "Training set accuracy:\n",
      "Percent Type I errors: 0.04343547933651954\n",
      "Percent Type II errors: 0.1771155468091088\n",
      "\n",
      "Test set accuracy:\n",
      "Percent Type I errors: 0.05815423514538559\n",
      "Percent Type II errors: 0.1959544879898862\n"
     ]
    }
   ],
   "source": [
    "offset = int(X.shape[0] * 0.9)\n",
    "\n",
    "# Put 90% of the data in the training set.\n",
    "X_train, y_train = X[:offset], y[:offset]\n",
    "\n",
    "# And put 10% in the test set.\n",
    "X_test, y_test = X[offset:], y[offset:]\n",
    "\n",
    "# Initialize and fit the model.\n",
    "clf = GradientBoostingClassifier(learning_rate=0.1, n_estimators=105,max_depth=4, min_samples_split=460, min_samples_leaf=40, subsample=0.8)\n",
    "clf.fit(X_train, y_train)\n",
    "\n",
    "predict_train = clf.predict(X_train)\n",
    "predict_test = clf.predict(X_test)\n",
    "\n",
    "# Accuracy tables.\n",
    "table_train = pd.crosstab(y_train, predict_train, margins=True)\n",
    "table_test = pd.crosstab(y_test, predict_test, margins=True)\n",
    "\n",
    "train_tI_errors = table_train.loc[0.0,1.0] / table_train.loc['All','All']\n",
    "train_tII_errors = table_train.loc[1.0,0.0] / table_train.loc['All','All']\n",
    "\n",
    "test_tI_errors = table_test.loc[0.0,1.0]/table_test.loc['All','All']\n",
    "test_tII_errors = table_test.loc[1.0,0.0]/table_test.loc['All','All']\n",
    "\n",
    "print((\n",
    "    'Training set accuracy:\\n'\n",
    "    'Percent Type I errors: {}\\n'\n",
    "    'Percent Type II errors: {}\\n\\n'\n",
    "    'Test set accuracy:\\n'\n",
    "    'Percent Type I errors: {}\\n'\n",
    "    'Percent Type II errors: {}'\n",
    ").format(train_tI_errors, train_tII_errors, test_tI_errors, test_tII_errors))\n"
   ]
  },
  {
   "cell_type": "markdown",
   "metadata": {},
   "source": [
    "### Trying different subsamples"
   ]
  },
  {
   "cell_type": "code",
   "execution_count": 12,
   "metadata": {},
   "outputs": [
    {
     "data": {
      "text/plain": [
       "([mean: 0.78579, std: 0.01863, params: {'subsample': 0.6},\n",
       "  mean: 0.78608, std: 0.01972, params: {'subsample': 0.7},\n",
       "  mean: 0.78616, std: 0.02187, params: {'subsample': 0.75},\n",
       "  mean: 0.78726, std: 0.02129, params: {'subsample': 0.8},\n",
       "  mean: 0.78646, std: 0.02112, params: {'subsample': 0.85},\n",
       "  mean: 0.78697, std: 0.02018, params: {'subsample': 0.9},\n",
       "  mean: 0.78502, std: 0.02127, params: {'subsample': 0.95},\n",
       "  mean: 0.78844, std: 0.02201, params: {'subsample': 1}],\n",
       " {'subsample': 1},\n",
       " 0.7884404527168211)"
      ]
     },
     "execution_count": 12,
     "metadata": {},
     "output_type": "execute_result"
    }
   ],
   "source": [
    "param_test5 = {'subsample':[0.6,0.7,0.75,0.8,0.85,0.9,0.95,1]}\n",
    "gsearch5 = GridSearchCV(estimator = GradientBoostingClassifier(learning_rate=0.1, n_estimators=105,max_depth=4,min_samples_split=400, min_samples_leaf=60, subsample=0.8,max_features=6),\n",
    "param_grid = param_test5, scoring='roc_auc',n_jobs=4,iid=False, cv=5)\n",
    "gsearch5.fit(X,y)\n",
    "gsearch5.grid_scores_, gsearch5.best_params_, gsearch5.best_score_"
   ]
  },
  {
   "cell_type": "markdown",
   "metadata": {},
   "source": [
    "### I'll stick with a subsample of .8 to avoid over-fitting\n",
    "\n",
    "### Trying an 'exponential' loss function"
   ]
  },
  {
   "cell_type": "code",
   "execution_count": 15,
   "metadata": {},
   "outputs": [
    {
     "name": "stdout",
     "output_type": "stream",
     "text": [
      "Training set accuracy:\n",
      "Percent Type I errors: 0.04231093618217599\n",
      "Percent Type II errors: 0.1803486083778465\n",
      "\n",
      "Test set accuracy:\n",
      "Percent Type I errors: 0.05941845764854614\n",
      "Percent Type II errors: 0.19469026548672566\n"
     ]
    }
   ],
   "source": [
    "clf = GradientBoostingClassifier(loss='exponential', learning_rate=0.1, n_estimators=105,max_depth=4, min_samples_split=460, min_samples_leaf=40, subsample=.8)\n",
    "clf.fit(X_train, y_train)\n",
    "\n",
    "predict_train = clf.predict(X_train)\n",
    "predict_test = clf.predict(X_test)\n",
    "\n",
    "# Accuracy tables.\n",
    "table_train = pd.crosstab(y_train, predict_train, margins=True)\n",
    "table_test = pd.crosstab(y_test, predict_test, margins=True)\n",
    "\n",
    "train_tI_errors = table_train.loc[0.0,1.0] / table_train.loc['All','All']\n",
    "train_tII_errors = table_train.loc[1.0,0.0] / table_train.loc['All','All']\n",
    "\n",
    "test_tI_errors = table_test.loc[0.0,1.0]/table_test.loc['All','All']\n",
    "test_tII_errors = table_test.loc[1.0,0.0]/table_test.loc['All','All']\n",
    "\n",
    "print((\n",
    "    'Training set accuracy:\\n'\n",
    "    'Percent Type I errors: {}\\n'\n",
    "    'Percent Type II errors: {}\\n\\n'\n",
    "    'Test set accuracy:\\n'\n",
    "    'Percent Type I errors: {}\\n'\n",
    "    'Percent Type II errors: {}'\n",
    ").format(train_tI_errors, train_tII_errors, test_tI_errors, test_tII_errors))\n"
   ]
  },
  {
   "cell_type": "markdown",
   "metadata": {},
   "source": [
    "### Trying reducing the learning rate to .5 and increasing the number of trees to 210"
   ]
  },
  {
   "cell_type": "code",
   "execution_count": 18,
   "metadata": {},
   "outputs": [
    {
     "name": "stdout",
     "output_type": "stream",
     "text": [
      "Training set accuracy:\n",
      "Percent Type I errors: 0.04301377565364071\n",
      "Percent Type II errors: 0.13494517852122576\n",
      "\n",
      "Test set accuracy:\n",
      "Percent Type I errors: 0.07838179519595449\n",
      "Percent Type II errors: 0.20480404551201012\n"
     ]
    }
   ],
   "source": [
    "clf = GradientBoostingClassifier(loss='exponential', learning_rate=0.5, n_estimators=210,max_depth=4, min_samples_split=460, min_samples_leaf=40, subsample=.8)\n",
    "clf.fit(X_train, y_train)\n",
    "\n",
    "predict_train = clf.predict(X_train)\n",
    "predict_test = clf.predict(X_test)\n",
    "\n",
    "# Accuracy tables.\n",
    "table_train = pd.crosstab(y_train, predict_train, margins=True)\n",
    "table_test = pd.crosstab(y_test, predict_test, margins=True)\n",
    "\n",
    "train_tI_errors = table_train.loc[0.0,1.0] / table_train.loc['All','All']\n",
    "train_tII_errors = table_train.loc[1.0,0.0] / table_train.loc['All','All']\n",
    "\n",
    "test_tI_errors = table_test.loc[0.0,1.0]/table_test.loc['All','All']\n",
    "test_tII_errors = table_test.loc[1.0,0.0]/table_test.loc['All','All']\n",
    "\n",
    "print((\n",
    "    'Training set accuracy:\\n'\n",
    "    'Percent Type I errors: {}\\n'\n",
    "    'Percent Type II errors: {}\\n\\n'\n",
    "    'Test set accuracy:\\n'\n",
    "    'Percent Type I errors: {}\\n'\n",
    "    'Percent Type II errors: {}'\n",
    ").format(train_tI_errors, train_tII_errors, test_tI_errors, test_tII_errors))"
   ]
  },
  {
   "cell_type": "markdown",
   "metadata": {},
   "source": [
    "#### decreasing the learning rate is just leading to over-fitting.\n",
    "\n",
    "#### Overall, the percent of errors was not improved upon. "
   ]
  },
  {
   "cell_type": "code",
   "execution_count": null,
   "metadata": {},
   "outputs": [],
   "source": []
  }
 ],
 "metadata": {
  "hide_input": false,
  "kernelspec": {
   "display_name": "Python 3",
   "language": "python",
   "name": "python3"
  },
  "language_info": {
   "codemirror_mode": {
    "name": "ipython",
    "version": 3
   },
   "file_extension": ".py",
   "mimetype": "text/x-python",
   "name": "python",
   "nbconvert_exporter": "python",
   "pygments_lexer": "ipython3",
   "version": "3.6.5"
  },
  "toc": {
   "colors": {
    "hover_highlight": "#DAA520",
    "running_highlight": "#FF0000",
    "selected_highlight": "#FFD700"
   },
   "moveMenuLeft": true,
   "nav_menu": {
    "height": "59px",
    "width": "252px"
   },
   "navigate_menu": true,
   "number_sections": true,
   "sideBar": true,
   "threshold": 4,
   "toc_cell": false,
   "toc_section_display": "block",
   "toc_window_display": false
  }
 },
 "nbformat": 4,
 "nbformat_minor": 2
}
