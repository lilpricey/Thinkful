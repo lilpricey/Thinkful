{
 "cells": [
  {
   "cell_type": "markdown",
   "metadata": {},
   "source": [
    "# Text Clustering and Classification \n",
    "___\n",
    "### Project Scope\n",
    "Clustering and classifying texts using paragraphs from various sources of literature.   \n",
    "Unsupervised model results will be evaluated against actual authorship.  \n",
    "Unsupervised feature generation from texts to classify by Author.\n",
    "\n",
    "### Data\n",
    "The following pieces of literature were used in this project:\n",
    "\n",
    "* The Adventures of Sherlock Holmes - Arthur Conan Doyle\n",
    "* English traits - Ralph Waldo Emerson\n",
    "* Conspiracy Theory to Explain all Other Conspiracy Theories - Soren Greenwood\n",
    "* The Science of Right - Immanuel Kant\n",
    "* Endymion - John Keats\n",
    "* AUTOBIOGRAPHY - Thomas Jefferson\n",
    "* The Mini Mart (DMZ Eyes) - Andy Thomas\n",
    "* TERMINATOR 2: JUDGMENT DAY - James Cameron & William Wisher \n",
    "* Adventures of Huckleberry Finn - Mark Twain\n",
    "* The Picture of Dorian Gray - Oscar Wilde\n"
   ]
  },
  {
   "cell_type": "code",
   "execution_count": 2,
   "metadata": {},
   "outputs": [
    {
     "name": "stdout",
     "output_type": "stream",
     "text": [
      "[nltk_data] Downloading package wordnet to\n",
      "[nltk_data]     C:\\Users\\Loren\\AppData\\Roaming\\nltk_data...\n",
      "[nltk_data]   Package wordnet is already up-to-date!\n"
     ]
    }
   ],
   "source": [
    "import numpy as np\n",
    "import pandas as pd\n",
    "import nltk\n",
    "import os\n",
    "from pathlib import Path\n",
    "from nltk.corpus import PlaintextCorpusReader\n",
    "import re\n",
    "import matplotlib.pyplot as plt\n",
    "import seaborn as sns\n",
    "from nltk.corpus import stopwords\n",
    "from nltk.stem import WordNetLemmatizer\n",
    "from sklearn.feature_extraction.text import CountVectorizer, TfidfVectorizer\n",
    "from sklearn.cluster import KMeans\n",
    "from sklearn.preprocessing import normalize, Normalizer\n",
    "from sklearn.model_selection import train_test_split\n",
    "from nltk.stem.snowball import SnowballStemmer\n",
    "from sklearn.pipeline import make_pipeline\n",
    "import scipy\n",
    "from sklearn.decomposition import TruncatedSVD, PCA\n",
    "import spacy\n",
    "from sklearn import metrics\n",
    "\n",
    "import warnings\n",
    "warnings.filterwarnings('ignore')\n",
    "\n",
    "nltk.download('wordnet')\n",
    "sns.set(font_scale=1.25)\n",
    "sns.set_style('white')\n",
    "\n",
    "%matplotlib inline "
   ]
  },
  {
   "cell_type": "markdown",
   "metadata": {},
   "source": [
    "# Gather and Organize Data\n",
    "Here we'll create a corpus of the text files and read them by paragraph, with assosciated author labels."
   ]
  },
  {
   "cell_type": "code",
   "execution_count": 383,
   "metadata": {},
   "outputs": [],
   "source": [
    "# Create list of files\n",
    "files = os.listdir('texts')"
   ]
  },
  {
   "cell_type": "code",
   "execution_count": 384,
   "metadata": {},
   "outputs": [
    {
     "name": "stdout",
     "output_type": "stream",
     "text": [
      "['cameron-t2.txt', 'doyle-adventures-380.txt', 'emerson-english-230.txt', 'greenwood-2001.txt', 'jefferson-autobio.txt', 'kant-science-146.txt', 'keats-endymion-484.txt', 'thomas-minimart.txt', 'twain-adventures-27.txt', 'wilde-picture-615.txt']\n"
     ]
    }
   ],
   "source": [
    "# Print file list\n",
    "print(files)"
   ]
  },
  {
   "cell_type": "code",
   "execution_count": 385,
   "metadata": {
    "scrolled": false
   },
   "outputs": [
    {
     "data": {
      "text/plain": [
       "['cameron-t2.txt',\n",
       " 'doyle-adventures-380.txt',\n",
       " 'emerson-english-230.txt',\n",
       " 'greenwood-2001.txt',\n",
       " 'jefferson-autobio.txt',\n",
       " 'kant-science-146.txt',\n",
       " 'keats-endymion-484.txt',\n",
       " 'thomas-minimart.txt',\n",
       " 'twain-adventures-27.txt',\n",
       " 'wilde-picture-615.txt']"
      ]
     },
     "execution_count": 385,
     "metadata": {},
     "output_type": "execute_result"
    }
   ],
   "source": [
    "# Create corpus from files\n",
    "corpus_root = r'..\\unit_4\\texts'\n",
    "texts = PlaintextCorpusReader(corpus_root, '.*')\n",
    "texts.fileids()"
   ]
  },
  {
   "cell_type": "code",
   "execution_count": 386,
   "metadata": {},
   "outputs": [],
   "source": [
    "# Create Author labels for each book\n",
    "labels = []\n",
    "for file in files:\n",
    "    author = re.search(r'^\\w+', file).group()\n",
    "    labels.append([file, author])"
   ]
  },
  {
   "cell_type": "code",
   "execution_count": 387,
   "metadata": {
    "scrolled": true
   },
   "outputs": [
    {
     "data": {
      "text/plain": [
       "[['cameron-t2.txt', 'cameron'],\n",
       " ['doyle-adventures-380.txt', 'doyle'],\n",
       " ['emerson-english-230.txt', 'emerson'],\n",
       " ['greenwood-2001.txt', 'greenwood'],\n",
       " ['jefferson-autobio.txt', 'jefferson'],\n",
       " ['kant-science-146.txt', 'kant'],\n",
       " ['keats-endymion-484.txt', 'keats'],\n",
       " ['thomas-minimart.txt', 'thomas'],\n",
       " ['twain-adventures-27.txt', 'twain'],\n",
       " ['wilde-picture-615.txt', 'wilde']]"
      ]
     },
     "execution_count": 387,
     "metadata": {},
     "output_type": "execute_result"
    }
   ],
   "source": [
    "labels"
   ]
  },
  {
   "cell_type": "code",
   "execution_count": 388,
   "metadata": {},
   "outputs": [
    {
     "name": "stdout",
     "output_type": "stream",
     "text": [
      "['cameron-t2.txt', 'cameron']\n",
      "['doyle-adventures-380.txt', 'doyle']\n",
      "['emerson-english-230.txt', 'emerson']\n",
      "['greenwood-2001.txt', 'greenwood']\n",
      "['jefferson-autobio.txt', 'jefferson']\n",
      "['kant-science-146.txt', 'kant']\n",
      "['keats-endymion-484.txt', 'keats']\n",
      "['thomas-minimart.txt', 'thomas']\n",
      "['twain-adventures-27.txt', 'twain']\n",
      "['wilde-picture-615.txt', 'wilde']\n"
     ]
    }
   ],
   "source": [
    "# Read corpus in by paragraph, and create list with author label\n",
    "para_list = []\n",
    "joined_paras = []\n",
    "for book in labels:\n",
    "    paragraphs = texts.paras(book[0])\n",
    "    for paragraph in paragraphs:\n",
    "        para = paragraph[0]\n",
    "        para_list.append([' '.join(para), book[1]])\n",
    "    print(book)"
   ]
  },
  {
   "cell_type": "markdown",
   "metadata": {},
   "source": [
    "# Text Cleaning\n",
    "Some headers have been manually removed from the files. The body of the text will need to be cleaned before features are made. However, before that we'll look at the length of the paragraphs. Short paragraphs which don't contain a lot of text will be dropped as they won't contain much information. "
   ]
  },
  {
   "cell_type": "code",
   "execution_count": 389,
   "metadata": {
    "scrolled": false
   },
   "outputs": [
    {
     "data": {
      "text/plain": [
       "77.12120573355818"
      ]
     },
     "execution_count": 389,
     "metadata": {},
     "output_type": "execute_result"
    }
   ],
   "source": [
    "#Display mean paragraph length\n",
    "para_len = []\n",
    "for i in para_list:\n",
    "    para_len.append(len(i[0]))\n",
    "\n",
    "np.mean(para_len)"
   ]
  },
  {
   "cell_type": "code",
   "execution_count": 390,
   "metadata": {
    "scrolled": false
   },
   "outputs": [
    {
     "data": {
      "image/png": "[encoded data removed]",
      "text/plain": [
       "<Figure size 576x360 with 1 Axes>"
      ]
     },
     "metadata": {},
     "output_type": "display_data"
    }
   ],
   "source": [
    "#Plot distribution of paragraph length\n",
    "plt.figure(figsize=(8,5))\n",
    "sns.distplot(para_len)\n",
    "plt.title('Overall Paragraph Length')\n",
    "\n",
    "plt.show()"
   ]
  },
  {
   "cell_type": "code",
   "execution_count": 391,
   "metadata": {},
   "outputs": [],
   "source": [
    "# Make dataframe and rename columns\n",
    "df = pd.DataFrame(para_list)\n",
    "df.columns = ['paragraph', 'author']\n",
    "df['length'] = para_len"
   ]
  },
  {
   "cell_type": "code",
   "execution_count": 392,
   "metadata": {},
   "outputs": [
    {
     "data": {
      "text/plain": [
       "(9488, 3)"
      ]
     },
     "execution_count": 392,
     "metadata": {},
     "output_type": "execute_result"
    }
   ],
   "source": [
    "# display shape of df\n",
    "df.shape"
   ]
  },
  {
   "cell_type": "code",
   "execution_count": 393,
   "metadata": {},
   "outputs": [
    {
     "name": "stdout",
     "output_type": "stream",
     "text": [
      "['cameron' 'doyle' 'emerson' 'greenwood' 'jefferson' 'kant' 'keats'\n",
      " 'thomas' 'twain' 'wilde']\n"
     ]
    }
   ],
   "source": [
    "# create list of author names\n",
    "author_list = df['author'].unique()\n",
    "print(author_list)"
   ]
  },
  {
   "cell_type": "code",
   "execution_count": 394,
   "metadata": {
    "scrolled": false
   },
   "outputs": [
    {
     "data": {
      "image/png": "[encoded data removed]",
      "text/plain": [
       "<Figure size 792x432 with 1 Axes>"
      ]
     },
     "metadata": {},
     "output_type": "display_data"
    }
   ],
   "source": [
    "# plot distribution of paragraph length by author\n",
    "plt.figure(figsize=(11,6))\n",
    "\n",
    "for author in author_list:\n",
    "    sns.kdeplot(df['length'][df['author']== author], shade=True, label=author)\n",
    "\n",
    "plt.title('Paragraph Length By Author')\n",
    "plt.xlabel('Characters')\n",
    "plt.show()"
   ]
  },
  {
   "cell_type": "markdown",
   "metadata": {},
   "source": [
    "##### Short paragraphs will be dropped since they don't contain much information."
   ]
  },
  {
   "cell_type": "code",
   "execution_count": 395,
   "metadata": {},
   "outputs": [
    {
     "data": {
      "text/plain": [
       "(588, 3)"
      ]
     },
     "execution_count": 395,
     "metadata": {},
     "output_type": "execute_result"
    }
   ],
   "source": [
    "# display new shape after dropping short paragraphs\n",
    "df1 = df.drop(df[df['length'] < 200].index).reset_index(drop=True)\n",
    "#df1 = df1.drop(df1[df1['length'] > 600].index).reset_index(drop=True)\n",
    "#df1 = df\n",
    "df1.shape"
   ]
  },
  {
   "cell_type": "code",
   "execution_count": 396,
   "metadata": {},
   "outputs": [
    {
     "data": {
      "image/png": "[encoded data removed]",
      "text/plain": [
       "<Figure size 792x432 with 1 Axes>"
      ]
     },
     "metadata": {},
     "output_type": "display_data"
    }
   ],
   "source": [
    "# plot distribution of paragraph length by author after dropping short paragraphs\n",
    "plt.figure(figsize=(11,6))\n",
    "\n",
    "for author in author_list:\n",
    "    sns.kdeplot(df1['length'][df1['author']== author], shade=True, label=author)\n",
    "\n",
    "plt.title('Paragraph Length By Author')\n",
    "plt.xlabel('Characters')\n",
    "plt.show()"
   ]
  },
  {
   "cell_type": "code",
   "execution_count": 397,
   "metadata": {
    "scrolled": false
   },
   "outputs": [
    {
     "data": {
      "image/png": "[encoded data removed]",
      "text/plain": [
       "<Figure size 864x360 with 1 Axes>"
      ]
     },
     "metadata": {},
     "output_type": "display_data"
    }
   ],
   "source": [
    "# Plot paragraph count by author\n",
    "plt.figure(figsize=(12,5))\n",
    "sns.countplot(x=\"author\", data=df1);\n",
    "plt.title('Paragraph Count by Author')\n",
    "\n",
    "plt.show()"
   ]
  },
  {
   "cell_type": "markdown",
   "metadata": {},
   "source": [
    "### Clean remaining paragraphs before feature engineering"
   ]
  },
  {
   "cell_type": "code",
   "execution_count": 398,
   "metadata": {},
   "outputs": [],
   "source": [
    "# Define function to clean text\n",
    "def text_cleaner(text):\n",
    "    #remove double dash  \n",
    "    text = re.sub(r'--',' ',text)\n",
    "    #remove non alphabet chars\n",
    "    text = re.sub(r\"\\s*[^A-Za-z]+\\s*\", \" \", text)\n",
    "    #remove numbers\n",
    "    text = re.sub(r'\\d+', '', text)\n",
    "    #make lowercase\n",
    "    text = text.lower()\n",
    "    #remove punctuation\n",
    "    text = re.sub(r'[^\\w\\s]','',text)\n",
    "    #remove extra whitespace\n",
    "    text = re.sub( '\\s+', ' ', text ).strip()\n",
    "    return text"
   ]
  },
  {
   "cell_type": "code",
   "execution_count": 399,
   "metadata": {},
   "outputs": [],
   "source": [
    "# Apply text cleaner to paragraphs\n",
    "df1['paragraph'] = df1['paragraph'].apply(text_cleaner)"
   ]
  },
  {
   "cell_type": "code",
   "execution_count": 400,
   "metadata": {
    "scrolled": true
   },
   "outputs": [
    {
     "data": {
      "text/html": [
       "<div>\n",
       "<style scoped>\n",
       "    .dataframe tbody tr th:only-of-type {\n",
       "        vertical-align: middle;\n",
       "    }\n",
       "\n",
       "    .dataframe tbody tr th {\n",
       "        vertical-align: top;\n",
       "    }\n",
       "\n",
       "    .dataframe thead th {\n",
       "        text-align: right;\n",
       "    }\n",
       "</style>\n",
       "<table border=\"1\" class=\"dataframe\">\n",
       "  <thead>\n",
       "    <tr style=\"text-align: right;\">\n",
       "      <th></th>\n",
       "      <th>paragraph</th>\n",
       "      <th>author</th>\n",
       "      <th>length</th>\n",
       "    </tr>\n",
       "  </thead>\n",
       "  <tbody>\n",
       "    <tr>\n",
       "      <th>0</th>\n",
       "      <td>john is still in shock from the experience of ...</td>\n",
       "      <td>cameron</td>\n",
       "      <td>208</td>\n",
       "    </tr>\n",
       "    <tr>\n",
       "      <th>1</th>\n",
       "      <td>the terminator arnold scwarzenegger sarah conn...</td>\n",
       "      <td>cameron</td>\n",
       "      <td>1104</td>\n",
       "    </tr>\n",
       "    <tr>\n",
       "      <th>2</th>\n",
       "      <td>janet brady billy hank hooker bill lucas bob b...</td>\n",
       "      <td>cameron</td>\n",
       "      <td>247</td>\n",
       "    </tr>\n",
       "    <tr>\n",
       "      <th>3</th>\n",
       "      <td>art deparment assistant second assistant camer...</td>\n",
       "      <td>cameron</td>\n",
       "      <td>713</td>\n",
       "    </tr>\n",
       "    <tr>\n",
       "      <th>4</th>\n",
       "      <td>electricians boom operator james cox nicholas ...</td>\n",
       "      <td>cameron</td>\n",
       "      <td>274</td>\n",
       "    </tr>\n",
       "  </tbody>\n",
       "</table>\n",
       "</div>"
      ],
      "text/plain": [
       "                                           paragraph   author  length\n",
       "0  john is still in shock from the experience of ...  cameron     208\n",
       "1  the terminator arnold scwarzenegger sarah conn...  cameron    1104\n",
       "2  janet brady billy hank hooker bill lucas bob b...  cameron     247\n",
       "3  art deparment assistant second assistant camer...  cameron     713\n",
       "4  electricians boom operator james cox nicholas ...  cameron     274"
      ]
     },
     "execution_count": 400,
     "metadata": {},
     "output_type": "execute_result"
    }
   ],
   "source": [
    "# Display head\n",
    "df1.head()"
   ]
  },
  {
   "cell_type": "markdown",
   "metadata": {},
   "source": [
    "### Lemmatize words"
   ]
  },
  {
   "cell_type": "code",
   "execution_count": 401,
   "metadata": {},
   "outputs": [],
   "source": [
    "#Define function to lemmatize words\n",
    "def make_lemma(text):\n",
    "    lemmatizer = WordNetLemmatizer()\n",
    "    text = [lemmatizer.lemmatize(word) for word in text.split()]\n",
    "    return \" \".join(text)"
   ]
  },
  {
   "cell_type": "code",
   "execution_count": 402,
   "metadata": {},
   "outputs": [],
   "source": [
    "# lemmatize Texts\n",
    "df1['paragraph'] = df1['paragraph'].apply(make_lemma)"
   ]
  },
  {
   "cell_type": "markdown",
   "metadata": {},
   "source": [
    "# Feature Engineering for clustering using TF-IDF"
   ]
  },
  {
   "cell_type": "code",
   "execution_count": 403,
   "metadata": {},
   "outputs": [],
   "source": [
    "#Initialize a stop words list to be used in TF-IDF vectorizer. \n",
    "sw = stopwords.words('English')"
   ]
  },
  {
   "cell_type": "markdown",
   "metadata": {},
   "source": [
    "###  Create TF-IDF feature vector for clustering"
   ]
  },
  {
   "cell_type": "code",
   "execution_count": 404,
   "metadata": {},
   "outputs": [],
   "source": [
    "#Initialize vectorizer\n",
    "tfidf = TfidfVectorizer(ngram_range=(1, 2),\n",
    "                        max_features=2500,\n",
    "                       strip_accents='ascii',\n",
    "                       analyzer='word',\n",
    "                       stop_words=sw,\n",
    "                        lowercase=False,\n",
    "                        min_df=.1,\n",
    "                       max_df=0.8)"
   ]
  },
  {
   "cell_type": "code",
   "execution_count": 405,
   "metadata": {},
   "outputs": [],
   "source": [
    "#Create feature vector \n",
    "tfidf_features = tfidf.fit_transform(df1['paragraph'])\n",
    "#Convert into array\n",
    "features = tfidf_features.toarray()\n",
    "#Create data frame of features\n",
    "feature_names = tfidf.get_feature_names()\n",
    "features_df = pd.DataFrame(features, columns=feature_names)"
   ]
  },
  {
   "cell_type": "code",
   "execution_count": 406,
   "metadata": {
    "scrolled": false
   },
   "outputs": [
    {
     "data": {
      "text/html": [
       "<div>\n",
       "<style scoped>\n",
       "    .dataframe tbody tr th:only-of-type {\n",
       "        vertical-align: middle;\n",
       "    }\n",
       "\n",
       "    .dataframe tbody tr th {\n",
       "        vertical-align: top;\n",
       "    }\n",
       "\n",
       "    .dataframe thead th {\n",
       "        text-align: right;\n",
       "    }\n",
       "</style>\n",
       "<table border=\"1\" class=\"dataframe\">\n",
       "  <thead>\n",
       "    <tr style=\"text-align: right;\">\n",
       "      <th></th>\n",
       "      <th>one</th>\n",
       "      <th>right</th>\n",
       "      <th>upon</th>\n",
       "      <th>wa</th>\n",
       "      <th>would</th>\n",
       "    </tr>\n",
       "  </thead>\n",
       "  <tbody>\n",
       "    <tr>\n",
       "      <th>0</th>\n",
       "      <td>0.0</td>\n",
       "      <td>0.0</td>\n",
       "      <td>0.0</td>\n",
       "      <td>0.0</td>\n",
       "      <td>0.0</td>\n",
       "    </tr>\n",
       "    <tr>\n",
       "      <th>1</th>\n",
       "      <td>0.0</td>\n",
       "      <td>0.0</td>\n",
       "      <td>0.0</td>\n",
       "      <td>0.0</td>\n",
       "      <td>0.0</td>\n",
       "    </tr>\n",
       "    <tr>\n",
       "      <th>2</th>\n",
       "      <td>0.0</td>\n",
       "      <td>0.0</td>\n",
       "      <td>0.0</td>\n",
       "      <td>0.0</td>\n",
       "      <td>0.0</td>\n",
       "    </tr>\n",
       "    <tr>\n",
       "      <th>3</th>\n",
       "      <td>0.0</td>\n",
       "      <td>0.0</td>\n",
       "      <td>0.0</td>\n",
       "      <td>0.0</td>\n",
       "      <td>0.0</td>\n",
       "    </tr>\n",
       "    <tr>\n",
       "      <th>4</th>\n",
       "      <td>0.0</td>\n",
       "      <td>0.0</td>\n",
       "      <td>0.0</td>\n",
       "      <td>0.0</td>\n",
       "      <td>0.0</td>\n",
       "    </tr>\n",
       "  </tbody>\n",
       "</table>\n",
       "</div>"
      ],
      "text/plain": [
       "   one  right  upon   wa  would\n",
       "0  0.0    0.0   0.0  0.0    0.0\n",
       "1  0.0    0.0   0.0  0.0    0.0\n",
       "2  0.0    0.0   0.0  0.0    0.0\n",
       "3  0.0    0.0   0.0  0.0    0.0\n",
       "4  0.0    0.0   0.0  0.0    0.0"
      ]
     },
     "execution_count": 406,
     "metadata": {},
     "output_type": "execute_result"
    }
   ],
   "source": [
    "# Display head\n",
    "features_df.head()"
   ]
  },
  {
   "cell_type": "markdown",
   "metadata": {},
   "source": [
    "# Modeling"
   ]
  },
  {
   "cell_type": "code",
   "execution_count": 407,
   "metadata": {},
   "outputs": [],
   "source": [
    "# Standardize features\n",
    "from sklearn.preprocessing import StandardScaler\n",
    "ss = StandardScaler()\n",
    "ss_features = ss.fit_transform(features_df)\n"
   ]
  },
  {
   "cell_type": "code",
   "execution_count": 408,
   "metadata": {},
   "outputs": [],
   "source": [
    "# Define Y variable\n",
    "Y = pd.Categorical(df1['author']).codes\n",
    "# Create train and test groups\n",
    "X_train, X_test, Y_train, Y_test = train_test_split(ss_features, Y, test_size=.3, random_state=0)"
   ]
  },
  {
   "cell_type": "code",
   "execution_count": 409,
   "metadata": {},
   "outputs": [
    {
     "name": "stdout",
     "output_type": "stream",
     "text": [
      "cameron code: 0\n",
      "doyle code: 1\n",
      "emerson code: 2\n",
      "greenwood code: 3\n",
      "jefferson code: 4\n",
      "kant code: 5\n",
      "keats code: 6\n",
      "thomas code: 7\n",
      "twain code: 8\n",
      "wilde code: 9\n"
     ]
    }
   ],
   "source": [
    "# Display author codes in Y variable \n",
    "for author in author_list:\n",
    "    index = df1[df1['author'] == author].index[0]\n",
    "    print(author, 'code:', Y[index])"
   ]
  },
  {
   "cell_type": "markdown",
   "metadata": {},
   "source": [
    "#### Lets use feature reduction to visualize the actual labels. Actual model results will be based on full set of TF-IDF features."
   ]
  },
  {
   "cell_type": "code",
   "execution_count": 410,
   "metadata": {},
   "outputs": [],
   "source": [
    "# Use truncated SVD to reduce the features to 2 for visualization\n",
    "SVD = TruncatedSVD(2)\n",
    "X_train_svd = SVD.fit_transform(X_train)"
   ]
  },
  {
   "cell_type": "code",
   "execution_count": 411,
   "metadata": {
    "scrolled": false
   },
   "outputs": [
    {
     "data": {
      "image/png": "[encoded data removed]",
      "text/plain": [
       "<Figure size 720x720 with 1 Axes>"
      ]
     },
     "metadata": {},
     "output_type": "display_data"
    }
   ],
   "source": [
    "# Plot clusters\n",
    "plt.figure(figsize=(10,10))\n",
    "\n",
    "plt.scatter(X_train_svd[:, 0], X_train_svd[:, 1], c=Y_train)\n",
    "plt.title('True Clusters')\n",
    "\n",
    "\n",
    "plt.show()"
   ]
  },
  {
   "cell_type": "markdown",
   "metadata": {},
   "source": [
    "## K-Means Clustering "
   ]
  },
  {
   "cell_type": "code",
   "execution_count": 412,
   "metadata": {},
   "outputs": [
    {
     "data": {
      "image/png": "[encoded data removed]",
      "text/plain": [
       "<Figure size 360x360 with 1 Axes>"
      ]
     },
     "metadata": {},
     "output_type": "display_data"
    }
   ],
   "source": [
    "# Plot elbow curve to find ideal number of clusters\n",
    "distortion = []\n",
    "for k in range(2, 20):\n",
    "    kmeans = KMeans(n_clusters=k)\n",
    "    kmeans.fit(X_train)\n",
    "    distortion.append(kmeans.inertia_)\n",
    "\n",
    "fig = plt.figure(figsize=(5, 5))\n",
    "plt.plot(range(2, 20), distortion)\n",
    "plt.grid(True)\n",
    "plt.title('Elbow curve')\n",
    "plt.xlabel(\"clusters\")\n",
    "plt.ylabel('inertia')\n",
    "plt.show()"
   ]
  },
  {
   "cell_type": "code",
   "execution_count": 413,
   "metadata": {},
   "outputs": [
    {
     "data": {
      "text/plain": [
       "KMeans(algorithm='auto', copy_x=True, init='k-means++', max_iter=300,\n",
       "    n_clusters=10, n_init=10, n_jobs=1, precompute_distances='auto',\n",
       "    random_state=0, tol=0.0001, verbose=0)"
      ]
     },
     "execution_count": 413,
     "metadata": {},
     "output_type": "execute_result"
    }
   ],
   "source": [
    "#Initialize k-means model with 10 clusters for the 10 different authors. \n",
    "kcluster = KMeans(n_clusters=10, random_state=0)\n",
    "kcluster.fit(X_train)"
   ]
  },
  {
   "cell_type": "code",
   "execution_count": 414,
   "metadata": {},
   "outputs": [],
   "source": [
    "# get predicted clusters for training group\n",
    "y_train_pred = kcluster.predict(X_train)"
   ]
  },
  {
   "cell_type": "code",
   "execution_count": 415,
   "metadata": {},
   "outputs": [],
   "source": [
    "clusters = kcluster.cluster_centers_"
   ]
  },
  {
   "cell_type": "code",
   "execution_count": 416,
   "metadata": {},
   "outputs": [
    {
     "data": {
      "image/png": "[encoded data removed]",
      "text/plain": [
       "<Figure size 432x288 with 1 Axes>"
      ]
     },
     "metadata": {},
     "output_type": "display_data"
    }
   ],
   "source": [
    "# plot cluster centers\n",
    "plt.scatter(clusters[:,0], clusters[:,1])\n",
    "plt.title('Cluster Centers')\n",
    "plt.show()"
   ]
  },
  {
   "cell_type": "code",
   "execution_count": 417,
   "metadata": {
    "scrolled": true
   },
   "outputs": [
    {
     "data": {
      "text/plain": [
       "(array([0, 1, 2, 3, 4, 5, 6, 7, 8, 9]),\n",
       " array([ 31, 199,  70,  24,  27,  31,   5,   8,  12,   4], dtype=int64))"
      ]
     },
     "execution_count": 417,
     "metadata": {},
     "output_type": "execute_result"
    }
   ],
   "source": [
    "# View counts for training clusters\n",
    "np.unique(y_train_pred, return_counts=True)"
   ]
  },
  {
   "cell_type": "code",
   "execution_count": 418,
   "metadata": {},
   "outputs": [
    {
     "data": {
      "image/png": "[encoded data removed]",
      "text/plain": [
       "<Figure size 1296x576 with 2 Axes>"
      ]
     },
     "metadata": {},
     "output_type": "display_data"
    }
   ],
   "source": [
    "# Plot clusters, colored by k-means predicted clusters\n",
    "plt.figure(figsize=(18,8))\n",
    "\n",
    "plt.subplot(1, 2, 1)\n",
    "plt.scatter(X_train_svd[:, 0], X_train_svd[:, 1], c=y_train_pred)\n",
    "plt.title('K-Means Clusters')\n",
    "\n",
    "plt.subplot(1, 2, 2)\n",
    "plt.scatter(X_train_svd[:, 0], X_train_svd[:, 1], c=Y_train)\n",
    "plt.title('True Clusters')\n",
    "\n",
    "plt.show()"
   ]
  },
  {
   "cell_type": "code",
   "execution_count": 419,
   "metadata": {
    "scrolled": false
   },
   "outputs": [
    {
     "name": "stdout",
     "output_type": "stream",
     "text": [
      "col_0   0   1   2  3  4  5  6  7  8  9\n",
      "row_0                                 \n",
      "0       0  11   0  0  0  0  0  0  0  0\n",
      "1       0  23  12  7  4  4  2  2  2  0\n",
      "2       2  44   9  0  2  4  0  0  2  0\n",
      "3       0  10   1  0  0  3  0  0  0  0\n",
      "4       7  18   6  0  6  1  0  0  2  0\n",
      "5      19  30   1  7  7  6  3  1  0  4\n",
      "6       0  18   2  6  2  3  0  1  1  0\n",
      "7       1  11   1  0  2  5  0  0  3  0\n",
      "8       1  21  27  2  3  2  0  4  1  0\n",
      "9       1  13  11  2  1  3  0  0  1  0\n",
      "\n",
      "Adjusted Rand Index: 0.02149872407256758\n"
     ]
    }
   ],
   "source": [
    "# Display crosstab results of predicted clusters vs actual authors\n",
    "print(pd.crosstab(Y_train, y_train_pred))\n",
    "print('\\nAdjusted Rand Index:', metrics.adjusted_rand_score(Y_train, y_train_pred))"
   ]
  },
  {
   "cell_type": "markdown",
   "metadata": {},
   "source": [
    "###### K-means clustering performed very poorly in assigning observations to clusters by author. However as the elbow plot indicated, 10 is not the ideal number of clusters, let's see how k-means looks with 6 clusters."
   ]
  },
  {
   "cell_type": "code",
   "execution_count": 420,
   "metadata": {},
   "outputs": [
    {
     "data": {
      "text/plain": [
       "KMeans(algorithm='auto', copy_x=True, init='k-means++', max_iter=300,\n",
       "    n_clusters=6, n_init=10, n_jobs=1, precompute_distances='auto',\n",
       "    random_state=0, tol=0.0001, verbose=0)"
      ]
     },
     "execution_count": 420,
     "metadata": {},
     "output_type": "execute_result"
    }
   ],
   "source": [
    "#Initialize k-means model with 6 clusters based on the elbow plot. \n",
    "kcluster = KMeans(n_clusters=6, random_state=0)\n",
    "kcluster.fit(X_train)"
   ]
  },
  {
   "cell_type": "code",
   "execution_count": 421,
   "metadata": {},
   "outputs": [],
   "source": [
    "# get predicted clusters for training group\n",
    "y_train_pred = kcluster.predict(X_train)"
   ]
  },
  {
   "cell_type": "code",
   "execution_count": 422,
   "metadata": {},
   "outputs": [
    {
     "data": {
      "image/png": "[encoded data removed]",
      "text/plain": [
       "<Figure size 432x432 with 1 Axes>"
      ]
     },
     "metadata": {},
     "output_type": "display_data"
    }
   ],
   "source": [
    "# Plot clusters, colored by k-means predicted clusters\n",
    "plt.figure(figsize=(6,6))\n",
    "\n",
    "\n",
    "plt.scatter(X_train_svd[:, 0], X_train_svd[:, 1], c=y_train_pred)\n",
    "plt.title('K-Means Clusters')\n",
    "\n",
    "plt.show()"
   ]
  },
  {
   "cell_type": "markdown",
   "metadata": {},
   "source": [
    "# Spectral Clustering "
   ]
  },
  {
   "cell_type": "code",
   "execution_count": 423,
   "metadata": {},
   "outputs": [],
   "source": [
    "from sklearn.cluster import SpectralClustering\n",
    "\n",
    "# 10 clusters\n",
    "n_clusters=10\n",
    "\n",
    "# Declare and fit the model.\n",
    "sc = SpectralClustering(n_clusters=n_clusters)\n",
    "sc.fit(X_train)\n",
    "\n",
    "#Predicted clusters.\n",
    "y_train_pred = sc.fit_predict(X_train)"
   ]
  },
  {
   "cell_type": "code",
   "execution_count": 424,
   "metadata": {},
   "outputs": [
    {
     "data": {
      "image/png": "[encoded data removed]",
      "text/plain": [
       "<Figure size 1296x576 with 2 Axes>"
      ]
     },
     "metadata": {},
     "output_type": "display_data"
    }
   ],
   "source": [
    "# Plot clusters, colored by spectral predicted clusters\n",
    "plt.figure(figsize=(18,8))\n",
    "\n",
    "plt.subplot(1, 2, 1)\n",
    "plt.scatter(X_train_svd[:, 0], X_train_svd[:, 1], c=y_train_pred)\n",
    "plt.title('Spectral Clusters')\n",
    "\n",
    "plt.subplot(1, 2, 2)\n",
    "plt.scatter(X_train_svd[:, 0], X_train_svd[:, 1], c=Y_train)\n",
    "plt.title('True Clusters')\n",
    "\n",
    "plt.show()"
   ]
  },
  {
   "cell_type": "code",
   "execution_count": 425,
   "metadata": {
    "scrolled": true
   },
   "outputs": [
    {
     "name": "stdout",
     "output_type": "stream",
     "text": [
      "col_0  0   1  2   3   4  5  6  7  8  9\n",
      "row_0                                 \n",
      "0      0  11  0   0   0  0  0  0  0  0\n",
      "1      6  23  6  12   0  4  3  0  1  1\n",
      "2      3  44  0   8   2  4  2  0  0  0\n",
      "3      0  10  0   1   0  3  0  0  0  0\n",
      "4      7  18  0   6   6  1  2  0  0  0\n",
      "5      8  30  5   1  17  6  4  4  1  2\n",
      "6      3  18  6   2   0  3  1  0  0  0\n",
      "7      5  11  0   0   1  5  1  0  0  0\n",
      "8      9  21  2  24   1  1  3  0  0  0\n",
      "9      2  13  2  11   1  3  0  0  0  0\n",
      "\n",
      "Adjusted Rand Index: 0.015712856977999637\n"
     ]
    }
   ],
   "source": [
    "print(pd.crosstab(Y_train,y_train_pred))\n",
    "print('\\nAdjusted Rand Index:', metrics.adjusted_rand_score(Y_train, y_train_pred))"
   ]
  },
  {
   "cell_type": "markdown",
   "metadata": {},
   "source": [
    "# Affinity Propagation"
   ]
  },
  {
   "cell_type": "code",
   "execution_count": 426,
   "metadata": {},
   "outputs": [
    {
     "name": "stdout",
     "output_type": "stream",
     "text": [
      "Estimated number of clusters: 364\n"
     ]
    }
   ],
   "source": [
    "from sklearn.cluster import AffinityPropagation\n",
    "\n",
    "af = AffinityPropagation().fit(X_train)\n",
    "\n",
    "y_train_pred = af.predict(X_train)\n",
    "\n",
    "# Pull the number of clusters and cluster assignments for each data point.\n",
    "cluster_centers_indices = af.cluster_centers_indices_\n",
    "n_clusters_ = len(cluster_centers_indices)\n",
    "labels = af.labels_\n",
    "\n",
    "print('Estimated number of clusters: {}'.format(n_clusters_))"
   ]
  },
  {
   "cell_type": "code",
   "execution_count": 427,
   "metadata": {},
   "outputs": [
    {
     "data": {
      "image/png": "[encoded data removed]",
      "text/plain": [
       "<Figure size 1296x576 with 2 Axes>"
      ]
     },
     "metadata": {},
     "output_type": "display_data"
    }
   ],
   "source": [
    "plt.figure(figsize=(18,8))\n",
    "\n",
    "plt.subplot(1, 2, 1)\n",
    "plt.scatter(X_train_svd[:, 0], X_train_svd[:, 1], c=y_train_pred)\n",
    "plt.title('Affinity Clusters')\n",
    "\n",
    "plt.subplot(1, 2, 2)\n",
    "plt.scatter(X_train_svd[:, 0], X_train_svd[:, 1], c=Y_train)\n",
    "plt.title('True Clusters')\n",
    "\n",
    "plt.show()"
   ]
  },
  {
   "cell_type": "code",
   "execution_count": 428,
   "metadata": {},
   "outputs": [
    {
     "name": "stdout",
     "output_type": "stream",
     "text": [
      "col_0  0    1    3    5    6    7    10   13   38   74   84   212  218  286  \\\n",
      "row_0                                                                         \n",
      "0        0    0    0   11    0    0    0    0    0    0    0    0    0    0   \n",
      "1        3   12    4   23    0    6    0    2    0    1    0    1    1    0   \n",
      "2        2    8    4   44    0    0    2    0    1    0    0    1    0    0   \n",
      "3        0    1    2   10    0    0    0    0    0    0    0    0    0    0   \n",
      "4        2    6    1   18    2    0    6    0    0    0    1    0    0    0   \n",
      "5        6    1    6   30    0    6   18    3    0    1    1    0    1    4   \n",
      "6        1    2    3   18    1    6    0    0    0    0    0    0    0    0   \n",
      "7        0    1    4   11    1    0    1    0    0    0    0    2    0    0   \n",
      "8        3   24    1   21    2    2    1    0    0    0    0    1    1    0   \n",
      "9        0   10    2   13    1    2    1    0    0    0    0    0    0    0   \n",
      "\n",
      "col_0  298  300  302  326  329  363  \n",
      "row_0                                \n",
      "0        0    0    0    0    0    0  \n",
      "1        0    1    1    1    0    0  \n",
      "2        0    0    1    0    0    0  \n",
      "3        1    0    0    0    0    0  \n",
      "4        0    0    0    1    3    0  \n",
      "5        0    0    0    1    0    0  \n",
      "6        0    1    0    0    1    0  \n",
      "7        0    0    1    0    2    0  \n",
      "8        0    3    1    0    0    1  \n",
      "9        0    0    2    1    0    0  \n",
      "\n",
      "Adjusted Rand Index: 0.017090412246735104\n"
     ]
    }
   ],
   "source": [
    "print(pd.crosstab(Y_train,y_train_pred))\n",
    "print('\\nAdjusted Rand Index:', metrics.adjusted_rand_score(Y_train, y_train_pred))"
   ]
  },
  {
   "cell_type": "markdown",
   "metadata": {},
   "source": [
    "#### The Adjusted Rand Index for all three clustering methods indicates that no method was better than randomly guessing. "
   ]
  },
  {
   "cell_type": "markdown",
   "metadata": {},
   "source": [
    "# Clustering using Bag of Words"
   ]
  },
  {
   "cell_type": "code",
   "execution_count": 429,
   "metadata": {},
   "outputs": [],
   "source": [
    "bow = CountVectorizer(analyzer='word',ngram_range=(2,2), min_df=.1, max_df=.8, max_features=8000)"
   ]
  },
  {
   "cell_type": "code",
   "execution_count": 430,
   "metadata": {},
   "outputs": [],
   "source": [
    "bow_features = bow.fit_transform(df1['paragraph'])\n",
    "bow_features = bow_features.toarray()\n",
    "bow_feature_names = bow.get_feature_names()\n",
    "bow_features_df = pd.DataFrame(bow_features, columns=bow_feature_names)"
   ]
  },
  {
   "cell_type": "code",
   "execution_count": 431,
   "metadata": {},
   "outputs": [],
   "source": [
    "from sklearn.preprocessing import StandardScaler\n",
    "ss = StandardScaler()\n",
    "ss_features = ss.fit_transform(bow_features_df)"
   ]
  },
  {
   "cell_type": "code",
   "execution_count": 432,
   "metadata": {},
   "outputs": [],
   "source": [
    "Y = pd.Categorical(df1['author']).codes\n",
    "# Create train and test groups\n",
    "X_train, X_test, Y_train, Y_test = train_test_split(ss_features, Y, test_size=.3, random_state=0)"
   ]
  },
  {
   "cell_type": "code",
   "execution_count": 433,
   "metadata": {},
   "outputs": [],
   "source": [
    "SVD = TruncatedSVD(2)\n",
    "X_train_svd = SVD.fit_transform(X_train)"
   ]
  },
  {
   "cell_type": "code",
   "execution_count": 434,
   "metadata": {},
   "outputs": [
    {
     "data": {
      "image/png": "[encoded data removed]",
      "text/plain": [
       "<Figure size 720x720 with 1 Axes>"
      ]
     },
     "metadata": {},
     "output_type": "display_data"
    }
   ],
   "source": [
    "plt.figure(figsize=(10,10))\n",
    "\n",
    "plt.scatter(X_train_svd[:, 0], X_train_svd[:, 1], c=Y_train)\n",
    "plt.title('BOW True Clusters')\n",
    "\n",
    "\n",
    "plt.show()"
   ]
  },
  {
   "cell_type": "markdown",
   "metadata": {},
   "source": [
    "In both cases, using TFIDF and BOW, the text vectors for individual authors do not share enough common characteristics to be clustered together, as seen in the true cluster plots. This makes clustering by author a very challenging task. The models did however cluster the data, but it was based on features that were not author specific. "
   ]
  },
  {
   "cell_type": "markdown",
   "metadata": {},
   "source": [
    "# Unsupervised Feature Generation for Classification by Author\n",
    "\n",
    "For the unsupervised feature generation, we'll start with a new TF-IDF feature vector with more features."
   ]
  },
  {
   "cell_type": "code",
   "execution_count": 435,
   "metadata": {},
   "outputs": [],
   "source": [
    "tfidf = TfidfVectorizer(ngram_range=(1, 2),\n",
    "                        max_features=5000,\n",
    "                       strip_accents='ascii',\n",
    "                       analyzer='word',\n",
    "                       stop_words=sw,\n",
    "                        lowercase=False)"
   ]
  },
  {
   "cell_type": "code",
   "execution_count": 436,
   "metadata": {},
   "outputs": [],
   "source": [
    "tfidf_features2 = tfidf.fit_transform(df1['paragraph'])\n",
    "features = tfidf_features2.toarray()\n",
    "feature_names = tfidf.get_feature_names()\n",
    "features_df = pd.DataFrame(features, columns=feature_names)"
   ]
  },
  {
   "cell_type": "code",
   "execution_count": 437,
   "metadata": {},
   "outputs": [
    {
     "data": {
      "text/html": [
       "<div>\n",
       "<style scoped>\n",
       "    .dataframe tbody tr th:only-of-type {\n",
       "        vertical-align: middle;\n",
       "    }\n",
       "\n",
       "    .dataframe tbody tr th {\n",
       "        vertical-align: top;\n",
       "    }\n",
       "\n",
       "    .dataframe thead th {\n",
       "        text-align: right;\n",
       "    }\n",
       "</style>\n",
       "<table border=\"1\" class=\"dataframe\">\n",
       "  <thead>\n",
       "    <tr style=\"text-align: right;\">\n",
       "      <th></th>\n",
       "      <th>abel</th>\n",
       "      <th>ability</th>\n",
       "      <th>able</th>\n",
       "      <th>able assert</th>\n",
       "      <th>abolished</th>\n",
       "      <th>abolishing</th>\n",
       "      <th>absence</th>\n",
       "      <th>absolute</th>\n",
       "      <th>absolutely</th>\n",
       "      <th>abstain</th>\n",
       "      <th>...</th>\n",
       "      <th>yield</th>\n",
       "      <th>york</th>\n",
       "      <th>young</th>\n",
       "      <th>young man</th>\n",
       "      <th>young men</th>\n",
       "      <th>youth</th>\n",
       "      <th>zen</th>\n",
       "      <th>zero</th>\n",
       "      <th>zion</th>\n",
       "      <th>zodiac</th>\n",
       "    </tr>\n",
       "  </thead>\n",
       "  <tbody>\n",
       "    <tr>\n",
       "      <th>0</th>\n",
       "      <td>0.0</td>\n",
       "      <td>0.0</td>\n",
       "      <td>0.0</td>\n",
       "      <td>0.0</td>\n",
       "      <td>0.0</td>\n",
       "      <td>0.0</td>\n",
       "      <td>0.0</td>\n",
       "      <td>0.0</td>\n",
       "      <td>0.0</td>\n",
       "      <td>0.0</td>\n",
       "      <td>...</td>\n",
       "      <td>0.0</td>\n",
       "      <td>0.0</td>\n",
       "      <td>0.000000</td>\n",
       "      <td>0.0</td>\n",
       "      <td>0.0</td>\n",
       "      <td>0.0</td>\n",
       "      <td>0.0</td>\n",
       "      <td>0.0</td>\n",
       "      <td>0.0</td>\n",
       "      <td>0.0</td>\n",
       "    </tr>\n",
       "    <tr>\n",
       "      <th>1</th>\n",
       "      <td>0.0</td>\n",
       "      <td>0.0</td>\n",
       "      <td>0.0</td>\n",
       "      <td>0.0</td>\n",
       "      <td>0.0</td>\n",
       "      <td>0.0</td>\n",
       "      <td>0.0</td>\n",
       "      <td>0.0</td>\n",
       "      <td>0.0</td>\n",
       "      <td>0.0</td>\n",
       "      <td>...</td>\n",
       "      <td>0.0</td>\n",
       "      <td>0.0</td>\n",
       "      <td>0.056232</td>\n",
       "      <td>0.0</td>\n",
       "      <td>0.0</td>\n",
       "      <td>0.0</td>\n",
       "      <td>0.0</td>\n",
       "      <td>0.0</td>\n",
       "      <td>0.0</td>\n",
       "      <td>0.0</td>\n",
       "    </tr>\n",
       "    <tr>\n",
       "      <th>2</th>\n",
       "      <td>0.0</td>\n",
       "      <td>0.0</td>\n",
       "      <td>0.0</td>\n",
       "      <td>0.0</td>\n",
       "      <td>0.0</td>\n",
       "      <td>0.0</td>\n",
       "      <td>0.0</td>\n",
       "      <td>0.0</td>\n",
       "      <td>0.0</td>\n",
       "      <td>0.0</td>\n",
       "      <td>...</td>\n",
       "      <td>0.0</td>\n",
       "      <td>0.0</td>\n",
       "      <td>0.000000</td>\n",
       "      <td>0.0</td>\n",
       "      <td>0.0</td>\n",
       "      <td>0.0</td>\n",
       "      <td>0.0</td>\n",
       "      <td>0.0</td>\n",
       "      <td>0.0</td>\n",
       "      <td>0.0</td>\n",
       "    </tr>\n",
       "    <tr>\n",
       "      <th>3</th>\n",
       "      <td>0.0</td>\n",
       "      <td>0.0</td>\n",
       "      <td>0.0</td>\n",
       "      <td>0.0</td>\n",
       "      <td>0.0</td>\n",
       "      <td>0.0</td>\n",
       "      <td>0.0</td>\n",
       "      <td>0.0</td>\n",
       "      <td>0.0</td>\n",
       "      <td>0.0</td>\n",
       "      <td>...</td>\n",
       "      <td>0.0</td>\n",
       "      <td>0.0</td>\n",
       "      <td>0.000000</td>\n",
       "      <td>0.0</td>\n",
       "      <td>0.0</td>\n",
       "      <td>0.0</td>\n",
       "      <td>0.0</td>\n",
       "      <td>0.0</td>\n",
       "      <td>0.0</td>\n",
       "      <td>0.0</td>\n",
       "    </tr>\n",
       "    <tr>\n",
       "      <th>4</th>\n",
       "      <td>0.0</td>\n",
       "      <td>0.0</td>\n",
       "      <td>0.0</td>\n",
       "      <td>0.0</td>\n",
       "      <td>0.0</td>\n",
       "      <td>0.0</td>\n",
       "      <td>0.0</td>\n",
       "      <td>0.0</td>\n",
       "      <td>0.0</td>\n",
       "      <td>0.0</td>\n",
       "      <td>...</td>\n",
       "      <td>0.0</td>\n",
       "      <td>0.0</td>\n",
       "      <td>0.000000</td>\n",
       "      <td>0.0</td>\n",
       "      <td>0.0</td>\n",
       "      <td>0.0</td>\n",
       "      <td>0.0</td>\n",
       "      <td>0.0</td>\n",
       "      <td>0.0</td>\n",
       "      <td>0.0</td>\n",
       "    </tr>\n",
       "  </tbody>\n",
       "</table>\n",
       "<p>5 rows × 5000 columns</p>\n",
       "</div>"
      ],
      "text/plain": [
       "   abel  ability  able  able assert  abolished  abolishing  absence  absolute  \\\n",
       "0   0.0      0.0   0.0          0.0        0.0         0.0      0.0       0.0   \n",
       "1   0.0      0.0   0.0          0.0        0.0         0.0      0.0       0.0   \n",
       "2   0.0      0.0   0.0          0.0        0.0         0.0      0.0       0.0   \n",
       "3   0.0      0.0   0.0          0.0        0.0         0.0      0.0       0.0   \n",
       "4   0.0      0.0   0.0          0.0        0.0         0.0      0.0       0.0   \n",
       "\n",
       "   absolutely  abstain   ...    yield  york     young  young man  young men  \\\n",
       "0         0.0      0.0   ...      0.0   0.0  0.000000        0.0        0.0   \n",
       "1         0.0      0.0   ...      0.0   0.0  0.056232        0.0        0.0   \n",
       "2         0.0      0.0   ...      0.0   0.0  0.000000        0.0        0.0   \n",
       "3         0.0      0.0   ...      0.0   0.0  0.000000        0.0        0.0   \n",
       "4         0.0      0.0   ...      0.0   0.0  0.000000        0.0        0.0   \n",
       "\n",
       "   youth  zen  zero  zion  zodiac  \n",
       "0    0.0  0.0   0.0   0.0     0.0  \n",
       "1    0.0  0.0   0.0   0.0     0.0  \n",
       "2    0.0  0.0   0.0   0.0     0.0  \n",
       "3    0.0  0.0   0.0   0.0     0.0  \n",
       "4    0.0  0.0   0.0   0.0     0.0  \n",
       "\n",
       "[5 rows x 5000 columns]"
      ]
     },
     "execution_count": 437,
     "metadata": {},
     "output_type": "execute_result"
    }
   ],
   "source": [
    "features_df.head()"
   ]
  },
  {
   "cell_type": "code",
   "execution_count": 438,
   "metadata": {},
   "outputs": [],
   "source": [
    "# Create train and test groups\n",
    "X_train, X_test, Y_train, Y_test = train_test_split(features_df, Y, test_size=.3, random_state=0)"
   ]
  },
  {
   "cell_type": "code",
   "execution_count": 439,
   "metadata": {},
   "outputs": [],
   "source": [
    "# Use latent semantic analysis to reduce the features to 500\n",
    "svd= TruncatedSVD(500)\n",
    "lsa = make_pipeline(svd, Normalizer(copy=False))\n",
    "\n",
    "X_train_lsa = lsa.fit_transform(X_train)\n",
    "X_test_lsa = lsa.fit_transform(X_test)"
   ]
  },
  {
   "cell_type": "markdown",
   "metadata": {},
   "source": [
    "## Logistic Regression"
   ]
  },
  {
   "cell_type": "code",
   "execution_count": 440,
   "metadata": {},
   "outputs": [
    {
     "name": "stdout",
     "output_type": "stream",
     "text": [
      "Score on training data: 0.9416058394160584\n",
      "Score on test data: 0.4971751412429379\n"
     ]
    }
   ],
   "source": [
    "from sklearn.linear_model import LogisticRegression\n",
    "from sklearn.model_selection import cross_val_score\n",
    "\n",
    "lr = LogisticRegression()\n",
    "\n",
    "lr.fit(X_train, Y_train)\n",
    "print('Score on training data:', lr.score(X_train, Y_train))\n",
    "print('Score on test data:', lr.score(X_test, Y_test))"
   ]
  },
  {
   "cell_type": "code",
   "execution_count": 441,
   "metadata": {},
   "outputs": [
    {
     "data": {
      "text/plain": [
       "array([0.55319149, 0.53333333, 0.56818182, 0.56097561, 0.6       ,\n",
       "       0.55      , 0.58974359, 0.58974359, 0.63157895, 0.52631579])"
      ]
     },
     "execution_count": 441,
     "metadata": {},
     "output_type": "execute_result"
    }
   ],
   "source": [
    "cross_val_score(lr, X_train, Y_train, cv=10)"
   ]
  },
  {
   "cell_type": "markdown",
   "metadata": {},
   "source": [
    "## Logistic Regression with ridge regularization"
   ]
  },
  {
   "cell_type": "code",
   "execution_count": 460,
   "metadata": {
    "scrolled": true
   },
   "outputs": [
    {
     "data": {
      "image/png": "[encoded data removed]",
      "text/plain": [
       "<Figure size 864x360 with 2 Axes>"
      ]
     },
     "metadata": {},
     "output_type": "display_data"
    }
   ],
   "source": [
    "# tune l2 regularization\n",
    "param_tune = []\n",
    "#for i in [0.01, 0.02, 0.05, 0.07, 0.09, 0.1, 0.5, 1, 1.1, 1.2, 1.5, 2, 3, 4, 5, 6, 7, 8, 9, 10, 11, 12, 13, 14, 15, 16, 17, 18]:\n",
    "#for i in [0.001, 0.0015, 0.002, 0.0025, 0.003, 0.0035, 0.004, 0.0045, 0.005, 0.0055, 0.006, 0.01]:\n",
    "for i in np.arange(1, 50, .5):    \n",
    "    ridge = LogisticRegression(penalty='l2', C=i)\n",
    "    ridge.fit(X_train, Y_train)\n",
    "    score = cross_val_score(ridge, X_train, Y_train, cv=10)\n",
    "    mean_score = score.mean()\n",
    "    score_range = score.max() - score.min()\n",
    "    param_tune.append([i, mean_score, score_range])\n",
    "\n",
    "param_tune = pd.DataFrame(param_tune)\n",
    "param_tune.columns = ['parameter', 'mean_score', 'score_range']\n",
    "\n",
    "plt.figure(figsize=(12,5))\n",
    "\n",
    "plt.subplot(1, 2, 1)\n",
    "plt.plot(param_tune.parameter, param_tune.mean_score)\n",
    "plt.title('mean cross val score')\n",
    "plt.xlabel('C Parameter')\n",
    "plt.ylabel('Mean Accuracy')\n",
    "\n",
    "plt.subplot(1, 2, 2)\n",
    "plt.plot(param_tune.parameter, param_tune.score_range)\n",
    "plt.title('cross val range')\n",
    "plt.xlabel('C Parameter')\n",
    "plt.ylabel('Score Range')\n",
    "\n",
    "plt.show()"
   ]
  },
  {
   "cell_type": "code",
   "execution_count": 462,
   "metadata": {},
   "outputs": [
    {
     "data": {
      "text/html": [
       "<div>\n",
       "<style scoped>\n",
       "    .dataframe tbody tr th:only-of-type {\n",
       "        vertical-align: middle;\n",
       "    }\n",
       "\n",
       "    .dataframe tbody tr th {\n",
       "        vertical-align: top;\n",
       "    }\n",
       "\n",
       "    .dataframe thead th {\n",
       "        text-align: right;\n",
       "    }\n",
       "</style>\n",
       "<table border=\"1\" class=\"dataframe\">\n",
       "  <thead>\n",
       "    <tr style=\"text-align: right;\">\n",
       "      <th></th>\n",
       "      <th>parameter</th>\n",
       "      <th>mean_score</th>\n",
       "      <th>score_range</th>\n",
       "    </tr>\n",
       "  </thead>\n",
       "  <tbody>\n",
       "    <tr>\n",
       "      <th>0</th>\n",
       "      <td>1.0</td>\n",
       "      <td>0.570306</td>\n",
       "      <td>0.105263</td>\n",
       "    </tr>\n",
       "    <tr>\n",
       "      <th>1</th>\n",
       "      <td>1.5</td>\n",
       "      <td>0.611294</td>\n",
       "      <td>0.111111</td>\n",
       "    </tr>\n",
       "    <tr>\n",
       "      <th>2</th>\n",
       "      <td>2.0</td>\n",
       "      <td>0.648406</td>\n",
       "      <td>0.153930</td>\n",
       "    </tr>\n",
       "    <tr>\n",
       "      <th>3</th>\n",
       "      <td>2.5</td>\n",
       "      <td>0.668255</td>\n",
       "      <td>0.200542</td>\n",
       "    </tr>\n",
       "    <tr>\n",
       "      <th>4</th>\n",
       "      <td>3.0</td>\n",
       "      <td>0.678223</td>\n",
       "      <td>0.200542</td>\n",
       "    </tr>\n",
       "    <tr>\n",
       "      <th>5</th>\n",
       "      <td>3.5</td>\n",
       "      <td>0.687887</td>\n",
       "      <td>0.227100</td>\n",
       "    </tr>\n",
       "    <tr>\n",
       "      <th>6</th>\n",
       "      <td>4.0</td>\n",
       "      <td>0.700437</td>\n",
       "      <td>0.204878</td>\n",
       "    </tr>\n",
       "    <tr>\n",
       "      <th>7</th>\n",
       "      <td>4.5</td>\n",
       "      <td>0.700000</td>\n",
       "      <td>0.204878</td>\n",
       "    </tr>\n",
       "    <tr>\n",
       "      <th>8</th>\n",
       "      <td>5.0</td>\n",
       "      <td>0.709256</td>\n",
       "      <td>0.204878</td>\n",
       "    </tr>\n",
       "    <tr>\n",
       "      <th>9</th>\n",
       "      <td>5.5</td>\n",
       "      <td>0.711887</td>\n",
       "      <td>0.204878</td>\n",
       "    </tr>\n",
       "    <tr>\n",
       "      <th>10</th>\n",
       "      <td>6.0</td>\n",
       "      <td>0.714160</td>\n",
       "      <td>0.204878</td>\n",
       "    </tr>\n",
       "    <tr>\n",
       "      <th>11</th>\n",
       "      <td>6.5</td>\n",
       "      <td>0.714160</td>\n",
       "      <td>0.204878</td>\n",
       "    </tr>\n",
       "    <tr>\n",
       "      <th>12</th>\n",
       "      <td>7.0</td>\n",
       "      <td>0.716433</td>\n",
       "      <td>0.204878</td>\n",
       "    </tr>\n",
       "    <tr>\n",
       "      <th>13</th>\n",
       "      <td>7.5</td>\n",
       "      <td>0.721124</td>\n",
       "      <td>0.204878</td>\n",
       "    </tr>\n",
       "    <tr>\n",
       "      <th>14</th>\n",
       "      <td>8.0</td>\n",
       "      <td>0.721124</td>\n",
       "      <td>0.204878</td>\n",
       "    </tr>\n",
       "    <tr>\n",
       "      <th>15</th>\n",
       "      <td>8.5</td>\n",
       "      <td>0.721124</td>\n",
       "      <td>0.204878</td>\n",
       "    </tr>\n",
       "    <tr>\n",
       "      <th>16</th>\n",
       "      <td>9.0</td>\n",
       "      <td>0.718685</td>\n",
       "      <td>0.189474</td>\n",
       "    </tr>\n",
       "    <tr>\n",
       "      <th>17</th>\n",
       "      <td>9.5</td>\n",
       "      <td>0.718685</td>\n",
       "      <td>0.189474</td>\n",
       "    </tr>\n",
       "    <tr>\n",
       "      <th>18</th>\n",
       "      <td>10.0</td>\n",
       "      <td>0.718685</td>\n",
       "      <td>0.189474</td>\n",
       "    </tr>\n",
       "    <tr>\n",
       "      <th>19</th>\n",
       "      <td>10.5</td>\n",
       "      <td>0.725308</td>\n",
       "      <td>0.167251</td>\n",
       "    </tr>\n",
       "    <tr>\n",
       "      <th>20</th>\n",
       "      <td>11.0</td>\n",
       "      <td>0.725308</td>\n",
       "      <td>0.167251</td>\n",
       "    </tr>\n",
       "    <tr>\n",
       "      <th>21</th>\n",
       "      <td>11.5</td>\n",
       "      <td>0.727872</td>\n",
       "      <td>0.167251</td>\n",
       "    </tr>\n",
       "    <tr>\n",
       "      <th>22</th>\n",
       "      <td>12.0</td>\n",
       "      <td>0.730436</td>\n",
       "      <td>0.167251</td>\n",
       "    </tr>\n",
       "    <tr>\n",
       "      <th>23</th>\n",
       "      <td>12.5</td>\n",
       "      <td>0.730436</td>\n",
       "      <td>0.167251</td>\n",
       "    </tr>\n",
       "    <tr>\n",
       "      <th>24</th>\n",
       "      <td>13.0</td>\n",
       "      <td>0.732936</td>\n",
       "      <td>0.167251</td>\n",
       "    </tr>\n",
       "    <tr>\n",
       "      <th>25</th>\n",
       "      <td>13.5</td>\n",
       "      <td>0.735500</td>\n",
       "      <td>0.172650</td>\n",
       "    </tr>\n",
       "    <tr>\n",
       "      <th>26</th>\n",
       "      <td>14.0</td>\n",
       "      <td>0.735500</td>\n",
       "      <td>0.172650</td>\n",
       "    </tr>\n",
       "    <tr>\n",
       "      <th>27</th>\n",
       "      <td>14.5</td>\n",
       "      <td>0.735500</td>\n",
       "      <td>0.172650</td>\n",
       "    </tr>\n",
       "    <tr>\n",
       "      <th>28</th>\n",
       "      <td>15.0</td>\n",
       "      <td>0.735500</td>\n",
       "      <td>0.172650</td>\n",
       "    </tr>\n",
       "    <tr>\n",
       "      <th>29</th>\n",
       "      <td>15.5</td>\n",
       "      <td>0.740632</td>\n",
       "      <td>0.172650</td>\n",
       "    </tr>\n",
       "    <tr>\n",
       "      <th>...</th>\n",
       "      <td>...</td>\n",
       "      <td>...</td>\n",
       "      <td>...</td>\n",
       "    </tr>\n",
       "    <tr>\n",
       "      <th>68</th>\n",
       "      <td>35.0</td>\n",
       "      <td>0.749964</td>\n",
       "      <td>0.228842</td>\n",
       "    </tr>\n",
       "    <tr>\n",
       "      <th>69</th>\n",
       "      <td>35.5</td>\n",
       "      <td>0.749964</td>\n",
       "      <td>0.228842</td>\n",
       "    </tr>\n",
       "    <tr>\n",
       "      <th>70</th>\n",
       "      <td>36.0</td>\n",
       "      <td>0.749964</td>\n",
       "      <td>0.228842</td>\n",
       "    </tr>\n",
       "    <tr>\n",
       "      <th>71</th>\n",
       "      <td>36.5</td>\n",
       "      <td>0.749964</td>\n",
       "      <td>0.228842</td>\n",
       "    </tr>\n",
       "    <tr>\n",
       "      <th>72</th>\n",
       "      <td>37.0</td>\n",
       "      <td>0.749964</td>\n",
       "      <td>0.228842</td>\n",
       "    </tr>\n",
       "    <tr>\n",
       "      <th>73</th>\n",
       "      <td>37.5</td>\n",
       "      <td>0.749964</td>\n",
       "      <td>0.228842</td>\n",
       "    </tr>\n",
       "    <tr>\n",
       "      <th>74</th>\n",
       "      <td>38.0</td>\n",
       "      <td>0.749964</td>\n",
       "      <td>0.228842</td>\n",
       "    </tr>\n",
       "    <tr>\n",
       "      <th>75</th>\n",
       "      <td>38.5</td>\n",
       "      <td>0.749964</td>\n",
       "      <td>0.228842</td>\n",
       "    </tr>\n",
       "    <tr>\n",
       "      <th>76</th>\n",
       "      <td>39.0</td>\n",
       "      <td>0.749964</td>\n",
       "      <td>0.228842</td>\n",
       "    </tr>\n",
       "    <tr>\n",
       "      <th>77</th>\n",
       "      <td>39.5</td>\n",
       "      <td>0.749964</td>\n",
       "      <td>0.228842</td>\n",
       "    </tr>\n",
       "    <tr>\n",
       "      <th>78</th>\n",
       "      <td>40.0</td>\n",
       "      <td>0.749964</td>\n",
       "      <td>0.228842</td>\n",
       "    </tr>\n",
       "    <tr>\n",
       "      <th>79</th>\n",
       "      <td>40.5</td>\n",
       "      <td>0.749964</td>\n",
       "      <td>0.228842</td>\n",
       "    </tr>\n",
       "    <tr>\n",
       "      <th>80</th>\n",
       "      <td>41.0</td>\n",
       "      <td>0.749964</td>\n",
       "      <td>0.228842</td>\n",
       "    </tr>\n",
       "    <tr>\n",
       "      <th>81</th>\n",
       "      <td>41.5</td>\n",
       "      <td>0.749964</td>\n",
       "      <td>0.228842</td>\n",
       "    </tr>\n",
       "    <tr>\n",
       "      <th>82</th>\n",
       "      <td>42.0</td>\n",
       "      <td>0.749964</td>\n",
       "      <td>0.228842</td>\n",
       "    </tr>\n",
       "    <tr>\n",
       "      <th>83</th>\n",
       "      <td>42.5</td>\n",
       "      <td>0.749964</td>\n",
       "      <td>0.228842</td>\n",
       "    </tr>\n",
       "    <tr>\n",
       "      <th>84</th>\n",
       "      <td>43.0</td>\n",
       "      <td>0.749964</td>\n",
       "      <td>0.228842</td>\n",
       "    </tr>\n",
       "    <tr>\n",
       "      <th>85</th>\n",
       "      <td>43.5</td>\n",
       "      <td>0.749964</td>\n",
       "      <td>0.228842</td>\n",
       "    </tr>\n",
       "    <tr>\n",
       "      <th>86</th>\n",
       "      <td>44.0</td>\n",
       "      <td>0.749964</td>\n",
       "      <td>0.228842</td>\n",
       "    </tr>\n",
       "    <tr>\n",
       "      <th>87</th>\n",
       "      <td>44.5</td>\n",
       "      <td>0.749964</td>\n",
       "      <td>0.228842</td>\n",
       "    </tr>\n",
       "    <tr>\n",
       "      <th>88</th>\n",
       "      <td>45.0</td>\n",
       "      <td>0.749964</td>\n",
       "      <td>0.228842</td>\n",
       "    </tr>\n",
       "    <tr>\n",
       "      <th>89</th>\n",
       "      <td>45.5</td>\n",
       "      <td>0.749964</td>\n",
       "      <td>0.228842</td>\n",
       "    </tr>\n",
       "    <tr>\n",
       "      <th>90</th>\n",
       "      <td>46.0</td>\n",
       "      <td>0.749964</td>\n",
       "      <td>0.228842</td>\n",
       "    </tr>\n",
       "    <tr>\n",
       "      <th>91</th>\n",
       "      <td>46.5</td>\n",
       "      <td>0.749964</td>\n",
       "      <td>0.228842</td>\n",
       "    </tr>\n",
       "    <tr>\n",
       "      <th>92</th>\n",
       "      <td>47.0</td>\n",
       "      <td>0.749964</td>\n",
       "      <td>0.228842</td>\n",
       "    </tr>\n",
       "    <tr>\n",
       "      <th>93</th>\n",
       "      <td>47.5</td>\n",
       "      <td>0.749964</td>\n",
       "      <td>0.228842</td>\n",
       "    </tr>\n",
       "    <tr>\n",
       "      <th>94</th>\n",
       "      <td>48.0</td>\n",
       "      <td>0.749964</td>\n",
       "      <td>0.228842</td>\n",
       "    </tr>\n",
       "    <tr>\n",
       "      <th>95</th>\n",
       "      <td>48.5</td>\n",
       "      <td>0.749964</td>\n",
       "      <td>0.228842</td>\n",
       "    </tr>\n",
       "    <tr>\n",
       "      <th>96</th>\n",
       "      <td>49.0</td>\n",
       "      <td>0.749964</td>\n",
       "      <td>0.228842</td>\n",
       "    </tr>\n",
       "    <tr>\n",
       "      <th>97</th>\n",
       "      <td>49.5</td>\n",
       "      <td>0.749964</td>\n",
       "      <td>0.228842</td>\n",
       "    </tr>\n",
       "  </tbody>\n",
       "</table>\n",
       "<p>98 rows × 3 columns</p>\n",
       "</div>"
      ],
      "text/plain": [
       "    parameter  mean_score  score_range\n",
       "0         1.0    0.570306     0.105263\n",
       "1         1.5    0.611294     0.111111\n",
       "2         2.0    0.648406     0.153930\n",
       "3         2.5    0.668255     0.200542\n",
       "4         3.0    0.678223     0.200542\n",
       "5         3.5    0.687887     0.227100\n",
       "6         4.0    0.700437     0.204878\n",
       "7         4.5    0.700000     0.204878\n",
       "8         5.0    0.709256     0.204878\n",
       "9         5.5    0.711887     0.204878\n",
       "10        6.0    0.714160     0.204878\n",
       "11        6.5    0.714160     0.204878\n",
       "12        7.0    0.716433     0.204878\n",
       "13        7.5    0.721124     0.204878\n",
       "14        8.0    0.721124     0.204878\n",
       "15        8.5    0.721124     0.204878\n",
       "16        9.0    0.718685     0.189474\n",
       "17        9.5    0.718685     0.189474\n",
       "18       10.0    0.718685     0.189474\n",
       "19       10.5    0.725308     0.167251\n",
       "20       11.0    0.725308     0.167251\n",
       "21       11.5    0.727872     0.167251\n",
       "22       12.0    0.730436     0.167251\n",
       "23       12.5    0.730436     0.167251\n",
       "24       13.0    0.732936     0.167251\n",
       "25       13.5    0.735500     0.172650\n",
       "26       14.0    0.735500     0.172650\n",
       "27       14.5    0.735500     0.172650\n",
       "28       15.0    0.735500     0.172650\n",
       "29       15.5    0.740632     0.172650\n",
       "..        ...         ...          ...\n",
       "68       35.0    0.749964     0.228842\n",
       "69       35.5    0.749964     0.228842\n",
       "70       36.0    0.749964     0.228842\n",
       "71       36.5    0.749964     0.228842\n",
       "72       37.0    0.749964     0.228842\n",
       "73       37.5    0.749964     0.228842\n",
       "74       38.0    0.749964     0.228842\n",
       "75       38.5    0.749964     0.228842\n",
       "76       39.0    0.749964     0.228842\n",
       "77       39.5    0.749964     0.228842\n",
       "78       40.0    0.749964     0.228842\n",
       "79       40.5    0.749964     0.228842\n",
       "80       41.0    0.749964     0.228842\n",
       "81       41.5    0.749964     0.228842\n",
       "82       42.0    0.749964     0.228842\n",
       "83       42.5    0.749964     0.228842\n",
       "84       43.0    0.749964     0.228842\n",
       "85       43.5    0.749964     0.228842\n",
       "86       44.0    0.749964     0.228842\n",
       "87       44.5    0.749964     0.228842\n",
       "88       45.0    0.749964     0.228842\n",
       "89       45.5    0.749964     0.228842\n",
       "90       46.0    0.749964     0.228842\n",
       "91       46.5    0.749964     0.228842\n",
       "92       47.0    0.749964     0.228842\n",
       "93       47.5    0.749964     0.228842\n",
       "94       48.0    0.749964     0.228842\n",
       "95       48.5    0.749964     0.228842\n",
       "96       49.0    0.749964     0.228842\n",
       "97       49.5    0.749964     0.228842\n",
       "\n",
       "[98 rows x 3 columns]"
      ]
     },
     "execution_count": 462,
     "metadata": {},
     "output_type": "execute_result"
    }
   ],
   "source": [
    "param_tune"
   ]
  },
  {
   "cell_type": "code",
   "execution_count": 444,
   "metadata": {},
   "outputs": [
    {
     "name": "stdout",
     "output_type": "stream",
     "text": [
      "             precision    recall  f1-score   support\n",
      "\n",
      "          0       1.00      0.50      0.67         6\n",
      "          1       0.49      0.77      0.60        22\n",
      "          2       0.47      0.85      0.61        20\n",
      "          3       1.00      0.50      0.67         4\n",
      "          4       1.00      0.61      0.76        23\n",
      "          5       0.90      1.00      0.95        35\n",
      "          6       0.92      0.69      0.79        16\n",
      "          7       1.00      0.45      0.62        11\n",
      "          8       0.68      0.61      0.64        28\n",
      "          9       0.83      0.42      0.56        12\n",
      "\n",
      "avg / total       0.79      0.71      0.71       177\n",
      "\n"
     ]
    }
   ],
   "source": [
    "from sklearn.metrics import classification_report\n",
    "\n",
    "ridge = LogisticRegression(penalty='l2', C=13)\n",
    "ridge.fit(X_train, Y_train)\n",
    "\n",
    "y_pred = ridge.predict(X_test)\n",
    "print(classification_report(Y_test, y_pred))"
   ]
  },
  {
   "cell_type": "code",
   "execution_count": 445,
   "metadata": {},
   "outputs": [
    {
     "data": {
      "text/plain": [
       "array([0.78723404, 0.62222222, 0.72727273, 0.7804878 , 0.7       ,\n",
       "       0.7       , 0.76923077, 0.76923077, 0.78947368, 0.68421053])"
      ]
     },
     "execution_count": 445,
     "metadata": {},
     "output_type": "execute_result"
    }
   ],
   "source": [
    "cross_val_score(ridge, X_train, Y_train, cv=10)"
   ]
  },
  {
   "cell_type": "markdown",
   "metadata": {},
   "source": [
    "# Gradient Boosting Classifier"
   ]
  },
  {
   "cell_type": "code",
   "execution_count": 448,
   "metadata": {},
   "outputs": [],
   "source": [
    "from sklearn.ensemble import GradientBoostingClassifier"
   ]
  },
  {
   "cell_type": "code",
   "execution_count": 450,
   "metadata": {
    "scrolled": true
   },
   "outputs": [
    {
     "data": {
      "image/png": "[encoded data removed]",
      "text/plain": [
       "<Figure size 864x360 with 2 Axes>"
      ]
     },
     "metadata": {},
     "output_type": "display_data"
    }
   ],
   "source": [
    "# tune n_estimators\n",
    "param_tune = []\n",
    "for i in np.arange(100, 1000, 100):\n",
    "    \n",
    "    boost = GradientBoostingClassifier(learning_rate=0.1, n_estimators=i, max_depth=6, min_samples_split=450, min_samples_leaf=42,max_features='sqrt',subsample=0.7)\n",
    "    score = cross_val_score(boost, X_train, Y_train, cv=5)\n",
    "    mean_score = score.mean()\n",
    "    score_range = score.max() - score.min()\n",
    "    param_tune.append([i, mean_score, score_range])\n",
    "\n",
    "param_tune = pd.DataFrame(param_tune)\n",
    "param_tune.columns = ['parameter', 'mean_score', 'score_range']\n",
    "\n",
    "plt.figure(figsize=(12,5))\n",
    "\n",
    "plt.subplot(1, 2, 1)\n",
    "plt.plot(param_tune.parameter, param_tune.mean_score)\n",
    "plt.title('mean cross val score')\n",
    "plt.xlabel('Number of Estimators')\n",
    "plt.ylabel('Mean Accuracy')\n",
    "\n",
    "plt.subplot(1, 2, 2)\n",
    "plt.plot(param_tune.parameter, param_tune.score_range)\n",
    "plt.title('cross val range')\n",
    "plt.xlabel('Number of Estimators')\n",
    "plt.ylabel('Score Range')\n",
    "\n",
    "plt.show()"
   ]
  },
  {
   "cell_type": "markdown",
   "metadata": {},
   "source": [
    "Gradient boosting classifier is performing extremely poor based on tuning of number of estimators."
   ]
  },
  {
   "cell_type": "markdown",
   "metadata": {},
   "source": [
    "## Support Vector Machine"
   ]
  },
  {
   "cell_type": "code",
   "execution_count": 451,
   "metadata": {},
   "outputs": [],
   "source": [
    "from sklearn.svm import SVC\n",
    "\n",
    "svm = SVC(C=1,  kernel='rbf')\n",
    "\n",
    "y_pred = svm.fit(X_train, Y_train).predict(X_test)"
   ]
  },
  {
   "cell_type": "code",
   "execution_count": 452,
   "metadata": {},
   "outputs": [
    {
     "name": "stdout",
     "output_type": "stream",
     "text": [
      "Score on training data: 0.1897810218978102\n",
      "Score on test data: 0.1977401129943503\n"
     ]
    }
   ],
   "source": [
    "print('Score on training data:', svm.score(X_train, Y_train))\n",
    "print('Score on test data:', svm.score(X_test, Y_test))"
   ]
  },
  {
   "cell_type": "code",
   "execution_count": 453,
   "metadata": {},
   "outputs": [
    {
     "data": {
      "text/plain": [
       "array([0.18390805, 0.19047619, 0.19277108, 0.18987342, 0.19230769])"
      ]
     },
     "execution_count": 453,
     "metadata": {},
     "output_type": "execute_result"
    }
   ],
   "source": [
    "cross_val_score(svm, X_train, Y_train, cv=5)"
   ]
  },
  {
   "cell_type": "markdown",
   "metadata": {},
   "source": [
    "Support vector machine is also performing very poor."
   ]
  },
  {
   "cell_type": "markdown",
   "metadata": {},
   "source": [
    "## Naive Bayes"
   ]
  },
  {
   "cell_type": "code",
   "execution_count": 454,
   "metadata": {},
   "outputs": [],
   "source": [
    "from sklearn.naive_bayes import MultinomialNB"
   ]
  },
  {
   "cell_type": "code",
   "execution_count": 455,
   "metadata": {},
   "outputs": [
    {
     "data": {
      "image/png": "[encoded data removed]",
      "text/plain": [
       "<Figure size 864x360 with 2 Axes>"
      ]
     },
     "metadata": {},
     "output_type": "display_data"
    }
   ],
   "source": [
    "# tune alpha\n",
    "param_tune = []\n",
    "for i in [0.0001, 0.001, 0.01, 0.02, 0.03, 0.04, 0.045, 0.05, 0.055, 0.06, 0.07, 0.09, 0.1, 0.5, 1, 1.1, 1.2]:\n",
    "#for i in [0.001, 0.0015, 0.002, 0.0025, 0.003, 0.0035, 0.004, 0.0045, 0.005, 0.0055, 0.006, 0.01]:\n",
    "#for i in np.arange(1, 50, .5):    \n",
    "    clf = MultinomialNB(alpha=i)\n",
    "    clf.fit(X_train, Y_train)\n",
    "    score = cross_val_score(clf, X_train, Y_train, cv=10)\n",
    "    mean_score = score.mean()\n",
    "    score_range = score.max() - score.min()\n",
    "    param_tune.append([i, mean_score, score_range])\n",
    "\n",
    "param_tune = pd.DataFrame(param_tune)\n",
    "param_tune.columns = ['parameter', 'mean_score', 'score_range']\n",
    "\n",
    "plt.figure(figsize=(12,5))\n",
    "\n",
    "plt.subplot(1, 2, 1)\n",
    "plt.plot(param_tune.parameter, param_tune.mean_score)\n",
    "plt.title('mean cross val score')\n",
    "plt.xlabel('Alpha Parameter')\n",
    "plt.ylabel('Mean Accuracy')\n",
    "\n",
    "plt.subplot(1, 2, 2)\n",
    "plt.plot(param_tune.parameter, param_tune.score_range)\n",
    "plt.title('cross val range')\n",
    "plt.xlabel('Alpha Parameter')\n",
    "plt.ylabel('Score Range')\n",
    "\n",
    "plt.show()"
   ]
  },
  {
   "cell_type": "code",
   "execution_count": 456,
   "metadata": {},
   "outputs": [
    {
     "data": {
      "text/html": [
       "<div>\n",
       "<style scoped>\n",
       "    .dataframe tbody tr th:only-of-type {\n",
       "        vertical-align: middle;\n",
       "    }\n",
       "\n",
       "    .dataframe tbody tr th {\n",
       "        vertical-align: top;\n",
       "    }\n",
       "\n",
       "    .dataframe thead th {\n",
       "        text-align: right;\n",
       "    }\n",
       "</style>\n",
       "<table border=\"1\" class=\"dataframe\">\n",
       "  <thead>\n",
       "    <tr style=\"text-align: right;\">\n",
       "      <th></th>\n",
       "      <th>parameter</th>\n",
       "      <th>mean_score</th>\n",
       "      <th>score_range</th>\n",
       "    </tr>\n",
       "  </thead>\n",
       "  <tbody>\n",
       "    <tr>\n",
       "      <th>0</th>\n",
       "      <td>0.0001</td>\n",
       "      <td>0.745998</td>\n",
       "      <td>0.133511</td>\n",
       "    </tr>\n",
       "    <tr>\n",
       "      <th>1</th>\n",
       "      <td>0.0010</td>\n",
       "      <td>0.751293</td>\n",
       "      <td>0.108511</td>\n",
       "    </tr>\n",
       "    <tr>\n",
       "      <th>2</th>\n",
       "      <td>0.0100</td>\n",
       "      <td>0.791377</td>\n",
       "      <td>0.160684</td>\n",
       "    </tr>\n",
       "    <tr>\n",
       "      <th>3</th>\n",
       "      <td>0.0200</td>\n",
       "      <td>0.808273</td>\n",
       "      <td>0.173077</td>\n",
       "    </tr>\n",
       "    <tr>\n",
       "      <th>4</th>\n",
       "      <td>0.0300</td>\n",
       "      <td>0.810414</td>\n",
       "      <td>0.141880</td>\n",
       "    </tr>\n",
       "    <tr>\n",
       "      <th>5</th>\n",
       "      <td>0.0400</td>\n",
       "      <td>0.800628</td>\n",
       "      <td>0.146795</td>\n",
       "    </tr>\n",
       "    <tr>\n",
       "      <th>6</th>\n",
       "      <td>0.0450</td>\n",
       "      <td>0.800794</td>\n",
       "      <td>0.138462</td>\n",
       "    </tr>\n",
       "    <tr>\n",
       "      <th>7</th>\n",
       "      <td>0.0500</td>\n",
       "      <td>0.800794</td>\n",
       "      <td>0.138462</td>\n",
       "    </tr>\n",
       "    <tr>\n",
       "      <th>8</th>\n",
       "      <td>0.0550</td>\n",
       "      <td>0.800483</td>\n",
       "      <td>0.139007</td>\n",
       "    </tr>\n",
       "    <tr>\n",
       "      <th>9</th>\n",
       "      <td>0.0600</td>\n",
       "      <td>0.802922</td>\n",
       "      <td>0.139007</td>\n",
       "    </tr>\n",
       "    <tr>\n",
       "      <th>10</th>\n",
       "      <td>0.0700</td>\n",
       "      <td>0.793004</td>\n",
       "      <td>0.161229</td>\n",
       "    </tr>\n",
       "    <tr>\n",
       "      <th>11</th>\n",
       "      <td>0.0900</td>\n",
       "      <td>0.785884</td>\n",
       "      <td>0.183452</td>\n",
       "    </tr>\n",
       "    <tr>\n",
       "      <th>12</th>\n",
       "      <td>0.1000</td>\n",
       "      <td>0.778320</td>\n",
       "      <td>0.183452</td>\n",
       "    </tr>\n",
       "    <tr>\n",
       "      <th>13</th>\n",
       "      <td>0.5000</td>\n",
       "      <td>0.590032</td>\n",
       "      <td>0.138889</td>\n",
       "    </tr>\n",
       "    <tr>\n",
       "      <th>14</th>\n",
       "      <td>1.0000</td>\n",
       "      <td>0.511622</td>\n",
       "      <td>0.097436</td>\n",
       "    </tr>\n",
       "    <tr>\n",
       "      <th>15</th>\n",
       "      <td>1.1000</td>\n",
       "      <td>0.502436</td>\n",
       "      <td>0.105556</td>\n",
       "    </tr>\n",
       "    <tr>\n",
       "      <th>16</th>\n",
       "      <td>1.2000</td>\n",
       "      <td>0.490451</td>\n",
       "      <td>0.140909</td>\n",
       "    </tr>\n",
       "  </tbody>\n",
       "</table>\n",
       "</div>"
      ],
      "text/plain": [
       "    parameter  mean_score  score_range\n",
       "0      0.0001    0.745998     0.133511\n",
       "1      0.0010    0.751293     0.108511\n",
       "2      0.0100    0.791377     0.160684\n",
       "3      0.0200    0.808273     0.173077\n",
       "4      0.0300    0.810414     0.141880\n",
       "5      0.0400    0.800628     0.146795\n",
       "6      0.0450    0.800794     0.138462\n",
       "7      0.0500    0.800794     0.138462\n",
       "8      0.0550    0.800483     0.139007\n",
       "9      0.0600    0.802922     0.139007\n",
       "10     0.0700    0.793004     0.161229\n",
       "11     0.0900    0.785884     0.183452\n",
       "12     0.1000    0.778320     0.183452\n",
       "13     0.5000    0.590032     0.138889\n",
       "14     1.0000    0.511622     0.097436\n",
       "15     1.1000    0.502436     0.105556\n",
       "16     1.2000    0.490451     0.140909"
      ]
     },
     "execution_count": 456,
     "metadata": {},
     "output_type": "execute_result"
    }
   ],
   "source": [
    "param_tune"
   ]
  },
  {
   "cell_type": "code",
   "execution_count": 457,
   "metadata": {},
   "outputs": [
    {
     "name": "stdout",
     "output_type": "stream",
     "text": [
      "Score on training data: 1.0\n",
      "Score on test data: 0.7740112994350282\n"
     ]
    }
   ],
   "source": [
    "clf = MultinomialNB(alpha=.03)\n",
    "clf.fit(X_train, Y_train)\n",
    "\n",
    "print('Score on training data:', clf.score(X_train, Y_train))\n",
    "print('Score on test data:', clf.score(X_test, Y_test))"
   ]
  },
  {
   "cell_type": "code",
   "execution_count": 458,
   "metadata": {},
   "outputs": [
    {
     "data": {
      "text/plain": [
       "array([0.85106383, 0.75555556, 0.81818182, 0.7804878 , 0.775     ,\n",
       "       0.775     , 0.8974359 , 0.84615385, 0.78947368, 0.81578947])"
      ]
     },
     "execution_count": 458,
     "metadata": {},
     "output_type": "execute_result"
    }
   ],
   "source": [
    "cross_val_score(clf, X_train, Y_train, cv=10)"
   ]
  },
  {
   "cell_type": "code",
   "execution_count": 459,
   "metadata": {
    "scrolled": true
   },
   "outputs": [
    {
     "name": "stdout",
     "output_type": "stream",
     "text": [
      "             precision    recall  f1-score   support\n",
      "\n",
      "          0       1.00      0.83      0.91         6\n",
      "          1       0.64      0.73      0.68        22\n",
      "          2       0.70      0.70      0.70        20\n",
      "          3       1.00      0.75      0.86         4\n",
      "          4       0.79      0.65      0.71        23\n",
      "          5       0.89      0.97      0.93        35\n",
      "          6       0.68      0.81      0.74        16\n",
      "          7       0.75      0.82      0.78        11\n",
      "          8       0.83      0.68      0.75        28\n",
      "          9       0.69      0.75      0.72        12\n",
      "\n",
      "avg / total       0.78      0.77      0.77       177\n",
      "\n"
     ]
    }
   ],
   "source": [
    "y_pred = clf.predict(X_test)\n",
    "print(classification_report(Y_test, y_pred))"
   ]
  },
  {
   "cell_type": "markdown",
   "metadata": {},
   "source": [
    "## Conclusion\n",
    "You can see that out of the classifiers that were used, Naive Bayes performed the best with the unsupervised features that were created. With a mean cross-validation score of 0.81 and a cross-validation range of .1, it was significantly better than the second best, logistic regression with ridge regularization. Which had a cross-validation mean of 0.73 and a cross-validation range of 0.165.\n",
    "\n",
    "Overall the clusters were not able to classify the texts by author. The plots of the true clusters show that the different authors are all interspersed and were therefore clustered by different characteristics that were not author specific.\n",
    "\n",
    "The Naive Bayes model and the logistic regression with ridge regularization model both performed fairly decently at classifying the texts by author.\n",
    "\n",
    "In this case the upside of using the supervised models to classify by author is that the labeled data informs the model of what relationship to be looking for. Conversely, the clusters require interpretation to determine what that relationship is, and in this case it wasn't the one that was being targeted.\n",
    "\n",
    "For future studies, I would incorporate neural networks to generate features for improved clustering and modeling."
   ]
  }
 ],
 "metadata": {
  "kernelspec": {
   "display_name": "Python 3",
   "language": "python",
   "name": "python3"
  },
  "language_info": {
   "codemirror_mode": {
    "name": "ipython",
    "version": 3
   },
   "file_extension": ".py",
   "mimetype": "text/x-python",
   "name": "python",
   "nbconvert_exporter": "python",
   "pygments_lexer": "ipython3",
   "version": "3.6.5"
  }
 },
 "nbformat": 4,
 "nbformat_minor": 2
}
