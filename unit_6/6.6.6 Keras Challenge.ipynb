{
 "cells": [
  {
   "cell_type": "markdown",
   "metadata": {},
   "source": [
    "# 6.6.6 Keras Challenge - Detecting Planes in Satelite Images\n",
    "Now take your Keras skills and go build another neural network. Pick your data set, but it should be one of abstract types, possibly even nonnumeric, and use Keras to make five implementations of your network. Compare them both in computational complexity as well as in accuracy and given that tradeoff decide which one you like best.\n",
    "\n",
    "Your dataset should be sufficiently large for a neural network to perform well (samples should really be in the thousands here) and try to pick something that takes advantage of neural networks’ ability to have both feature extraction and supervised capabilities, so don’t pick something with an easy to consume list of features already generated for you (though neural networks can still be useful in those contexts).\n",
    "\n",
    "Note that if you want to use an unprocessed image dataset, scikit-image is a useful package for converting to importable numerics.\n",
    "\n",
    "The [dataset](https://www.kaggle.com/rhammell/planesnet/data) contains satelite imagery, and the goal is to detect the presence of a plane. "
   ]
  },
  {
   "cell_type": "code",
   "execution_count": 1,
   "metadata": {},
   "outputs": [
    {
     "name": "stderr",
     "output_type": "stream",
     "text": [
      "C:\\Users\\Loren\\Anaconda3\\lib\\site-packages\\h5py\\__init__.py:36: FutureWarning: Conversion of the second argument of issubdtype from `float` to `np.floating` is deprecated. In future, it will be treated as `np.float64 == np.dtype(float).type`.\n",
      "  from ._conv import register_converters as _register_converters\n",
      "Using TensorFlow backend.\n"
     ]
    }
   ],
   "source": [
    "import tensorflow as tf\n",
    "import keras"
   ]
  },
  {
   "cell_type": "code",
   "execution_count": 2,
   "metadata": {},
   "outputs": [],
   "source": [
    "import glob\n",
    "import numpy as np\n",
    "import pandas as pd\n",
    "import os.path as path\n",
    "from scipy import misc\n",
    "import imageio\n",
    "import matplotlib.pyplot as plt\n",
    "\n",
    "%matplotlib inline "
   ]
  },
  {
   "cell_type": "code",
   "execution_count": 3,
   "metadata": {},
   "outputs": [],
   "source": [
    "# Get paths for each image\n",
    "img_path = r\"..\\unit_6\\planesnet\"\n",
    "file_paths = glob.glob(path.join(img_path, '*.png'))"
   ]
  },
  {
   "cell_type": "code",
   "execution_count": 4,
   "metadata": {
    "scrolled": true
   },
   "outputs": [],
   "source": [
    "# Load the images\n",
    "images = [imageio.imread(path) for path in file_paths]\n",
    "images = np.asarray(images)"
   ]
  },
  {
   "cell_type": "code",
   "execution_count": 5,
   "metadata": {},
   "outputs": [
    {
     "data": {
      "text/plain": [
       "(32000, 20, 20, 3)"
      ]
     },
     "execution_count": 5,
     "metadata": {},
     "output_type": "execute_result"
    }
   ],
   "source": [
    "# display image size\n",
    "images.shape"
   ]
  },
  {
   "cell_type": "code",
   "execution_count": 6,
   "metadata": {},
   "outputs": [],
   "source": [
    "# Normalize values to 1 from 0 to 255 (256 values of pixels)\n",
    "images = images / 255"
   ]
  },
  {
   "cell_type": "code",
   "execution_count": 7,
   "metadata": {},
   "outputs": [],
   "source": [
    "# retrieve labels\n",
    "n_images = images.shape[0]\n",
    "labels = np.zeros(n_images)\n",
    "for i in range(n_images):\n",
    "    filename = path.basename(file_paths[i])[0]\n",
    "    labels[i] = int(filename[0])"
   ]
  },
  {
   "cell_type": "code",
   "execution_count": 48,
   "metadata": {},
   "outputs": [],
   "source": [
    "# Splitting the dataset into the Training set and Test set\n",
    "from sklearn.model_selection import train_test_split\n",
    "x_train, x_test, y_train, y_test = train_test_split(images, labels, test_size = 0.20)"
   ]
  },
  {
   "cell_type": "code",
   "execution_count": 49,
   "metadata": {},
   "outputs": [
    {
     "name": "stdout",
     "output_type": "stream",
     "text": [
      "(25600, 20, 20, 3) train samples\n",
      "(6400, 20, 20, 3) test samples\n"
     ]
    }
   ],
   "source": [
    "# Print sample sizes\n",
    "print(x_train.shape, 'train samples')\n",
    "print(x_test.shape, 'test samples')"
   ]
  },
  {
   "cell_type": "code",
   "execution_count": 50,
   "metadata": {},
   "outputs": [
    {
     "data": {
      "image/png": "[encoded data removed]",
      "text/plain": [
       "<Figure size 432x288 with 1 Axes>"
      ]
     },
     "metadata": {},
     "output_type": "display_data"
    }
   ],
   "source": [
    "# Display image\n",
    "plt.imshow(x_train[0])\n",
    "plt.show()"
   ]
  },
  {
   "cell_type": "markdown",
   "metadata": {},
   "source": [
    "## Modeling"
   ]
  },
  {
   "cell_type": "code",
   "execution_count": 51,
   "metadata": {},
   "outputs": [],
   "source": [
    "from keras.models import Sequential\n",
    "from keras.layers import Dense, Dropout, Flatten, Conv2D, MaxPooling2D\n",
    "from keras.layers import LSTM, Input, TimeDistributed\n",
    "from keras.models import Model\n",
    "from keras.optimizers import RMSprop, SGD\n",
    "\n",
    "# Import the backend\n",
    "from keras import backend as K"
   ]
  },
  {
   "cell_type": "code",
   "execution_count": 52,
   "metadata": {},
   "outputs": [
    {
     "data": {
      "text/plain": [
       "(20, 20, 3)"
      ]
     },
     "execution_count": 52,
     "metadata": {},
     "output_type": "execute_result"
    }
   ],
   "source": [
    "image_size = np.asarray([images.shape[1], images.shape[2], images.shape[3]])\n",
    "image_size[0], image_size[1], image_size[2]"
   ]
  },
  {
   "cell_type": "code",
   "execution_count": 53,
   "metadata": {},
   "outputs": [
    {
     "name": "stdout",
     "output_type": "stream",
     "text": [
      "Original Sizes: (25600, 20, 20, 3) (6400, 20, 20, 3) (25600, 2) (6400, 2)\n",
      "Flattened: (25600, 1200) (6400, 1200)\n"
     ]
    }
   ],
   "source": [
    "#Reshaping to a flattened version\n",
    "x_flat_train = x_train.reshape(x_train.shape[0], 20*20*3)\n",
    "x_flat_test = x_test.reshape(x_test.shape[0], 20*20*3)\n",
    "\n",
    "#Encoding the output\n",
    "y_train = keras.utils.to_categorical(y_train)\n",
    "y_test = keras.utils.to_categorical(y_test)\n",
    "\n",
    "print('Original Sizes:', x_train.shape, x_test.shape, y_train.shape, y_test.shape)\n",
    "print('Flattened:', x_flat_train.shape, x_flat_test.shape)"
   ]
  },
  {
   "cell_type": "markdown",
   "metadata": {},
   "source": [
    "#### 1. Multi Layer Perceptron, simple sequential model"
   ]
  },
  {
   "cell_type": "code",
   "execution_count": 35,
   "metadata": {},
   "outputs": [
    {
     "name": "stdout",
     "output_type": "stream",
     "text": [
      "_________________________________________________________________\n",
      "Layer (type)                 Output Shape              Param #   \n",
      "=================================================================\n",
      "dense_26 (Dense)             (None, 64)                76864     \n",
      "_________________________________________________________________\n",
      "dropout_18 (Dropout)         (None, 64)                0         \n",
      "_________________________________________________________________\n",
      "dense_27 (Dense)             (None, 64)                4160      \n",
      "_________________________________________________________________\n",
      "dropout_19 (Dropout)         (None, 64)                0         \n",
      "_________________________________________________________________\n",
      "dense_28 (Dense)             (None, 2)                 130       \n",
      "=================================================================\n",
      "Total params: 81,154\n",
      "Trainable params: 81,154\n",
      "Non-trainable params: 0\n",
      "_________________________________________________________________\n"
     ]
    }
   ],
   "source": [
    "# Start with a simple sequential model\n",
    "model = Sequential()\n",
    "\n",
    "# Add dense layers to create a fully connected MLP\n",
    "# Note that we specify an input shape for the first layer, but only the first layer.\n",
    "# Relu is the activation function used\n",
    "model.add(Dense(64, activation='relu', input_shape=(x_flat_train.shape[1],)))\n",
    "# Dropout layers remove features and fight overfitting\n",
    "model.add(Dropout(0.1))\n",
    "model.add(Dense(64, activation='relu'))\n",
    "model.add(Dropout(0.1))\n",
    "\n",
    "#model.add(Flatten())\n",
    "# End with a number of units equal to the number of classes we have for our outcome\n",
    "model.add(Dense(2, activation='softmax'))\n",
    "\n",
    "model.summary()\n",
    "\n",
    "# Compile the model to put it all together.\n",
    "model.compile(loss='categorical_crossentropy',\n",
    "              #optimizer=RMSprop(),\n",
    "              optimizer='adam',\n",
    "              metrics=['accuracy'])"
   ]
  },
  {
   "cell_type": "code",
   "execution_count": 36,
   "metadata": {},
   "outputs": [
    {
     "name": "stdout",
     "output_type": "stream",
     "text": [
      "Train on 25600 samples, validate on 6400 samples\n",
      "Epoch 1/10\n",
      "25600/25600 [==============================] - 2s 77us/step - loss: 0.5142 - acc: 0.7564 - val_loss: 0.4030 - val_acc: 0.8127\n",
      "Epoch 2/10\n",
      "25600/25600 [==============================] - 1s 54us/step - loss: 0.3973 - acc: 0.8148 - val_loss: 0.3424 - val_acc: 0.8348\n",
      "Epoch 3/10\n",
      "25600/25600 [==============================] - 1s 54us/step - loss: 0.3777 - acc: 0.8319 - val_loss: 0.3502 - val_acc: 0.8428\n",
      "Epoch 4/10\n",
      "25600/25600 [==============================] - 2s 60us/step - loss: 0.3444 - acc: 0.8442 - val_loss: 0.3223 - val_acc: 0.8216\n",
      "Epoch 5/10\n",
      "25600/25600 [==============================] - 2s 60us/step - loss: 0.3108 - acc: 0.8614 - val_loss: 0.2840 - val_acc: 0.8709\n",
      "Epoch 6/10\n",
      "25600/25600 [==============================] - 2s 62us/step - loss: 0.3357 - acc: 0.8538 - val_loss: 0.2966 - val_acc: 0.8841\n",
      "Epoch 7/10\n",
      "25600/25600 [==============================] - 1s 55us/step - loss: 0.3201 - acc: 0.8601 - val_loss: 0.3686 - val_acc: 0.8028\n",
      "Epoch 8/10\n",
      "25600/25600 [==============================] - 1s 55us/step - loss: 0.3204 - acc: 0.8632 - val_loss: 0.3210 - val_acc: 0.8384\n",
      "Epoch 9/10\n",
      "25600/25600 [==============================] - 1s 55us/step - loss: 0.3020 - acc: 0.8727 - val_loss: 0.3576 - val_acc: 0.8139\n",
      "Epoch 10/10\n",
      "25600/25600 [==============================] - 1s 54us/step - loss: 0.2969 - acc: 0.8686 - val_loss: 0.3064 - val_acc: 0.8531\n",
      "Test loss: 0.3063703704625368\n",
      "Test accuracy: 0.853125\n"
     ]
    }
   ],
   "source": [
    "history = model.fit(x_flat_train, y_train,\n",
    "                    batch_size=64,\n",
    "                    epochs=10,\n",
    "                    verbose=1,\n",
    "                    validation_data=(x_flat_test, y_test))\n",
    "score = model.evaluate(x_flat_test, y_test, verbose=0)\n",
    "print('Test loss:', score[0])\n",
    "print('Test accuracy:', score[1])"
   ]
  },
  {
   "cell_type": "markdown",
   "metadata": {},
   "source": [
    "#### 2. Multi Layer Perceptron, with added layers"
   ]
  },
  {
   "cell_type": "code",
   "execution_count": 31,
   "metadata": {},
   "outputs": [
    {
     "name": "stdout",
     "output_type": "stream",
     "text": [
      "_________________________________________________________________\n",
      "Layer (type)                 Output Shape              Param #   \n",
      "=================================================================\n",
      "dense_22 (Dense)             (None, 128)               153728    \n",
      "_________________________________________________________________\n",
      "dropout_15 (Dropout)         (None, 128)               0         \n",
      "_________________________________________________________________\n",
      "dense_23 (Dense)             (None, 64)                8256      \n",
      "_________________________________________________________________\n",
      "dropout_16 (Dropout)         (None, 64)                0         \n",
      "_________________________________________________________________\n",
      "dense_24 (Dense)             (None, 64)                4160      \n",
      "_________________________________________________________________\n",
      "dropout_17 (Dropout)         (None, 64)                0         \n",
      "_________________________________________________________________\n",
      "dense_25 (Dense)             (None, 2)                 130       \n",
      "=================================================================\n",
      "Total params: 166,274\n",
      "Trainable params: 166,274\n",
      "Non-trainable params: 0\n",
      "_________________________________________________________________\n"
     ]
    }
   ],
   "source": [
    "# Start with a simple sequential model\n",
    "model = Sequential()\n",
    "\n",
    "# Add dense layers to create a fully connected MLP\n",
    "# Note that we specify an input shape for the first layer, but only the first layer.\n",
    "# Relu is the activation function used\n",
    "model.add(Dense(128, activation='relu', input_shape=(x_flat_train.shape[1],)))\n",
    "# Dropout layers remove features and fight overfitting\n",
    "model.add(Dropout(0.1))\n",
    "model.add(Dense(64, activation='relu'))\n",
    "model.add(Dropout(0.1))\n",
    "\n",
    "model.add(Dense(64, activation='relu'))\n",
    "model.add(Dropout(0.1))\n",
    "\n",
    "#model.add(Flatten())\n",
    "# End with a number of units equal to the number of classes we have for our outcome\n",
    "model.add(Dense(2, activation='softmax'))\n",
    "\n",
    "model.summary()\n",
    "\n",
    "# Compile the model to put it all together.\n",
    "model.compile(loss='categorical_crossentropy',\n",
    "              optimizer='adam',\n",
    "              metrics=['accuracy'])"
   ]
  },
  {
   "cell_type": "code",
   "execution_count": 34,
   "metadata": {},
   "outputs": [
    {
     "name": "stdout",
     "output_type": "stream",
     "text": [
      "Train on 25600 samples, validate on 6400 samples\n",
      "Epoch 1/10\n",
      "25600/25600 [==============================] - 2s 93us/step - loss: 0.2741 - acc: 0.8815 - val_loss: 0.2998 - val_acc: 0.8573\n",
      "Epoch 2/10\n",
      "25600/25600 [==============================] - 2s 94us/step - loss: 0.2678 - acc: 0.8853 - val_loss: 0.4181 - val_acc: 0.8075\n",
      "Epoch 3/10\n",
      "25600/25600 [==============================] - 2s 96us/step - loss: 0.2594 - acc: 0.8903 - val_loss: 0.2223 - val_acc: 0.9123\n",
      "Epoch 4/10\n",
      "25600/25600 [==============================] - 2s 90us/step - loss: 0.2638 - acc: 0.8853 - val_loss: 0.2400 - val_acc: 0.9038\n",
      "Epoch 5/10\n",
      "25600/25600 [==============================] - 2s 89us/step - loss: 0.2525 - acc: 0.8936 - val_loss: 0.3510 - val_acc: 0.8430\n",
      "Epoch 6/10\n",
      "25600/25600 [==============================] - 2s 90us/step - loss: 0.2626 - acc: 0.8853 - val_loss: 0.2281 - val_acc: 0.9094\n",
      "Epoch 7/10\n",
      "25600/25600 [==============================] - 2s 95us/step - loss: 0.2529 - acc: 0.8934 - val_loss: 0.3225 - val_acc: 0.8519\n",
      "Epoch 8/10\n",
      "25600/25600 [==============================] - 3s 99us/step - loss: 0.2563 - acc: 0.8893 - val_loss: 0.3473 - val_acc: 0.8272\n",
      "Epoch 9/10\n",
      "25600/25600 [==============================] - 2s 94us/step - loss: 0.2595 - acc: 0.8885 - val_loss: 0.2450 - val_acc: 0.8984\n",
      "Epoch 10/10\n",
      "25600/25600 [==============================] - 2s 94us/step - loss: 0.2497 - acc: 0.8933 - val_loss: 0.2197 - val_acc: 0.9148\n",
      "Test loss: 0.21974052369594574\n",
      "Test accuracy: 0.91484375\n"
     ]
    }
   ],
   "source": [
    "history = model.fit(x_flat_train, y_train,\n",
    "                    batch_size=64,\n",
    "                    epochs=10,\n",
    "                    verbose=1,\n",
    "                    validation_data=(x_flat_test, y_test))\n",
    "score = model.evaluate(x_flat_test, y_test, verbose=0)\n",
    "print('Test loss:', score[0])\n",
    "print('Test accuracy:', score[1])"
   ]
  },
  {
   "cell_type": "markdown",
   "metadata": {},
   "source": [
    "#### .915 accuracy.\n",
    "\n",
    "### 3. CNN"
   ]
  },
  {
   "cell_type": "code",
   "execution_count": 44,
   "metadata": {},
   "outputs": [
    {
     "name": "stdout",
     "output_type": "stream",
     "text": [
      "Train on 25600 samples, validate on 6400 samples\n",
      "Epoch 1/10\n",
      "25600/25600 [==============================] - 41s 2ms/step - loss: 0.4615 - acc: 0.7902 - val_loss: 0.2596 - val_acc: 0.8877\n",
      "Epoch 2/10\n",
      "25600/25600 [==============================] - 41s 2ms/step - loss: 0.2267 - acc: 0.9085 - val_loss: 0.1425 - val_acc: 0.9453\n",
      "Epoch 3/10\n",
      "25600/25600 [==============================] - 40s 2ms/step - loss: 0.1640 - acc: 0.9361 - val_loss: 0.1110 - val_acc: 0.9555\n",
      "Epoch 4/10\n",
      "25600/25600 [==============================] - 41s 2ms/step - loss: 0.1295 - acc: 0.9500 - val_loss: 0.1034 - val_acc: 0.9598\n",
      "Epoch 5/10\n",
      "25600/25600 [==============================] - 40s 2ms/step - loss: 0.1089 - acc: 0.9584 - val_loss: 0.0858 - val_acc: 0.9659\n",
      "Epoch 6/10\n",
      "25600/25600 [==============================] - 40s 2ms/step - loss: 0.1034 - acc: 0.9627 - val_loss: 0.0783 - val_acc: 0.9703\n",
      "Epoch 7/10\n",
      "25600/25600 [==============================] - 42s 2ms/step - loss: 0.0909 - acc: 0.9668 - val_loss: 0.0795 - val_acc: 0.9702\n",
      "Epoch 8/10\n",
      "25600/25600 [==============================] - 40s 2ms/step - loss: 0.0811 - acc: 0.9712 - val_loss: 0.0888 - val_acc: 0.9650\n",
      "Epoch 9/10\n",
      "25600/25600 [==============================] - 41s 2ms/step - loss: 0.0751 - acc: 0.9725 - val_loss: 0.0638 - val_acc: 0.9764\n",
      "Epoch 10/10\n",
      "25600/25600 [==============================] - 41s 2ms/step - loss: 0.0680 - acc: 0.9752 - val_loss: 0.0632 - val_acc: 0.9753\n",
      "Test loss: 0.06323640322312712\n",
      "Test accuracy: 0.9753125\n"
     ]
    }
   ],
   "source": [
    "# Building the Model\n",
    "model = Sequential()\n",
    "# First convolutional layer, note the specification of shape\n",
    "model.add(Conv2D(32, kernel_size=(3, 3),\n",
    "                 activation='relu',\n",
    "                 input_shape=(20, 20, 3)))\n",
    "model.add(Conv2D(64, (3, 3), activation='relu'))\n",
    "model.add(MaxPooling2D(pool_size=(2, 2)))\n",
    "model.add(Dropout(0.25))\n",
    "model.add(Flatten())\n",
    "model.add(Dense(128, activation='relu'))\n",
    "model.add(Dropout(0.5))\n",
    "model.add(Dense(2, activation='softmax'))\n",
    "\n",
    "model.compile(loss=keras.losses.categorical_crossentropy,\n",
    "              optimizer=keras.optimizers.Adadelta(),\n",
    "              metrics=['accuracy'])\n",
    "\n",
    "model.fit(x_train, y_train,\n",
    "          batch_size=128,\n",
    "          epochs=10,\n",
    "          verbose=1,\n",
    "          validation_data=(x_test, y_test))\n",
    "score = model.evaluate(x_test, y_test, verbose=0)\n",
    "print('Test loss:', score[0])\n",
    "print('Test accuracy:', score[1])"
   ]
  },
  {
   "cell_type": "markdown",
   "metadata": {},
   "source": [
    "### 4. CNN with additional dense layer and smaller batch size."
   ]
  },
  {
   "cell_type": "code",
   "execution_count": 55,
   "metadata": {},
   "outputs": [
    {
     "name": "stdout",
     "output_type": "stream",
     "text": [
      "Train on 25600 samples, validate on 6400 samples\n",
      "Epoch 1/10\n",
      "25600/25600 [==============================] - 46s 2ms/step - loss: 0.4368 - acc: 0.8036 - val_loss: 0.2095 - val_acc: 0.9136\n",
      "Epoch 2/10\n",
      "25600/25600 [==============================] - 45s 2ms/step - loss: 0.1986 - acc: 0.9230 - val_loss: 0.1281 - val_acc: 0.9511\n",
      "Epoch 3/10\n",
      "25600/25600 [==============================] - 44s 2ms/step - loss: 0.1467 - acc: 0.9433 - val_loss: 0.1133 - val_acc: 0.9581\n",
      "Epoch 4/10\n",
      "25600/25600 [==============================] - 44s 2ms/step - loss: 0.1225 - acc: 0.9543 - val_loss: 0.0925 - val_acc: 0.9631\n",
      "Epoch 5/10\n",
      "25600/25600 [==============================] - 45s 2ms/step - loss: 0.1058 - acc: 0.9617 - val_loss: 0.0711 - val_acc: 0.9759\n",
      "Epoch 6/10\n",
      "25600/25600 [==============================] - 45s 2ms/step - loss: 0.0922 - acc: 0.9657 - val_loss: 0.0782 - val_acc: 0.9714\n",
      "Epoch 7/10\n",
      "25600/25600 [==============================] - 44s 2ms/step - loss: 0.0832 - acc: 0.9709 - val_loss: 0.0722 - val_acc: 0.9727\n",
      "Epoch 8/10\n",
      "25600/25600 [==============================] - 45s 2ms/step - loss: 0.0760 - acc: 0.9734 - val_loss: 0.0635 - val_acc: 0.9786\n",
      "Epoch 9/10\n",
      "25600/25600 [==============================] - 43s 2ms/step - loss: 0.0696 - acc: 0.9768 - val_loss: 0.0770 - val_acc: 0.9723\n",
      "Epoch 10/10\n",
      "25600/25600 [==============================] - 43s 2ms/step - loss: 0.0680 - acc: 0.9771 - val_loss: 0.0539 - val_acc: 0.9822\n",
      "Test loss: 0.05394881635322236\n",
      "Test accuracy: 0.9821875\n"
     ]
    }
   ],
   "source": [
    "# Building the Model\n",
    "model = Sequential()\n",
    "# First convolutional layer, note the specification of shape\n",
    "model.add(Conv2D(32, kernel_size=(3, 3),\n",
    "                 activation='relu',\n",
    "                 input_shape=(20, 20, 3)))\n",
    "model.add(Conv2D(64, (3, 3), activation='relu'))\n",
    "model.add(MaxPooling2D(pool_size=(2, 2)))\n",
    "model.add(Dropout(0.25))\n",
    "model.add(Flatten())\n",
    "model.add(Dense(128, activation='relu'))\n",
    "model.add(Dropout(0.5))\n",
    "model.add(Dense(64, activation='relu'))\n",
    "model.add(Dropout(0.2))\n",
    "model.add(Dense(2, activation='softmax'))\n",
    "\n",
    "model.compile(loss=keras.losses.categorical_crossentropy,\n",
    "              optimizer=keras.optimizers.Adadelta(),\n",
    "              metrics=['accuracy'])\n",
    "\n",
    "model.fit(x_train, y_train,\n",
    "          batch_size=64,\n",
    "          epochs=10,\n",
    "          verbose=1,\n",
    "          validation_data=(x_test, y_test))\n",
    "score = model.evaluate(x_test, y_test, verbose=0)\n",
    "print('Test loss:', score[0])\n",
    "print('Test accuracy:', score[1])"
   ]
  },
  {
   "cell_type": "markdown",
   "metadata": {},
   "source": [
    "#### .982 accuracy\n",
    "\n",
    "#### CNN with 25 epochs"
   ]
  },
  {
   "cell_type": "code",
   "execution_count": 56,
   "metadata": {
    "scrolled": false
   },
   "outputs": [
    {
     "name": "stdout",
     "output_type": "stream",
     "text": [
      "Train on 25600 samples, validate on 6400 samples\n",
      "Epoch 1/25\n",
      "25600/25600 [==============================] - 44s 2ms/step - loss: 0.4055 - acc: 0.8188 - val_loss: 0.1977 - val_acc: 0.9169\n",
      "Epoch 2/25\n",
      "25600/25600 [==============================] - 42s 2ms/step - loss: 0.1814 - acc: 0.9310 - val_loss: 0.2421 - val_acc: 0.9025\n",
      "Epoch 3/25\n",
      "25600/25600 [==============================] - 43s 2ms/step - loss: 0.1366 - acc: 0.9481 - val_loss: 0.1670 - val_acc: 0.9316\n",
      "Epoch 4/25\n",
      "25600/25600 [==============================] - 43s 2ms/step - loss: 0.1094 - acc: 0.9597 - val_loss: 0.0990 - val_acc: 0.9648\n",
      "Epoch 5/25\n",
      "25600/25600 [==============================] - 43s 2ms/step - loss: 0.0936 - acc: 0.9665 - val_loss: 0.0726 - val_acc: 0.9730\n",
      "Epoch 6/25\n",
      "25600/25600 [==============================] - 43s 2ms/step - loss: 0.0854 - acc: 0.9699 - val_loss: 0.0595 - val_acc: 0.9794\n",
      "Epoch 7/25\n",
      "25600/25600 [==============================] - 43s 2ms/step - loss: 0.0724 - acc: 0.9744 - val_loss: 0.0620 - val_acc: 0.9778\n",
      "Epoch 8/25\n",
      "25600/25600 [==============================] - 43s 2ms/step - loss: 0.0679 - acc: 0.9763 - val_loss: 0.0522 - val_acc: 0.9814\n",
      "Epoch 9/25\n",
      "25600/25600 [==============================] - 43s 2ms/step - loss: 0.0600 - acc: 0.9791 - val_loss: 0.0535 - val_acc: 0.9812\n",
      "Epoch 10/25\n",
      "25600/25600 [==============================] - 43s 2ms/step - loss: 0.0591 - acc: 0.9802 - val_loss: 0.0425 - val_acc: 0.9850\n",
      "Epoch 11/25\n",
      "25600/25600 [==============================] - 43s 2ms/step - loss: 0.0532 - acc: 0.9824 - val_loss: 0.0445 - val_acc: 0.9861\n",
      "Epoch 12/25\n",
      "25600/25600 [==============================] - 43s 2ms/step - loss: 0.0502 - acc: 0.9831 - val_loss: 0.0426 - val_acc: 0.9872\n",
      "Epoch 13/25\n",
      "25600/25600 [==============================] - 43s 2ms/step - loss: 0.0488 - acc: 0.9840 - val_loss: 0.0380 - val_acc: 0.9881\n",
      "Epoch 14/25\n",
      "25600/25600 [==============================] - 43s 2ms/step - loss: 0.0455 - acc: 0.9842 - val_loss: 0.0521 - val_acc: 0.9842\n",
      "Epoch 15/25\n",
      "25600/25600 [==============================] - 45s 2ms/step - loss: 0.0434 - acc: 0.9855 - val_loss: 0.0631 - val_acc: 0.9775\n",
      "Epoch 16/25\n",
      "25600/25600 [==============================] - 43s 2ms/step - loss: 0.0395 - acc: 0.9868 - val_loss: 0.0439 - val_acc: 0.9866\n",
      "Epoch 17/25\n",
      "25600/25600 [==============================] - 47s 2ms/step - loss: 0.0379 - acc: 0.9860 - val_loss: 0.0407 - val_acc: 0.9881\n",
      "Epoch 18/25\n",
      "25600/25600 [==============================] - 44s 2ms/step - loss: 0.0373 - acc: 0.9886 - val_loss: 0.0679 - val_acc: 0.9764\n",
      "Epoch 19/25\n",
      "25600/25600 [==============================] - 44s 2ms/step - loss: 0.0349 - acc: 0.9892 - val_loss: 0.0442 - val_acc: 0.9872\n",
      "Epoch 20/25\n",
      "25600/25600 [==============================] - 44s 2ms/step - loss: 0.0322 - acc: 0.9891 - val_loss: 0.0393 - val_acc: 0.9880\n",
      "Epoch 21/25\n",
      "25600/25600 [==============================] - 44s 2ms/step - loss: 0.0300 - acc: 0.9904 - val_loss: 0.0392 - val_acc: 0.9881\n",
      "Epoch 22/25\n",
      "25600/25600 [==============================] - 46s 2ms/step - loss: 0.0309 - acc: 0.9901 - val_loss: 0.0385 - val_acc: 0.9898\n",
      "Epoch 23/25\n",
      "25600/25600 [==============================] - 45s 2ms/step - loss: 0.0287 - acc: 0.9907 - val_loss: 0.0363 - val_acc: 0.9884\n",
      "Epoch 24/25\n",
      "25600/25600 [==============================] - 45s 2ms/step - loss: 0.0304 - acc: 0.9898 - val_loss: 0.0369 - val_acc: 0.9895\n",
      "Epoch 25/25\n",
      "25600/25600 [==============================] - 45s 2ms/step - loss: 0.0254 - acc: 0.9917 - val_loss: 0.0426 - val_acc: 0.9866\n",
      "Test loss: 0.04258300182011226\n",
      "Test accuracy: 0.9865625\n"
     ]
    }
   ],
   "source": [
    "# Building the Model\n",
    "model = Sequential()\n",
    "# First convolutional layer, note the specification of shape\n",
    "model.add(Conv2D(32, kernel_size=(3, 3),\n",
    "                 activation='relu',\n",
    "                 input_shape=(20, 20, 3)))\n",
    "model.add(Conv2D(64, (3, 3), activation='relu'))\n",
    "model.add(MaxPooling2D(pool_size=(2, 2)))\n",
    "model.add(Dropout(0.25))\n",
    "model.add(Flatten())\n",
    "model.add(Dense(128, activation='relu'))\n",
    "model.add(Dropout(0.5))\n",
    "model.add(Dense(64, activation='relu'))\n",
    "model.add(Dropout(0.2))\n",
    "model.add(Dense(2, activation='softmax'))\n",
    "\n",
    "model.compile(loss=keras.losses.categorical_crossentropy,\n",
    "              optimizer=keras.optimizers.Adadelta(),\n",
    "              metrics=['accuracy'])\n",
    "\n",
    "model.fit(x_train, y_train,\n",
    "          batch_size=64,\n",
    "          epochs=25,\n",
    "          verbose=1,\n",
    "          validation_data=(x_test, y_test))\n",
    "score = model.evaluate(x_test, y_test, verbose=0)\n",
    "print('Test loss:', score[0])\n",
    "print('Test accuracy:', score[1])"
   ]
  },
  {
   "cell_type": "markdown",
   "metadata": {},
   "source": [
    "#### .987 accuracy\n",
    "\n",
    "### Pretrained model"
   ]
  },
  {
   "cell_type": "code",
   "execution_count": 57,
   "metadata": {},
   "outputs": [
    {
     "name": "stdout",
     "output_type": "stream",
     "text": [
      "Downloading data from https://github.com/fchollet/deep-learning-models/releases/download/v0.1/vgg16_weights_tf_dim_ordering_tf_kernels.h5\n",
      "553467904/553467096 [==============================] - 42s 0us/step\n",
      "Downloading data from https://github.com/fchollet/deep-learning-models/releases/download/v0.5/inception_v3_weights_tf_dim_ordering_tf_kernels.h5\n",
      "96116736/96112376 [==============================] - 21s 0us/step\n",
      "Downloading data from https://github.com/fchollet/deep-learning-models/releases/download/v0.2/resnet50_weights_tf_dim_ordering_tf_kernels.h5\n",
      "102858752/102853048 [==============================] - 29s 0us/step\n",
      "Downloading data from https://github.com/fchollet/deep-learning-models/releases/download/v0.6/mobilenet_1_0_224_tf.h5\n",
      "17227776/17225924 [==============================] - 3s 0us/step\n"
     ]
    }
   ],
   "source": [
    "from keras.applications import vgg16, inception_v3, resnet50, mobilenet\n",
    " \n",
    "#Load the VGG model\n",
    "vgg_model = vgg16.VGG16(weights='imagenet')\n",
    " \n",
    "#Load the Inception_V3 model\n",
    "inception_model = inception_v3.InceptionV3(weights='imagenet')\n",
    " \n",
    "#Load the ResNet50 model\n",
    "resnet_model = resnet50.ResNet50(weights='imagenet')\n",
    " \n",
    "#Load the MobileNet model\n",
    "mobilenet_model = mobilenet.MobileNet(weights='imagenet')"
   ]
  },
  {
   "cell_type": "code",
   "execution_count": 59,
   "metadata": {},
   "outputs": [
    {
     "data": {
      "text/plain": [
       "'..\\\\unit_6\\\\planesnet\\\\0__20140723_181317_0905__-122.073653222_37.7090043618.png'"
      ]
     },
     "execution_count": 59,
     "metadata": {},
     "output_type": "execute_result"
    }
   ],
   "source": [
    "file_paths[0]"
   ]
  },
  {
   "cell_type": "code",
   "execution_count": 78,
   "metadata": {},
   "outputs": [
    {
     "name": "stdout",
     "output_type": "stream",
     "text": [
      "PIL image size (224, 224)\n"
     ]
    },
    {
     "data": {
      "image/png": "[encoded data removed]",
      "text/plain": [
       "<Figure size 432x288 with 1 Axes>"
      ]
     },
     "metadata": {},
     "output_type": "display_data"
    },
    {
     "data": {
      "image/png": "[encoded data removed]",
      "text/plain": [
       "<Figure size 432x288 with 1 Axes>"
      ]
     },
     "metadata": {},
     "output_type": "display_data"
    },
    {
     "name": "stdout",
     "output_type": "stream",
     "text": [
      "numpy array size (224, 224, 3)\n",
      "image batch size (1, 224, 224, 3)\n"
     ]
    },
    {
     "data": {
      "text/plain": [
       "<matplotlib.image.AxesImage at 0x2128435c518>"
      ]
     },
     "execution_count": 78,
     "metadata": {},
     "output_type": "execute_result"
    },
    {
     "data": {
      "image/png": "[encoded data removed]",
      "text/plain": [
       "<Figure size 432x288 with 1 Axes>"
      ]
     },
     "metadata": {},
     "output_type": "display_data"
    }
   ],
   "source": [
    "from keras.preprocessing.image import load_img\n",
    "from keras.preprocessing.image import img_to_array\n",
    "from keras.applications.imagenet_utils import decode_predictions\n",
    "import matplotlib.pyplot as plt\n",
    "%matplotlib inline\n",
    " \n",
    "filename = file_paths[30000]\n",
    "# load an image in PIL format\n",
    "original = load_img(filename, target_size=(224, 224))\n",
    "print('PIL image size',original.size)\n",
    "plt.imshow(original)\n",
    "plt.show()\n",
    " \n",
    "# convert the PIL image to a numpy array\n",
    "# IN PIL - image is in (width, height, channel)\n",
    "# In Numpy - image is in (height, width, channel)\n",
    "numpy_image = img_to_array(original)\n",
    "plt.imshow(np.uint8(numpy_image))\n",
    "plt.show()\n",
    "print('numpy array size',numpy_image.shape)\n",
    " \n",
    "# Convert the image / images into batch format\n",
    "# expand_dims will add an extra dimension to the data at a particular axis\n",
    "# We want the input matrix to the network to be of the form (batchsize, height, width, channels)\n",
    "# Thus we add the extra dimension to the axis 0.\n",
    "image_batch = np.expand_dims(numpy_image, axis=0)\n",
    "print('image batch size', image_batch.shape)\n",
    "plt.imshow(np.uint8(image_batch[0]))"
   ]
  },
  {
   "cell_type": "code",
   "execution_count": 79,
   "metadata": {},
   "outputs": [
    {
     "name": "stdout",
     "output_type": "stream",
     "text": [
      "Downloading data from https://s3.amazonaws.com/deep-learning-models/image-models/imagenet_class_index.json\n",
      "40960/35363 [==================================] - 0s 1us/step\n",
      "[[('n04548280', 'wall_clock', 0.06821078), ('n04209239', 'shower_curtain', 0.039430827), ('n03888257', 'parachute', 0.021995947), ('n02782093', 'balloon', 0.021237824), ('n03532672', 'hook', 0.013352058)]]\n"
     ]
    }
   ],
   "source": [
    "# prepare the image for the VGG model\n",
    "processed_image = vgg16.preprocess_input(image_batch.copy())\n",
    " \n",
    "# get the predicted probabilities for each class\n",
    "predictions = vgg_model.predict(processed_image)\n",
    "# print predictions\n",
    " \n",
    "# convert the probabilities to class labels\n",
    "# We will get top 5 predictions which is the default\n",
    "label = decode_predictions(predictions)\n",
    "print(label)"
   ]
  },
  {
   "cell_type": "markdown",
   "metadata": {},
   "source": [
    "### Conclusion\n",
    "The pretrained model doesn't work on the dataset photos as they have been reduced down to grainy blobs, probably to make training a lot faster. Out of the models from scratch, the 4th model I believe is the best one, it had an accuracy of .982 and it trained a lot faster than model 5. "
   ]
  },
  {
   "cell_type": "code",
   "execution_count": null,
   "metadata": {},
   "outputs": [],
   "source": []
  }
 ],
 "metadata": {
  "kernelspec": {
   "display_name": "Python 3",
   "language": "python",
   "name": "python3"
  },
  "language_info": {
   "codemirror_mode": {
    "name": "ipython",
    "version": 3
   },
   "file_extension": ".py",
   "mimetype": "text/x-python",
   "name": "python",
   "nbconvert_exporter": "python",
   "pygments_lexer": "ipython3",
   "version": "3.6.5"
  }
 },
 "nbformat": 4,
 "nbformat_minor": 2
}
