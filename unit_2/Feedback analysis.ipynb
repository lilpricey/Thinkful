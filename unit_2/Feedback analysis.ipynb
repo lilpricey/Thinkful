{
 "cells": [
  {
   "cell_type": "markdown",
   "metadata": {},
   "source": [
    "# Feedback analysis\n",
    "___"
   ]
  },
  {
   "cell_type": "code",
   "execution_count": 1,
   "metadata": {
    "collapsed": true
   },
   "outputs": [],
   "source": [
    "%matplotlib inline\n",
    "import numpy as np\n",
    "import pandas as pd\n",
    "import scipy\n",
    "import sklearn\n",
    "import matplotlib.pyplot as plt\n",
    "import seaborn as sns"
   ]
  },
  {
   "cell_type": "markdown",
   "metadata": {},
   "source": [
    "# Yelp reviews"
   ]
  },
  {
   "cell_type": "code",
   "execution_count": 2,
   "metadata": {
    "collapsed": true
   },
   "outputs": [],
   "source": [
    "df = pd.read_csv('sentiment labelled sentences/yelp_labelled.txt', delimiter= '\\t', header=None)"
   ]
  },
  {
   "cell_type": "code",
   "execution_count": 3,
   "metadata": {
    "collapsed": true
   },
   "outputs": [],
   "source": [
    "df.columns = ['review', 'positive']"
   ]
  },
  {
   "cell_type": "code",
   "execution_count": 4,
   "metadata": {},
   "outputs": [
    {
     "data": {
      "text/html": [
       "<div>\n",
       "<style>\n",
       "    .dataframe thead tr:only-child th {\n",
       "        text-align: right;\n",
       "    }\n",
       "\n",
       "    .dataframe thead th {\n",
       "        text-align: left;\n",
       "    }\n",
       "\n",
       "    .dataframe tbody tr th {\n",
       "        vertical-align: top;\n",
       "    }\n",
       "</style>\n",
       "<table border=\"1\" class=\"dataframe\">\n",
       "  <thead>\n",
       "    <tr style=\"text-align: right;\">\n",
       "      <th></th>\n",
       "      <th>review</th>\n",
       "      <th>positive</th>\n",
       "    </tr>\n",
       "  </thead>\n",
       "  <tbody>\n",
       "    <tr>\n",
       "      <th>0</th>\n",
       "      <td>Wow... Loved this place.</td>\n",
       "      <td>1</td>\n",
       "    </tr>\n",
       "    <tr>\n",
       "      <th>1</th>\n",
       "      <td>Crust is not good.</td>\n",
       "      <td>0</td>\n",
       "    </tr>\n",
       "    <tr>\n",
       "      <th>2</th>\n",
       "      <td>Not tasty and the texture was just nasty.</td>\n",
       "      <td>0</td>\n",
       "    </tr>\n",
       "    <tr>\n",
       "      <th>3</th>\n",
       "      <td>Stopped by during the late May bank holiday of...</td>\n",
       "      <td>1</td>\n",
       "    </tr>\n",
       "    <tr>\n",
       "      <th>4</th>\n",
       "      <td>The selection on the menu was great and so wer...</td>\n",
       "      <td>1</td>\n",
       "    </tr>\n",
       "  </tbody>\n",
       "</table>\n",
       "</div>"
      ],
      "text/plain": [
       "                                              review  positive\n",
       "0                           Wow... Loved this place.         1\n",
       "1                                 Crust is not good.         0\n",
       "2          Not tasty and the texture was just nasty.         0\n",
       "3  Stopped by during the late May bank holiday of...         1\n",
       "4  The selection on the menu was great and so wer...         1"
      ]
     },
     "execution_count": 4,
     "metadata": {},
     "output_type": "execute_result"
    }
   ],
   "source": [
    "df.head()"
   ]
  },
  {
   "cell_type": "code",
   "execution_count": 5,
   "metadata": {},
   "outputs": [
    {
     "data": {
      "text/plain": [
       "(1000, 2)"
      ]
     },
     "execution_count": 5,
     "metadata": {},
     "output_type": "execute_result"
    }
   ],
   "source": [
    "df.shape"
   ]
  },
  {
   "cell_type": "code",
   "execution_count": 6,
   "metadata": {},
   "outputs": [
    {
     "data": {
      "text/plain": [
       "the                582\n",
       "and                388\n",
       "i                  303\n",
       "was                292\n",
       "a                  237\n",
       "to                 216\n",
       "is                 171\n",
       "this               142\n",
       "of                 125\n",
       "not                115\n",
       "it                 110\n",
       "for                107\n",
       "in                 104\n",
       "food                92\n",
       "we                  79\n",
       "place               77\n",
       "very                74\n",
       "my                  72\n",
       "with                71\n",
       "be                  66\n",
       "had                 66\n",
       "so                  66\n",
       "are                 62\n",
       "good                62\n",
       "that                62\n",
       "were                61\n",
       "but                 61\n",
       "have                61\n",
       "great               57\n",
       "they                56\n",
       "                  ... \n",
       "regularly,           1\n",
       "(the                 1\n",
       "degree.              1\n",
       "100%                 1\n",
       "nice.)               1\n",
       "kiddos!              1\n",
       "getting.             1\n",
       "fantastic!           1\n",
       "walls                1\n",
       "handled              1\n",
       "trap                 1\n",
       "gourmet              1\n",
       "dried                1\n",
       "spots,               1\n",
       "it...definitely      1\n",
       "soups                1\n",
       "pricey               1\n",
       "gone                 1\n",
       "incredible           1\n",
       "word                 1\n",
       "complaints!          1\n",
       "reviews,             1\n",
       "mostly               1\n",
       "yellow               1\n",
       "vegas.....there      1\n",
       "movies               1\n",
       "fluffy,              1\n",
       "milk.                1\n",
       "appealing.           1\n",
       "lacking              1\n",
       "Length: 2728, dtype: int64"
      ]
     },
     "execution_count": 6,
     "metadata": {},
     "output_type": "execute_result"
    }
   ],
   "source": [
    "pd.Series(' '.join(df['review']).lower().split()).value_counts()"
   ]
  },
  {
   "cell_type": "code",
   "execution_count": 7,
   "metadata": {
    "collapsed": true
   },
   "outputs": [],
   "source": [
    "df['review'] = df['review'].str.lower()\n",
    "df['review'] = df['review'].str.replace('[^\\w\\s]','')"
   ]
  },
  {
   "cell_type": "code",
   "execution_count": 10,
   "metadata": {
    "collapsed": true
   },
   "outputs": [],
   "source": [
    "keywords = ['loved', 'not good', 'not tasty', 'great', 'worst', \"won't\", 'good', 'bad', 'nasty', 'was great', 'problem', 'angry', 'awful', 'disappointed', 'would not', 'lacked', 'overpriced', 'did not', 'best', 'beautiful', 'avoid', 'slow', 'prompt', 'mmm', 'recommend', 'amazing', 'cute', 'performed', 'wasnt good', 'decent', 'deal', 'happier', 'elsewhere', 'i like', 'redeeming', 'delight', 'deal', 'moist', 'fear', 'sick', 'tasty', 'nice', 'perfect', 'handmade', 'glad', 'wast', 'yummy', 'die for', 'fresh', 'sexy', 'will be back', 'quickly', 'fantastic', 'one of the b', 'wonderful', 'will go back', 'is not', 'go back', 'check it', 'friendly', 'ever', 'phenom', 'definitely worth', 'excellent', 'solid', 'rarely', 'wasnt helpful', 'wasnt very tasty', 'clean', 'right away', 'immediately', 'reasonab', 'always', 'delicious', 'dont go', 'bacon', 'fine dining', 'lovers', 'modern', 'definitely', 'healthy', 'incredible', 'interesting', 'really like', 'satisfied', 'is worth', 'delish', 'rich', 'bargain', 'fun', 'flavourful', 'much better', 'lighting', 'creamy', 'fast', 'they know', 'sticks', 'exquisite', 'definitely', 'waited', 'so good', 'happy', 'favorite place', 'sweet', 'i love', 'omg', 'its worth', 'ever had', 'outstanding', 'cool']\n",
    "\n",
    "for key in keywords:\n",
    "    # Note that we add spaces around the key so that we're getting the word,\n",
    "    # not just pattern matching.\n",
    "    df[str(key)] = df.review.str.contains(str(key), case=False)"
   ]
  },
  {
   "cell_type": "code",
   "execution_count": 11,
   "metadata": {},
   "outputs": [
    {
     "data": {
      "text/plain": [
       "<matplotlib.axes._subplots.AxesSubplot at 0x21a2941c7f0>"
      ]
     },
     "execution_count": 11,
     "metadata": {},
     "output_type": "execute_result"
    },
    {
     "data": {
      "image/png": "[encoded data removed]",
      "text/plain": [
       "<matplotlib.figure.Figure at 0x21a2941b4e0>"
      ]
     },
     "metadata": {},
     "output_type": "display_data"
    }
   ],
   "source": [
    "sns.heatmap(df.corr())"
   ]
  },
  {
   "cell_type": "code",
   "execution_count": 12,
   "metadata": {},
   "outputs": [],
   "source": [
    "data = df[keywords]\n",
    "target = df['positive']"
   ]
  },
  {
   "cell_type": "code",
   "execution_count": 13,
   "metadata": {},
   "outputs": [],
   "source": [
    "from sklearn.naive_bayes import BernoulliNB\n",
    "\n",
    "bnb = BernoulliNB()\n",
    "\n",
    "bnb.fit(data, target)\n",
    "\n",
    "\n",
    "y_pred = bnb.predict(data)"
   ]
  },
  {
   "cell_type": "code",
   "execution_count": 14,
   "metadata": {},
   "outputs": [
    {
     "name": "stdout",
     "output_type": "stream",
     "text": [
      "Number of mislabeled points out of a total 1000 points : 150\n"
     ]
    }
   ],
   "source": [
    "print(\"Number of mislabeled points out of a total {} points : {}\".format(\n",
    "    data.shape[0],\n",
    "    (target != y_pred).sum()\n",
    "))"
   ]
  },
  {
   "cell_type": "code",
   "execution_count": 15,
   "metadata": {},
   "outputs": [
    {
     "data": {
      "text/plain": [
       "0.84999999999999998"
      ]
     },
     "execution_count": 15,
     "metadata": {},
     "output_type": "execute_result"
    }
   ],
   "source": [
    "sum(y_pred == target)/len(y_pred)\n"
   ]
  },
  {
   "cell_type": "markdown",
   "metadata": {},
   "source": [
    "# Amazon Reviews"
   ]
  },
  {
   "cell_type": "code",
   "execution_count": 16,
   "metadata": {
    "collapsed": true
   },
   "outputs": [],
   "source": [
    "df2 = pd.read_csv('sentiment labelled sentences/amazon_cells_labelled.txt', delimiter= '\\t', header=None)"
   ]
  },
  {
   "cell_type": "code",
   "execution_count": 17,
   "metadata": {
    "collapsed": true
   },
   "outputs": [],
   "source": [
    "df2.columns = ['review', 'positive']"
   ]
  },
  {
   "cell_type": "code",
   "execution_count": 18,
   "metadata": {},
   "outputs": [
    {
     "data": {
      "text/html": [
       "<div>\n",
       "<style>\n",
       "    .dataframe thead tr:only-child th {\n",
       "        text-align: right;\n",
       "    }\n",
       "\n",
       "    .dataframe thead th {\n",
       "        text-align: left;\n",
       "    }\n",
       "\n",
       "    .dataframe tbody tr th {\n",
       "        vertical-align: top;\n",
       "    }\n",
       "</style>\n",
       "<table border=\"1\" class=\"dataframe\">\n",
       "  <thead>\n",
       "    <tr style=\"text-align: right;\">\n",
       "      <th></th>\n",
       "      <th>review</th>\n",
       "      <th>positive</th>\n",
       "    </tr>\n",
       "  </thead>\n",
       "  <tbody>\n",
       "    <tr>\n",
       "      <th>0</th>\n",
       "      <td>So there is no way for me to plug it in here i...</td>\n",
       "      <td>0</td>\n",
       "    </tr>\n",
       "    <tr>\n",
       "      <th>1</th>\n",
       "      <td>Good case, Excellent value.</td>\n",
       "      <td>1</td>\n",
       "    </tr>\n",
       "    <tr>\n",
       "      <th>2</th>\n",
       "      <td>Great for the jawbone.</td>\n",
       "      <td>1</td>\n",
       "    </tr>\n",
       "    <tr>\n",
       "      <th>3</th>\n",
       "      <td>Tied to charger for conversations lasting more...</td>\n",
       "      <td>0</td>\n",
       "    </tr>\n",
       "    <tr>\n",
       "      <th>4</th>\n",
       "      <td>The mic is great.</td>\n",
       "      <td>1</td>\n",
       "    </tr>\n",
       "  </tbody>\n",
       "</table>\n",
       "</div>"
      ],
      "text/plain": [
       "                                              review  positive\n",
       "0  So there is no way for me to plug it in here i...         0\n",
       "1                        Good case, Excellent value.         1\n",
       "2                             Great for the jawbone.         1\n",
       "3  Tied to charger for conversations lasting more...         0\n",
       "4                                  The mic is great.         1"
      ]
     },
     "execution_count": 18,
     "metadata": {},
     "output_type": "execute_result"
    }
   ],
   "source": [
    "df2.head()"
   ]
  },
  {
   "cell_type": "code",
   "execution_count": 19,
   "metadata": {
    "collapsed": true
   },
   "outputs": [],
   "source": [
    "df2['review'] = df2['review'].str.lower()\n",
    "df2['review'] = df2['review'].str.replace('[^\\w\\s]','')\n",
    "for key in keywords:\n",
    "    # Note that we add spaces around the key so that we're getting the word,\n",
    "    # not just pattern matching.\n",
    "    df2[str(key)] = df.review.str.contains(str(key), case=False)"
   ]
  },
  {
   "cell_type": "code",
   "execution_count": 20,
   "metadata": {
    "collapsed": true
   },
   "outputs": [],
   "source": [
    "data = df2[keywords]\n",
    "target = df2['positive']\n",
    "bnb = BernoulliNB()\n",
    "\n",
    "bnb.fit(data, target)\n",
    "\n",
    "\n",
    "y_pred = bnb.predict(data)"
   ]
  },
  {
   "cell_type": "code",
   "execution_count": 21,
   "metadata": {},
   "outputs": [
    {
     "name": "stdout",
     "output_type": "stream",
     "text": [
      "Number of mislabeled points out of a total 1000 points : 416\n"
     ]
    }
   ],
   "source": [
    "print(\"Number of mislabeled points out of a total {} points : {}\".format(\n",
    "    data.shape[0],\n",
    "    (target != y_pred).sum()\n",
    "))"
   ]
  },
  {
   "cell_type": "code",
   "execution_count": 22,
   "metadata": {},
   "outputs": [
    {
     "data": {
      "text/plain": [
       "0.58399999999999996"
      ]
     },
     "execution_count": 22,
     "metadata": {},
     "output_type": "execute_result"
    }
   ],
   "source": [
    "sum(y_pred == target)/len(y_pred)\n"
   ]
  },
  {
   "cell_type": "markdown",
   "metadata": {},
   "source": [
    "# Iterate and evaluate your classifier"
   ]
  },
  {
   "cell_type": "code",
   "execution_count": 23,
   "metadata": {},
   "outputs": [
    {
     "data": {
      "text/plain": [
       "array([ 0.84,  0.85,  0.84,  0.86,  0.8 ,  0.8 ,  0.76,  0.79,  0.79,  0.76])"
      ]
     },
     "execution_count": 23,
     "metadata": {},
     "output_type": "execute_result"
    }
   ],
   "source": [
    "data = df[keywords]\n",
    "target = df['positive']\n",
    "from sklearn.model_selection import cross_val_score\n",
    "cross_val_score(bnb, data, target, cv=10)"
   ]
  },
  {
   "cell_type": "code",
   "execution_count": 24,
   "metadata": {},
   "outputs": [
    {
     "data": {
      "text/plain": [
       "array([[470,  30],\n",
       "       [120, 380]], dtype=int64)"
      ]
     },
     "execution_count": 24,
     "metadata": {},
     "output_type": "execute_result"
    }
   ],
   "source": [
    "bnb.fit(data, target)\n",
    "y_pred = bnb.predict(data)\n",
    "from sklearn.metrics import confusion_matrix\n",
    "confusion_matrix(target, y_pred)"
   ]
  },
  {
   "cell_type": "markdown",
   "metadata": {},
   "source": [
    "Sensitivity = 380/500 .76\n",
    "Specificity = 470/500 .94"
   ]
  },
  {
   "cell_type": "code",
   "execution_count": 25,
   "metadata": {},
   "outputs": [
    {
     "data": {
      "text/plain": [
       "0.94"
      ]
     },
     "execution_count": 25,
     "metadata": {},
     "output_type": "execute_result"
    }
   ],
   "source": [
    "470/500"
   ]
  },
  {
   "cell_type": "markdown",
   "metadata": {},
   "source": [
    "# Iteration 2\n",
    "focus on positives"
   ]
  },
  {
   "cell_type": "code",
   "execution_count": 26,
   "metadata": {
    "collapsed": true
   },
   "outputs": [],
   "source": [
    "df2 = pd.read_csv('sentiment labelled sentences/yelp_labelled.txt', delimiter= '\\t', header=None)\n",
    "df2.columns = ['review', 'positive']\n",
    "df2['review'] = df['review'].str.lower()\n",
    "df2['review'] = df['review'].str.replace('[^\\w\\s]','')\n",
    "df3 = df2\n",
    "df4 = df2\n",
    "df5 = df2"
   ]
  },
  {
   "cell_type": "code",
   "execution_count": 27,
   "metadata": {
    "collapsed": true
   },
   "outputs": [],
   "source": [
    "keywords2 = ['loved', 'great', 'good','best', 'beautiful', 'prompt', 'mmm', 'recommend', 'amazing', 'cute', 'performed', 'decent', 'deal', 'happier', 'delight', 'deal', 'moist', 'tasty', 'nice', 'perfect', 'handmade', 'glad', 'yummy', 'die for', 'fresh', 'sexy', 'back', 'quickly', 'fantastic', 'one of the b', 'wonderful', 'check it', 'friendly', 'ever', 'phenom', 'definitely worth', 'excellent', 'solid', 'clean', 'right away', 'immediately', 'reasonab', 'always', 'delicious', 'fine dining', 'lovers', 'modern', 'definitely', 'healthy', 'incredible', 'interesting', 'really like', 'satisfied', 'is worth', 'delish', 'rich', 'bargain', 'fun', 'flavourful', 'much better', 'lighting', 'creamy', 'fast', 'they know', 'exquisite', 'definitely', 'waited', 'so good', 'happy', 'favorite place', 'sweet', 'i love', 'omg', 'outstanding', 'cool']\n",
    "\n",
    "for key in keywords2:\n",
    "    # Note that we add spaces around the key so that we're getting the word,\n",
    "    # not just pattern matching.\n",
    "    df2[str(key)] = df2.review.str.contains(str(key), case=False)"
   ]
  },
  {
   "cell_type": "code",
   "execution_count": 28,
   "metadata": {},
   "outputs": [
    {
     "data": {
      "text/plain": [
       "array([ 0.71,  0.78,  0.8 ,  0.81,  0.76,  0.73,  0.73,  0.77,  0.75,  0.79])"
      ]
     },
     "execution_count": 28,
     "metadata": {},
     "output_type": "execute_result"
    }
   ],
   "source": [
    "data = df2[keywords2]\n",
    "target = df2['positive']\n",
    "bnb.fit(data, target)\n",
    "\n",
    "cross_val_score(bnb, data, target, cv=10)"
   ]
  },
  {
   "cell_type": "markdown",
   "metadata": {},
   "source": [
    "# Iteration 3\n",
    "focus on negatives"
   ]
  },
  {
   "cell_type": "code",
   "execution_count": 29,
   "metadata": {
    "collapsed": true
   },
   "outputs": [],
   "source": [
    "keywords3 = ['not good', 'not tasty', 'worst', \"won't\", 'bad', 'nasty', 'problem', 'angry', 'awful', 'disappointed', 'would not', 'lacked', 'overpriced', 'did not', 'avoid', 'slow', 'wasnt good', 'elsewhere', 'fear', 'sick', 'wast', 'is not', 'wasnt helpful', 'wasnt very tasty', 'dont go']\n",
    "\n",
    "for key in keywords3:\n",
    "    # Note that we add spaces around the key so that we're getting the word,\n",
    "    # not just pattern matching.\n",
    "    df3[str(key)] = df3.review.str.contains(str(key), case=False)"
   ]
  },
  {
   "cell_type": "code",
   "execution_count": 30,
   "metadata": {},
   "outputs": [
    {
     "data": {
      "text/plain": [
       "array([ 0.67,  0.59,  0.61,  0.58,  0.6 ,  0.59,  0.62,  0.66,  0.63,  0.63])"
      ]
     },
     "execution_count": 30,
     "metadata": {},
     "output_type": "execute_result"
    }
   ],
   "source": [
    "data = df3[keywords3]\n",
    "target = df3['positive']\n",
    "bnb.fit(data, target)\n",
    "\n",
    "cross_val_score(bnb, data, target, cv=10)"
   ]
  },
  {
   "cell_type": "markdown",
   "metadata": {},
   "source": [
    "# Iteration 4\n",
    "add more keywords"
   ]
  },
  {
   "cell_type": "code",
   "execution_count": 31,
   "metadata": {
    "collapsed": true
   },
   "outputs": [],
   "source": [
    "keywords4 = ['loved', 'not good', 'not tasty', 'great', 'worst', \"won't\", 'good', 'bad', 'nasty', 'was great', 'problem', 'angry', 'awful', 'disappointed', 'would not', 'lacked', 'overpriced', 'did not', 'best', 'beautiful', 'avoid', 'slow', 'prompt', 'mmm', 'recommend', 'amazing', 'cute', 'performed', 'wasnt good', 'decent', 'deal', 'happier', 'elsewhere', 'i like', 'redeeming', 'delight', 'deal', 'moist', 'fear', 'sick', 'tasty', 'nice', 'perfect', 'handmade', 'glad', 'wast', 'yummy', 'die for', 'fresh', 'sexy', 'will be back', 'quickly', 'fantastic', 'one of the b', 'wonderful', 'will go back', 'is not', 'go back', 'check it', 'friendly', 'ever', 'phenom', 'definitely worth', 'excellent', 'solid', 'rarely', 'wasnt helpful', 'wasnt very tasty', 'clean', 'right away', 'immediately', 'reasonab', 'always', 'delicious', 'dont go', 'bacon', 'fine dining', 'lovers', 'modern', 'definitely', 'healthy', 'incredible', 'interesting', 'really like', 'satisfied', 'is worth', 'delish', 'rich', 'bargain', 'fun', 'flavourful', 'much better', 'lighting', 'creamy', 'fast', 'they know', 'sticks', 'exquisite', 'definitely', 'waited', 'so good', 'happy', 'favorite place', 'sweet', 'i love', 'omg', 'its worth', 'ever had', 'outstanding', 'cool', 'wasnt fresh', 'dirty', 'average', 'wasnt worth it', 'professional', 'fail', 'but no', 'new fav', 'highlight', 'fell in love', 'killer', 'enjoyed', 'flavorless', 'go to place', 'place to go', 'approval', 'a lot', 'awesome', 'stars', 'especially', 'been back', 'at best', 'devine', 'impressed', 'huge', 'thumbs up', 'pretty well', 'a must', 'pretty', 'hooked', 'pleased', 'quick', 'awe', 'dis']\n",
    "\n",
    "for key in keywords4:\n",
    "    # Note that we add spaces around the key so that we're getting the word,\n",
    "    # not just pattern matching.\n",
    "    df4[str(key)] = df4.review.str.contains(str(key), case=False)"
   ]
  },
  {
   "cell_type": "code",
   "execution_count": 32,
   "metadata": {
    "collapsed": true
   },
   "outputs": [],
   "source": [
    "#fails = df['review'][target != y_pred]\n",
    "#for i in fails:\n",
    "#    print(i)"
   ]
  },
  {
   "cell_type": "code",
   "execution_count": 33,
   "metadata": {},
   "outputs": [
    {
     "data": {
      "text/plain": [
       "array([ 0.83,  0.86,  0.84,  0.84,  0.8 ,  0.82,  0.81,  0.85,  0.84,  0.82])"
      ]
     },
     "execution_count": 33,
     "metadata": {},
     "output_type": "execute_result"
    }
   ],
   "source": [
    "data = df4[keywords4]\n",
    "target = df4['positive']\n",
    "bnb.fit(data, target)\n",
    "\n",
    "cross_val_score(bnb, data, target, cv=10)"
   ]
  },
  {
   "cell_type": "code",
   "execution_count": 34,
   "metadata": {},
   "outputs": [
    {
     "data": {
      "text/plain": [
       "array([[479,  21],\n",
       "       [ 98, 402]], dtype=int64)"
      ]
     },
     "execution_count": 34,
     "metadata": {},
     "output_type": "execute_result"
    }
   ],
   "source": [
    "y_pred = bnb.predict(data)\n",
    "confusion_matrix(target, y_pred)"
   ]
  },
  {
   "cell_type": "markdown",
   "metadata": {},
   "source": [
    "# Iteration 5"
   ]
  },
  {
   "cell_type": "code",
   "execution_count": 35,
   "metadata": {
    "collapsed": true
   },
   "outputs": [],
   "source": [
    "keywords5 = ['loved', 'not good', 'not tasty', 'great', 'worst', \"won't\", 'good', 'bad', 'nasty', 'was great', 'problem', 'angry', 'awful', 'disappointed', 'would not', 'lacked', 'overpriced', 'did not', 'best', 'beautiful', 'avoid', 'slow', 'prompt', 'mmm', 'recommend', 'amazing', 'cute', 'performed', 'wasnt good', 'decent', 'deal', 'happier', 'elsewhere', 'i like', 'redeeming', 'delight', 'deal', 'moist', 'fear', 'sick', 'tasty', 'nice', 'perfect', 'handmade', 'glad', 'wast', 'yummy', 'die for', 'fresh', 'sexy', 'will be back', 'quickly', 'fantastic', 'one of the b', 'wonderful', 'will go back', 'is not', 'go back', 'check it', 'friendly', 'ever', 'phenom', 'definitely worth', 'excellent', 'solid', 'rarely', 'wasnt helpful', 'wasnt very tasty', 'clean', 'right away', 'immediately', 'reasonab', 'always', 'delicious', 'dont go', 'bacon', 'fine dining', 'lovers', 'modern', 'definitely', 'healthy', 'incredible', 'interesting', 'really like', 'satisfied', 'is worth', 'delish', 'rich', 'bargain', 'fun', 'flavourful', 'much better', 'lighting', 'creamy', 'fast', 'they know', 'sticks', 'exquisite', 'definitely', 'waited', 'so good', 'happy', 'favorite place', 'sweet', 'i love', 'omg', 'its worth', 'ever had', 'outstanding', 'cool', 'wasnt fresh', 'dirty', 'average', 'wasnt worth it', 'professional', 'fail', 'but no', 'new fav', 'highlight', 'fell in love', 'killer', 'enjoyed', 'flavorless', 'go to place', 'place to go', 'approval', 'a lot', 'awesome', 'stars', 'especially', 'been back', 'at best', 'devine', 'impressed', 'huge', 'thumbs up', 'pretty well', 'a must', 'pretty', 'hooked', 'pleased', 'quick', 'awe', 'dis', 'didnt taste', 'highly', 'combos', 'beyond', 'immediately', 'lordy', 'spot', 'healthy', 'plus', 'world', 'you cant', 'wow', 'recommendation', 'special', 'star', 'every time', 'joy', 'jewel', 'filling', 'unhealthy', 'recomm', 'extra', 'regular', 'quality', 'hands down']\n",
    "\n",
    "for key in keywords5:\n",
    "    # Note that we add spaces around the key so that we're getting the word,\n",
    "    # not just pattern matching.\n",
    "    df5[str(key)] = df5.review.str.contains(str(key), case=False)"
   ]
  },
  {
   "cell_type": "code",
   "execution_count": 36,
   "metadata": {},
   "outputs": [
    {
     "data": {
      "text/plain": [
       "array([ 0.82,  0.86,  0.81,  0.83,  0.83,  0.83,  0.86,  0.84,  0.85,  0.83])"
      ]
     },
     "execution_count": 36,
     "metadata": {},
     "output_type": "execute_result"
    }
   ],
   "source": [
    "data = df5[keywords5]\n",
    "target = df5['positive']\n",
    "bnb.fit(data, target)\n",
    "\n",
    "cross_val_score(bnb, data, target, cv=10)"
   ]
  },
  {
   "cell_type": "code",
   "execution_count": 37,
   "metadata": {},
   "outputs": [
    {
     "data": {
      "text/plain": [
       "array([[477,  23],\n",
       "       [ 81, 419]], dtype=int64)"
      ]
     },
     "execution_count": 37,
     "metadata": {},
     "output_type": "execute_result"
    }
   ],
   "source": [
    "y_pred = bnb.predict(data)\n",
    "confusion_matrix(target, y_pred)"
   ]
  },
  {
   "cell_type": "code",
   "execution_count": 38,
   "metadata": {},
   "outputs": [
    {
     "data": {
      "text/plain": [
       "0.89600000000000002"
      ]
     },
     "execution_count": 38,
     "metadata": {},
     "output_type": "execute_result"
    }
   ],
   "source": [
    "sum(y_pred == target)/len(y_pred)"
   ]
  },
  {
   "cell_type": "markdown",
   "metadata": {},
   "source": [
    "## Recursive Feature Elimination"
   ]
  },
  {
   "cell_type": "code",
   "execution_count": 40,
   "metadata": {},
   "outputs": [],
   "source": [
    "from sklearn.feature_selection import RFE\n",
    "\n",
    "# Pass any estimator to the RFE constructor\n",
    "selector = RFE(bnb)\n",
    "selector = selector.fit(data, target)"
   ]
  },
  {
   "cell_type": "code",
   "execution_count": 42,
   "metadata": {},
   "outputs": [
    {
     "name": "stdout",
     "output_type": "stream",
     "text": [
      "[66  1  1 85  1  1 86  1  1 48  1  1  1 44  1  1  1  7 79 34  1  1 14  1 67\n",
      " 80  1  1  1  1 43  1  1 47  1 46 45 23  1  1 61 83 77  1  2  1 33 12 68  1\n",
      " 28  1 71 22 53  1  1 51  3 81 84  1  8 65  1  1  1  1 58  1  1 57 73 82  1\n",
      " 40  4  1  1 64 27 35 18  1  1 15 29  1  1 42  1  1  1  5 75  1  9  1 63  1\n",
      " 56 60  1 38 76  1  1 36 20 19  1  1  1  1  6  1 13  1 30  1  1 41  1  1 11\n",
      "  1 32 74 55  1  1  1  1  1 39 24  1 10 69  1 25 49 72 78  1 21  1  1  1  1\n",
      " 62 31  1  1  1 16 17 54 52  1 59  1  1  1 70 26 37 50  1]\n"
     ]
    }
   ],
   "source": [
    "print(selector.ranking_)"
   ]
  },
  {
   "cell_type": "code",
   "execution_count": 43,
   "metadata": {},
   "outputs": [
    {
     "data": {
      "text/html": [
       "<div>\n",
       "<style>\n",
       "    .dataframe thead tr:only-child th {\n",
       "        text-align: right;\n",
       "    }\n",
       "\n",
       "    .dataframe thead th {\n",
       "        text-align: left;\n",
       "    }\n",
       "\n",
       "    .dataframe tbody tr th {\n",
       "        vertical-align: top;\n",
       "    }\n",
       "</style>\n",
       "<table border=\"1\" class=\"dataframe\">\n",
       "  <thead>\n",
       "    <tr style=\"text-align: right;\">\n",
       "      <th></th>\n",
       "      <th>Features</th>\n",
       "      <th>Ranking</th>\n",
       "    </tr>\n",
       "  </thead>\n",
       "  <tbody>\n",
       "    <tr>\n",
       "      <th>84</th>\n",
       "      <td>satisfied</td>\n",
       "      <td>1</td>\n",
       "    </tr>\n",
       "    <tr>\n",
       "      <th>111</th>\n",
       "      <td>dirty</td>\n",
       "      <td>1</td>\n",
       "    </tr>\n",
       "    <tr>\n",
       "      <th>110</th>\n",
       "      <td>wasnt fresh</td>\n",
       "      <td>1</td>\n",
       "    </tr>\n",
       "    <tr>\n",
       "      <th>106</th>\n",
       "      <td>its worth</td>\n",
       "      <td>1</td>\n",
       "    </tr>\n",
       "    <tr>\n",
       "      <th>105</th>\n",
       "      <td>omg</td>\n",
       "      <td>1</td>\n",
       "    </tr>\n",
       "    <tr>\n",
       "      <th>102</th>\n",
       "      <td>favorite place</td>\n",
       "      <td>1</td>\n",
       "    </tr>\n",
       "    <tr>\n",
       "      <th>99</th>\n",
       "      <td>waited</td>\n",
       "      <td>1</td>\n",
       "    </tr>\n",
       "    <tr>\n",
       "      <th>97</th>\n",
       "      <td>exquisite</td>\n",
       "      <td>1</td>\n",
       "    </tr>\n",
       "    <tr>\n",
       "      <th>95</th>\n",
       "      <td>they know</td>\n",
       "      <td>1</td>\n",
       "    </tr>\n",
       "    <tr>\n",
       "      <th>92</th>\n",
       "      <td>lighting</td>\n",
       "      <td>1</td>\n",
       "    </tr>\n",
       "    <tr>\n",
       "      <th>91</th>\n",
       "      <td>much better</td>\n",
       "      <td>1</td>\n",
       "    </tr>\n",
       "    <tr>\n",
       "      <th>90</th>\n",
       "      <td>flavourful</td>\n",
       "      <td>1</td>\n",
       "    </tr>\n",
       "    <tr>\n",
       "      <th>112</th>\n",
       "      <td>average</td>\n",
       "      <td>1</td>\n",
       "    </tr>\n",
       "    <tr>\n",
       "      <th>88</th>\n",
       "      <td>bargain</td>\n",
       "      <td>1</td>\n",
       "    </tr>\n",
       "    <tr>\n",
       "      <th>83</th>\n",
       "      <td>really like</td>\n",
       "      <td>1</td>\n",
       "    </tr>\n",
       "    <tr>\n",
       "      <th>78</th>\n",
       "      <td>modern</td>\n",
       "      <td>1</td>\n",
       "    </tr>\n",
       "    <tr>\n",
       "      <th>77</th>\n",
       "      <td>lovers</td>\n",
       "      <td>1</td>\n",
       "    </tr>\n",
       "    <tr>\n",
       "      <th>74</th>\n",
       "      <td>dont go</td>\n",
       "      <td>1</td>\n",
       "    </tr>\n",
       "    <tr>\n",
       "      <th>70</th>\n",
       "      <td>immediately</td>\n",
       "      <td>1</td>\n",
       "    </tr>\n",
       "    <tr>\n",
       "      <th>69</th>\n",
       "      <td>right away</td>\n",
       "      <td>1</td>\n",
       "    </tr>\n",
       "    <tr>\n",
       "      <th>67</th>\n",
       "      <td>wasnt very tasty</td>\n",
       "      <td>1</td>\n",
       "    </tr>\n",
       "    <tr>\n",
       "      <th>66</th>\n",
       "      <td>wasnt helpful</td>\n",
       "      <td>1</td>\n",
       "    </tr>\n",
       "    <tr>\n",
       "      <th>65</th>\n",
       "      <td>rarely</td>\n",
       "      <td>1</td>\n",
       "    </tr>\n",
       "    <tr>\n",
       "      <th>64</th>\n",
       "      <td>solid</td>\n",
       "      <td>1</td>\n",
       "    </tr>\n",
       "    <tr>\n",
       "      <th>61</th>\n",
       "      <td>phenom</td>\n",
       "      <td>1</td>\n",
       "    </tr>\n",
       "    <tr>\n",
       "      <th>87</th>\n",
       "      <td>rich</td>\n",
       "      <td>1</td>\n",
       "    </tr>\n",
       "    <tr>\n",
       "      <th>56</th>\n",
       "      <td>is not</td>\n",
       "      <td>1</td>\n",
       "    </tr>\n",
       "    <tr>\n",
       "      <th>113</th>\n",
       "      <td>wasnt worth it</td>\n",
       "      <td>1</td>\n",
       "    </tr>\n",
       "    <tr>\n",
       "      <th>117</th>\n",
       "      <td>new fav</td>\n",
       "      <td>1</td>\n",
       "    </tr>\n",
       "    <tr>\n",
       "      <th>163</th>\n",
       "      <td>unhealthy</td>\n",
       "      <td>1</td>\n",
       "    </tr>\n",
       "    <tr>\n",
       "      <th>...</th>\n",
       "      <td>...</td>\n",
       "      <td>...</td>\n",
       "    </tr>\n",
       "    <tr>\n",
       "      <th>71</th>\n",
       "      <td>reasonab</td>\n",
       "      <td>57</td>\n",
       "    </tr>\n",
       "    <tr>\n",
       "      <th>68</th>\n",
       "      <td>clean</td>\n",
       "      <td>58</td>\n",
       "    </tr>\n",
       "    <tr>\n",
       "      <th>160</th>\n",
       "      <td>joy</td>\n",
       "      <td>59</td>\n",
       "    </tr>\n",
       "    <tr>\n",
       "      <th>101</th>\n",
       "      <td>happy</td>\n",
       "      <td>60</td>\n",
       "    </tr>\n",
       "    <tr>\n",
       "      <th>40</th>\n",
       "      <td>tasty</td>\n",
       "      <td>61</td>\n",
       "    </tr>\n",
       "    <tr>\n",
       "      <th>150</th>\n",
       "      <td>spot</td>\n",
       "      <td>62</td>\n",
       "    </tr>\n",
       "    <tr>\n",
       "      <th>98</th>\n",
       "      <td>definitely</td>\n",
       "      <td>63</td>\n",
       "    </tr>\n",
       "    <tr>\n",
       "      <th>79</th>\n",
       "      <td>definitely</td>\n",
       "      <td>64</td>\n",
       "    </tr>\n",
       "    <tr>\n",
       "      <th>63</th>\n",
       "      <td>excellent</td>\n",
       "      <td>65</td>\n",
       "    </tr>\n",
       "    <tr>\n",
       "      <th>0</th>\n",
       "      <td>loved</td>\n",
       "      <td>66</td>\n",
       "    </tr>\n",
       "    <tr>\n",
       "      <th>24</th>\n",
       "      <td>recommend</td>\n",
       "      <td>67</td>\n",
       "    </tr>\n",
       "    <tr>\n",
       "      <th>48</th>\n",
       "      <td>fresh</td>\n",
       "      <td>68</td>\n",
       "    </tr>\n",
       "    <tr>\n",
       "      <th>138</th>\n",
       "      <td>pretty</td>\n",
       "      <td>69</td>\n",
       "    </tr>\n",
       "    <tr>\n",
       "      <th>164</th>\n",
       "      <td>recomm</td>\n",
       "      <td>70</td>\n",
       "    </tr>\n",
       "    <tr>\n",
       "      <th>52</th>\n",
       "      <td>fantastic</td>\n",
       "      <td>71</td>\n",
       "    </tr>\n",
       "    <tr>\n",
       "      <th>142</th>\n",
       "      <td>awe</td>\n",
       "      <td>72</td>\n",
       "    </tr>\n",
       "    <tr>\n",
       "      <th>72</th>\n",
       "      <td>always</td>\n",
       "      <td>73</td>\n",
       "    </tr>\n",
       "    <tr>\n",
       "      <th>127</th>\n",
       "      <td>awesome</td>\n",
       "      <td>74</td>\n",
       "    </tr>\n",
       "    <tr>\n",
       "      <th>94</th>\n",
       "      <td>fast</td>\n",
       "      <td>75</td>\n",
       "    </tr>\n",
       "    <tr>\n",
       "      <th>104</th>\n",
       "      <td>i love</td>\n",
       "      <td>76</td>\n",
       "    </tr>\n",
       "    <tr>\n",
       "      <th>42</th>\n",
       "      <td>perfect</td>\n",
       "      <td>77</td>\n",
       "    </tr>\n",
       "    <tr>\n",
       "      <th>143</th>\n",
       "      <td>dis</td>\n",
       "      <td>78</td>\n",
       "    </tr>\n",
       "    <tr>\n",
       "      <th>18</th>\n",
       "      <td>best</td>\n",
       "      <td>79</td>\n",
       "    </tr>\n",
       "    <tr>\n",
       "      <th>25</th>\n",
       "      <td>amazing</td>\n",
       "      <td>80</td>\n",
       "    </tr>\n",
       "    <tr>\n",
       "      <th>59</th>\n",
       "      <td>friendly</td>\n",
       "      <td>81</td>\n",
       "    </tr>\n",
       "    <tr>\n",
       "      <th>73</th>\n",
       "      <td>delicious</td>\n",
       "      <td>82</td>\n",
       "    </tr>\n",
       "    <tr>\n",
       "      <th>41</th>\n",
       "      <td>nice</td>\n",
       "      <td>83</td>\n",
       "    </tr>\n",
       "    <tr>\n",
       "      <th>60</th>\n",
       "      <td>ever</td>\n",
       "      <td>84</td>\n",
       "    </tr>\n",
       "    <tr>\n",
       "      <th>3</th>\n",
       "      <td>great</td>\n",
       "      <td>85</td>\n",
       "    </tr>\n",
       "    <tr>\n",
       "      <th>6</th>\n",
       "      <td>good</td>\n",
       "      <td>86</td>\n",
       "    </tr>\n",
       "  </tbody>\n",
       "</table>\n",
       "<p>169 rows × 2 columns</p>\n",
       "</div>"
      ],
      "text/plain": [
       "             Features  Ranking\n",
       "84          satisfied        1\n",
       "111             dirty        1\n",
       "110       wasnt fresh        1\n",
       "106         its worth        1\n",
       "105               omg        1\n",
       "102    favorite place        1\n",
       "99             waited        1\n",
       "97          exquisite        1\n",
       "95          they know        1\n",
       "92           lighting        1\n",
       "91        much better        1\n",
       "90         flavourful        1\n",
       "112           average        1\n",
       "88            bargain        1\n",
       "83        really like        1\n",
       "78             modern        1\n",
       "77             lovers        1\n",
       "74            dont go        1\n",
       "70        immediately        1\n",
       "69         right away        1\n",
       "67   wasnt very tasty        1\n",
       "66      wasnt helpful        1\n",
       "65             rarely        1\n",
       "64              solid        1\n",
       "61             phenom        1\n",
       "87               rich        1\n",
       "56             is not        1\n",
       "113    wasnt worth it        1\n",
       "117           new fav        1\n",
       "163         unhealthy        1\n",
       "..                ...      ...\n",
       "71           reasonab       57\n",
       "68              clean       58\n",
       "160               joy       59\n",
       "101             happy       60\n",
       "40              tasty       61\n",
       "150              spot       62\n",
       "98         definitely       63\n",
       "79         definitely       64\n",
       "63          excellent       65\n",
       "0               loved       66\n",
       "24          recommend       67\n",
       "48              fresh       68\n",
       "138            pretty       69\n",
       "164            recomm       70\n",
       "52          fantastic       71\n",
       "142               awe       72\n",
       "72             always       73\n",
       "127           awesome       74\n",
       "94               fast       75\n",
       "104            i love       76\n",
       "42            perfect       77\n",
       "143               dis       78\n",
       "18               best       79\n",
       "25            amazing       80\n",
       "59           friendly       81\n",
       "73          delicious       82\n",
       "41               nice       83\n",
       "60               ever       84\n",
       "3               great       85\n",
       "6                good       86\n",
       "\n",
       "[169 rows x 2 columns]"
      ]
     },
     "execution_count": 43,
     "metadata": {},
     "output_type": "execute_result"
    }
   ],
   "source": [
    "rankings = pd.DataFrame({'Features': data.columns, 'Ranking' : selector.ranking_})\n",
    "rankings.sort_values('Ranking')"
   ]
  },
  {
   "cell_type": "markdown",
   "metadata": {},
   "source": [
    "## Do any of your classifiers seem to overfit?\n",
    "the first two somewhat. \n",
    "\n",
    "## Which seem to perform the best? Why?\n",
    "The 5th version. I think because the model doesn't know to classify a review as positive unless it has a feature in it, and the wording varies so much that the more features really helped.\n",
    "## Which features seemed to be most impactful to performance?\n",
    "Words that are not commonly usied in both good and not good reviews."
   ]
  },
  {
   "cell_type": "code",
   "execution_count": null,
   "metadata": {
    "collapsed": true
   },
   "outputs": [],
   "source": []
  }
 ],
 "metadata": {
  "kernelspec": {
   "display_name": "Python 3",
   "language": "python",
   "name": "python3"
  },
  "language_info": {
   "codemirror_mode": {
    "name": "ipython",
    "version": 3
   },
   "file_extension": ".py",
   "mimetype": "text/x-python",
   "name": "python",
   "nbconvert_exporter": "python",
   "pygments_lexer": "ipython3",
   "version": "3.6.2"
  }
 },
 "nbformat": 4,
 "nbformat_minor": 2
}
