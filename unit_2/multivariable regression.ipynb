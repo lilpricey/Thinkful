{
 "cells": [
  {
   "cell_type": "markdown",
   "metadata": {},
   "source": [
    "# Multivariable_regression \n",
    "Crime in the united states 2013\n",
    "\n",
    "[Crime in the U.S. 2013](https://ucr.fbi.gov/crime-in-the-u.s/2013/crime-in-the-u.s.-2013/tables/table-8/table-8-state-cuts/table_8_offenses_known_to_law_enforcement_new_york_by_city_2013.xls)\n"
   ]
  },
  {
   "cell_type": "code",
   "execution_count": 1,
   "metadata": {
    "collapsed": true
   },
   "outputs": [],
   "source": [
    "import pandas as pd\n",
    "from matplotlib import pyplot as plt\n",
    "import numpy as np\n",
    "from sklearn import linear_model\n",
    "%matplotlib inline\n",
    "pd.options.display.float_format = '{:.3f}'.format\n",
    "import seaborn as sns\n",
    "\n",
    "# Suppress annoying harmless error.\n",
    "import warnings\n",
    "warnings.filterwarnings(action=\"ignore\", module=\"scipy\", message=\"^internal gelsd\")\n",
    "\n",
    "%matplotlib inline\n",
    "pd.options.display.float_format = '{:.3f}'.format"
   ]
  },
  {
   "cell_type": "markdown",
   "metadata": {},
   "source": [
    "# Explore data and prepare for initial model"
   ]
  },
  {
   "cell_type": "code",
   "execution_count": 2,
   "metadata": {
    "collapsed": true
   },
   "outputs": [],
   "source": [
    "df = pd.read_excel('table_8_offenses_known_to_law_enforcement_new_york_by_city_2013.xls', skiprows=4)"
   ]
  },
  {
   "cell_type": "code",
   "execution_count": 3,
   "metadata": {},
   "outputs": [
    {
     "data": {
      "image/png": "[encoded data removed]",
      "text/plain": [
       "<matplotlib.figure.Figure at 0x15ec0e74080>"
      ]
     },
     "metadata": {},
     "output_type": "display_data"
    }
   ],
   "source": [
    "plt.figure(figsize=(8,5))\n",
    "\n",
    "sns.boxplot(df['Population'])\n",
    "plt.title('Population')\n",
    "\n",
    "plt.show()"
   ]
  },
  {
   "cell_type": "code",
   "execution_count": 4,
   "metadata": {
    "scrolled": true
   },
   "outputs": [
    {
     "data": {
      "text/html": [
       "<div>\n",
       "<style>\n",
       "    .dataframe thead tr:only-child th {\n",
       "        text-align: right;\n",
       "    }\n",
       "\n",
       "    .dataframe thead th {\n",
       "        text-align: left;\n",
       "    }\n",
       "\n",
       "    .dataframe tbody tr th {\n",
       "        vertical-align: top;\n",
       "    }\n",
       "</style>\n",
       "<table border=\"1\" class=\"dataframe\">\n",
       "  <thead>\n",
       "    <tr style=\"text-align: right;\">\n",
       "      <th></th>\n",
       "      <th>City</th>\n",
       "      <th>Population</th>\n",
       "      <th>Violent\n",
       "crime</th>\n",
       "      <th>Murder and\n",
       "nonnegligent\n",
       "manslaughter</th>\n",
       "      <th>Rape\n",
       "(revised\n",
       "definition)1</th>\n",
       "      <th>Rape\n",
       "(legacy\n",
       "definition)2</th>\n",
       "      <th>Robbery</th>\n",
       "      <th>Aggravated\n",
       "assault</th>\n",
       "      <th>Property\n",
       "crime</th>\n",
       "      <th>Burglary</th>\n",
       "      <th>Larceny-\n",
       "theft</th>\n",
       "      <th>Motor\n",
       "vehicle\n",
       "theft</th>\n",
       "      <th>Arson3</th>\n",
       "    </tr>\n",
       "  </thead>\n",
       "  <tbody>\n",
       "    <tr>\n",
       "      <th>216</th>\n",
       "      <td>New York</td>\n",
       "      <td>8396126.000</td>\n",
       "      <td>52384.000</td>\n",
       "      <td>335.000</td>\n",
       "      <td>nan</td>\n",
       "      <td>1112.000</td>\n",
       "      <td>19170.000</td>\n",
       "      <td>31767.000</td>\n",
       "      <td>141971.000</td>\n",
       "      <td>16606.000</td>\n",
       "      <td>117931.000</td>\n",
       "      <td>7434.000</td>\n",
       "      <td>nan</td>\n",
       "    </tr>\n",
       "  </tbody>\n",
       "</table>\n",
       "</div>"
      ],
      "text/plain": [
       "         City  Population  Violent\\ncrime  \\\n",
       "216  New York 8396126.000       52384.000   \n",
       "\n",
       "     Murder and\\nnonnegligent\\nmanslaughter  Rape\\n(revised\\ndefinition)1  \\\n",
       "216                                 335.000                           nan   \n",
       "\n",
       "     Rape\\n(legacy\\ndefinition)2   Robbery  Aggravated\\nassault  \\\n",
       "216                     1112.000 19170.000            31767.000   \n",
       "\n",
       "     Property\\ncrime  Burglary  Larceny-\\ntheft  Motor\\nvehicle\\ntheft  Arson3  \n",
       "216       141971.000 16606.000       117931.000               7434.000     nan  "
      ]
     },
     "execution_count": 4,
     "metadata": {},
     "output_type": "execute_result"
    }
   ],
   "source": [
    "df[df['Population'] > 8000000]"
   ]
  },
  {
   "cell_type": "code",
   "execution_count": 5,
   "metadata": {
    "collapsed": true
   },
   "outputs": [],
   "source": [
    "#drop unnecessary columns\n",
    "df = df[['Population','Murder and\\nnonnegligent\\nmanslaughter', 'Robbery', 'Property\\ncrime']]"
   ]
  },
  {
   "cell_type": "code",
   "execution_count": 6,
   "metadata": {
    "collapsed": true
   },
   "outputs": [],
   "source": [
    "#remove extreme outlier\n",
    "df = df[df['Population'] < df['Population'].quantile(0.95)]"
   ]
  },
  {
   "cell_type": "code",
   "execution_count": 7,
   "metadata": {
    "collapsed": true
   },
   "outputs": [],
   "source": [
    "df = df.dropna()"
   ]
  },
  {
   "cell_type": "code",
   "execution_count": 8,
   "metadata": {},
   "outputs": [
    {
     "data": {
      "image/png": "[encoded data removed]",
      "text/plain": [
       "<matplotlib.figure.Figure at 0x15ec0dd9e48>"
      ]
     },
     "metadata": {},
     "output_type": "display_data"
    }
   ],
   "source": [
    "plt.figure(figsize=(12,5))\n",
    "\n",
    "plt.subplot(1, 2, 1)\n",
    "sns.distplot(df['Population'])\n",
    "plt.title('Population')\n",
    "\n",
    "plt.subplot(1, 2, 2)\n",
    "sns.boxplot(df['Population'])\n",
    "plt.title('Population')\n",
    "\n",
    "plt.show()"
   ]
  },
  {
   "cell_type": "code",
   "execution_count": 9,
   "metadata": {},
   "outputs": [
    {
     "data": {
      "image/png": "[encoded data removed]",
      "text/plain": [
       "<matplotlib.figure.Figure at 0x15ec15c5b00>"
      ]
     },
     "metadata": {},
     "output_type": "display_data"
    }
   ],
   "source": [
    "plt.figure(figsize=(12,5))\n",
    "\n",
    "plt.subplot(1, 2, 1)\n",
    "sns.distplot(df['Murder and\\nnonnegligent\\nmanslaughter'])\n",
    "plt.title('Murder')\n",
    "\n",
    "plt.subplot(1, 2, 2)\n",
    "sns.boxplot(df['Murder and\\nnonnegligent\\nmanslaughter'])\n",
    "plt.title('Murder')\n",
    "\n",
    "plt.show()"
   ]
  },
  {
   "cell_type": "code",
   "execution_count": 10,
   "metadata": {
    "scrolled": false
   },
   "outputs": [
    {
     "data": {
      "image/png": "[encoded data removed]",
      "text/plain": [
       "<matplotlib.figure.Figure at 0x15ec1444630>"
      ]
     },
     "metadata": {},
     "output_type": "display_data"
    }
   ],
   "source": [
    "plt.figure(figsize=(12,5))\n",
    "\n",
    "plt.subplot(1, 2, 1)\n",
    "sns.distplot(df['Robbery'])\n",
    "plt.title('Robbery')\n",
    "\n",
    "plt.subplot(1, 2, 2)\n",
    "sns.boxplot(df['Robbery'])\n",
    "plt.title('Robbery')\n",
    "\n",
    "plt.show()"
   ]
  },
  {
   "cell_type": "code",
   "execution_count": 11,
   "metadata": {
    "scrolled": true
   },
   "outputs": [
    {
     "name": "stdout",
     "output_type": "stream",
     "text": [
      "<class 'pandas.core.frame.DataFrame'>\n",
      "Int64Index: 330 entries, 0 to 347\n",
      "Data columns (total 4 columns):\n",
      "Population                              330 non-null float64\n",
      "Murder and\n",
      "nonnegligent\n",
      "manslaughter    330 non-null float64\n",
      "Robbery                                 330 non-null float64\n",
      "Property\n",
      "crime                          330 non-null float64\n",
      "dtypes: float64(4)\n",
      "memory usage: 12.9 KB\n"
     ]
    }
   ],
   "source": [
    "df.info()"
   ]
  },
  {
   "cell_type": "code",
   "execution_count": 12,
   "metadata": {
    "scrolled": false
   },
   "outputs": [
    {
     "data": {
      "text/html": [
       "<div>\n",
       "<style>\n",
       "    .dataframe thead tr:only-child th {\n",
       "        text-align: right;\n",
       "    }\n",
       "\n",
       "    .dataframe thead th {\n",
       "        text-align: left;\n",
       "    }\n",
       "\n",
       "    .dataframe tbody tr th {\n",
       "        vertical-align: top;\n",
       "    }\n",
       "</style>\n",
       "<table border=\"1\" class=\"dataframe\">\n",
       "  <thead>\n",
       "    <tr style=\"text-align: right;\">\n",
       "      <th></th>\n",
       "      <th>Population</th>\n",
       "      <th>Murder and\n",
       "nonnegligent\n",
       "manslaughter</th>\n",
       "      <th>Robbery</th>\n",
       "      <th>Property\n",
       "crime</th>\n",
       "    </tr>\n",
       "  </thead>\n",
       "  <tbody>\n",
       "    <tr>\n",
       "      <th>0</th>\n",
       "      <td>1861.000</td>\n",
       "      <td>0.000</td>\n",
       "      <td>0.000</td>\n",
       "      <td>12.000</td>\n",
       "    </tr>\n",
       "    <tr>\n",
       "      <th>1</th>\n",
       "      <td>2577.000</td>\n",
       "      <td>0.000</td>\n",
       "      <td>0.000</td>\n",
       "      <td>24.000</td>\n",
       "    </tr>\n",
       "    <tr>\n",
       "      <th>2</th>\n",
       "      <td>2846.000</td>\n",
       "      <td>0.000</td>\n",
       "      <td>0.000</td>\n",
       "      <td>16.000</td>\n",
       "    </tr>\n",
       "    <tr>\n",
       "      <th>4</th>\n",
       "      <td>6388.000</td>\n",
       "      <td>0.000</td>\n",
       "      <td>4.000</td>\n",
       "      <td>223.000</td>\n",
       "    </tr>\n",
       "    <tr>\n",
       "      <th>5</th>\n",
       "      <td>4089.000</td>\n",
       "      <td>0.000</td>\n",
       "      <td>3.000</td>\n",
       "      <td>46.000</td>\n",
       "    </tr>\n",
       "  </tbody>\n",
       "</table>\n",
       "</div>"
      ],
      "text/plain": [
       "   Population  Murder and\\nnonnegligent\\nmanslaughter  Robbery  \\\n",
       "0    1861.000                                   0.000    0.000   \n",
       "1    2577.000                                   0.000    0.000   \n",
       "2    2846.000                                   0.000    0.000   \n",
       "4    6388.000                                   0.000    4.000   \n",
       "5    4089.000                                   0.000    3.000   \n",
       "\n",
       "   Property\\ncrime  \n",
       "0           12.000  \n",
       "1           24.000  \n",
       "2           16.000  \n",
       "4          223.000  \n",
       "5           46.000  "
      ]
     },
     "execution_count": 12,
     "metadata": {},
     "output_type": "execute_result"
    }
   ],
   "source": [
    "df.head()"
   ]
  },
  {
   "cell_type": "code",
   "execution_count": 13,
   "metadata": {},
   "outputs": [
    {
     "data": {
      "text/html": [
       "<div>\n",
       "<style>\n",
       "    .dataframe thead tr:only-child th {\n",
       "        text-align: right;\n",
       "    }\n",
       "\n",
       "    .dataframe thead th {\n",
       "        text-align: left;\n",
       "    }\n",
       "\n",
       "    .dataframe tbody tr th {\n",
       "        vertical-align: top;\n",
       "    }\n",
       "</style>\n",
       "<table border=\"1\" class=\"dataframe\">\n",
       "  <thead>\n",
       "    <tr style=\"text-align: right;\">\n",
       "      <th></th>\n",
       "      <th>Population</th>\n",
       "      <th>Murder and\n",
       "nonnegligent\n",
       "manslaughter</th>\n",
       "      <th>Robbery</th>\n",
       "      <th>Property\n",
       "crime</th>\n",
       "    </tr>\n",
       "  </thead>\n",
       "  <tbody>\n",
       "    <tr>\n",
       "      <th>count</th>\n",
       "      <td>330.000</td>\n",
       "      <td>330.000</td>\n",
       "      <td>330.000</td>\n",
       "      <td>330.000</td>\n",
       "    </tr>\n",
       "    <tr>\n",
       "      <th>mean</th>\n",
       "      <td>11203.055</td>\n",
       "      <td>0.194</td>\n",
       "      <td>6.300</td>\n",
       "      <td>232.470</td>\n",
       "    </tr>\n",
       "    <tr>\n",
       "      <th>std</th>\n",
       "      <td>11566.162</td>\n",
       "      <td>0.839</td>\n",
       "      <td>20.970</td>\n",
       "      <td>340.569</td>\n",
       "    </tr>\n",
       "    <tr>\n",
       "      <th>min</th>\n",
       "      <td>526.000</td>\n",
       "      <td>0.000</td>\n",
       "      <td>0.000</td>\n",
       "      <td>0.000</td>\n",
       "    </tr>\n",
       "    <tr>\n",
       "      <th>25%</th>\n",
       "      <td>2843.000</td>\n",
       "      <td>0.000</td>\n",
       "      <td>0.000</td>\n",
       "      <td>38.000</td>\n",
       "    </tr>\n",
       "    <tr>\n",
       "      <th>50%</th>\n",
       "      <td>6688.500</td>\n",
       "      <td>0.000</td>\n",
       "      <td>1.000</td>\n",
       "      <td>105.000</td>\n",
       "    </tr>\n",
       "    <tr>\n",
       "      <th>75%</th>\n",
       "      <td>15294.250</td>\n",
       "      <td>0.000</td>\n",
       "      <td>4.000</td>\n",
       "      <td>309.250</td>\n",
       "    </tr>\n",
       "    <tr>\n",
       "      <th>max</th>\n",
       "      <td>55198.000</td>\n",
       "      <td>10.000</td>\n",
       "      <td>204.000</td>\n",
       "      <td>2807.000</td>\n",
       "    </tr>\n",
       "  </tbody>\n",
       "</table>\n",
       "</div>"
      ],
      "text/plain": [
       "       Population  Murder and\\nnonnegligent\\nmanslaughter  Robbery  \\\n",
       "count     330.000                                 330.000  330.000   \n",
       "mean    11203.055                                   0.194    6.300   \n",
       "std     11566.162                                   0.839   20.970   \n",
       "min       526.000                                   0.000    0.000   \n",
       "25%      2843.000                                   0.000    0.000   \n",
       "50%      6688.500                                   0.000    1.000   \n",
       "75%     15294.250                                   0.000    4.000   \n",
       "max     55198.000                                  10.000  204.000   \n",
       "\n",
       "       Property\\ncrime  \n",
       "count          330.000  \n",
       "mean           232.470  \n",
       "std            340.569  \n",
       "min              0.000  \n",
       "25%             38.000  \n",
       "50%            105.000  \n",
       "75%            309.250  \n",
       "max           2807.000  "
      ]
     },
     "execution_count": 13,
     "metadata": {},
     "output_type": "execute_result"
    }
   ],
   "source": [
    "df.describe()"
   ]
  },
  {
   "cell_type": "code",
   "execution_count": 14,
   "metadata": {
    "collapsed": true
   },
   "outputs": [],
   "source": [
    "#Create a DF with all of the features\n",
    "features = pd.DataFrame()\n",
    "features['population'] = df['Population']\n",
    "features['population_sq'] = df['Population']**2\n",
    "features['murder'] = df['Murder and\\nnonnegligent\\nmanslaughter']\n",
    "features['robbery'] = df['Robbery']\n",
    "features['murder_binary'] = np.where(df['Murder and\\nnonnegligent\\nmanslaughter']>0, 1, 0)\n",
    "features['robbery_binary'] = np.where(df['Robbery']>0, 1, 0)"
   ]
  },
  {
   "cell_type": "code",
   "execution_count": 15,
   "metadata": {},
   "outputs": [
    {
     "data": {
      "text/html": [
       "<div>\n",
       "<style>\n",
       "    .dataframe thead tr:only-child th {\n",
       "        text-align: right;\n",
       "    }\n",
       "\n",
       "    .dataframe thead th {\n",
       "        text-align: left;\n",
       "    }\n",
       "\n",
       "    .dataframe tbody tr th {\n",
       "        vertical-align: top;\n",
       "    }\n",
       "</style>\n",
       "<table border=\"1\" class=\"dataframe\">\n",
       "  <thead>\n",
       "    <tr style=\"text-align: right;\">\n",
       "      <th></th>\n",
       "      <th>population</th>\n",
       "      <th>population_sq</th>\n",
       "      <th>murder</th>\n",
       "      <th>robbery</th>\n",
       "      <th>murder_binary</th>\n",
       "      <th>robbery_binary</th>\n",
       "    </tr>\n",
       "  </thead>\n",
       "  <tbody>\n",
       "    <tr>\n",
       "      <th>count</th>\n",
       "      <td>330.000</td>\n",
       "      <td>330.000</td>\n",
       "      <td>330.000</td>\n",
       "      <td>330.000</td>\n",
       "      <td>330.000</td>\n",
       "      <td>330.000</td>\n",
       "    </tr>\n",
       "    <tr>\n",
       "      <th>mean</th>\n",
       "      <td>11203.055</td>\n",
       "      <td>258879158.358</td>\n",
       "      <td>0.194</td>\n",
       "      <td>6.300</td>\n",
       "      <td>0.109</td>\n",
       "      <td>0.579</td>\n",
       "    </tr>\n",
       "    <tr>\n",
       "      <th>std</th>\n",
       "      <td>11566.162</td>\n",
       "      <td>497495938.708</td>\n",
       "      <td>0.839</td>\n",
       "      <td>20.970</td>\n",
       "      <td>0.312</td>\n",
       "      <td>0.495</td>\n",
       "    </tr>\n",
       "    <tr>\n",
       "      <th>min</th>\n",
       "      <td>526.000</td>\n",
       "      <td>276676.000</td>\n",
       "      <td>0.000</td>\n",
       "      <td>0.000</td>\n",
       "      <td>0.000</td>\n",
       "      <td>0.000</td>\n",
       "    </tr>\n",
       "    <tr>\n",
       "      <th>25%</th>\n",
       "      <td>2843.000</td>\n",
       "      <td>8082652.000</td>\n",
       "      <td>0.000</td>\n",
       "      <td>0.000</td>\n",
       "      <td>0.000</td>\n",
       "      <td>0.000</td>\n",
       "    </tr>\n",
       "    <tr>\n",
       "      <th>50%</th>\n",
       "      <td>6688.500</td>\n",
       "      <td>44736188.500</td>\n",
       "      <td>0.000</td>\n",
       "      <td>1.000</td>\n",
       "      <td>0.000</td>\n",
       "      <td>1.000</td>\n",
       "    </tr>\n",
       "    <tr>\n",
       "      <th>75%</th>\n",
       "      <td>15294.250</td>\n",
       "      <td>233914570.750</td>\n",
       "      <td>0.000</td>\n",
       "      <td>4.000</td>\n",
       "      <td>0.000</td>\n",
       "      <td>1.000</td>\n",
       "    </tr>\n",
       "    <tr>\n",
       "      <th>max</th>\n",
       "      <td>55198.000</td>\n",
       "      <td>3046819204.000</td>\n",
       "      <td>10.000</td>\n",
       "      <td>204.000</td>\n",
       "      <td>1.000</td>\n",
       "      <td>1.000</td>\n",
       "    </tr>\n",
       "  </tbody>\n",
       "</table>\n",
       "</div>"
      ],
      "text/plain": [
       "       population  population_sq  murder  robbery  murder_binary  \\\n",
       "count     330.000        330.000 330.000  330.000        330.000   \n",
       "mean    11203.055  258879158.358   0.194    6.300          0.109   \n",
       "std     11566.162  497495938.708   0.839   20.970          0.312   \n",
       "min       526.000     276676.000   0.000    0.000          0.000   \n",
       "25%      2843.000    8082652.000   0.000    0.000          0.000   \n",
       "50%      6688.500   44736188.500   0.000    1.000          0.000   \n",
       "75%     15294.250  233914570.750   0.000    4.000          0.000   \n",
       "max     55198.000 3046819204.000  10.000  204.000          1.000   \n",
       "\n",
       "       robbery_binary  \n",
       "count         330.000  \n",
       "mean            0.579  \n",
       "std             0.495  \n",
       "min             0.000  \n",
       "25%             0.000  \n",
       "50%             1.000  \n",
       "75%             1.000  \n",
       "max             1.000  "
      ]
     },
     "execution_count": 15,
     "metadata": {},
     "output_type": "execute_result"
    }
   ],
   "source": [
    "features.describe()"
   ]
  },
  {
   "cell_type": "code",
   "execution_count": 16,
   "metadata": {},
   "outputs": [
    {
     "data": {
      "text/plain": [
       "LinearRegression(copy_X=True, fit_intercept=True, n_jobs=1, normalize=False)"
      ]
     },
     "execution_count": 16,
     "metadata": {},
     "output_type": "execute_result"
    }
   ],
   "source": [
    "# Instantiate and fit our model.\n",
    "regr = linear_model.LinearRegression()\n",
    "Y = df['Property\\ncrime']\n",
    "X = features\n",
    "regr.fit(X, Y)"
   ]
  },
  {
   "cell_type": "code",
   "execution_count": 17,
   "metadata": {},
   "outputs": [
    {
     "name": "stdout",
     "output_type": "stream",
     "text": [
      "\n",
      "Coefficients: \n",
      " [  1.20857495e-02   2.43240068e-08  -1.86044847e+02   1.09165396e+01\n",
      "   2.72256009e+02   6.31454702e+01]\n",
      "\n",
      "Intercept: \n",
      " -8.16585505777\n",
      "\n",
      "R-squared:\n",
      "0.797948399346\n"
     ]
    }
   ],
   "source": [
    "# Print coefficients, Y Intercept and R-squared\n",
    "print('\\nCoefficients: \\n', regr.coef_)\n",
    "print('\\nIntercept: \\n', regr.intercept_)\n",
    "print('\\nR-squared:')\n",
    "print(regr.score(X, Y))"
   ]
  },
  {
   "cell_type": "markdown",
   "metadata": {},
   "source": [
    "### The initial model has an R squared value of .798\n",
    "The features used to predict property crime were population, population squared, murder, murder as a binary category, robbery, and robbery as a binary category.\n",
    "\n",
    "#### Let's take a closer look at how the model is performing and validate it on some new data.\n",
    "\n",
    "# Assumptions of linear regression"
   ]
  },
  {
   "cell_type": "code",
   "execution_count": 18,
   "metadata": {},
   "outputs": [
    {
     "data": {
      "image/png": "[encoded data removed]",
      "text/plain": [
       "<matplotlib.figure.Figure at 0x15ec196b860>"
      ]
     },
     "metadata": {},
     "output_type": "display_data"
    }
   ],
   "source": [
    "# Examine the distribution of the error.\n",
    "predicted = regr.predict(X).ravel()\n",
    "actual = df['Property\\ncrime']\n",
    "\n",
    "# Calculate the error, also called the residual.\n",
    "residual = actual - predicted\n",
    "\n",
    "# The residuals look farily normal, but have long tails\n",
    "plt.hist(residual)\n",
    "plt.title('Residual counts')\n",
    "plt.xlabel('Residual')\n",
    "plt.ylabel('Count')\n",
    "plt.show()"
   ]
  },
  {
   "cell_type": "code",
   "execution_count": 19,
   "metadata": {},
   "outputs": [
    {
     "data": {
      "image/png": "[encoded data removed]",
      "text/plain": [
       "<matplotlib.figure.Figure at 0x15ec1960a58>"
      ]
     },
     "metadata": {},
     "output_type": "display_data"
    }
   ],
   "source": [
    "# Examine the homoscedasticity of the initial model\n",
    "plt.scatter(predicted, residual)\n",
    "plt.xlabel('Predicted')\n",
    "plt.ylabel('Residual')\n",
    "plt.axhline(y=0)\n",
    "plt.title('Residual vs. Predicted')\n",
    "plt.show()\n",
    "\n",
    "# This doesn't look good. The model does worse job predicting the higher the predicted values get."
   ]
  },
  {
   "cell_type": "code",
   "execution_count": 20,
   "metadata": {},
   "outputs": [
    {
     "data": {
      "text/html": [
       "<div>\n",
       "<style>\n",
       "    .dataframe thead tr:only-child th {\n",
       "        text-align: right;\n",
       "    }\n",
       "\n",
       "    .dataframe thead th {\n",
       "        text-align: left;\n",
       "    }\n",
       "\n",
       "    .dataframe tbody tr th {\n",
       "        vertical-align: top;\n",
       "    }\n",
       "</style>\n",
       "<table border=\"1\" class=\"dataframe\">\n",
       "  <thead>\n",
       "    <tr style=\"text-align: right;\">\n",
       "      <th></th>\n",
       "      <th>population</th>\n",
       "      <th>population_sq</th>\n",
       "      <th>murder</th>\n",
       "      <th>robbery</th>\n",
       "      <th>murder_binary</th>\n",
       "      <th>robbery_binary</th>\n",
       "    </tr>\n",
       "  </thead>\n",
       "  <tbody>\n",
       "    <tr>\n",
       "      <th>population</th>\n",
       "      <td>1.000</td>\n",
       "      <td>0.945</td>\n",
       "      <td>0.438</td>\n",
       "      <td>0.576</td>\n",
       "      <td>0.475</td>\n",
       "      <td>0.490</td>\n",
       "    </tr>\n",
       "    <tr>\n",
       "      <th>population_sq</th>\n",
       "      <td>0.945</td>\n",
       "      <td>1.000</td>\n",
       "      <td>0.496</td>\n",
       "      <td>0.659</td>\n",
       "      <td>0.484</td>\n",
       "      <td>0.370</td>\n",
       "    </tr>\n",
       "    <tr>\n",
       "      <th>murder</th>\n",
       "      <td>0.438</td>\n",
       "      <td>0.496</td>\n",
       "      <td>1.000</td>\n",
       "      <td>0.786</td>\n",
       "      <td>0.662</td>\n",
       "      <td>0.190</td>\n",
       "    </tr>\n",
       "    <tr>\n",
       "      <th>robbery</th>\n",
       "      <td>0.576</td>\n",
       "      <td>0.659</td>\n",
       "      <td>0.786</td>\n",
       "      <td>1.000</td>\n",
       "      <td>0.482</td>\n",
       "      <td>0.257</td>\n",
       "    </tr>\n",
       "    <tr>\n",
       "      <th>murder_binary</th>\n",
       "      <td>0.475</td>\n",
       "      <td>0.484</td>\n",
       "      <td>0.662</td>\n",
       "      <td>0.482</td>\n",
       "      <td>1.000</td>\n",
       "      <td>0.279</td>\n",
       "    </tr>\n",
       "    <tr>\n",
       "      <th>robbery_binary</th>\n",
       "      <td>0.490</td>\n",
       "      <td>0.370</td>\n",
       "      <td>0.190</td>\n",
       "      <td>0.257</td>\n",
       "      <td>0.279</td>\n",
       "      <td>1.000</td>\n",
       "    </tr>\n",
       "  </tbody>\n",
       "</table>\n",
       "</div>"
      ],
      "text/plain": [
       "                population  population_sq  murder  robbery  murder_binary  \\\n",
       "population           1.000          0.945   0.438    0.576          0.475   \n",
       "population_sq        0.945          1.000   0.496    0.659          0.484   \n",
       "murder               0.438          0.496   1.000    0.786          0.662   \n",
       "robbery              0.576          0.659   0.786    1.000          0.482   \n",
       "murder_binary        0.475          0.484   0.662    0.482          1.000   \n",
       "robbery_binary       0.490          0.370   0.190    0.257          0.279   \n",
       "\n",
       "                robbery_binary  \n",
       "population               0.490  \n",
       "population_sq            0.370  \n",
       "murder                   0.190  \n",
       "robbery                  0.257  \n",
       "murder_binary            0.279  \n",
       "robbery_binary           1.000  "
      ]
     },
     "metadata": {},
     "output_type": "display_data"
    }
   ],
   "source": [
    "#Check for multicollinearity\n",
    "correlation_matrix = X.corr()\n",
    "display(correlation_matrix)\n",
    "#There is some high correlation between some of the features"
   ]
  },
  {
   "cell_type": "markdown",
   "metadata": {},
   "source": [
    "# Validating the model\n",
    "* Look at test statistics \n",
    "* Cross Validate\n",
    "* try on new dataset"
   ]
  },
  {
   "cell_type": "code",
   "execution_count": 21,
   "metadata": {},
   "outputs": [
    {
     "data": {
      "text/plain": [
       "array([ 0.78661716,  0.70106243,  0.63274813])"
      ]
     },
     "execution_count": 21,
     "metadata": {},
     "output_type": "execute_result"
    }
   ],
   "source": [
    "#cross validation\n",
    "from sklearn.model_selection import cross_val_score\n",
    "cross_val_score(regr, X, Y, scoring = 'r2')\n",
    "#That's a fairly wide range of r squares values."
   ]
  },
  {
   "cell_type": "code",
   "execution_count": 48,
   "metadata": {},
   "outputs": [
    {
     "name": "stdout",
     "output_type": "stream",
     "text": [
      "With 20% Holdout: 0.7192297747\n",
      "Training set: 0.742567404528\n"
     ]
    }
   ],
   "source": [
    "# Train test split method\n",
    "from sklearn.model_selection import train_test_split\n",
    "# Use train_test_split to create the necessary training and test groups\n",
    "X_train, X_test, y_train, y_test = train_test_split(X, Y, test_size=0.2)\n",
    "print('With 20% Holdout: ' + str(regr.fit(X_train, y_train).score(X_test, y_test)))\n",
    "print('Training set: ' + str(regr.fit(X, Y).score(X, Y)))\n",
    "# Model perfoms considerably worse with holdout group. A sign of overfitting."
   ]
  },
  {
   "cell_type": "code",
   "execution_count": 23,
   "metadata": {},
   "outputs": [
    {
     "name": "stdout",
     "output_type": "stream",
     "text": [
      "                            OLS Regression Results                            \n",
      "==============================================================================\n",
      "Dep. Variable:               property   R-squared:                       0.798\n",
      "Model:                            OLS   Adj. R-squared:                  0.794\n",
      "Method:                 Least Squares   F-statistic:                     212.6\n",
      "Date:                Sat, 02 Jun 2018   Prob (F-statistic):          5.77e-109\n",
      "Time:                        17:37:32   Log-Likelihood:                -2128.0\n",
      "No. Observations:                 330   AIC:                             4270.\n",
      "Df Residuals:                     323   BIC:                             4297.\n",
      "Df Model:                           6                                         \n",
      "Covariance Type:            nonrobust                                         \n",
      "==================================================================================\n",
      "                     coef    std err          t      P>|t|      [0.025      0.975]\n",
      "----------------------------------------------------------------------------------\n",
      "Intercept         -8.1659     16.209     -0.504      0.615     -40.055      23.723\n",
      "population         0.0121      0.003      4.613      0.000       0.007       0.017\n",
      "population_sq   2.432e-08   6.21e-08      0.391      0.696   -9.79e-08    1.47e-07\n",
      "murder          -186.0448     19.808     -9.392      0.000    -225.015    -147.075\n",
      "robbery           10.9165      0.795     13.732      0.000       9.353      12.480\n",
      "murder_binary    272.2560     39.092      6.965      0.000     195.349     349.163\n",
      "robbery_binary    63.1455     21.211      2.977      0.003      21.416     104.875\n",
      "==============================================================================\n",
      "Omnibus:                      104.307   Durbin-Watson:                   1.994\n",
      "Prob(Omnibus):                  0.000   Jarque-Bera (JB):              644.947\n",
      "Skew:                           1.154   Prob(JB):                    8.95e-141\n",
      "Kurtosis:                       9.448   Cond. No.                     2.70e+09\n",
      "==============================================================================\n",
      "\n",
      "Warnings:\n",
      "[1] Standard Errors assume that the covariance matrix of the errors is correctly specified.\n",
      "[2] The condition number is large, 2.7e+09. This might indicate that there are\n",
      "strong multicollinearity or other numerical problems.\n"
     ]
    }
   ],
   "source": [
    "# When this cell was above cross validation it turned the R squared values to 1????\n",
    "# Look at test statistics\n",
    "import statsmodels.formula.api as smf\n",
    "from scipy import stats\n",
    "\n",
    "data = features\n",
    "data['property'] = df['Property\\ncrime']\n",
    "\n",
    "#Specify interaction\n",
    "linear_formula = 'property ~ population+population_sq+murder+robbery+murder_binary+robbery_binary'\n",
    "\n",
    "# Run model and print results\n",
    "lm = smf.ols(formula=linear_formula, data=data).fit()\n",
    "print(lm.summary())\n",
    "\n",
    "#The P value for population_sq is .696, showing that it doesn't have any effect."
   ]
  },
  {
   "cell_type": "code",
   "execution_count": 43,
   "metadata": {},
   "outputs": [
    {
     "name": "stdout",
     "output_type": "stream",
     "text": [
      "                            OLS Regression Results                            \n",
      "==============================================================================\n",
      "Dep. Variable:               property   R-squared:                       0.798\n",
      "Model:                            OLS   Adj. R-squared:                  0.795\n",
      "Method:                 Least Squares   F-statistic:                     255.8\n",
      "Date:                Sat, 02 Jun 2018   Prob (F-statistic):          3.70e-110\n",
      "Time:                        17:41:44   Log-Likelihood:                -2128.1\n",
      "No. Observations:                 330   AIC:                             4268.\n",
      "Df Residuals:                     324   BIC:                             4291.\n",
      "Df Model:                           5                                         \n",
      "Covariance Type:            nonrobust                                         \n",
      "==================================================================================\n",
      "                     coef    std err          t      P>|t|      [0.025      0.975]\n",
      "----------------------------------------------------------------------------------\n",
      "Intercept        -11.4145     13.905     -0.821      0.412     -38.771      15.942\n",
      "population         0.0130      0.001     12.533      0.000       0.011       0.015\n",
      "murder          -186.6691     19.718     -9.467      0.000    -225.461    -147.877\n",
      "robbery           11.0276      0.742     14.869      0.000       9.568      12.487\n",
      "murder_binary    273.2605     38.957      7.014      0.000     196.621     349.900\n",
      "robbery_binary    60.2328     19.837      3.036      0.003      21.207      99.259\n",
      "==============================================================================\n",
      "Omnibus:                      104.528   Durbin-Watson:                   2.002\n",
      "Prob(Omnibus):                  0.000   Jarque-Bera (JB):              647.795\n",
      "Skew:                           1.156   Prob(JB):                    2.15e-141\n",
      "Kurtosis:                       9.462   Cond. No.                     7.73e+04\n",
      "==============================================================================\n",
      "\n",
      "Warnings:\n",
      "[1] Standard Errors assume that the covariance matrix of the errors is correctly specified.\n",
      "[2] The condition number is large, 7.73e+04. This might indicate that there are\n",
      "strong multicollinearity or other numerical problems.\n"
     ]
    }
   ],
   "source": [
    "\n",
    "linear_formula = 'property ~ population+murder+robbery+murder_binary+robbery_binary'\n",
    "\n",
    "# Run model and print results\n",
    "lm = smf.ols(formula=linear_formula, data=data).fit()\n",
    "print(lm.summary())"
   ]
  },
  {
   "cell_type": "code",
   "execution_count": 42,
   "metadata": {},
   "outputs": [
    {
     "name": "stdout",
     "output_type": "stream",
     "text": [
      "\n",
      "Coefficients: \n",
      " [  3.91013701e-04   1.11635593e+00   3.43695820e+00]\n",
      "\n",
      "Intercept: \n",
      " 3.92833973658\n",
      "\n",
      "R-squared:\n",
      "0.742567404528\n"
     ]
    }
   ],
   "source": [
    "regr = linear_model.LinearRegression()\n",
    "Y = df['Property\\ncrime']\n",
    "X = features\n",
    "regr.fit(X, Y)\n",
    "print('\\nCoefficients: \\n', regr.coef_)\n",
    "print('\\nIntercept: \\n', regr.intercept_)\n",
    "print('\\nR-squared:')\n",
    "print(regr.score(X, Y))"
   ]
  },
  {
   "cell_type": "markdown",
   "metadata": {},
   "source": [
    "## Trying the model on 2014 data"
   ]
  },
  {
   "cell_type": "code",
   "execution_count": 24,
   "metadata": {},
   "outputs": [
    {
     "data": {
      "text/html": [
       "<div>\n",
       "<style>\n",
       "    .dataframe thead tr:only-child th {\n",
       "        text-align: right;\n",
       "    }\n",
       "\n",
       "    .dataframe thead th {\n",
       "        text-align: left;\n",
       "    }\n",
       "\n",
       "    .dataframe tbody tr th {\n",
       "        vertical-align: top;\n",
       "    }\n",
       "</style>\n",
       "<table border=\"1\" class=\"dataframe\">\n",
       "  <thead>\n",
       "    <tr style=\"text-align: right;\">\n",
       "      <th></th>\n",
       "      <th>population</th>\n",
       "      <th>population_sq</th>\n",
       "      <th>murder</th>\n",
       "      <th>robbery</th>\n",
       "      <th>murder_binary</th>\n",
       "      <th>robbery_binary</th>\n",
       "    </tr>\n",
       "  </thead>\n",
       "  <tbody>\n",
       "    <tr>\n",
       "      <th>0</th>\n",
       "      <td>1851.000</td>\n",
       "      <td>3426201.000</td>\n",
       "      <td>0.000</td>\n",
       "      <td>0.000</td>\n",
       "      <td>0</td>\n",
       "      <td>0</td>\n",
       "    </tr>\n",
       "    <tr>\n",
       "      <th>1</th>\n",
       "      <td>2568.000</td>\n",
       "      <td>6594624.000</td>\n",
       "      <td>0.000</td>\n",
       "      <td>1.000</td>\n",
       "      <td>0</td>\n",
       "      <td>1</td>\n",
       "    </tr>\n",
       "    <tr>\n",
       "      <th>2</th>\n",
       "      <td>820.000</td>\n",
       "      <td>672400.000</td>\n",
       "      <td>0.000</td>\n",
       "      <td>0.000</td>\n",
       "      <td>0</td>\n",
       "      <td>0</td>\n",
       "    </tr>\n",
       "    <tr>\n",
       "      <th>3</th>\n",
       "      <td>2842.000</td>\n",
       "      <td>8076964.000</td>\n",
       "      <td>0.000</td>\n",
       "      <td>0.000</td>\n",
       "      <td>0</td>\n",
       "      <td>0</td>\n",
       "    </tr>\n",
       "    <tr>\n",
       "      <th>5</th>\n",
       "      <td>5872.000</td>\n",
       "      <td>34480384.000</td>\n",
       "      <td>0.000</td>\n",
       "      <td>2.000</td>\n",
       "      <td>0</td>\n",
       "      <td>1</td>\n",
       "    </tr>\n",
       "  </tbody>\n",
       "</table>\n",
       "</div>"
      ],
      "text/plain": [
       "   population  population_sq  murder  robbery  murder_binary  robbery_binary\n",
       "0    1851.000    3426201.000   0.000    0.000              0               0\n",
       "1    2568.000    6594624.000   0.000    1.000              0               1\n",
       "2     820.000     672400.000   0.000    0.000              0               0\n",
       "3    2842.000    8076964.000   0.000    0.000              0               0\n",
       "5    5872.000   34480384.000   0.000    2.000              0               1"
      ]
     },
     "execution_count": 24,
     "metadata": {},
     "output_type": "execute_result"
    }
   ],
   "source": [
    "df2 = pd.read_excel('Table_8_Offenses_Known_to_Law_Enforcement_by_New_York_by_City_2014.xls', skiprows=4)\n",
    "df2 = df2[['Population','Murder and\\nnonnegligent\\nmanslaughter', 'Robbery', 'Property\\ncrime']]\n",
    "df2 = df2[df2['Population'] < df2['Population'].quantile(0.95)]\n",
    "df2 = df2.dropna()\n",
    "features2 = pd.DataFrame()\n",
    "features2['population'] = df2['Population']\n",
    "features2['population_sq'] = df2['Population']**2\n",
    "features2['murder'] = df2['Murder and\\nnonnegligent\\nmanslaughter']\n",
    "features2['robbery'] = df2['Robbery']\n",
    "features2['murder_binary'] = np.where(df2['Murder and\\nnonnegligent\\nmanslaughter']>0, 1, 0)\n",
    "features2['robbery_binary'] = np.where(df2['Robbery']>0, 1, 0)\n",
    "\n",
    "features2.head()"
   ]
  },
  {
   "cell_type": "code",
   "execution_count": 25,
   "metadata": {},
   "outputs": [
    {
     "name": "stdout",
     "output_type": "stream",
     "text": [
      "0.706138268537\n"
     ]
    }
   ],
   "source": [
    "Y2 = df2['Property\\ncrime']\n",
    "X2 = features2\n",
    "print(regr.score(X2, Y2))"
   ]
  },
  {
   "cell_type": "code",
   "execution_count": 50,
   "metadata": {},
   "outputs": [
    {
     "name": "stdout",
     "output_type": "stream",
     "text": [
      "\n",
      "Coefficients: \n",
      " [  3.91013701e-04   1.11635593e+00   3.43695820e+00]\n",
      "\n",
      "Intercept: \n",
      " 3.92833973658\n",
      "\n",
      "R-squared:\n",
      "0.742567404528\n"
     ]
    }
   ],
   "source": [
    "print('\\nCoefficients: \\n', regr.coef_)\n",
    "print('\\nIntercept: \\n', regr.intercept_)\n",
    "print('\\nR-squared:')\n",
    "print(regr.score(X, Y))"
   ]
  },
  {
   "cell_type": "code",
   "execution_count": null,
   "metadata": {
    "collapsed": true
   },
   "outputs": [],
   "source": []
  },
  {
   "cell_type": "markdown",
   "metadata": {},
   "source": [
    "### The R squared value for the initial model on the new data is .742\n",
    "\n",
    "## Revised Model"
   ]
  },
  {
   "cell_type": "code",
   "execution_count": 26,
   "metadata": {
    "scrolled": true
   },
   "outputs": [
    {
     "data": {
      "image/png": "[encoded data removed]",
      "text/plain": [
       "<matplotlib.figure.Figure at 0x15ec163a208>"
      ]
     },
     "metadata": {},
     "output_type": "display_data"
    }
   ],
   "source": [
    "plt.figure(figsize=(12,5))\n",
    "\n",
    "plt.subplot(1, 2, 1)\n",
    "sns.distplot(df['Property\\ncrime'])\n",
    "plt.title('Property Crime')\n",
    "\n",
    "plt.subplot(1, 2, 2)\n",
    "sns.boxplot(df['Property\\ncrime'])\n",
    "plt.title('Property Crime')\n",
    "\n",
    "plt.show()"
   ]
  },
  {
   "cell_type": "code",
   "execution_count": 27,
   "metadata": {
    "collapsed": true
   },
   "outputs": [],
   "source": [
    "Y = df['Property\\ncrime'].apply(np.sqrt)"
   ]
  },
  {
   "cell_type": "code",
   "execution_count": 28,
   "metadata": {
    "collapsed": true
   },
   "outputs": [],
   "source": [
    "features = pd.DataFrame()\n",
    "features['population'] = df['Population']\n",
    "features['murder'] = (df['Murder and\\nnonnegligent\\nmanslaughter']+1).apply(np.log)\n",
    "features['robbery'] = (df['Robbery']+1).apply(np.log)\n",
    "features['murder_binary'] = np.where(df['Murder and\\nnonnegligent\\nmanslaughter']>0, 1, 0)\n",
    "features['robbery_binary'] = np.where(df['Robbery']>0, 1, 0)"
   ]
  },
  {
   "cell_type": "code",
   "execution_count": 29,
   "metadata": {},
   "outputs": [
    {
     "data": {
      "text/html": [
       "<div>\n",
       "<style>\n",
       "    .dataframe thead tr:only-child th {\n",
       "        text-align: right;\n",
       "    }\n",
       "\n",
       "    .dataframe thead th {\n",
       "        text-align: left;\n",
       "    }\n",
       "\n",
       "    .dataframe tbody tr th {\n",
       "        vertical-align: top;\n",
       "    }\n",
       "</style>\n",
       "<table border=\"1\" class=\"dataframe\">\n",
       "  <thead>\n",
       "    <tr style=\"text-align: right;\">\n",
       "      <th></th>\n",
       "      <th>population</th>\n",
       "      <th>murder</th>\n",
       "      <th>robbery</th>\n",
       "      <th>murder_binary</th>\n",
       "      <th>robbery_binary</th>\n",
       "    </tr>\n",
       "  </thead>\n",
       "  <tbody>\n",
       "    <tr>\n",
       "      <th>0</th>\n",
       "      <td>1861.000</td>\n",
       "      <td>0.000</td>\n",
       "      <td>0.000</td>\n",
       "      <td>0</td>\n",
       "      <td>0</td>\n",
       "    </tr>\n",
       "    <tr>\n",
       "      <th>1</th>\n",
       "      <td>2577.000</td>\n",
       "      <td>0.000</td>\n",
       "      <td>0.000</td>\n",
       "      <td>0</td>\n",
       "      <td>0</td>\n",
       "    </tr>\n",
       "    <tr>\n",
       "      <th>2</th>\n",
       "      <td>2846.000</td>\n",
       "      <td>0.000</td>\n",
       "      <td>0.000</td>\n",
       "      <td>0</td>\n",
       "      <td>0</td>\n",
       "    </tr>\n",
       "    <tr>\n",
       "      <th>4</th>\n",
       "      <td>6388.000</td>\n",
       "      <td>0.000</td>\n",
       "      <td>1.609</td>\n",
       "      <td>0</td>\n",
       "      <td>1</td>\n",
       "    </tr>\n",
       "    <tr>\n",
       "      <th>5</th>\n",
       "      <td>4089.000</td>\n",
       "      <td>0.000</td>\n",
       "      <td>1.386</td>\n",
       "      <td>0</td>\n",
       "      <td>1</td>\n",
       "    </tr>\n",
       "  </tbody>\n",
       "</table>\n",
       "</div>"
      ],
      "text/plain": [
       "   population  murder  robbery  murder_binary  robbery_binary\n",
       "0    1861.000   0.000    0.000              0               0\n",
       "1    2577.000   0.000    0.000              0               0\n",
       "2    2846.000   0.000    0.000              0               0\n",
       "4    6388.000   0.000    1.609              0               1\n",
       "5    4089.000   0.000    1.386              0               1"
      ]
     },
     "execution_count": 29,
     "metadata": {},
     "output_type": "execute_result"
    }
   ],
   "source": [
    "regr = linear_model.LinearRegression()\n",
    "#Y = df['Property\\ncrime']\n",
    "X = features\n",
    "X.head()"
   ]
  },
  {
   "cell_type": "code",
   "execution_count": 30,
   "metadata": {},
   "outputs": [
    {
     "name": "stdout",
     "output_type": "stream",
     "text": [
      "\n",
      "Coefficients: \n",
      " [  3.23061011e-04  -3.84453291e+00   4.09143533e+00   3.46558327e+00\n",
      "   4.51313957e-01]\n",
      "\n",
      "Intercept: \n",
      " 4.59628564834\n",
      "\n",
      "R-squared:\n",
      "0.820756890102\n"
     ]
    },
    {
     "data": {
      "image/png": "[encoded data removed]",
      "text/plain": [
       "<matplotlib.figure.Figure at 0x15ec16b6048>"
      ]
     },
     "metadata": {},
     "output_type": "display_data"
    }
   ],
   "source": [
    "regr.fit(X, Y)\n",
    "print('\\nCoefficients: \\n', regr.coef_)\n",
    "print('\\nIntercept: \\n', regr.intercept_)\n",
    "print('\\nR-squared:')\n",
    "print(regr.score(X, Y))\n",
    "predicted = regr.predict(X).ravel()\n",
    "actual = df['Property\\ncrime']\n",
    "\n",
    "# Calculate the error, also called the residual.\n",
    "residual = actual - predicted\n",
    "\n",
    "# This looks a bit concerning.\n",
    "plt.hist(residual)\n",
    "plt.title('Residual counts')\n",
    "plt.xlabel('Residual')\n",
    "plt.ylabel('Count')\n",
    "plt.show()"
   ]
  },
  {
   "cell_type": "code",
   "execution_count": 31,
   "metadata": {},
   "outputs": [
    {
     "data": {
      "image/png": "[encoded data removed]",
      "text/plain": [
       "<matplotlib.figure.Figure at 0x15ec15e1ba8>"
      ]
     },
     "metadata": {},
     "output_type": "display_data"
    }
   ],
   "source": [
    "plt.scatter(predicted, residual)\n",
    "plt.xlabel('Predicted')\n",
    "plt.ylabel('Residual')\n",
    "plt.axhline(y=0)\n",
    "plt.title('Residual vs. Predicted')\n",
    "plt.show()"
   ]
  },
  {
   "cell_type": "code",
   "execution_count": 47,
   "metadata": {},
   "outputs": [
    {
     "data": {
      "text/plain": [
       "array([ 0.78679946,  0.74698485,  0.71830267,  0.73005281,  0.71269766,\n",
       "        0.70550419,  0.71195462,  0.66821811,  0.57563368,  0.72239704])"
      ]
     },
     "execution_count": 47,
     "metadata": {},
     "output_type": "execute_result"
    }
   ],
   "source": [
    "#cross validation\n",
    "from sklearn.model_selection import cross_val_score\n",
    "cross_val_score(regr, X, Y, scoring = 'r2', cv=10)"
   ]
  },
  {
   "cell_type": "markdown",
   "metadata": {},
   "source": [
    "With the new model, the R squared improved to .82 and the cross validation scores became more consistent. However the residuals are very skewed now. "
   ]
  },
  {
   "cell_type": "markdown",
   "metadata": {},
   "source": [
    "## 3rd Iteration of model"
   ]
  },
  {
   "cell_type": "code",
   "execution_count": 33,
   "metadata": {
    "collapsed": true
   },
   "outputs": [],
   "source": [
    "#Trying again\n",
    "df = pd.read_excel('table_8_offenses_known_to_law_enforcement_new_york_by_city_2013.xls', skiprows=4)\n",
    "df = df[['Population','Murder and\\nnonnegligent\\nmanslaughter', 'Robbery', 'Property\\ncrime']]\n",
    "df = df[df['Population'] < df['Population'].quantile(0.90)]\n",
    "df = df.dropna()"
   ]
  },
  {
   "cell_type": "code",
   "execution_count": 34,
   "metadata": {
    "collapsed": true
   },
   "outputs": [],
   "source": [
    "df['Property\\ncrime'] = df['Property\\ncrime'].apply(np.sqrt)\n",
    "features = pd.DataFrame()\n",
    "features['population'] = df['Population']\n",
    "features['murder'] = (df['Murder and\\nnonnegligent\\nmanslaughter']+1).apply(np.log)\n",
    "features['robbery'] = (df['Robbery']+1).apply(np.log)\n",
    "#features['murder_binary'] = np.where(df['Murder and\\nnonnegligent\\nmanslaughter']>0, 1, 0)\n",
    "#features['robbery_binary'] = np.where(df['Robbery']>0, 1, 0)"
   ]
  },
  {
   "cell_type": "code",
   "execution_count": 35,
   "metadata": {},
   "outputs": [
    {
     "name": "stdout",
     "output_type": "stream",
     "text": [
      "\n",
      "Coefficients: \n",
      " [  3.56393017e-04  -1.72396221e+00   4.19111115e+00]\n",
      "\n",
      "Intercept: \n",
      " 4.63409823836\n",
      "\n",
      "R-squared:\n",
      "0.780968046403\n"
     ]
    },
    {
     "data": {
      "image/png": "[encoded data removed]",
      "text/plain": [
       "<matplotlib.figure.Figure at 0x15ec194eef0>"
      ]
     },
     "metadata": {},
     "output_type": "display_data"
    }
   ],
   "source": [
    "regr = linear_model.LinearRegression()\n",
    "Y = df['Property\\ncrime']\n",
    "X = features\n",
    "X.head()\n",
    "regr.fit(X, Y)\n",
    "print('\\nCoefficients: \\n', regr.coef_)\n",
    "print('\\nIntercept: \\n', regr.intercept_)\n",
    "print('\\nR-squared:')\n",
    "print(regr.score(X, Y))\n",
    "predicted = regr.predict(X).ravel()\n",
    "actual = df['Property\\ncrime']\n",
    "\n",
    "# Calculate the error, also called the residual.\n",
    "residual = actual - predicted\n",
    "\n",
    "# This looks a bit concerning.\n",
    "plt.hist(residual)\n",
    "plt.title('Residual counts')\n",
    "plt.xlabel('Residual')\n",
    "plt.ylabel('Count')\n",
    "plt.show()"
   ]
  },
  {
   "cell_type": "code",
   "execution_count": 36,
   "metadata": {},
   "outputs": [
    {
     "data": {
      "image/png": "[encoded data removed]",
      "text/plain": [
       "<matplotlib.figure.Figure at 0x15ec148ddd8>"
      ]
     },
     "metadata": {},
     "output_type": "display_data"
    }
   ],
   "source": [
    "plt.scatter(predicted, residual)\n",
    "plt.xlabel('Predicted')\n",
    "plt.ylabel('Residual')\n",
    "plt.axhline(y=0)\n",
    "plt.title('Residual vs. Predicted')\n",
    "plt.show()"
   ]
  },
  {
   "cell_type": "code",
   "execution_count": 44,
   "metadata": {},
   "outputs": [
    {
     "data": {
      "text/plain": [
       "array([ 0.78679946,  0.74698485,  0.71830267,  0.73005281,  0.71269766,\n",
       "        0.70550419,  0.71195462,  0.66821811,  0.57563368,  0.72239704])"
      ]
     },
     "execution_count": 44,
     "metadata": {},
     "output_type": "execute_result"
    }
   ],
   "source": [
    "#cross validation\n",
    "from sklearn.model_selection import cross_val_score\n",
    "cross_val_score(regr, X, Y, scoring = 'r2', cv=10)"
   ]
  },
  {
   "cell_type": "markdown",
   "metadata": {},
   "source": [
    "#### For the 3rd Iteration the residuals are more normally distributed, however the residuals still increase for the larger numbers.\n",
    "\n",
    "### Trying the 3rd Iteration on the 2014 data"
   ]
  },
  {
   "cell_type": "code",
   "execution_count": 38,
   "metadata": {},
   "outputs": [
    {
     "name": "stdout",
     "output_type": "stream",
     "text": [
      "0.721743952548\n"
     ]
    },
    {
     "data": {
      "image/png": "[encoded data removed]",
      "text/plain": [
       "<matplotlib.figure.Figure at 0x15ec1400cc0>"
      ]
     },
     "metadata": {},
     "output_type": "display_data"
    }
   ],
   "source": [
    "#Trying 3rd model on 2014 data\n",
    "df = pd.read_excel('Table_8_Offenses_Known_to_Law_Enforcement_by_New_York_by_City_2014.xls', skiprows=4)\n",
    "df = df[['Population','Murder and\\nnonnegligent\\nmanslaughter', 'Robbery', 'Property\\ncrime']]\n",
    "df = df[df['Population'] < df['Population'].quantile(0.90)]\n",
    "df = df.dropna()\n",
    "df['Property\\ncrime'] = df['Property\\ncrime'].apply(np.sqrt)\n",
    "features = pd.DataFrame()\n",
    "features['population'] = df['Population']\n",
    "features['murder'] = (df['Murder and\\nnonnegligent\\nmanslaughter']+1).apply(np.log)\n",
    "features['robbery'] = (df['Robbery']+1).apply(np.log)\n",
    "#features['murder_binary'] = np.where(df['Murder and\\nnonnegligent\\nmanslaughter']>0, 1, 0)\n",
    "#features['robbery_binary'] = np.where(df['Robbery']>0, 1, 0)\n",
    "Y = df['Property\\ncrime']\n",
    "X = features\n",
    "print(regr.score(X, Y))\n",
    "predicted = regr.predict(X).ravel()\n",
    "actual = df['Property\\ncrime']\n",
    "\n",
    "# Calculate the error, also called the residual.\n",
    "residual = actual - predicted\n",
    "\n",
    "# This looks a bit concerning.\n",
    "plt.hist(residual)\n",
    "plt.title('Residual counts')\n",
    "plt.xlabel('Residual')\n",
    "plt.ylabel('Count')\n",
    "plt.show()"
   ]
  },
  {
   "cell_type": "markdown",
   "metadata": {},
   "source": [
    "For the 2014 data, the 3rd model R squared was reduced to .722"
   ]
  },
  {
   "cell_type": "code",
   "execution_count": 45,
   "metadata": {},
   "outputs": [
    {
     "data": {
      "text/plain": [
       "array([ 0.78679946,  0.74698485,  0.71830267,  0.73005281,  0.71269766,\n",
       "        0.70550419,  0.71195462,  0.66821811,  0.57563368,  0.72239704])"
      ]
     },
     "execution_count": 45,
     "metadata": {},
     "output_type": "execute_result"
    }
   ],
   "source": [
    "#cross validation\n",
    "from sklearn.model_selection import cross_val_score\n",
    "cross_val_score(regr, X, Y, scoring = 'r2', cv=10)"
   ]
  },
  {
   "cell_type": "markdown",
   "metadata": {
    "collapsed": true
   },
   "source": [
    "# Discussion\n",
    "\n",
    "#### Based on the tests of the inital model, population squared was dropped because it's high p-value showed that it was not statistically significant. Squaring the property crime, and log transforming the murder and robbery variables helped normalize the distribution of the residuals. Dropping murder binary and robbery binary helped improve the homoscendasticity. Overall though, the model still seems to be overfitting as indicated by the wide range of cross validation scores."
   ]
  },
  {
   "cell_type": "code",
   "execution_count": null,
   "metadata": {
    "collapsed": true
   },
   "outputs": [],
   "source": []
  }
 ],
 "metadata": {
  "kernelspec": {
   "display_name": "Python 3",
   "language": "python",
   "name": "python3"
  },
  "language_info": {
   "codemirror_mode": {
    "name": "ipython",
    "version": 3
   },
   "file_extension": ".py",
   "mimetype": "text/x-python",
   "name": "python",
   "nbconvert_exporter": "python",
   "pygments_lexer": "ipython3",
   "version": "3.6.2"
  }
 },
 "nbformat": 4,
 "nbformat_minor": 2
}
