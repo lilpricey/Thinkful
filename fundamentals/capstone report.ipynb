{
 "cells": [
  {
   "cell_type": "markdown",
   "metadata": {},
   "source": [
    "# TED Talks Data exploration"
   ]
  },
  {
   "cell_type": "markdown",
   "metadata": {},
   "source": [
    "Not too long ago, I made a half-joking bet with someone that I'd give a TED talk in the next five years. Having yet to make any progress towards that goal, I think exploring the past TED talks and understanding the characteristics of a popular talk is a good place to start. "
   ]
  },
  {
   "cell_type": "markdown",
   "metadata": {},
   "source": [
    "## Data\n",
    "\n",
    "The TED Talks [dataset](https://www.kaggle.com/rounakbanik/ted-talks) contains information on all the audio-video recordings of TED Talks uploaded to the official TED.com website until September 21st, 2017.\n",
    "\n",
    "The data was compiled by Rounak Banik from the official TED website, published on Kaggle, and it contains two files:\n",
    "\n",
    " * ted_main.csv - Contains metadata on each talk and speaker. \n",
    " * transcripts.csv - Contains transcript and URL information for TED Talks\n",
    "\n",
    "For this study, I'm focusing on the metadata for the talks, and not using the transcripts.\n",
    "\n",
    "The data, ted_main.csv is a flat file where each row is a unique talk and it contains the following variables for each talk: Comments - the number of comments from users on the site, description, duration, event, film date, languages, main speaker, name, number of speakers, published date, ratings, related talks, speaker occupation, tags, title, url, views.\n"
   ]
  },
  {
   "cell_type": "code",
   "execution_count": 5,
   "metadata": {
    "collapsed": true
   },
   "outputs": [],
   "source": [
    "import numpy as np\n",
    "import pandas as pd\n",
    "import scipy\n",
    "import matplotlib.pyplot as plt\n",
    "%matplotlib inline"
   ]
  },
  {
   "cell_type": "code",
   "execution_count": 6,
   "metadata": {
    "collapsed": true
   },
   "outputs": [],
   "source": [
    "ted = pd.read_csv(\"ted_main.csv\")"
   ]
  },
  {
   "cell_type": "code",
   "execution_count": 7,
   "metadata": {},
   "outputs": [
    {
     "data": {
      "text/plain": [
       "(2550, 17)"
      ]
     },
     "execution_count": 7,
     "metadata": {},
     "output_type": "execute_result"
    }
   ],
   "source": [
    "ted.shape"
   ]
  },
  {
   "cell_type": "code",
   "execution_count": 8,
   "metadata": {},
   "outputs": [
    {
     "data": {
      "text/html": [
       "<div>\n",
       "<style>\n",
       "    .dataframe thead tr:only-child th {\n",
       "        text-align: right;\n",
       "    }\n",
       "\n",
       "    .dataframe thead th {\n",
       "        text-align: left;\n",
       "    }\n",
       "\n",
       "    .dataframe tbody tr th {\n",
       "        vertical-align: top;\n",
       "    }\n",
       "</style>\n",
       "<table border=\"1\" class=\"dataframe\">\n",
       "  <thead>\n",
       "    <tr style=\"text-align: right;\">\n",
       "      <th></th>\n",
       "      <th>comments</th>\n",
       "      <th>description</th>\n",
       "      <th>duration</th>\n",
       "      <th>event</th>\n",
       "      <th>film_date</th>\n",
       "      <th>languages</th>\n",
       "      <th>main_speaker</th>\n",
       "      <th>name</th>\n",
       "      <th>num_speaker</th>\n",
       "      <th>published_date</th>\n",
       "      <th>ratings</th>\n",
       "      <th>related_talks</th>\n",
       "      <th>speaker_occupation</th>\n",
       "      <th>tags</th>\n",
       "      <th>title</th>\n",
       "      <th>url</th>\n",
       "      <th>views</th>\n",
       "    </tr>\n",
       "  </thead>\n",
       "  <tbody>\n",
       "    <tr>\n",
       "      <th>0</th>\n",
       "      <td>4553</td>\n",
       "      <td>Sir Ken Robinson makes an entertaining and pro...</td>\n",
       "      <td>1164</td>\n",
       "      <td>TED2006</td>\n",
       "      <td>1140825600</td>\n",
       "      <td>60</td>\n",
       "      <td>Ken Robinson</td>\n",
       "      <td>Ken Robinson: Do schools kill creativity?</td>\n",
       "      <td>1</td>\n",
       "      <td>1151367060</td>\n",
       "      <td>[{'id': 7, 'name': 'Funny', 'count': 19645}, {...</td>\n",
       "      <td>[{'id': 865, 'hero': 'https://pe.tedcdn.com/im...</td>\n",
       "      <td>Author/educator</td>\n",
       "      <td>['children', 'creativity', 'culture', 'dance',...</td>\n",
       "      <td>Do schools kill creativity?</td>\n",
       "      <td>https://www.ted.com/talks/ken_robinson_says_sc...</td>\n",
       "      <td>47227110</td>\n",
       "    </tr>\n",
       "    <tr>\n",
       "      <th>1</th>\n",
       "      <td>265</td>\n",
       "      <td>With the same humor and humanity he exuded in ...</td>\n",
       "      <td>977</td>\n",
       "      <td>TED2006</td>\n",
       "      <td>1140825600</td>\n",
       "      <td>43</td>\n",
       "      <td>Al Gore</td>\n",
       "      <td>Al Gore: Averting the climate crisis</td>\n",
       "      <td>1</td>\n",
       "      <td>1151367060</td>\n",
       "      <td>[{'id': 7, 'name': 'Funny', 'count': 544}, {'i...</td>\n",
       "      <td>[{'id': 243, 'hero': 'https://pe.tedcdn.com/im...</td>\n",
       "      <td>Climate advocate</td>\n",
       "      <td>['alternative energy', 'cars', 'climate change...</td>\n",
       "      <td>Averting the climate crisis</td>\n",
       "      <td>https://www.ted.com/talks/al_gore_on_averting_...</td>\n",
       "      <td>3200520</td>\n",
       "    </tr>\n",
       "    <tr>\n",
       "      <th>2</th>\n",
       "      <td>124</td>\n",
       "      <td>New York Times columnist David Pogue takes aim...</td>\n",
       "      <td>1286</td>\n",
       "      <td>TED2006</td>\n",
       "      <td>1140739200</td>\n",
       "      <td>26</td>\n",
       "      <td>David Pogue</td>\n",
       "      <td>David Pogue: Simplicity sells</td>\n",
       "      <td>1</td>\n",
       "      <td>1151367060</td>\n",
       "      <td>[{'id': 7, 'name': 'Funny', 'count': 964}, {'i...</td>\n",
       "      <td>[{'id': 1725, 'hero': 'https://pe.tedcdn.com/i...</td>\n",
       "      <td>Technology columnist</td>\n",
       "      <td>['computers', 'entertainment', 'interface desi...</td>\n",
       "      <td>Simplicity sells</td>\n",
       "      <td>https://www.ted.com/talks/david_pogue_says_sim...</td>\n",
       "      <td>1636292</td>\n",
       "    </tr>\n",
       "    <tr>\n",
       "      <th>3</th>\n",
       "      <td>200</td>\n",
       "      <td>In an emotionally charged talk, MacArthur-winn...</td>\n",
       "      <td>1116</td>\n",
       "      <td>TED2006</td>\n",
       "      <td>1140912000</td>\n",
       "      <td>35</td>\n",
       "      <td>Majora Carter</td>\n",
       "      <td>Majora Carter: Greening the ghetto</td>\n",
       "      <td>1</td>\n",
       "      <td>1151367060</td>\n",
       "      <td>[{'id': 3, 'name': 'Courageous', 'count': 760}...</td>\n",
       "      <td>[{'id': 1041, 'hero': 'https://pe.tedcdn.com/i...</td>\n",
       "      <td>Activist for environmental justice</td>\n",
       "      <td>['MacArthur grant', 'activism', 'business', 'c...</td>\n",
       "      <td>Greening the ghetto</td>\n",
       "      <td>https://www.ted.com/talks/majora_carter_s_tale...</td>\n",
       "      <td>1697550</td>\n",
       "    </tr>\n",
       "    <tr>\n",
       "      <th>4</th>\n",
       "      <td>593</td>\n",
       "      <td>You've never seen data presented like this. Wi...</td>\n",
       "      <td>1190</td>\n",
       "      <td>TED2006</td>\n",
       "      <td>1140566400</td>\n",
       "      <td>48</td>\n",
       "      <td>Hans Rosling</td>\n",
       "      <td>Hans Rosling: The best stats you've ever seen</td>\n",
       "      <td>1</td>\n",
       "      <td>1151440680</td>\n",
       "      <td>[{'id': 9, 'name': 'Ingenious', 'count': 3202}...</td>\n",
       "      <td>[{'id': 2056, 'hero': 'https://pe.tedcdn.com/i...</td>\n",
       "      <td>Global health expert; data visionary</td>\n",
       "      <td>['Africa', 'Asia', 'Google', 'demo', 'economic...</td>\n",
       "      <td>The best stats you've ever seen</td>\n",
       "      <td>https://www.ted.com/talks/hans_rosling_shows_t...</td>\n",
       "      <td>12005869</td>\n",
       "    </tr>\n",
       "  </tbody>\n",
       "</table>\n",
       "</div>"
      ],
      "text/plain": [
       "   comments                                        description  duration  \\\n",
       "0      4553  Sir Ken Robinson makes an entertaining and pro...      1164   \n",
       "1       265  With the same humor and humanity he exuded in ...       977   \n",
       "2       124  New York Times columnist David Pogue takes aim...      1286   \n",
       "3       200  In an emotionally charged talk, MacArthur-winn...      1116   \n",
       "4       593  You've never seen data presented like this. Wi...      1190   \n",
       "\n",
       "     event   film_date  languages   main_speaker  \\\n",
       "0  TED2006  1140825600         60   Ken Robinson   \n",
       "1  TED2006  1140825600         43        Al Gore   \n",
       "2  TED2006  1140739200         26    David Pogue   \n",
       "3  TED2006  1140912000         35  Majora Carter   \n",
       "4  TED2006  1140566400         48   Hans Rosling   \n",
       "\n",
       "                                            name  num_speaker  published_date  \\\n",
       "0      Ken Robinson: Do schools kill creativity?            1      1151367060   \n",
       "1           Al Gore: Averting the climate crisis            1      1151367060   \n",
       "2                  David Pogue: Simplicity sells            1      1151367060   \n",
       "3             Majora Carter: Greening the ghetto            1      1151367060   \n",
       "4  Hans Rosling: The best stats you've ever seen            1      1151440680   \n",
       "\n",
       "                                             ratings  \\\n",
       "0  [{'id': 7, 'name': 'Funny', 'count': 19645}, {...   \n",
       "1  [{'id': 7, 'name': 'Funny', 'count': 544}, {'i...   \n",
       "2  [{'id': 7, 'name': 'Funny', 'count': 964}, {'i...   \n",
       "3  [{'id': 3, 'name': 'Courageous', 'count': 760}...   \n",
       "4  [{'id': 9, 'name': 'Ingenious', 'count': 3202}...   \n",
       "\n",
       "                                       related_talks  \\\n",
       "0  [{'id': 865, 'hero': 'https://pe.tedcdn.com/im...   \n",
       "1  [{'id': 243, 'hero': 'https://pe.tedcdn.com/im...   \n",
       "2  [{'id': 1725, 'hero': 'https://pe.tedcdn.com/i...   \n",
       "3  [{'id': 1041, 'hero': 'https://pe.tedcdn.com/i...   \n",
       "4  [{'id': 2056, 'hero': 'https://pe.tedcdn.com/i...   \n",
       "\n",
       "                     speaker_occupation  \\\n",
       "0                       Author/educator   \n",
       "1                      Climate advocate   \n",
       "2                  Technology columnist   \n",
       "3    Activist for environmental justice   \n",
       "4  Global health expert; data visionary   \n",
       "\n",
       "                                                tags  \\\n",
       "0  ['children', 'creativity', 'culture', 'dance',...   \n",
       "1  ['alternative energy', 'cars', 'climate change...   \n",
       "2  ['computers', 'entertainment', 'interface desi...   \n",
       "3  ['MacArthur grant', 'activism', 'business', 'c...   \n",
       "4  ['Africa', 'Asia', 'Google', 'demo', 'economic...   \n",
       "\n",
       "                             title  \\\n",
       "0      Do schools kill creativity?   \n",
       "1      Averting the climate crisis   \n",
       "2                 Simplicity sells   \n",
       "3              Greening the ghetto   \n",
       "4  The best stats you've ever seen   \n",
       "\n",
       "                                                 url     views  \n",
       "0  https://www.ted.com/talks/ken_robinson_says_sc...  47227110  \n",
       "1  https://www.ted.com/talks/al_gore_on_averting_...   3200520  \n",
       "2  https://www.ted.com/talks/david_pogue_says_sim...   1636292  \n",
       "3  https://www.ted.com/talks/majora_carter_s_tale...   1697550  \n",
       "4  https://www.ted.com/talks/hans_rosling_shows_t...  12005869  "
      ]
     },
     "execution_count": 8,
     "metadata": {},
     "output_type": "execute_result"
    }
   ],
   "source": [
    "ted.head()"
   ]
  },
  {
   "cell_type": "code",
   "execution_count": 9,
   "metadata": {},
   "outputs": [
    {
     "data": {
      "text/html": [
       "<div>\n",
       "<style>\n",
       "    .dataframe thead tr:only-child th {\n",
       "        text-align: right;\n",
       "    }\n",
       "\n",
       "    .dataframe thead th {\n",
       "        text-align: left;\n",
       "    }\n",
       "\n",
       "    .dataframe tbody tr th {\n",
       "        vertical-align: top;\n",
       "    }\n",
       "</style>\n",
       "<table border=\"1\" class=\"dataframe\">\n",
       "  <thead>\n",
       "    <tr style=\"text-align: right;\">\n",
       "      <th></th>\n",
       "      <th>comments</th>\n",
       "      <th>duration</th>\n",
       "      <th>film_date</th>\n",
       "      <th>languages</th>\n",
       "      <th>num_speaker</th>\n",
       "      <th>published_date</th>\n",
       "      <th>views</th>\n",
       "    </tr>\n",
       "  </thead>\n",
       "  <tbody>\n",
       "    <tr>\n",
       "      <th>count</th>\n",
       "      <td>2550.000000</td>\n",
       "      <td>2550.000000</td>\n",
       "      <td>2.550000e+03</td>\n",
       "      <td>2550.000000</td>\n",
       "      <td>2550.000000</td>\n",
       "      <td>2.550000e+03</td>\n",
       "      <td>2.550000e+03</td>\n",
       "    </tr>\n",
       "    <tr>\n",
       "      <th>mean</th>\n",
       "      <td>191.562353</td>\n",
       "      <td>826.510196</td>\n",
       "      <td>1.321928e+09</td>\n",
       "      <td>27.326275</td>\n",
       "      <td>1.028235</td>\n",
       "      <td>1.343525e+09</td>\n",
       "      <td>1.698297e+06</td>\n",
       "    </tr>\n",
       "    <tr>\n",
       "      <th>std</th>\n",
       "      <td>282.315223</td>\n",
       "      <td>374.009138</td>\n",
       "      <td>1.197391e+08</td>\n",
       "      <td>9.563452</td>\n",
       "      <td>0.207705</td>\n",
       "      <td>9.464009e+07</td>\n",
       "      <td>2.498479e+06</td>\n",
       "    </tr>\n",
       "    <tr>\n",
       "      <th>min</th>\n",
       "      <td>2.000000</td>\n",
       "      <td>135.000000</td>\n",
       "      <td>7.464960e+07</td>\n",
       "      <td>0.000000</td>\n",
       "      <td>1.000000</td>\n",
       "      <td>1.151367e+09</td>\n",
       "      <td>5.044300e+04</td>\n",
       "    </tr>\n",
       "    <tr>\n",
       "      <th>25%</th>\n",
       "      <td>63.000000</td>\n",
       "      <td>577.000000</td>\n",
       "      <td>1.257466e+09</td>\n",
       "      <td>23.000000</td>\n",
       "      <td>1.000000</td>\n",
       "      <td>1.268463e+09</td>\n",
       "      <td>7.557928e+05</td>\n",
       "    </tr>\n",
       "    <tr>\n",
       "      <th>50%</th>\n",
       "      <td>118.000000</td>\n",
       "      <td>848.000000</td>\n",
       "      <td>1.333238e+09</td>\n",
       "      <td>28.000000</td>\n",
       "      <td>1.000000</td>\n",
       "      <td>1.340935e+09</td>\n",
       "      <td>1.124524e+06</td>\n",
       "    </tr>\n",
       "    <tr>\n",
       "      <th>75%</th>\n",
       "      <td>221.750000</td>\n",
       "      <td>1046.750000</td>\n",
       "      <td>1.412964e+09</td>\n",
       "      <td>33.000000</td>\n",
       "      <td>1.000000</td>\n",
       "      <td>1.423432e+09</td>\n",
       "      <td>1.700760e+06</td>\n",
       "    </tr>\n",
       "    <tr>\n",
       "      <th>max</th>\n",
       "      <td>6404.000000</td>\n",
       "      <td>5256.000000</td>\n",
       "      <td>1.503792e+09</td>\n",
       "      <td>72.000000</td>\n",
       "      <td>5.000000</td>\n",
       "      <td>1.506092e+09</td>\n",
       "      <td>4.722711e+07</td>\n",
       "    </tr>\n",
       "  </tbody>\n",
       "</table>\n",
       "</div>"
      ],
      "text/plain": [
       "          comments     duration     film_date    languages  num_speaker  \\\n",
       "count  2550.000000  2550.000000  2.550000e+03  2550.000000  2550.000000   \n",
       "mean    191.562353   826.510196  1.321928e+09    27.326275     1.028235   \n",
       "std     282.315223   374.009138  1.197391e+08     9.563452     0.207705   \n",
       "min       2.000000   135.000000  7.464960e+07     0.000000     1.000000   \n",
       "25%      63.000000   577.000000  1.257466e+09    23.000000     1.000000   \n",
       "50%     118.000000   848.000000  1.333238e+09    28.000000     1.000000   \n",
       "75%     221.750000  1046.750000  1.412964e+09    33.000000     1.000000   \n",
       "max    6404.000000  5256.000000  1.503792e+09    72.000000     5.000000   \n",
       "\n",
       "       published_date         views  \n",
       "count    2.550000e+03  2.550000e+03  \n",
       "mean     1.343525e+09  1.698297e+06  \n",
       "std      9.464009e+07  2.498479e+06  \n",
       "min      1.151367e+09  5.044300e+04  \n",
       "25%      1.268463e+09  7.557928e+05  \n",
       "50%      1.340935e+09  1.124524e+06  \n",
       "75%      1.423432e+09  1.700760e+06  \n",
       "max      1.506092e+09  4.722711e+07  "
      ]
     },
     "execution_count": 9,
     "metadata": {},
     "output_type": "execute_result"
    }
   ],
   "source": [
    "ted.describe()"
   ]
  },
  {
   "cell_type": "code",
   "execution_count": 15,
   "metadata": {
    "scrolled": true
   },
   "outputs": [
    {
     "data": {
      "image/png": "[encoded data removed]",
      "text/plain": [
       "<matplotlib.figure.Figure at 0x237216d6d30>"
      ]
     },
     "metadata": {},
     "output_type": "display_data"
    }
   ],
   "source": [
    "plt.hist(ted['duration'], bins=50)\n",
    "plt.show()"
   ]
  },
  {
   "cell_type": "code",
   "execution_count": 16,
   "metadata": {},
   "outputs": [
    {
     "data": {
      "image/png": "[encoded data removed]",
      "text/plain": [
       "<matplotlib.figure.Figure at 0x2372188e438>"
      ]
     },
     "metadata": {},
     "output_type": "display_data"
    }
   ],
   "source": [
    "plt.hist(ted['comments'], bins=50)\n",
    "plt.show()"
   ]
  },
  {
   "cell_type": "code",
   "execution_count": 17,
   "metadata": {},
   "outputs": [
    {
     "data": {
      "image/png": "[encoded data removed]",
      "text/plain": [
       "<matplotlib.figure.Figure at 0x237219f89b0>"
      ]
     },
     "metadata": {},
     "output_type": "display_data"
    }
   ],
   "source": [
    "plt.boxplot(ted['comments'])\n",
    "plt.show()"
   ]
  },
  {
   "cell_type": "code",
   "execution_count": 20,
   "metadata": {},
   "outputs": [
    {
     "data": {
      "image/png": "[encoded data removed]",
      "text/plain": [
       "<matplotlib.figure.Figure at 0x23721bc36a0>"
      ]
     },
     "metadata": {},
     "output_type": "display_data"
    }
   ],
   "source": [
    "plt.hist(ted['views'], bins=50)\n",
    "plt.show()"
   ]
  },
  {
   "cell_type": "code",
   "execution_count": 30,
   "metadata": {},
   "outputs": [
    {
     "data": {
      "image/png": "[encoded data removed]",
      "text/plain": [
       "<matplotlib.figure.Figure at 0x23721962ac8>"
      ]
     },
     "metadata": {},
     "output_type": "display_data"
    }
   ],
   "source": [
    "plt.figure(figsize=(10,5))\n",
    "plt.plot(ted['views'])\n",
    "plt.show()"
   ]
  },
  {
   "cell_type": "code",
   "execution_count": 9,
   "metadata": {},
   "outputs": [
    {
     "data": {
      "text/plain": [
       "355"
      ]
     },
     "execution_count": 9,
     "metadata": {},
     "output_type": "execute_result"
    }
   ],
   "source": [
    "len(ted['event'].unique())"
   ]
  },
  {
   "cell_type": "code",
   "execution_count": 24,
   "metadata": {},
   "outputs": [
    {
     "name": "stdout",
     "output_type": "stream",
     "text": [
      "['TED2006' 'TED2004' 'TED2005' 'TEDGlobal 2005' 'TEDSalon 2006' 'TED2003'\n",
      " 'TED2007' 'TED2002' 'TEDGlobal 2007' 'TEDSalon 2007 Hot Science'\n",
      " 'Skoll World Forum 2007' 'TED2008' 'TED1984' 'TED1990' 'DLD 2007'\n",
      " 'EG 2007' 'TED1998' 'LIFT 2007' 'TED Prize Wish'\n",
      " 'TEDSalon 2009 Compassion' 'Chautauqua Institution' 'Serious Play 2008'\n",
      " 'Taste3 2008' 'TED2001' 'TED in the Field' 'TED2009' 'EG 2008'\n",
      " 'Elizabeth G. Anderson School' 'TEDxUSC' 'TED@State' 'TEDGlobal 2009'\n",
      " 'TEDxKC' 'TEDIndia 2009' 'TEDSalon London 2009'\n",
      " 'Justice with Michael Sandel' 'Business Innovation Factory' 'TEDxTC'\n",
      " 'Carnegie Mellon University' 'Stanford University' 'AORN Congress'\n",
      " 'University of California' 'TEDMED 2009' 'Royal Institution'\n",
      " 'Bowery Poetry Club' 'TEDxSMU' 'Harvard University' 'TEDxBoston 2009'\n",
      " 'TEDxBerlin' 'TED2010' 'TEDxAmsterdam' 'World Science Festival' 'BBC TV'\n",
      " 'Arbejdsglaede Live' 'Web 2.0 Expo 2008' 'TEDxNASA'\n",
      " 'Michael Howard Studios' 'DICE Summit 2010'\n",
      " \"Eric Whitacre's Virtual Choir\" 'Mission Blue Voyage' 'TEDxPuget Sound '\n",
      " 'TEDxNYED' 'Toronto Youth Corps' 'TEDSalon London 2010' 'TEDxEdmonton'\n",
      " 'TED@Cannes' 'TEDxAtlanta' 'TEDxEast' 'TEDxOilSpill' 'TEDGlobal 2010'\n",
      " 'Princeton University' 'New York State Senate' 'TEDxBoston 2010'\n",
      " 'RSA Animate' 'TEDxYYC' 'Gel Conference' 'The Do Lectures' 'TEDxChange'\n",
      " 'TED Senior Fellows at TEDGlobal 2010' 'Fort Worth City Council'\n",
      " 'TEDxTelAviv 2010' 'TEDxDU 2010' 'TEDxMidwest' 'TEDxHouston'\n",
      " 'TEDxNextGenerationAsheville' 'TEDxRotterdam 2010' 'TEDWomen 2010'\n",
      " 'TEDxMidAtlantic' 'TEDxSydney' 'TEDSalon NY2011' 'TEDxRainier'\n",
      " 'TEDxToronto 2010' 'TEDxPSU' 'TEDMED 2010' 'TEDxGreatPacificGarbagePatch'\n",
      " 'TEDxGöteborg 2010' 'TEDxToronto 2011' 'TED@MotorCity' 'TEDxPennQuarter'\n",
      " 'TEDPrize@UN' 'TED2011' 'TEDxPeachtree' 'TEDxDubai' 'TEDActive 2011'\n",
      " 'INK Conference' 'TEDxCaltech' 'TEDxWarwick' 'Handheld Learning'\n",
      " 'TEDxSiliconValley' 'TEDxNorthwesternU' 'TEDxMaastricht' 'TEDxBG'\n",
      " 'Full Spectrum Auditions' 'TEDSalon London Spring 2011'\n",
      " 'TEDxSanMigueldeAllende' 'TEDGlobal 2011' 'TEDxBoston 2011'\n",
      " 'TEDxParis 2010' 'NextGen:Charity' 'TEDxUIUC' 'TEDxThessaloniki'\n",
      " \"TEDxO'Porto\" 'TEDxBloomington' 'TEDxSantaCruz' 'TEDxWaterloo'\n",
      " 'TEDxManhattanBeach' 'TEDxKids@Brussels' 'TEDxTeen' 'TEDxBoulder 2011'\n",
      " 'TEDxManhattan' 'TEDxOrangeCoast' 'TEDxBrussels' 'TEDMED 2011'\n",
      " 'TEDxKrakow' 'TEDxCMU' 'TEDxVienna' 'TEDxDU 2011' 'TEDxDirigo'\n",
      " 'TEDxCanberra' 'TEDxRC2' 'TEDxWomen 2011' 'TEDxZurich 2011'\n",
      " 'TEDSalon NY2012' 'TEDxMIA' 'TEDxNASA@SiliconValley'\n",
      " 'TEDxYouth@Manchester' 'TED1994' 'TEDxVancouver'\n",
      " 'TEDSalon London Fall 2011' 'TEDxIslay' 'TEDxAmericanRiviera' 'TEDxDublin'\n",
      " 'TEDxVictoria' 'TEDxPhoenix' 'TEDxAsheville' 'TEDYouth 2011' 'TED2012'\n",
      " 'TEDxUW' 'TED-Ed' 'TEDxCambridge' 'TEDxPortofSpain' 'TEDxNewy'\n",
      " 'TEDxPittsburgh' 'TEDxObserver' 'TEDxConcordiaUPortland' 'TEDxAthens'\n",
      " 'TED@SXSWi' 'TEDxAustin' 'TEDxMonterey' 'TEDxSummit' 'TEDxBerkeley'\n",
      " 'TEDxHogeschoolUtrecht' 'TEDxSanJoseCA' 'TEDxSussexUniversity'\n",
      " 'TEDMED 2012' 'TEDSalon London Spring 2012' 'TEDxGrandRapids' 'TEDxABQ'\n",
      " 'TEDxSanDiego' 'TEDxLondonBusinessSchool' 'TEDGlobal 2012' 'TEDxStanford'\n",
      " 'TEDxImperialCollege' 'TEDxBoston 2012' 'TEDxUCL' 'TEDxExeter' 'TEDxMaui'\n",
      " 'TEDxHousesOfParliament' 'TED@London' 'TEDxWinnipeg' 'TED@Bangalore'\n",
      " 'TED@New York' 'TEDxCHUV' 'TEDxSF' 'TEDxEQChCh' 'TEDxHelvetia'\n",
      " 'TED@Nairobi' 'TEDxGeorgetown' 'TED@Johannesburg' 'TEDxZurich 2012'\n",
      " 'TEDSalon London Fall 2012' 'TEDxWitsUniversity' 'TEDxJaffa 2012'\n",
      " 'TEDxWomen 2012' 'TEDxHampshireCollege' 'TEDxGoodenoughCollege'\n",
      " 'TEDxGlasgow' 'TEDxBeaconStreet' 'SoulPancake' 'TEDxDelft'\n",
      " 'TEDSalon NY2013' 'TEDxSeoul' 'TEDxConcorde' 'TED2013' 'TEDYouth 2012'\n",
      " 'TEDxSeattleU' 'TEDxRiodelaPlata' 'TED@Intel' 'TED Talks Education'\n",
      " 'TEDxMiamiUniversity' 'TEDxFiDiWomen' 'TEDxDeExtinction' 'TEDMED 2013'\n",
      " 'TEDGlobal 2013' 'TEDxCERN' 'TEDxNijmegen' 'TEDxColbyCollege'\n",
      " 'TEDxDanubia' 'TEDxTokyo' 'TEDxBoston' 'TEDxKids@Ambleside' 'TEDCity2.0'\n",
      " 'TEDxUdeM' 'TED@BCG Singapore' 'TED@NYC' 'TEDWomen 2013' 'TEDYouth 2013'\n",
      " 'TEDxBratislava' 'TED@BCG San Francisco' 'TEDxMet' 'TEDxMarin'\n",
      " 'TEDxBeirut' 'TED@State Street Boston' 'TEDxCaFoscariU' 'TEDxJaffa 2013'\n",
      " 'TEDxZurich 2013' 'TED Fellows Retreat 2013' 'TEDxParis 2012'\n",
      " 'TEDxBoulder' 'TED2014' 'TEDxMidAtlantic 2013' 'TEDxPerth' 'TEDxUMKC'\n",
      " 'TEDxLeuvenSalon' 'TEDActive 2014' 'TEDSalon NY2014' 'TEDxUofM'\n",
      " 'TEDxColumbus' 'TEDSalon Berlin 2014' 'TEDxKyoto' 'TEDxClaremontColleges'\n",
      " 'TEDxMonroeCorrectionalComplex' 'TEDxBrighton' 'TEDxSonomaCounty'\n",
      " 'TEDxAmazonia' 'TED@Unilever' 'TEDMED 2014' 'TEDGlobal 2014' 'TED@IBM'\n",
      " 'TEDxNewYork' 'TED@BCG Berlin' 'TEDxArendal' 'TEDxNorrkoping'\n",
      " 'TEDYouth 2014' 'TED@State Street London' 'TEDxPlaceDesNations'\n",
      " 'TEDxBinghamtonUniversity' 'TEDxLinnaeusUniversity' 'TEDxSBU' 'TED2015'\n",
      " 'TEDxMuncyStatePrison' 'TEDxSouthBank' 'TEDWomen 2015' 'TEDSalon NY2015'\n",
      " 'TEDGlobalLondon' 'TEDxIndianapolis' 'TED@BCG London' 'TEDxChapmanU'\n",
      " 'TEDxGoldenGatePark 2012' 'TEDxUF' 'TEDxBend' 'TEDGlobal>London'\n",
      " 'TEDxPenn' 'TEDxProvidence' 'TED Fellows Retreat 2015' 'TED Fellows 2015'\n",
      " 'TEDxOslo' 'TEDxCannes' 'Mission Blue II' 'TED@UPS' 'TEDxToulouse'\n",
      " 'TEDYouth 2015' 'TEDxGroningen' 'TEDGlobal>Geneva' 'TEDxYouth@Sydney'\n",
      " 'TEDxAmoskeagMillyard' 'TEDMED 2015' 'TEDxUM' 'TEDxCreativeCoast'\n",
      " 'TED2016' 'TED@StateStreet Boston' 'TED Talks Live' 'Global Witness HQ'\n",
      " 'TED Studio' 'TEDActive 2015' 'TEDxGatewayWomen' 'TEDxEastEnd'\n",
      " 'TED@BCG Paris' 'TEDSummit' 'TEDxDesMoines' 'TEDxColoradoSprings' 'TEDNYC'\n",
      " 'TEDxUniversityofNevada' 'TEDxMontreal' 'TEDxIndianaUniversity'\n",
      " 'TEDWomen 2016' 'TED Residency' 'TEDxToronto' 'TEDxMtHood' 'TEDxGhent'\n",
      " 'TEDxSaltLakeCity' 'TEDxOmaha' 'TEDxSFU' 'TEDMED 2016' 'TEDxPortland'\n",
      " 'TEDxManchester' 'TEDxMileHigh' 'TED Dialogues' 'TEDxNatick'\n",
      " 'TEDxFrankfurt' 'TED-Ed Weekend' 'TEDxColumbusWomen' 'TEDxEuston'\n",
      " 'TEDxSanQuentin' 'TEDLagos Ideas Search' 'TEDxVirginiaTech' 'TED2017'\n",
      " 'TEDxSkoll' 'TEDNairobi Ideas Search' 'TEDxFulbrightDublin'\n",
      " 'TEDxOrcasIsland' 'TEDxPennsylvaniaAvenue' 'TEDxCrenshaw' 'TEDxHamburg'\n",
      " 'TEDGlobal 2017' 'TEDxZurich']\n"
     ]
    }
   ],
   "source": [
    "print(ted['event'].unique())"
   ]
  },
  {
   "cell_type": "code",
   "execution_count": 10,
   "metadata": {},
   "outputs": [
    {
     "data": {
      "text/plain": [
       "2156"
      ]
     },
     "execution_count": 10,
     "metadata": {},
     "output_type": "execute_result"
    }
   ],
   "source": [
    "len(ted['main_speaker'].unique())"
   ]
  },
  {
   "cell_type": "code",
   "execution_count": 28,
   "metadata": {},
   "outputs": [
    {
     "data": {
      "image/png": "[encoded data removed]",
      "text/plain": [
       "<matplotlib.figure.Figure at 0x23721737f60>"
      ]
     },
     "metadata": {},
     "output_type": "display_data"
    }
   ],
   "source": [
    "plt.figure(figsize=(6,8))\n",
    "plt.boxplot(ted['views'])\n",
    "plt.show()"
   ]
  },
  {
   "cell_type": "code",
   "execution_count": 21,
   "metadata": {},
   "outputs": [
    {
     "data": {
      "image/png": "[encoded data removed]",
      "text/plain": [
       "<matplotlib.figure.Figure at 0x23721adce48>"
      ]
     },
     "metadata": {},
     "output_type": "display_data"
    }
   ],
   "source": [
    "plt.figure(figsize=(8,6))\n",
    "plt.hist(ted['languages'])\n",
    "plt.show()"
   ]
  },
  {
   "cell_type": "code",
   "execution_count": 19,
   "metadata": {},
   "outputs": [
    {
     "data": {
      "text/plain": [
       "47227110"
      ]
     },
     "execution_count": 19,
     "metadata": {},
     "output_type": "execute_result"
    }
   ],
   "source": [
    "max(ted['views'])"
   ]
  },
  {
   "cell_type": "code",
   "execution_count": 20,
   "metadata": {},
   "outputs": [
    {
     "data": {
      "text/plain": [
       "50443"
      ]
     },
     "execution_count": 20,
     "metadata": {},
     "output_type": "execute_result"
    }
   ],
   "source": [
    "min(ted['views'])"
   ]
  },
  {
   "cell_type": "code",
   "execution_count": 21,
   "metadata": {},
   "outputs": [
    {
     "data": {
      "text/plain": [
       "<matplotlib.collections.PathCollection at 0x17df9ad0eb8>"
      ]
     },
     "execution_count": 21,
     "metadata": {},
     "output_type": "execute_result"
    },
    {
     "data": {
      "image/png": "[encoded data removed]",
      "text/plain": [
       "<matplotlib.figure.Figure at 0x17df9a59940>"
      ]
     },
     "metadata": {},
     "output_type": "display_data"
    }
   ],
   "source": [
    "plt.scatter(ted['languages'], ted['views'])"
   ]
  },
  {
   "cell_type": "markdown",
   "metadata": {
    "collapsed": true
   },
   "source": [
    "possible analytic questions: \n",
    "What are the most common topics (tags), and what topics recieve the most views?\n",
    "\n",
    "do talks that people most often rate as funny correlate with high total views? \n",
    "\n",
    "Is there a correlation between publish date and total views? Do older talks have more views because they've been on the site longer or do newer talks have more views as a result of the fan base growing over time. \n",
    "\n",
    "Which Ted events have been the most popular, least popular in terms of views?\n",
    "\n",
    "Is there a correlation between duration and talks that are rated 'longwinded', 'obnoxious', or 'unconvincing'?\n"
   ]
  },
  {
   "cell_type": "code",
   "execution_count": 25,
   "metadata": {
    "scrolled": true
   },
   "outputs": [
    {
     "data": {
      "text/plain": [
       "\"[{'id': 7, 'name': 'Funny', 'count': 19645}, {'id': 1, 'name': 'Beautiful', 'count': 4573}, {'id': 9, 'name': 'Ingenious', 'count': 6073}, {'id': 3, 'name': 'Courageous', 'count': 3253}, {'id': 11, 'name': 'Longwinded', 'count': 387}, {'id': 2, 'name': 'Confusing', 'count': 242}, {'id': 8, 'name': 'Informative', 'count': 7346}, {'id': 22, 'name': 'Fascinating', 'count': 10581}, {'id': 21, 'name': 'Unconvincing', 'count': 300}, {'id': 24, 'name': 'Persuasive', 'count': 10704}, {'id': 23, 'name': 'Jaw-dropping', 'count': 4439}, {'id': 25, 'name': 'OK', 'count': 1174}, {'id': 26, 'name': 'Obnoxious', 'count': 209}, {'id': 10, 'name': 'Inspiring', 'count': 24924}]\""
      ]
     },
     "execution_count": 25,
     "metadata": {},
     "output_type": "execute_result"
    }
   ],
   "source": [
    "ted['ratings'][0]"
   ]
  },
  {
   "cell_type": "markdown",
   "metadata": {},
   "source": [
    "Possible ratings, User is asked to select up to 3, if only one is chosen it will count 3 times:\n",
    "\n",
    "Informative    Confusing  Jaw-dropping    Ingenious  Persuasive    Inspiring  Longwinded    Unconvincing  Fascinating    OK  Beautiful    Courageous  Funny    Obnoxious"
   ]
  },
  {
   "cell_type": "markdown",
   "metadata": {},
   "source": [
    "Future research ideas:\n",
    "\n",
    "build a recommendation tool to suggest what talks the viewer would like.\n",
    "use deep learning on the transcripts to write a ted talk.\n"
   ]
  }
 ],
 "metadata": {
  "kernelspec": {
   "display_name": "Python 3",
   "language": "python",
   "name": "python3"
  },
  "language_info": {
   "codemirror_mode": {
    "name": "ipython",
    "version": 3
   },
   "file_extension": ".py",
   "mimetype": "text/x-python",
   "name": "python",
   "nbconvert_exporter": "python",
   "pygments_lexer": "ipython3",
   "version": "3.6.2"
  }
 },
 "nbformat": 4,
 "nbformat_minor": 2
}
