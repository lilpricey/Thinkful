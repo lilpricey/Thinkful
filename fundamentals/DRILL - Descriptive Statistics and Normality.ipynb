{
 "cells": [
  {
   "cell_type": "markdown",
   "metadata": {},
   "source": [
    "## DRILL - Descriptive Statistics and Normality"
   ]
  },
  {
   "cell_type": "code",
   "execution_count": 2,
   "metadata": {
    "collapsed": true
   },
   "outputs": [],
   "source": [
    "import pandas as pd\n",
    "import numpy as np\n",
    "import matplotlib.pyplot as plt\n",
    "%matplotlib inline"
   ]
  },
  {
   "cell_type": "markdown",
   "metadata": {},
   "source": [
    "### Exponential distribution"
   ]
  },
  {
   "cell_type": "code",
   "execution_count": 25,
   "metadata": {},
   "outputs": [
    {
     "data": {
      "image/png": "[encoded data removed]",
      "text/plain": [
       "<matplotlib.figure.Figure at 0x17269461518>"
      ]
     },
     "metadata": {},
     "output_type": "display_data"
    }
   ],
   "source": [
    "expo = np.random.exponential(2, 100)\n",
    "\n",
    "plt.hist(expo)\n",
    "\n",
    "plt.axvline(expo.mean(), color='black', linestyle='solid', linewidth=2)\n",
    "plt.axvline(expo.mean() + expo.std(), color='black', linestyle='dashed', linewidth=2)\n",
    "plt.axvline(expo.mean() - expo.std(), color='black', linestyle='dashed', linewidth=2)\n",
    "\n",
    "plt.show()"
   ]
  },
  {
   "cell_type": "markdown",
   "metadata": {},
   "source": [
    "Most of the data does fall within one standard deviation, which could be useful. However the distribution is so asymmetrical that overall the mean and standard deviation don't do a good job describing the data"
   ]
  },
  {
   "cell_type": "markdown",
   "metadata": {},
   "source": [
    "### Chi-square distribution"
   ]
  },
  {
   "cell_type": "code",
   "execution_count": 26,
   "metadata": {},
   "outputs": [
    {
     "data": {
      "image/png": "[encoded data removed]",
      "text/plain": [
       "<matplotlib.figure.Figure at 0x172694313c8>"
      ]
     },
     "metadata": {},
     "output_type": "display_data"
    }
   ],
   "source": [
    "chi_square = np.random.chisquare(1, 100)\n",
    "\n",
    "plt.hist(chi_square)\n",
    "\n",
    "plt.axvline(chi_square.mean(), color='black', linestyle='solid', linewidth=2)\n",
    "plt.axvline(chi_square.mean() + chi_square.std(), color='black', linestyle='dashed', linewidth=2)\n",
    "plt.axvline(chi_square.mean() - chi_square.std(), color='black', linestyle='dashed', linewidth=2)\n",
    "\n",
    "plt.show()"
   ]
  },
  {
   "cell_type": "markdown",
   "metadata": {},
   "source": [
    "The Mean and standard deviation do not provide useful information about the data."
   ]
  },
  {
   "cell_type": "markdown",
   "metadata": {},
   "source": [
    "### Laplace Distribution"
   ]
  },
  {
   "cell_type": "code",
   "execution_count": 35,
   "metadata": {},
   "outputs": [
    {
     "data": {
      "image/png": "[encoded data removed]",
      "text/plain": [
       "<matplotlib.figure.Figure at 0x1726ae30550>"
      ]
     },
     "metadata": {},
     "output_type": "display_data"
    }
   ],
   "source": [
    "laplace = np.random.laplace(5, 2, 100)\n",
    "\n",
    "plt.hist(laplace)\n",
    "\n",
    "plt.axvline(laplace.mean(), color='black', linestyle='solid', linewidth=2)\n",
    "plt.axvline(laplace.mean() + expo.std(), color='black', linestyle='dashed', linewidth=2)\n",
    "plt.axvline(laplace.mean() - expo.std(), color='black', linestyle='dashed', linewidth=2)\n",
    "\n",
    "plt.show()"
   ]
  },
  {
   "cell_type": "markdown",
   "metadata": {},
   "source": [
    "The mean and standard deviation do provide useful information about the data."
   ]
  },
  {
   "cell_type": "markdown",
   "metadata": {},
   "source": [
    "### von Mises distribution"
   ]
  },
  {
   "cell_type": "code",
   "execution_count": 56,
   "metadata": {},
   "outputs": [
    {
     "data": {
      "image/png": "[encoded data removed]",
      "text/plain": [
       "<matplotlib.figure.Figure at 0x1726ad98e10>"
      ]
     },
     "metadata": {},
     "output_type": "display_data"
    }
   ],
   "source": [
    "vonmises = np.random.vonmises(5, 1.4, 100)\n",
    "\n",
    "plt.hist(vonmises)\n",
    "\n",
    "plt.axvline(vonmises.mean(), color='black', linestyle='solid', linewidth=2)\n",
    "plt.axvline(vonmises.mean() + expo.std(), color='black', linestyle='dashed', linewidth=2)\n",
    "plt.axvline(vonmises.mean() - expo.std(), color='black', linestyle='dashed', linewidth=2)\n",
    "\n",
    "plt.show()"
   ]
  },
  {
   "cell_type": "markdown",
   "metadata": {},
   "source": [
    "The mean and standard deviation do provide useful information about the data."
   ]
  },
  {
   "cell_type": "markdown",
   "metadata": {},
   "source": [
    "### Dirichlet distribution"
   ]
  },
  {
   "cell_type": "code",
   "execution_count": 67,
   "metadata": {
    "scrolled": true
   },
   "outputs": [
    {
     "data": {
      "image/png": "[encoded data removed]",
      "text/plain": [
       "<matplotlib.figure.Figure at 0x1726accb748>"
      ]
     },
     "metadata": {},
     "output_type": "display_data"
    }
   ],
   "source": [
    "dirichlet = np.random.dirichlet((7, 2, 2), 100)\n",
    "\n",
    "plt.hist(dirichlet)\n",
    "\n",
    "plt.axvline(dirichlet.mean(), color='black', linestyle='solid', linewidth=2)\n",
    "plt.axvline(dirichlet.mean() + expo.std(), color='black', linestyle='dashed', linewidth=2)\n",
    "plt.axvline(dirichlet.mean() - expo.std(), color='black', linestyle='dashed', linewidth=2)\n",
    "\n",
    "plt.show()"
   ]
  },
  {
   "cell_type": "markdown",
   "metadata": {},
   "source": [
    "In this case the mean seems to be useful, but the standard deviation doesn't really seem to be."
   ]
  },
  {
   "cell_type": "markdown",
   "metadata": {},
   "source": [
    "### Wald, or inverse Gaussian, distribution"
   ]
  },
  {
   "cell_type": "code",
   "execution_count": 70,
   "metadata": {},
   "outputs": [
    {
     "data": {
      "image/png": "[encoded data removed]",
      "text/plain": [
       "<matplotlib.figure.Figure at 0x1726ae01748>"
      ]
     },
     "metadata": {},
     "output_type": "display_data"
    }
   ],
   "source": [
    "wald = np.random.wald(4, 2, 100)\n",
    "\n",
    "plt.hist(wald)\n",
    "\n",
    "plt.axvline(wald.mean(), color='black', linestyle='solid', linewidth=2)\n",
    "plt.axvline(wald.mean() + expo.std(), color='black', linestyle='dashed', linewidth=2)\n",
    "plt.axvline(wald.mean() - expo.std(), color='black', linestyle='dashed', linewidth=2)\n",
    "\n",
    "plt.show()"
   ]
  },
  {
   "cell_type": "markdown",
   "metadata": {},
   "source": [
    "The mean and standard deviation do not provide useful information about the data."
   ]
  },
  {
   "cell_type": "markdown",
   "metadata": {},
   "source": [
    "The distributions that are best described by the mean and standard deviation are symmetrical."
   ]
  },
  {
   "cell_type": "markdown",
   "metadata": {},
   "source": [
    "### Normal distribution"
   ]
  },
  {
   "cell_type": "code",
   "execution_count": 88,
   "metadata": {
    "scrolled": true
   },
   "outputs": [
    {
     "data": {
      "image/png": "[encoded data removed]",
      "text/plain": [
       "<matplotlib.figure.Figure at 0x17269b44400>"
      ]
     },
     "metadata": {},
     "output_type": "display_data"
    }
   ],
   "source": [
    "norm_1 = np.random.normal(5, .5, 100)\n",
    "norm_2 = np.random.normal(10, 1, 100)\n",
    "\n",
    "combined = norm_1 + norm_2\n",
    "\n",
    "plt.hist(combined) \n",
    "plt.axvline(combined.mean(), color='black', linestyle='solid', linewidth=2)\n",
    "plt.axvline(combined.mean() + expo.std(), color='black', linestyle='dashed', linewidth=2)\n",
    "plt.axvline(combined.mean() - expo.std(), color='black', linestyle='dashed', linewidth=2)\n",
    "\n",
    "plt.show()"
   ]
  },
  {
   "cell_type": "markdown",
   "metadata": {},
   "source": [
    "The mean and standard deviation seem to provide useful information about the data."
   ]
  },
  {
   "cell_type": "code",
   "execution_count": null,
   "metadata": {
    "collapsed": true
   },
   "outputs": [],
   "source": []
  }
 ],
 "metadata": {
  "kernelspec": {
   "display_name": "Python 3",
   "language": "python",
   "name": "python3"
  },
  "language_info": {
   "codemirror_mode": {
    "name": "ipython",
    "version": 3
   },
   "file_extension": ".py",
   "mimetype": "text/x-python",
   "name": "python",
   "nbconvert_exporter": "python",
   "pygments_lexer": "ipython3",
   "version": "3.6.2"
  }
 },
 "nbformat": 4,
 "nbformat_minor": 2
}
